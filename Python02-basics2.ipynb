{
 "cells": [
  {
   "cell_type": "markdown",
   "metadata": {},
   "source": [
    "![alt text](Python02-basics2_extra/logo.png) "
   ]
  },
  {
   "cell_type": "markdown",
   "metadata": {},
   "source": [
    "# Введение в курс \"Основы программирования на Python\", часть 2"
   ]
  },
  {
   "cell_type": "markdown",
   "metadata": {},
   "source": [
    "Небольшое философское предисловие\n",
    "\n",
    "Жизнь сложна. И этот курс тоже. И остальные курсы... Мы стараемся дать вам побольше, но это может не всегда удаваться. \n",
    "\n",
    "Что делать, если мы чего-то не объяснили в этом или других курсах, а вам очень надо (например, для нашего же ДЗ)?\n",
    "\n",
    "1. Проверить лекции, может оно было, но мы не заостряли внимание\n",
    "2. Загуглить\n",
    "3. Спросить в чате - возможно мы или однокурсники ответят (в личку, пожалуйста, не нужно много дебатов)\n",
    "\n",
    "По 1 пункту - мы не ждём, что каждый из вас запомнит всё что будет тут показано, но каждый сможет взять эту лекцию позднее и самостоятельно пройтись по ней и всё найти и попробовать.\n",
    "\n",
    "По 2 пункту - скорее всего, на все вопросы что приходят вам в голову, уже есть ответы. Они не просто есть, они выложены в интернете с примером решения на любом языке. Главное - правильно сформулировать вопрос. \n",
    "\n",
    "Знакомьтесь - **stackoverflow.com**\n",
    "\n",
    "Пример хорошего запроса для поиска **\"how to get a list value by index in python\"**\n",
    "\n",
    "Листаем до стэковерфлоу, и читаем, копируем оттуда пример, адаптируем под свою задачу."
   ]
  },
  {
   "cell_type": "markdown",
   "metadata": {},
   "source": [
    "## В прошлый раз мы посмотрели на числа и строки, а сегодня разберем списки(листы), кортежи(туплы), наборы(сеты), словари, а так же функции и импорты"
   ]
  },
  {
   "cell_type": "markdown",
   "metadata": {},
   "source": [
    "Тема **большая** и **скучная**, поэтому я буду стараться не останавливаться на ерунде, чтобы никто не уснул. \n",
    "\n",
    "Но если я не покажу ничего - то потом возникнет слишком много вопросов.\n",
    "\n",
    "Вопросы можно задавать по ходу лекции, но просьба этим не злоупотреблять, потому что лекция затянется, и это не лучший план на вечер пятницы.\n"
   ]
  },
  {
   "cell_type": "markdown",
   "metadata": {},
   "source": [
    "Начнем с кортежей и списков. Людям с опытом программирования на других языках может сразу показаться непонятным и избыточным две такие схожие структуры, ведь \"массив он и есть массив, зачем плодить сущности?\" Поэтому разберемся поподробнее чтобы понять чем это удобно."
   ]
  },
  {
   "cell_type": "markdown",
   "metadata": {},
   "source": [
    "## Кортеж (tuple)\n",
    "\n",
    "Кортеж - неизменяемая (нельзя вставить или удалить элементы, а также изменить их значения) последовательность данных любого типа"
   ]
  },
  {
   "cell_type": "code",
   "execution_count": 1,
   "metadata": {},
   "outputs": [
    {
     "name": "stdout",
     "output_type": "stream",
     "text": [
      "(1, 2, 3)\n"
     ]
    }
   ],
   "source": [
    "# Канонический способ инициализации\n",
    "my_tuple1 = (1, 2, 3) \n",
    "print (my_tuple1) "
   ]
  },
  {
   "cell_type": "code",
   "execution_count": 2,
   "metadata": {},
   "outputs": [
    {
     "name": "stdout",
     "output_type": "stream",
     "text": [
      "(1, 2, 3)\n"
     ]
    }
   ],
   "source": [
    "# Cоздание \"на лету\"\n",
    "my_tuple2 = 1, 2, 3 \n",
    "print (my_tuple2)"
   ]
  },
  {
   "cell_type": "code",
   "execution_count": 3,
   "metadata": {},
   "outputs": [
    {
     "name": "stdout",
     "output_type": "stream",
     "text": [
      "True\n"
     ]
    }
   ],
   "source": [
    "print (my_tuple1==my_tuple2)"
   ]
  },
  {
   "cell_type": "code",
   "execution_count": 4,
   "metadata": {},
   "outputs": [
    {
     "name": "stdout",
     "output_type": "stream",
     "text": [
      "(3.14, 2, 'this is a string', None)\n"
     ]
    }
   ],
   "source": [
    "# Любые данные\n",
    "my_tuple = (3.14, 2, 'this is a string', None)\n",
    "print(my_tuple)"
   ]
  },
  {
   "cell_type": "code",
   "execution_count": 5,
   "metadata": {},
   "outputs": [
    {
     "name": "stdout",
     "output_type": "stream",
     "text": [
      "<class 'float'>\n",
      "<class 'int'>\n",
      "<class 'str'>\n",
      "<class 'NoneType'>\n"
     ]
    }
   ],
   "source": [
    "for element in my_tuple:\n",
    "    print(type(element))"
   ]
  },
  {
   "cell_type": "code",
   "execution_count": 6,
   "metadata": {},
   "outputs": [
    {
     "name": "stdout",
     "output_type": "stream",
     "text": [
      "1 2 3\n"
     ]
    }
   ],
   "source": [
    "# Распаковка кортежа\n",
    "a, b, c = my_tuple1 # Распаковка кортежа в скалярные переменные\n",
    "print(a, b, c)"
   ]
  },
  {
   "cell_type": "code",
   "execution_count": 7,
   "metadata": {},
   "outputs": [
    {
     "name": "stdout",
     "output_type": "stream",
     "text": [
      "2\n"
     ]
    }
   ],
   "source": [
    "# Если часть переменных нам не нужна, используем \"_\"\n",
    "_, b, _ = my_tuple1\n",
    "print(b)"
   ]
  },
  {
   "cell_type": "markdown",
   "metadata": {},
   "source": [
    "\"_\" - это на самом деле тоже переменная, и в целом ею можно пользоваться, но обычно в неё сливают всё ненужное "
   ]
  },
  {
   "cell_type": "code",
   "execution_count": 8,
   "metadata": {},
   "outputs": [
    {
     "name": "stdout",
     "output_type": "stream",
     "text": [
      "3\n"
     ]
    }
   ],
   "source": [
    "print(_)"
   ]
  },
  {
   "cell_type": "code",
   "execution_count": 9,
   "metadata": {},
   "outputs": [
    {
     "name": "stdout",
     "output_type": "stream",
     "text": [
      "1 2\n",
      "2 1\n"
     ]
    }
   ],
   "source": [
    "# Великое питонское чудо - поменять переменные местами за 1 операцию\n",
    "print(a, b)\n",
    "c = a, b\n",
    "b, a = c\n",
    "# эквивалентно b, a = a, b \n",
    "print(a, b)"
   ]
  },
  {
   "cell_type": "markdown",
   "metadata": {},
   "source": [
    "Только пожалуйста, никогда так не делайте, и не говорите, что \"это в лекциях показали\"\n",
    "![alt text](Python02-basics2_extra/badcode.png) "
   ]
  },
  {
   "cell_type": "code",
   "execution_count": 10,
   "metadata": {},
   "outputs": [
    {
     "name": "stdout",
     "output_type": "stream",
     "text": [
      "3\n"
     ]
    }
   ],
   "source": [
    "# Длина кортежа\n",
    "l = len(my_tuple1) \n",
    "print(l)"
   ]
  },
  {
   "cell_type": "code",
   "execution_count": 11,
   "metadata": {},
   "outputs": [
    {
     "name": "stdout",
     "output_type": "stream",
     "text": [
      "2\n"
     ]
    }
   ],
   "source": [
    "# Обращение к конкретному элементу кортежа\n",
    "element = my_tuple1[1]\n",
    "print(element)"
   ]
  },
  {
   "cell_type": "code",
   "execution_count": 12,
   "metadata": {},
   "outputs": [
    {
     "ename": "TypeError",
     "evalue": "'tuple' object does not support item assignment",
     "output_type": "error",
     "traceback": [
      "\u001b[0;31m---------------------------------------------------------------------------\u001b[0m",
      "\u001b[0;31mTypeError\u001b[0m                                 Traceback (most recent call last)",
      "Cell \u001b[0;32mIn [12], line 2\u001b[0m\n\u001b[1;32m      1\u001b[0m \u001b[38;5;66;03m# Изменить ничего нельзя\u001b[39;00m\n\u001b[0;32m----> 2\u001b[0m \u001b[43mmy_tuple1\u001b[49m\u001b[43m[\u001b[49m\u001b[38;5;241;43m1\u001b[39;49m\u001b[43m]\u001b[49m \u001b[38;5;241m=\u001b[39m \u001b[38;5;241m17\u001b[39m\n",
      "\u001b[0;31mTypeError\u001b[0m: 'tuple' object does not support item assignment"
     ]
    }
   ],
   "source": [
    "# Изменить ничего нельзя\n",
    "my_tuple1[1] = 17"
   ]
  },
  {
   "cell_type": "code",
   "execution_count": 16,
   "metadata": {},
   "outputs": [
    {
     "name": "stdout",
     "output_type": "stream",
     "text": [
      "(1, 2, 17)\n"
     ]
    }
   ],
   "source": [
    "# Но можно перетереть, и это всегда требует внимания\n",
    "my_tuple1 = 1, 2, 17\n",
    "print (my_tuple1)"
   ]
  },
  {
   "cell_type": "markdown",
   "metadata": {},
   "source": [
    "## Список (list)\n",
    "\n",
    "Список - изменяемая последовательность данных любого типа"
   ]
  },
  {
   "cell_type": "code",
   "execution_count": 17,
   "metadata": {},
   "outputs": [
    {
     "name": "stdout",
     "output_type": "stream",
     "text": [
      "[3.14, 2, 'this is a string', None]\n"
     ]
    }
   ],
   "source": [
    "# Канонический способ инициализации\n",
    "my_list = [3.14, 2, 'this is a string', None] \n",
    "print (my_list)"
   ]
  },
  {
   "cell_type": "code",
   "execution_count": 18,
   "metadata": {},
   "outputs": [],
   "source": [
    "# Объединение двух списков\n",
    "my_list1 = [1, 2, 3]\n",
    "my_list2 = [6, 7, 8]"
   ]
  },
  {
   "cell_type": "code",
   "execution_count": 19,
   "metadata": {},
   "outputs": [
    {
     "name": "stdout",
     "output_type": "stream",
     "text": [
      "[1, 2, 3, 6, 7, 8]\n"
     ]
    }
   ],
   "source": [
    "# Легко и просто... и медленно\n",
    "sum_list_a = my_list1 + my_list2 \n",
    "print(sum_list_a)"
   ]
  },
  {
   "cell_type": "code",
   "execution_count": 20,
   "metadata": {},
   "outputs": [
    {
     "name": "stdout",
     "output_type": "stream",
     "text": [
      "[1, 2, 3, 6, 7, 8]\n"
     ]
    }
   ],
   "source": [
    "# Менее очевидно, но быстрее\n",
    "sum_list_b = my_list1.copy() # Копируем список\n",
    "sum_list_b.extend(my_list2) # Увеличиваем список на второй список\n",
    "print(sum_list_b)"
   ]
  },
  {
   "cell_type": "markdown",
   "metadata": {},
   "source": [
    "Результат одинаков, а разница во времени вычисления обусловлена. Причины мы пока не в состоянии осознать, но ещё к этому обязательно вернёмся."
   ]
  },
  {
   "cell_type": "code",
   "execution_count": 21,
   "metadata": {},
   "outputs": [
    {
     "name": "stdout",
     "output_type": "stream",
     "text": [
      "True\n"
     ]
    }
   ],
   "source": [
    "print(sum_list_a == sum_list_b)"
   ]
  },
  {
   "cell_type": "markdown",
   "metadata": {},
   "source": [
    "Интересна операция \"умножения\" списка s на натуральное число n: s * n. Оно преобразуется в сумму n списков s, после чего выполняется их объединение. В итоге получаем список s, повторенный n раз."
   ]
  },
  {
   "cell_type": "code",
   "execution_count": 22,
   "metadata": {},
   "outputs": [
    {
     "name": "stdout",
     "output_type": "stream",
     "text": [
      "[1, 2, 3, 1, 2, 3, 1, 2, 3]\n"
     ]
    }
   ],
   "source": [
    "my_list = [1, 2, 3]\n",
    "my_list = my_list * 3\n",
    "print(my_list)"
   ]
  },
  {
   "cell_type": "code",
   "execution_count": 23,
   "metadata": {},
   "outputs": [
    {
     "name": "stdout",
     "output_type": "stream",
     "text": [
      "[3, 2, 1, 333]\n"
     ]
    }
   ],
   "source": [
    "# Добавление в конец списка\n",
    "my_list = [3,2,1]\n",
    "my_list.append(333) \n",
    "print(my_list)"
   ]
  },
  {
   "cell_type": "code",
   "execution_count": 24,
   "metadata": {},
   "outputs": [
    {
     "name": "stdout",
     "output_type": "stream",
     "text": [
      "1\n",
      "[3, 2, 333]\n"
     ]
    }
   ],
   "source": [
    "# Извлекаем из списка элемент \n",
    "index = 2\n",
    "element = my_list.pop(index) # Извлекаем из конца списка элемент\n",
    "print(element)\n",
    "print(my_list)"
   ]
  },
  {
   "cell_type": "code",
   "execution_count": 25,
   "metadata": {},
   "outputs": [
    {
     "name": "stdout",
     "output_type": "stream",
     "text": [
      "12 in s1: True\n"
     ]
    }
   ],
   "source": [
    "# Проверяем, есть ли элемент \"12\" в списке\n",
    "verification = 333 in my_list \n",
    "print('12 in s1:', verification)"
   ]
  },
  {
   "cell_type": "code",
   "execution_count": 26,
   "metadata": {},
   "outputs": [
    {
     "name": "stdout",
     "output_type": "stream",
     "text": [
      "[2, 3, 333]\n",
      "[333, 3, 2]\n"
     ]
    }
   ],
   "source": [
    "sorted_list = sorted(my_list) # Сортировка по возрастанию\n",
    "print(sorted_list)\n",
    "\n",
    "sorted_list = sorted_list[::-1] # Сортировка по убыванию\n",
    "print(sorted_list)"
   ]
  },
  {
   "cell_type": "code",
   "execution_count": 27,
   "metadata": {},
   "outputs": [
    {
     "name": "stdout",
     "output_type": "stream",
     "text": [
      "[3, 2, 1, 333]\n",
      "[1, 2, 3, 333]\n"
     ]
    }
   ],
   "source": [
    "# Можно также применять in-place сортировку .sort()\n",
    "my_list = [3, 2, 1, 333]\n",
    "\n",
    "print(my_list)\n",
    "my_list.sort()\n",
    "print(my_list)"
   ]
  },
  {
   "cell_type": "code",
   "execution_count": 28,
   "metadata": {},
   "outputs": [
    {
     "name": "stdout",
     "output_type": "stream",
     "text": [
      "[1, 3, 333]\n"
     ]
    }
   ],
   "source": [
    "# Удаляем элемент списка\n",
    "del my_list[1] # Удаляем второй элемент\n",
    "print(my_list)"
   ]
  },
  {
   "cell_type": "code",
   "execution_count": 29,
   "metadata": {},
   "outputs": [
    {
     "name": "stdout",
     "output_type": "stream",
     "text": [
      "min element of my_list: 1\n"
     ]
    }
   ],
   "source": [
    "# минимальный/максимальный элемент\n",
    "print('min element of my_list:', min(my_list))"
   ]
  },
  {
   "cell_type": "code",
   "execution_count": 30,
   "metadata": {},
   "outputs": [
    {
     "name": "stdout",
     "output_type": "stream",
     "text": [
      "3\n"
     ]
    }
   ],
   "source": [
    "# Длина списка\n",
    "print(len(my_list))"
   ]
  },
  {
   "cell_type": "markdown",
   "metadata": {},
   "source": [
    "## Индексация в кортежах и списках\n"
   ]
  },
  {
   "cell_type": "markdown",
   "metadata": {},
   "source": [
    "\n",
    "\n",
    "Два различных подхода к индексации:\n",
    "\n",
    "* Взятие одного элемента списка s по его индексу j (отрицательные индексы означают просмотр списк справа налево): s[j]\n",
    "* Взятие т.н. \"среза\" - подпоследовательности, задаваемой начальным индексом (включается), конечным индексом (не включается) и шагом смещения (при отрицательном шаге идем справа налево): s[start:end:step]\n",
    "\n"
   ]
  },
  {
   "cell_type": "code",
   "execution_count": 31,
   "metadata": {},
   "outputs": [],
   "source": [
    "my_list = [1, 2, 3, 4, 5]"
   ]
  },
  {
   "cell_type": "code",
   "execution_count": 32,
   "metadata": {},
   "outputs": [
    {
     "name": "stdout",
     "output_type": "stream",
     "text": [
      "5\n"
     ]
    }
   ],
   "source": [
    "a = my_list[-1] # первый с конца\n",
    "print(a)"
   ]
  },
  {
   "cell_type": "code",
   "execution_count": 33,
   "metadata": {},
   "outputs": [
    {
     "name": "stdout",
     "output_type": "stream",
     "text": [
      "[2, 3]\n"
     ]
    }
   ],
   "source": [
    "w = my_list[1:3]\n",
    "print(w)"
   ]
  },
  {
   "cell_type": "code",
   "execution_count": 34,
   "metadata": {},
   "outputs": [
    {
     "name": "stdout",
     "output_type": "stream",
     "text": [
      "[1, 2]\n"
     ]
    }
   ],
   "source": [
    "w = my_list[:2] # Можно опускать начальный индекс\n",
    "print(w)"
   ]
  },
  {
   "cell_type": "code",
   "execution_count": 35,
   "metadata": {},
   "outputs": [
    {
     "name": "stdout",
     "output_type": "stream",
     "text": [
      "[4, 5]\n"
     ]
    }
   ],
   "source": [
    "w = my_list[3:] # И конечный\n",
    "print(w)"
   ]
  },
  {
   "cell_type": "code",
   "execution_count": 36,
   "metadata": {},
   "outputs": [
    {
     "name": "stdout",
     "output_type": "stream",
     "text": [
      "[1, 3, 5]\n"
     ]
    }
   ],
   "source": [
    "w = my_list[::2] # И даже оба индекса\n",
    "print(w)"
   ]
  },
  {
   "cell_type": "code",
   "execution_count": 37,
   "metadata": {},
   "outputs": [
    {
     "name": "stdout",
     "output_type": "stream",
     "text": [
      "[5, 4, 3, 2, 1]\n"
     ]
    }
   ],
   "source": [
    "w = my_list[::-1] # пройдёмся в обратном порядке\n",
    "print(w)"
   ]
  },
  {
   "cell_type": "markdown",
   "metadata": {},
   "source": [
    "Всё то же самое работает и в кортежах!"
   ]
  },
  {
   "cell_type": "markdown",
   "metadata": {},
   "source": [
    "## А ещё есть набор (set)"
   ]
  },
  {
   "cell_type": "markdown",
   "metadata": {},
   "source": [
    "Набор - неупорядоченное и непроиндексированное множество данных любого типа. Главное достоинство сета - это супероптимизированный поиск одинаковых элементов."
   ]
  },
  {
   "cell_type": "code",
   "execution_count": 38,
   "metadata": {},
   "outputs": [
    {
     "name": "stdout",
     "output_type": "stream",
     "text": [
      "{'this is a string', None, 2, 3.14}\n"
     ]
    }
   ],
   "source": [
    "my_set = {3.14, 2, 'this is a string', None, 2, 2}\n",
    "print (my_set)"
   ]
  },
  {
   "cell_type": "markdown",
   "metadata": {},
   "source": [
    "В наборе могут быть только уникальные переменные, все одинаковые перетираются. А еще к ним нельзя обратиться по индексу, но по ним можно итерироваться"
   ]
  },
  {
   "cell_type": "code",
   "execution_count": 39,
   "metadata": {},
   "outputs": [
    {
     "ename": "TypeError",
     "evalue": "'set' object is not subscriptable",
     "output_type": "error",
     "traceback": [
      "\u001b[0;31m---------------------------------------------------------------------------\u001b[0m",
      "\u001b[0;31mTypeError\u001b[0m                                 Traceback (most recent call last)",
      "Cell \u001b[0;32mIn [39], line 1\u001b[0m\n\u001b[0;32m----> 1\u001b[0m \u001b[38;5;28mprint\u001b[39m(\u001b[43mmy_set\u001b[49m\u001b[43m[\u001b[49m\u001b[38;5;241;43m1\u001b[39;49m\u001b[43m]\u001b[49m)\n",
      "\u001b[0;31mTypeError\u001b[0m: 'set' object is not subscriptable"
     ]
    }
   ],
   "source": [
    "print(my_set[1])"
   ]
  },
  {
   "cell_type": "code",
   "execution_count": 40,
   "metadata": {},
   "outputs": [
    {
     "name": "stdout",
     "output_type": "stream",
     "text": [
      "this is a string <class 'str'>\n",
      "None <class 'NoneType'>\n",
      "2 <class 'int'>\n",
      "3.14 <class 'float'>\n"
     ]
    }
   ],
   "source": [
    "for element in my_set:\n",
    "    print(element, type(element))"
   ]
  },
  {
   "cell_type": "code",
   "execution_count": 41,
   "metadata": {},
   "outputs": [
    {
     "name": "stdout",
     "output_type": "stream",
     "text": [
      "True\n"
     ]
    }
   ],
   "source": [
    "print (2 in my_set) # есть ли элемент в наборе"
   ]
  },
  {
   "cell_type": "code",
   "execution_count": 42,
   "metadata": {},
   "outputs": [
    {
     "name": "stdout",
     "output_type": "stream",
     "text": [
      "{None, 3.14, 'this is a string', 'smth new'}\n"
     ]
    }
   ],
   "source": [
    "my_set.add('smth new') # что-то добавим\n",
    "my_set.remove(2) # что-то удалим\n",
    "print(my_set)"
   ]
  },
  {
   "cell_type": "code",
   "execution_count": 43,
   "metadata": {},
   "outputs": [
    {
     "ename": "KeyError",
     "evalue": "2",
     "output_type": "error",
     "traceback": [
      "\u001b[0;31m---------------------------------------------------------------------------\u001b[0m",
      "\u001b[0;31mKeyError\u001b[0m                                  Traceback (most recent call last)",
      "Cell \u001b[0;32mIn [43], line 1\u001b[0m\n\u001b[0;32m----> 1\u001b[0m \u001b[43mmy_set\u001b[49m\u001b[38;5;241;43m.\u001b[39;49m\u001b[43mremove\u001b[49m\u001b[43m(\u001b[49m\u001b[38;5;241;43m2\u001b[39;49m\u001b[43m)\u001b[49m\n",
      "\u001b[0;31mKeyError\u001b[0m: 2"
     ]
    }
   ],
   "source": [
    "my_set.remove(2) # удалить того что нет - нельзя"
   ]
  },
  {
   "cell_type": "code",
   "execution_count": 44,
   "metadata": {},
   "outputs": [
    {
     "name": "stdout",
     "output_type": "stream",
     "text": [
      "{None, 3.14, 'this is a string', 'smth new'}\n",
      "{None, 'this is a string', 'smth new'}\n"
     ]
    }
   ],
   "source": [
    "# но можно сделать так (удалить, если есть)\n",
    "my_set.discard(2) \n",
    "print(my_set)\n",
    "my_set.discard(3.14) \n",
    "print(my_set)"
   ]
  },
  {
   "cell_type": "markdown",
   "metadata": {},
   "source": [
    "## Преобразование кортеж - список - набор и обратно"
   ]
  },
  {
   "cell_type": "code",
   "execution_count": 45,
   "metadata": {},
   "outputs": [
    {
     "name": "stdout",
     "output_type": "stream",
     "text": [
      "[2, 3.14, None, 'this is a string']\n",
      "(2, 3.14, None, 'this is a string')\n",
      "{'this is a string', None, 2, 3.14}\n",
      "['this is a string', None, 2, 3.14]\n",
      "False\n"
     ]
    }
   ],
   "source": [
    "my_list = [2, 3.14, None, 'this is a string']\n",
    "my_tuple = tuple(my_list)\n",
    "my_set = set(my_tuple)\n",
    "new_list = list(my_set)\n",
    "\n",
    "print (my_list) \n",
    "print(my_tuple)\n",
    "print(my_set)\n",
    "print(new_list)\n",
    "print(my_list == new_list) "
   ]
  },
  {
   "cell_type": "markdown",
   "metadata": {},
   "source": [
    "Почему False? Порядок другой"
   ]
  },
  {
   "cell_type": "code",
   "execution_count": 46,
   "metadata": {},
   "outputs": [
    {
     "name": "stdout",
     "output_type": "stream",
     "text": [
      "[3.14, 2, 'this is a string', None, 2, 2]\n",
      "(3.14, 2, 'this is a string', None, 2, 2)\n",
      "{'this is a string', None, 2, 3.14}\n",
      "['this is a string', None, 2, 3.14]\n",
      "False\n"
     ]
    }
   ],
   "source": [
    "my_list = [3.14, 2, 'this is a string', None, 2, 2] # добавим одинаковых\n",
    "my_tuple = tuple(my_list)\n",
    "my_set = set(my_tuple)\n",
    "new_lis = list(my_set)\n",
    "\n",
    "print (my_list) \n",
    "print(my_tuple)\n",
    "print(my_set)\n",
    "print(new_lis)\n",
    "print(my_list == new_lis) "
   ]
  },
  {
   "cell_type": "markdown",
   "metadata": {},
   "source": [
    "## И всё же, чем же кортеж лучше списка?"
   ]
  },
  {
   "cell_type": "markdown",
   "metadata": {},
   "source": [
    "Вы могли заметить, что список умеет всё то же самое что кортеж, и даже больше. Смысл использования кортежа как раз и заключается в том, что он прост и туп, и работать с ним быстрее. Воспользуемся встроенной функцией timeit, чтобы прогнать что-то много раз и оценить сренее время за 1 прогонку "
   ]
  },
  {
   "cell_type": "code",
   "execution_count": 47,
   "metadata": {},
   "outputs": [
    {
     "name": "stdout",
     "output_type": "stream",
     "text": [
      "9.42 ns ± 0.618 ns per loop (mean ± std. dev. of 7 runs, 100,000,000 loops each)\n"
     ]
    }
   ],
   "source": [
    "timeit((3.14, 2, 'this is a string', None)) "
   ]
  },
  {
   "cell_type": "code",
   "execution_count": 48,
   "metadata": {},
   "outputs": [
    {
     "name": "stdout",
     "output_type": "stream",
     "text": [
      "60.1 ns ± 2.15 ns per loop (mean ± std. dev. of 7 runs, 10,000,000 loops each)\n"
     ]
    }
   ],
   "source": [
    "timeit([3.14, 2, 'this is a string', None])"
   ]
  },
  {
   "cell_type": "code",
   "execution_count": 49,
   "metadata": {},
   "outputs": [
    {
     "name": "stdout",
     "output_type": "stream",
     "text": [
      "102 ns ± 6.46 ns per loop (mean ± std. dev. of 7 runs, 10,000,000 loops each)\n"
     ]
    }
   ],
   "source": [
    "timeit({3.14, 2, 'this is a string', None})"
   ]
  },
  {
   "cell_type": "markdown",
   "metadata": {},
   "source": [
    "## Словари, или хэши (dictionary)"
   ]
  },
  {
   "cell_type": "markdown",
   "metadata": {},
   "source": [
    "Словарь – это специальная структура данных, в которой доступ к элементу осуществляется по ключу, который может быть любым неизменяемым типом данных"
   ]
  },
  {
   "cell_type": "markdown",
   "metadata": {},
   "source": [
    "![alt text](Python02-basics2_extra/python_dictionary.jpg) "
   ]
  },
  {
   "cell_type": "code",
   "execution_count": 50,
   "metadata": {},
   "outputs": [
    {
     "name": "stdout",
     "output_type": "stream",
     "text": [
      "{'age': 32, 'gender': 'male', 11: [32, 33, 34]}\n"
     ]
    }
   ],
   "source": [
    "# Создание словаря, обычный метод\n",
    "my_dict = {'age' : 32, 'gender' : 'male', 11 : [32, 33, 34]} \n",
    "print(my_dict)"
   ]
  },
  {
   "cell_type": "code",
   "execution_count": 51,
   "metadata": {},
   "outputs": [
    {
     "name": "stdout",
     "output_type": "stream",
     "text": [
      "{'age': 32, 'gender': 'male', 11: [32, 33, 34]}\n"
     ]
    }
   ],
   "source": [
    "# Создание словаря, с помощью отдельных списков ключей и значений\n",
    "key_list = ['age', 'gender', 11]\n",
    "value_list = [32, 'male', [32, 33, 34]]\n",
    "my_dict2 = dict(zip(key_list, value_list)) \n",
    "print(my_dict2)"
   ]
  },
  {
   "cell_type": "code",
   "execution_count": 52,
   "metadata": {},
   "outputs": [
    {
     "name": "stdout",
     "output_type": "stream",
     "text": [
      "True\n"
     ]
    }
   ],
   "source": [
    "print(my_dict == my_dict2)"
   ]
  },
  {
   "cell_type": "code",
   "execution_count": 53,
   "metadata": {},
   "outputs": [
    {
     "name": "stdout",
     "output_type": "stream",
     "text": [
      "{'age': 32, 'gender': 'unknown', 11: [32, 33, 34]}\n"
     ]
    }
   ],
   "source": [
    "my_dict2['gender'] = 'unknown' # Доступ по ключу\n",
    "print(my_dict2)"
   ]
  },
  {
   "cell_type": "code",
   "execution_count": 54,
   "metadata": {},
   "outputs": [
    {
     "name": "stdout",
     "output_type": "stream",
     "text": [
      "Keys: ['age', 'gender', 11] Values: [32, 'male', [32, 33, 34]]\n"
     ]
    }
   ],
   "source": [
    "my_dict_keys = list(my_dict.keys()) # Список ключей словаря\n",
    "my_dict_values = list(my_dict.values()) # Список значений словаря\n",
    "print('Keys:', my_dict_keys, 'Values:', my_dict_values)"
   ]
  },
  {
   "cell_type": "code",
   "execution_count": 55,
   "metadata": {},
   "outputs": [
    {
     "name": "stdout",
     "output_type": "stream",
     "text": [
      "{'age': 32, 11: [32, 33, 34]}\n"
     ]
    }
   ],
   "source": [
    "# Удаление элемента по ключу\n",
    "del my_dict['gender'] \n",
    "print(my_dict)"
   ]
  },
  {
   "cell_type": "code",
   "execution_count": 56,
   "metadata": {},
   "outputs": [
    {
     "name": "stdout",
     "output_type": "stream",
     "text": [
      "2\n"
     ]
    }
   ],
   "source": [
    "# Длина словаря \n",
    "print(len(my_dict)) "
   ]
  },
  {
   "cell_type": "code",
   "execution_count": 57,
   "metadata": {},
   "outputs": [
    {
     "name": "stdout",
     "output_type": "stream",
     "text": [
      "True False\n"
     ]
    }
   ],
   "source": [
    "key1_in_my_dict = 'age' in my_dict # Проверка на существование элемента с таким ключом\n",
    "key2_in_my_dict = 'amount' in my_dict \n",
    "print(key1_in_my_dict, key2_in_my_dict)"
   ]
  },
  {
   "cell_type": "markdown",
   "metadata": {},
   "source": [
    "## ВАЖНО\n",
    "### Ссылки и копирование"
   ]
  },
  {
   "cell_type": "markdown",
   "metadata": {},
   "source": [
    "По умолчанию в Python все является объектом. При присваивании var1 = var2 копируется не значение переменной var2, а ссылка на это значение. И если для простых неизменяемых типов это не приводит к затруднению (каждое новое присваивание приводит к изменению значения только той переменной, которой присваивается значение), то в случае со списками и словарями ситуация сложнее.\n"
   ]
  },
  {
   "cell_type": "code",
   "execution_count": 58,
   "metadata": {},
   "outputs": [
    {
     "name": "stdout",
     "output_type": "stream",
     "text": [
      "1 2\n"
     ]
    }
   ],
   "source": [
    "# Скаляр\n",
    "var1 = 1 \n",
    "var2 = var1\n",
    "var2 = 2 \n",
    "print(var1, var2)"
   ]
  },
  {
   "cell_type": "code",
   "execution_count": 59,
   "metadata": {},
   "outputs": [
    {
     "name": "stdout",
     "output_type": "stream",
     "text": [
      "[1, 2, 3] [1, 2, 3]\n"
     ]
    }
   ],
   "source": [
    "# Список\n",
    "list1 = [1,2,3]\n",
    "list2 = list1\n",
    "print(list1, list2)"
   ]
  },
  {
   "cell_type": "code",
   "execution_count": 60,
   "metadata": {},
   "outputs": [
    {
     "name": "stdout",
     "output_type": "stream",
     "text": [
      "[1, 10, 3] [1, 10, 3]\n"
     ]
    }
   ],
   "source": [
    "# кручу-верчу, запутать хочу!\n",
    "list2[1] = 10 \n",
    "print(list1, list2) "
   ]
  },
  {
   "cell_type": "markdown",
   "metadata": {},
   "source": [
    "Дело в том что мы не создали два списка, а создали один список и две ссылки на него. Далее мы по любой из ссылок можем получить к нему доступ и изменить. И по второй ссылке мы уже не будем иметь доступа к исходному объекту.\n",
    "\n",
    "Для словарей ситуация ровно такая же.\n",
    "\n",
    "Простейший метод борьбы с такими неочевидными случаями следующий: при присваивании пользоваться методом объект1 = объект2.copy(), или deepcopy(), если присваиваем вложенные списки (из пакета copy)"
   ]
  },
  {
   "cell_type": "code",
   "execution_count": 61,
   "metadata": {},
   "outputs": [
    {
     "name": "stdout",
     "output_type": "stream",
     "text": [
      "[1, 2, 3] [1, 2, 3]\n",
      "[1, 2, 3] [1, 10, 3]\n"
     ]
    }
   ],
   "source": [
    "list1 = [1,2,3] \n",
    "list2 = list1.copy()\n",
    "print(list1, list2)\n",
    "list2[1] = 10 # кручу-верчу, запутать хочу!\n",
    "# Поменяем только ссылку на второе значение, и вуаля\n",
    "print(list1, list2) \n",
    "# на этот раз всё как мы ожидали"
   ]
  },
  {
   "cell_type": "markdown",
   "metadata": {},
   "source": [
    "Проверить, имеют ли объекты одни и те же ссылки, можно с помощью служебного слова is"
   ]
  },
  {
   "cell_type": "code",
   "execution_count": 62,
   "metadata": {},
   "outputs": [
    {
     "name": "stdout",
     "output_type": "stream",
     "text": [
      "[1, 2] [1, 2] True\n"
     ]
    }
   ],
   "source": [
    "list1 = [1, 2]\n",
    "list2 = list1\n",
    "print(list1, list2, list1 is list2)"
   ]
  },
  {
   "cell_type": "code",
   "execution_count": 63,
   "metadata": {},
   "outputs": [
    {
     "name": "stdout",
     "output_type": "stream",
     "text": [
      "[1, 2] [1, 2] False\n"
     ]
    }
   ],
   "source": [
    "list2 = list1.copy()\n",
    "print(list1, list2, list1 is list2)"
   ]
  },
  {
   "cell_type": "markdown",
   "metadata": {},
   "source": [
    "# Функции"
   ]
  },
  {
   "cell_type": "markdown",
   "metadata": {},
   "source": [
    "## Определение функции и параметры вызова\n",
    "* Определение функции с помощью def:"
   ]
  },
  {
   "cell_type": "code",
   "execution_count": 64,
   "metadata": {},
   "outputs": [
    {
     "name": "stdout",
     "output_type": "stream",
     "text": [
      "This is my funtion!\n"
     ]
    }
   ],
   "source": [
    "def my_func():\n",
    "    print('This is my funtion!')    \n",
    "    \n",
    "my_func()"
   ]
  },
  {
   "cell_type": "markdown",
   "metadata": {},
   "source": [
    "![alt text](Python02-basics2_extra/func.png)"
   ]
  },
  {
   "cell_type": "markdown",
   "metadata": {},
   "source": [
    "* Параметры могут быть позиционными и именованными\n",
    "* Именованные должны всегда идти после позиционных\n",
    "* Именованные при вызове можно помещать в любом порядке за позиционными\n",
    "* Именованные подразумевают задание значений по умолчанию"
   ]
  },
  {
   "cell_type": "code",
   "execution_count": 65,
   "metadata": {},
   "outputs": [
    {
     "name": "stdout",
     "output_type": "stream",
     "text": [
      "x=q y=w z=1 w=2\n",
      "x=q y=w z=6 w=7\n",
      "x=q y=w z=222 w=111\n"
     ]
    }
   ],
   "source": [
    "def my_func(x, y, z=1, u=2):\n",
    "    print('x={} y={} z={} w={}'.format(x,y,z,u))\n",
    "    \n",
    "my_func('q', 'w') # Использование заданных по умолчанию значений\n",
    "my_func('q', 'w', 6, 7) # Можно задавать именованные параметры как позиционные\n",
    "my_func('q', 'w', u=111, z=222) # Можно менять местами именованные параметры"
   ]
  },
  {
   "cell_type": "markdown",
   "metadata": {},
   "source": [
    "## Возвращаемые значения\n",
    "* Возвращаемое значение определяется служебным словом return\n",
    "* Если return отсутствует, либо вызывается без аргументов, то возвращается значение None\n",
    "* При возвращении нескольких значений эти значения заключаются в кортеж\n",
    "\n"
   ]
  },
  {
   "cell_type": "code",
   "execution_count": 66,
   "metadata": {},
   "outputs": [
    {
     "name": "stdout",
     "output_type": "stream",
     "text": [
      "f1\n",
      "f2\n",
      "f3\n"
     ]
    }
   ],
   "source": [
    "def f1():\n",
    "    print('f1')\n",
    "    \n",
    "def f2():\n",
    "    print('f2')\n",
    "    return\n",
    "\n",
    "def f3():\n",
    "    print('f3')\n",
    "    return 3\n",
    "\n",
    "r1 = f1()\n",
    "r2 = f2()\n",
    "r3 = f3()"
   ]
  },
  {
   "cell_type": "code",
   "execution_count": 67,
   "metadata": {},
   "outputs": [
    {
     "name": "stdout",
     "output_type": "stream",
     "text": [
      "r1=None r2=None r3=3\n"
     ]
    }
   ],
   "source": [
    "print('r1={} r2={} r3={}'.format(r1, r2, r3))"
   ]
  },
  {
   "cell_type": "markdown",
   "metadata": {},
   "source": [
    "## Передача по ссылке"
   ]
  },
  {
   "cell_type": "markdown",
   "metadata": {},
   "source": [
    "* Значения в функцию передаются по ссылке, но сами ссылки передаются по значению, поэтому в функции нельзя поставить ссылку из точки вызова ссылаться на другой объект:\n",
    "    * Значения сложных типов (список, словарь, объект пользовательского класса) можно изменить, не меняя ссылки => можем их менять изнутри функции\n",
    "    * Простые типы (число, строка, кортеж) нельзя изменить, не меняя ссылку на объект => не получится изменить изнутри функции\n"
   ]
  },
  {
   "cell_type": "code",
   "execution_count": 68,
   "metadata": {},
   "outputs": [],
   "source": [
    "def fsimple(x):\n",
    "    print('Func that does x += 1')\n",
    "    x += 1\n",
    "    \n",
    "def fcomplex(x):\n",
    "    print('Func that does x[0] += 1')\n",
    "    x[0] += 1\n",
    "    \n",
    "# Они обе ничего не возвращают!"
   ]
  },
  {
   "cell_type": "code",
   "execution_count": 69,
   "metadata": {},
   "outputs": [
    {
     "name": "stdout",
     "output_type": "stream",
     "text": [
      "Func that does x += 1\n",
      "Func that does x[0] += 1\n",
      "x1=100, x2=[101, 200]\n"
     ]
    }
   ],
   "source": [
    "x1 = 100\n",
    "x2 = [100, 200]\n",
    "\n",
    "fsimple(x1)\n",
    "fcomplex(x2)\n",
    "\n",
    "print('x1={}, x2={}'.format(x1, x2))"
   ]
  },
  {
   "cell_type": "markdown",
   "metadata": {},
   "source": [
    "Если кто не понял что произошло - следите за руками фокусника...\n",
    "\n",
    "Мы не делали переприсвоений снаружи функций в стиле x1 = N, x2 = M. Всё произошло где-то там где мы не видим, но в первом случае переменная не изменилась, а во-втором изменилась. Потому что в одном случае переменная обычная, а в другом - это и не переменная вовсе, а скорее ссылка на неё."
   ]
  },
  {
   "cell_type": "markdown",
   "metadata": {},
   "source": [
    "## Ссылки на функции\n",
    "* Имя функции является ссылкой на нее"
   ]
  },
  {
   "cell_type": "code",
   "execution_count": 70,
   "metadata": {},
   "outputs": [
    {
     "name": "stdout",
     "output_type": "stream",
     "text": [
      "111\n",
      "++222++\n"
     ]
    }
   ],
   "source": [
    "def myprint(x):\n",
    "    print('++{}++'.format(x))\n",
    "    \n",
    "func_list = [print, myprint] # Определяем список ссылок на функции\n",
    "func_list[0](111) # Вызываем их с аргументами\n",
    "func_list[1](222)"
   ]
  },
  {
   "cell_type": "markdown",
   "metadata": {},
   "source": [
    "## Лямбда-функция \n",
    "Это простая функция в одно выражение"
   ]
  },
  {
   "cell_type": "code",
   "execution_count": 71,
   "metadata": {},
   "outputs": [
    {
     "name": "stdout",
     "output_type": "stream",
     "text": [
      "27\n"
     ]
    }
   ],
   "source": [
    "my_lambda_func = lambda x : x*x*x # Определение лямбда-функции\n",
    "\n",
    "print(my_lambda_func(3)) # Ее вызов"
   ]
  },
  {
   "cell_type": "markdown",
   "metadata": {},
   "source": [
    "## Передаваемые аргументы\n",
    "В функцию можно передавать не только заранее продуманное число переменных, но и, вообще говоря, любое число любых переменных. Делается это с помощью с помощью `*` и `**` (`*`args и `**`kwargs, соответственно). \n",
    "\n",
    "kw - keyword (речь о словарях)\n",
    "\n",
    "Проще всего понять происходящее на примере."
   ]
  },
  {
   "cell_type": "code",
   "execution_count": 72,
   "metadata": {},
   "outputs": [
    {
     "name": "stdout",
     "output_type": "stream",
     "text": [
      "sum: 35\n"
     ]
    }
   ],
   "source": [
    "# Зададим функцию сложения трёх переменных\n",
    "def adder(x,y,z): \n",
    "    print(\"sum:\",x+y+z)\n",
    "\n",
    "adder(10,12,13)"
   ]
  },
  {
   "cell_type": "code",
   "execution_count": 73,
   "metadata": {},
   "outputs": [
    {
     "ename": "TypeError",
     "evalue": "adder() takes 3 positional arguments but 5 were given",
     "output_type": "error",
     "traceback": [
      "\u001b[0;31m---------------------------------------------------------------------------\u001b[0m",
      "\u001b[0;31mTypeError\u001b[0m                                 Traceback (most recent call last)",
      "Cell \u001b[0;32mIn [73], line 3\u001b[0m\n\u001b[1;32m      1\u001b[0m \u001b[38;5;66;03m# Передадим в неё больше переменных\u001b[39;00m\n\u001b[0;32m----> 3\u001b[0m \u001b[43madder\u001b[49m\u001b[43m(\u001b[49m\u001b[38;5;241;43m5\u001b[39;49m\u001b[43m,\u001b[49m\u001b[38;5;241;43m10\u001b[39;49m\u001b[43m,\u001b[49m\u001b[38;5;241;43m15\u001b[39;49m\u001b[43m,\u001b[49m\u001b[38;5;241;43m20\u001b[39;49m\u001b[43m,\u001b[49m\u001b[38;5;241;43m25\u001b[39;49m\u001b[43m)\u001b[49m\n",
      "\u001b[0;31mTypeError\u001b[0m: adder() takes 3 positional arguments but 5 were given"
     ]
    }
   ],
   "source": [
    "# Передадим в неё больше переменных\n",
    "\n",
    "adder(5,10,15,20,25)"
   ]
  },
  {
   "cell_type": "markdown",
   "metadata": {},
   "source": [
    "А что делать если мы заранее количество переменных не знаем? сколько пришло - столько и сложить. Обычно в таких случаях люди пишут какой-то цикл... \n",
    "\n",
    "В питоне это можно решить более элегантно, сделав функцию не сложением трёх переменных, а сложением всех пришедших переменных"
   ]
  },
  {
   "cell_type": "code",
   "execution_count": 74,
   "metadata": {},
   "outputs": [],
   "source": [
    "def adder(*num):\n",
    "    total = 0    \n",
    "    for n in num:\n",
    "        total += n\n",
    "    print(\"sum:\", total)"
   ]
  },
  {
   "cell_type": "code",
   "execution_count": 75,
   "metadata": {},
   "outputs": [
    {
     "name": "stdout",
     "output_type": "stream",
     "text": [
      "sum: 8\n"
     ]
    }
   ],
   "source": [
    "# Проверим на разном числе входных данных\n",
    "adder(3,5)"
   ]
  },
  {
   "cell_type": "code",
   "execution_count": 76,
   "metadata": {},
   "outputs": [
    {
     "name": "stdout",
     "output_type": "stream",
     "text": [
      "sum: 22\n"
     ]
    }
   ],
   "source": [
    "adder(4,5,6,7)"
   ]
  },
  {
   "cell_type": "code",
   "execution_count": 77,
   "metadata": {},
   "outputs": [
    {
     "name": "stdout",
     "output_type": "stream",
     "text": [
      "sum: 17\n"
     ]
    }
   ],
   "source": [
    "adder(1,2,3,5,6)"
   ]
  },
  {
   "cell_type": "markdown",
   "metadata": {},
   "source": [
    "`**`kwargs делает то же самое с данными типа \"словарь\""
   ]
  },
  {
   "cell_type": "code",
   "execution_count": 78,
   "metadata": {},
   "outputs": [],
   "source": [
    "def intro(**data):\n",
    "    for key, value in data.items():\n",
    "        print(\"{} is {}\".format(key,value))"
   ]
  },
  {
   "cell_type": "code",
   "execution_count": 79,
   "metadata": {},
   "outputs": [
    {
     "name": "stdout",
     "output_type": "stream",
     "text": [
      "Firstname is Sita\n",
      "Lastname is Sharma\n",
      "Age is 22\n",
      "Phone is 1234567890\n"
     ]
    }
   ],
   "source": [
    "intro(Firstname=\"Sita\", Lastname=\"Sharma\", Age=22, Phone=1234567890)"
   ]
  },
  {
   "cell_type": "code",
   "execution_count": 80,
   "metadata": {},
   "outputs": [
    {
     "name": "stdout",
     "output_type": "stream",
     "text": [
      "Firstname is John\n",
      "Lastname is Wood\n",
      "Email is johnwood@nomail.com\n",
      "Country is Wakanda\n",
      "Age is 25\n",
      "Phone is 9876543210\n"
     ]
    }
   ],
   "source": [
    "intro(Firstname=\"John\", Lastname=\"Wood\", Email=\"johnwood@nomail.com\", Country=\"Wakanda\", Age=25, Phone=9876543210)"
   ]
  },
  {
   "cell_type": "markdown",
   "metadata": {},
   "source": [
    "В общем случае с разными данными поступать надо так:"
   ]
  },
  {
   "cell_type": "code",
   "execution_count": 81,
   "metadata": {},
   "outputs": [],
   "source": [
    "def diff_param_func(x, *y, **z):\n",
    "    print('Predefined:', x)\n",
    "    print('Non-predefined:', y)\n",
    "    print('Dictionary:')   \n",
    "    for key, value in z.items():\n",
    "        print(\"{} is {}\".format(key,value))"
   ]
  },
  {
   "cell_type": "code",
   "execution_count": 82,
   "metadata": {},
   "outputs": [
    {
     "name": "stdout",
     "output_type": "stream",
     "text": [
      "Predefined: 10\n",
      "Non-predefined: (55, 66, 77)\n",
      "Dictionary:\n",
      "name is John\n",
      "age is 30\n"
     ]
    }
   ],
   "source": [
    "diff_param_func(10, 55, 66, 77, name='John', age=30)"
   ]
  },
  {
   "cell_type": "markdown",
   "metadata": {},
   "source": [
    "# Импорт модулей (пакетов)"
   ]
  },
  {
   "cell_type": "markdown",
   "metadata": {},
   "source": [
    "Модуль (библиотека) в Python – это просто файл с расширением ‘.py’, в котором определены некоторые функции и / или классы.\n",
    "\n",
    "Есть два способа использования модулей:\n",
    "\n",
    "* Загрузка в текущее пространство имен\n",
    "* Загрузка в новое именованное пространство имен\n",
    "\n",
    "Содержимое уже загруженного модуля можно посмотреть с помощью команды dir (с этой командой мы разберёмся на лекции по ООП)."
   ]
  },
  {
   "cell_type": "markdown",
   "metadata": {},
   "source": [
    "Попробуем оба способа. Соответствующие файлы лежат в папке с материалами лекции \n",
    "![alt text](Python02-basics2_extra/import.jpg) "
   ]
  },
  {
   "cell_type": "code",
   "execution_count": 83,
   "metadata": {},
   "outputs": [
    {
     "ename": "SyntaxError",
     "evalue": "invalid syntax (2725473491.py, line 2)",
     "output_type": "error",
     "traceback": [
      "\u001b[0;36m  Cell \u001b[0;32mIn [83], line 2\u001b[0;36m\u001b[0m\n\u001b[0;31m    import Python02-basics2_extra.mypackage\u001b[0m\n\u001b[0m                   ^\u001b[0m\n\u001b[0;31mSyntaxError\u001b[0m\u001b[0;31m:\u001b[0m invalid syntax\n"
     ]
    }
   ],
   "source": [
    "# Загружаем все из mypackage в пространство имен mypackage\n",
    "import Python02-basics2_extra.mypackage"
   ]
  },
  {
   "cell_type": "markdown",
   "metadata": {},
   "source": [
    "Поскольку путь содержит особые символы (в нашем случае \"-\"), то просто написать import Python02-basics2_extra.mypackage не выйдет. Добавим путь в список системных путей"
   ]
  },
  {
   "cell_type": "code",
   "execution_count": 84,
   "metadata": {},
   "outputs": [],
   "source": [
    "import sys\n",
    "sys.path\n",
    "sys.path.append('./Python02-basics2_extra')"
   ]
  },
  {
   "cell_type": "code",
   "execution_count": 85,
   "metadata": {},
   "outputs": [],
   "source": [
    "# Теперь полный путь указывать не нужно\n",
    "import mypackage "
   ]
  },
  {
   "cell_type": "code",
   "execution_count": 86,
   "metadata": {},
   "outputs": [],
   "source": [
    "# Загружаем все из mypackage2 в текущее пространство имен\n",
    "from mypackage2 import * "
   ]
  },
  {
   "cell_type": "code",
   "execution_count": 87,
   "metadata": {},
   "outputs": [
    {
     "data": {
      "text/plain": [
       "['__builtins__',\n",
       " '__cached__',\n",
       " '__doc__',\n",
       " '__file__',\n",
       " '__loader__',\n",
       " '__name__',\n",
       " '__package__',\n",
       " '__spec__',\n",
       " 'myfunc1',\n",
       " 'myfunc2']"
      ]
     },
     "execution_count": 87,
     "metadata": {},
     "output_type": "execute_result"
    }
   ],
   "source": [
    "dir(mypackage)"
   ]
  },
  {
   "cell_type": "code",
   "execution_count": 88,
   "metadata": {},
   "outputs": [
    {
     "name": "stdout",
     "output_type": "stream",
     "text": [
      "def myfunc1():\r\n",
      "    print('My func 1')\r\n",
      "    \r\n",
      "def myfunc2(x, y=None):\r\n",
      "    if y is not None:\r\n",
      "        print(x, y)\r\n",
      "    else:\r\n",
      "        print(x)\r\n",
      "    return\r\n"
     ]
    }
   ],
   "source": [
    "!cat Python02-basics2_extra/mypackage.py"
   ]
  },
  {
   "cell_type": "code",
   "execution_count": 89,
   "metadata": {},
   "outputs": [
    {
     "name": "stdout",
     "output_type": "stream",
     "text": [
      "def mynewfunc1():\r\n",
      "    print('My new func 1')\r\n",
      "\r\n",
      "def mynewfunc2(x, y=None):\r\n",
      "    if y is not None:\r\n",
      "        print(x, y)\r\n",
      "    else:\r\n",
      "        print(x)\r\n",
      "    return\r\n"
     ]
    }
   ],
   "source": [
    "!cat Python02-basics2_extra/mypackage2.py"
   ]
  },
  {
   "cell_type": "code",
   "execution_count": 90,
   "metadata": {},
   "outputs": [
    {
     "name": "stdout",
     "output_type": "stream",
     "text": [
      "My func 1\n",
      "My new func 1\n"
     ]
    }
   ],
   "source": [
    "mypackage.myfunc1() # Обращение через именованное пространство имен\n",
    "mynewfunc1() # Обращение через глобальное пространство имен"
   ]
  },
  {
   "cell_type": "markdown",
   "metadata": {},
   "source": [
    "Можно из модуля загрузить одну или несколько функций, не загружая остальные."
   ]
  },
  {
   "cell_type": "code",
   "execution_count": 91,
   "metadata": {},
   "outputs": [
    {
     "name": "stdout",
     "output_type": "stream",
     "text": [
      "My func 1\n"
     ]
    }
   ],
   "source": [
    "from mypackage import myfunc1 # Загружаем только функцию myfunc1\n",
    "myfunc1()"
   ]
  },
  {
   "cell_type": "markdown",
   "metadata": {},
   "source": [
    "Можно при загрузке поменять название модуля или функций"
   ]
  },
  {
   "cell_type": "code",
   "execution_count": 92,
   "metadata": {},
   "outputs": [
    {
     "name": "stdout",
     "output_type": "stream",
     "text": [
      "My func 1\n",
      "My func 1\n"
     ]
    }
   ],
   "source": [
    "import mypackage as yourpackage # Переименовываем название модуля\n",
    "from mypackage import myfunc1 as yourfunc1 # Переименовываем название функции\n",
    "\n",
    "yourpackage.myfunc1()\n",
    "yourfunc1()"
   ]
  },
  {
   "cell_type": "markdown",
   "metadata": {},
   "source": [
    "Если пользовательский модуль (пакет) лежит в другом каталоге (например, ./path1/path2/mymodule.py), то существуют два способа загрузить этот модуль:\n",
    "\n",
    "* С помощью относительного импорта\n",
    "* С помощью добавления адреса каталога в список просматриваемых Python путей\n"
   ]
  },
  {
   "cell_type": "code",
   "execution_count": 93,
   "metadata": {},
   "outputs": [
    {
     "name": "stdout",
     "output_type": "stream",
     "text": [
      "def myfunc1():\r\n",
      "    print('My func 1')\r\n",
      "\r\n",
      "def myfunc2(x, y=None):\r\n",
      "    if y is not None:\r\n",
      "        print(x, y)\r\n",
      "    else:\r\n",
      "        print(x)\r\n",
      "    return\r\n"
     ]
    }
   ],
   "source": [
    "!cat Python02-basics2_extra/tst/folder/deeppackage.py"
   ]
  },
  {
   "cell_type": "code",
   "execution_count": 94,
   "metadata": {},
   "outputs": [
    {
     "name": "stdout",
     "output_type": "stream",
     "text": [
      "My func 1\n"
     ]
    }
   ],
   "source": [
    "from tst.folder import deeppackage as deep1 # относительный импорт\n",
    "deep1.myfunc1()"
   ]
  },
  {
   "cell_type": "code",
   "execution_count": 95,
   "metadata": {},
   "outputs": [
    {
     "name": "stdout",
     "output_type": "stream",
     "text": [
      "My func 1\n"
     ]
    }
   ],
   "source": [
    "# Другой вариант - добавим путь к известным путям\n",
    "sys.path.append('./Python02-basics2_extra/tst/folder') \n",
    "import deeppackage as deep2\n",
    "deep2.myfunc1()"
   ]
  },
  {
   "cell_type": "markdown",
   "metadata": {},
   "source": [
    "Загрузка стандартных библиотек (numpy, math и пр.), которые были предустановлены с Python либо установлены позднее с помощью pip, conda или ещё как-то, осуществляется точно так же с использованием конструкции import"
   ]
  },
  {
   "cell_type": "code",
   "execution_count": 96,
   "metadata": {},
   "outputs": [
    {
     "name": "stdout",
     "output_type": "stream",
     "text": [
      "5.0\n"
     ]
    }
   ],
   "source": [
    "import math\n",
    "print(math.sqrt(25))"
   ]
  },
  {
   "cell_type": "markdown",
   "metadata": {},
   "source": [
    "![alt text](Python02-basics2_extra/hometask.jpg)"
   ]
  },
  {
   "cell_type": "markdown",
   "metadata": {},
   "source": [
    "А домашнее задание уже заготовил вам наш телеграм-бот **@py2022sharebot**, и ждёт пока вы его примите, решите и сдадите.\n",
    "\n",
    "Поскольку работа с ботом вызывает много вопросов - я снова покажу пример выполнения.\n",
    "\n",
    "А сама лекция доступна здесь **https://github.com/mlcoursemm/py2022autumn**"
   ]
  },
  {
   "cell_type": "markdown",
   "metadata": {},
   "source": [
    "***ДОМАШНЕЕ ЗАДАНИЕ***\n",
    "\n",
    "Это первое задание большого проекта, посвященного тематике беспилотного вождения.\n",
    "В этом задании вам нужно считать данные из файла и обработать их.\n",
    "Вам даётся настоящий файл с данными траекторий объектов из онлайн соревнования ArgoVerse. Он содержит координаты объектов(автомобили, пешеходы и т.д.) в зависимости от времени, что обычно называется сценарием или сценой.\n",
    "\n",
    "TRACK_ID соответствует уникальному идентификатору объекта, X,Y - координаты в момент времени TIMESTAMP."
   ]
  },
  {
   "cell_type": "markdown",
   "metadata": {},
   "source": [
    "Задание состоит из двух частей: \n",
    "1. Посчитать количество объектов в сценарии\n",
    "\n",
    "Пример ответа: 7\n",
    "\n",
    "2. Найти и посчитать самую длинную траекторию в сценарии и округлить до сантиметров (координаты записаны в метрах).\n",
    "\n",
    "Пример ответа: 32.58\n",
    "\n",
    "Комментарий: в качестве десятичного разделителя используем только точку \".\" (здесь, и вообще во всём курсе)"
   ]
  },
  {
   "cell_type": "code",
   "execution_count": null,
   "metadata": {},
   "outputs": [],
   "source": []
  }
 ],
 "metadata": {
  "kernelspec": {
   "display_name": "Python 3 (ipykernel)",
   "language": "python",
   "name": "python3"
  },
  "language_info": {
   "codemirror_mode": {
    "name": "ipython",
    "version": 3
   },
   "file_extension": ".py",
   "mimetype": "text/x-python",
   "name": "python",
   "nbconvert_exporter": "python",
   "pygments_lexer": "ipython3",
   "version": "3.8.10"
  }
 },
 "nbformat": 4,
 "nbformat_minor": 4
}
