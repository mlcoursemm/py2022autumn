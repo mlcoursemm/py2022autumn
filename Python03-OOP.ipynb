{
 "cells": [
  {
   "cell_type": "markdown",
   "metadata": {},
   "source": [
    "# Семинар №3: Основы объектно-ориентированного программирования в Python\n",
    "![alt text](Python03-OOP_extra/Python-logo-notext.svg)"
   ]
  },
  {
   "cell_type": "markdown",
   "metadata": {},
   "source": [
    "Объектно-ориентированное программирование (ООП) - это парадигма программирования, основанная на концепции \"объектов\", каждый из которых является экземпляром определённого класса. Таким образом, программа представляется как совокупность объектов, взаимодействующих друг с другом.\n",
    "\n",
    "Объекты содержат в себе данные и исполняемый код, что является одним из ключевых отличий от процедурного программирования, в котором данные и обрабатывающие их подпрограммы формально не связаны."
   ]
  },
  {
   "cell_type": "markdown",
   "metadata": {},
   "source": [
    "## Основные определения ООП:"
   ]
  },
  {
   "cell_type": "markdown",
   "metadata": {},
   "source": [
    "### Класс\n",
    "\n",
    "#### Класс - это универсальный тип данных, состоящий из набора полей (свойств, аттрибутов) и методов для работы с данными."
   ]
  },
  {
   "cell_type": "markdown",
   "metadata": {},
   "source": [
    "### Объект\n",
    "\n",
    "#### Объект - это сущность в адресном пространстве вычислительной системы, появляющаяся при создании экземпляра класса."
   ]
  },
  {
   "cell_type": "markdown",
   "metadata": {},
   "source": [
    "### Абстракция\n",
    "\n",
    "#### Абстракция - это выделение значимой информации и исключение из рассмотрения незначимой."
   ]
  },
  {
   "cell_type": "markdown",
   "metadata": {},
   "source": [
    "### Инкапсуляция\n",
    "\n",
    "#### Инкапсуляция - это свойство системы, позволяющее объединить данные и методы, работающие с ними, в классе."
   ]
  },
  {
   "cell_type": "markdown",
   "metadata": {},
   "source": [
    "### Наследование\n",
    "\n",
    "#### Наследование - это свойство системы, позволяющее описать новый класс на основе уже существующего с частично или полностью заимствующейся функциональностью. Класс, от которого производится наследование, называется базовым, родительским или суперклассом. Новый класс — потомком, наследником, дочерним или производным классом."
   ]
  },
  {
   "cell_type": "markdown",
   "metadata": {},
   "source": [
    "### Полиморфизм\n",
    "\n",
    "#### Полиморфизм (или \"полиморфизм подтипов\") - это свойство системы, позволяющее использовать объекты с одинаковым интерфейсом без информации о типе и внутренней структуре объекта."
   ]
  },
  {
   "cell_type": "markdown",
   "metadata": {},
   "source": [
    "### К достоинствам ООП следует отнести модульность, гибкость и высокую возможность повторного использования кода."
   ]
  },
  {
   "cell_type": "markdown",
   "metadata": {},
   "source": [
    "Python - мультипарадигменный язык программирования и имеет встроенную поддержку ООП. Более того, в Python 3 все сущности являются объектами некоторого класса:"
   ]
  },
  {
   "cell_type": "code",
   "execution_count": 1,
   "metadata": {},
   "outputs": [
    {
     "name": "stdout",
     "output_type": "stream",
     "text": [
      "<class 'int'>\n",
      "<class 'function'>\n",
      "<class 'type'>\n"
     ]
    }
   ],
   "source": [
    "x = 1\n",
    "\n",
    "def foo():\n",
    "    pass\n",
    "\n",
    "print(x.__class__)\n",
    "print(foo.__class__)\n",
    "print(foo.__class__.__class__)"
   ]
  },
  {
   "cell_type": "markdown",
   "metadata": {},
   "source": [
    "Классы в Python объявляются с помощью ключевого слова \"class\":"
   ]
  },
  {
   "cell_type": "code",
   "execution_count": 2,
   "metadata": {},
   "outputs": [
    {
     "name": "stdout",
     "output_type": "stream",
     "text": [
      "<class '__main__.MyClass'>\n"
     ]
    }
   ],
   "source": [
    "class MyClass:\n",
    "    pass\n",
    "\n",
    "my_object = MyClass()\n",
    "\n",
    "print(my_object.__class__)"
   ]
  },
  {
   "cell_type": "markdown",
   "metadata": {},
   "source": [
    "Функции, обрабатывающие данные класса, и объявленные в этом классе, называются методами."
   ]
  },
  {
   "cell_type": "markdown",
   "metadata": {},
   "source": [
    "Методы могут быть классовыми (относящимися к классу), статическими и нестатическими (относящимися к конкретному объекту)."
   ]
  },
  {
   "cell_type": "markdown",
   "metadata": {},
   "source": [
    "Первым аргументом каждого нестатического метода класса должен быть объект *self*, т.е. ссылка на сам объект.\n",
    "\n",
    "Однако, при вызове аргумент self не передаётся методу."
   ]
  },
  {
   "cell_type": "code",
   "execution_count": 3,
   "metadata": {},
   "outputs": [
    {
     "name": "stdout",
     "output_type": "stream",
     "text": [
      "10\n",
      "15\n"
     ]
    }
   ],
   "source": [
    "class MyClass:\n",
    "    def set_arg(self, x):\n",
    "        self.arg = x\n",
    "    \n",
    "    def increase_arg(self, y):\n",
    "        self.arg += y\n",
    "    \n",
    "    def get_arg(self):\n",
    "        return self.arg\n",
    "\n",
    "my_object = MyClass()\n",
    "my_object.set_arg(10)\n",
    "print(my_object.get_arg())\n",
    "my_object.increase_arg(5)\n",
    "print(my_object.get_arg())"
   ]
  },
  {
   "cell_type": "markdown",
   "metadata": {},
   "source": [
    "Классовые методы объявляются с помощью декоратора @classmethod. При объявлении их первый аргумент - его собственный класс, но при вызове он не передаётся. Методы класса могут менять состояние класса. Зачем это надо? Как мы знаем, классы тоже являются объектами и могут иметь собственные методы. \n",
    "\n",
    "Статические методы объявляются с помощью декоратора @staticmethod. У таких методов нет обязательного аргумента бъекта или класса. Такие методы прикрепляются к классу лишь для удобства и, обычно, реализуют вспомогательные функции."
   ]
  },
  {
   "cell_type": "code",
   "execution_count": 4,
   "metadata": {},
   "outputs": [
    {
     "name": "stdout",
     "output_type": "stream",
     "text": [
      "static_foo: x = 1\n",
      "static_foo: x = 2\n",
      "class_bar: cls = <class '__main__.MyClass'>; state = 3\n",
      "class state = 3\n",
      "class_bar: cls = <class '__main__.MyClass'>; state = 4\n",
      "class state = 4\n"
     ]
    }
   ],
   "source": [
    "class MyClass:\n",
    "    state = 0\n",
    "    \n",
    "    @staticmethod\n",
    "    def static_foo(x):\n",
    "        print(f\"static_foo: x = {x}\")\n",
    "        \n",
    "    @classmethod\n",
    "    def class_bar(cls, state):\n",
    "        cls.state = state\n",
    "        print(f\"class_bar: cls = {cls}; state = {cls.state}\")\n",
    "\n",
    "obj = MyClass()\n",
    "\n",
    "obj.static_foo(1)\n",
    "MyClass.static_foo(2)\n",
    "\n",
    "obj.class_bar(3)\n",
    "print(f\"class state = {MyClass.state}\")\n",
    "MyClass.class_bar(4)\n",
    "print(f\"class state = {MyClass.state}\")"
   ]
  },
  {
   "cell_type": "markdown",
   "metadata": {},
   "source": [
    "Существует ряд \"особых\" методов, имеющих специальное значение:\n",
    "\n",
    "    Конструктор - метод, который автоматически вызывается при создании объекта.\n",
    "    \n",
    "    Инициализатор - метод, в котором производится инициализация состояния объекта, выделение ресурсов и т.п. Инициализатору могут быть переданы начальные значения аттрибутов объекта.\n",
    "    \n",
    "    Деструктор - метод, который автоматически вызывается при уничтожении объекта. В деструкторе осуществляется освобождение ресурсов."
   ]
  },
  {
   "cell_type": "markdown",
   "metadata": {},
   "source": [
    "Конструктор класса объявляется в методе *\\_\\_new\\_\\_*. Возвращаемое значение конструктора - созданный объект.\n",
    "\n",
    "Инициализатор класса объявляется в методе *\\_\\_init\\_\\_*."
   ]
  },
  {
   "cell_type": "code",
   "execution_count": 5,
   "metadata": {},
   "outputs": [
    {
     "name": "stdout",
     "output_type": "stream",
     "text": [
      "MyClass constructor: cls = <class '__main__.MyClass'>; arg = 10\n",
      "MyClass initializer: arg = 10\n"
     ]
    }
   ],
   "source": [
    "class MyClass:\n",
    "    def __new__(cls, arg):\n",
    "        print(f\"MyClass constructor: cls = {cls}; arg = {arg}\")\n",
    "        return super(MyClass, cls).__new__(cls)\n",
    "        \n",
    "    def __init__(self, arg):\n",
    "        self.arg = arg\n",
    "        print(f\"MyClass initializer: arg = {arg}\")\n",
    "\n",
    "my_object = MyClass(10)"
   ]
  },
  {
   "cell_type": "markdown",
   "metadata": {},
   "source": [
    "#### Используйте \\_\\_new\\_\\_, когда хотите управлять процессом создания класса и \\_\\_init\\_\\_, когда хотите управлять его инициализацией.\n",
    "### Обычно вам будет нужен \\_\\_init\\_\\_."
   ]
  },
  {
   "cell_type": "markdown",
   "metadata": {},
   "source": [
    "Деструктор класса объявляется в методе *\\_\\_del\\_\\_*.\n",
    "\n",
    "В отличии от C++ удаление объекта осуществляется не при выходе из области видимости или обнулении счётчика ссылок на объект и даже не при явном удалении с помощью ключевого слова *del*, а тогда, когда сборщик мусора решит уничтожить объект, что на практике бывает трудно предсказать.\n",
    "\n",
    "В приведённом примере объект my_object существует в области видимости функции *foo*."
   ]
  },
  {
   "cell_type": "code",
   "execution_count": 6,
   "metadata": {},
   "outputs": [
    {
     "name": "stdout",
     "output_type": "stream",
     "text": [
      "MyClass initializer\n",
      "MyClass destructor\n"
     ]
    }
   ],
   "source": [
    "class MyClass:\n",
    "    def __init__(self):\n",
    "        print(\"MyClass initializer\")\n",
    "        \n",
    "    def __del__(self):\n",
    "        print(\"MyClass destructor\")\n",
    "\n",
    "def foo():\n",
    "    my_object = MyClass()\n",
    "\n",
    "foo()"
   ]
  },
  {
   "cell_type": "markdown",
   "metadata": {},
   "source": [
    "Наследование осуществляется следующим образом:"
   ]
  },
  {
   "cell_type": "code",
   "execution_count": 7,
   "metadata": {},
   "outputs": [
    {
     "name": "stdout",
     "output_type": "stream",
     "text": [
      "SuperClass initializer: x = 10\n",
      "SuperClass initializer: x = 20\n",
      "SubClass initializer: x = 20; y = 30\n"
     ]
    }
   ],
   "source": [
    "class SuperClass():\n",
    "    def __init__(self, x):\n",
    "        self.x = x\n",
    "        print(f\"SuperClass initializer: x = {self.x}\")\n",
    "\n",
    "class SubClass(SuperClass):\n",
    "    def __init__(self, x, y):\n",
    "        super(SubClass, self).__init__(x)\n",
    "        self.y = y\n",
    "        print(f\"SubClass initializer: x = {self.x}; y = {self.y}\")\n",
    "\n",
    "obj1 = SuperClass(10)\n",
    "\n",
    "obj2 = SubClass(20, 30)"
   ]
  },
  {
   "cell_type": "markdown",
   "metadata": {},
   "source": [
    "Как видно из этого примера, приведение дочернего класса к родительскому осуществляется вызовом функции *super*."
   ]
  },
  {
   "cell_type": "markdown",
   "metadata": {},
   "source": [
    "Все аттрибуты и методы в Python по-умолчанию являются публичными и нет ограничений на их вызов и получение доступа.\n",
    "\n",
    "По договорённости аттрибуты и методы, начинающиеся с \"\\_\" считаются приватными и относятся к реализации класса."
   ]
  },
  {
   "cell_type": "code",
   "execution_count": 8,
   "metadata": {},
   "outputs": [
    {
     "name": "stdout",
     "output_type": "stream",
     "text": [
      "MyClass initializer: arg = 10\n",
      "30\n"
     ]
    }
   ],
   "source": [
    "class MyClass:\n",
    "    def __init__(self, arg):\n",
    "        self._arg = arg\n",
    "        print(f\"MyClass initializer: arg = {self._arg}\")\n",
    "\n",
    "my_object = MyClass(10)\n",
    "\n",
    "# Так сделать можно, но разработчик класса показал, что прямая работа с аттрибутом _arg нежелательна.\n",
    "my_object._arg += 20\n",
    "print(my_object._arg)"
   ]
  },
  {
   "cell_type": "markdown",
   "metadata": {},
   "source": [
    "Для того, чтобы сделать аттрибут или метод действительно приватным, необходимо начать его с \"\\_\\_\". Такие аттрибуты и методы будут доступны только внутри методов класса, но не вне их."
   ]
  },
  {
   "cell_type": "code",
   "execution_count": 9,
   "metadata": {},
   "outputs": [
    {
     "name": "stdout",
     "output_type": "stream",
     "text": [
      "MyClass initializer: arg = 10\n",
      "10\n"
     ]
    },
    {
     "ename": "AttributeError",
     "evalue": "'MyClass' object has no attribute '__arg'",
     "output_type": "error",
     "traceback": [
      "\u001b[1;31m---------------------------------------------------------------------------\u001b[0m",
      "\u001b[1;31mAttributeError\u001b[0m                            Traceback (most recent call last)",
      "Input \u001b[1;32mIn [9]\u001b[0m, in \u001b[0;36m<cell line: 15>\u001b[1;34m()\u001b[0m\n\u001b[0;32m     12\u001b[0m \u001b[38;5;28mprint\u001b[39m(my_object\u001b[38;5;241m.\u001b[39mget_arg())\n\u001b[0;32m     14\u001b[0m \u001b[38;5;66;03m# А так - нельзя:\u001b[39;00m\n\u001b[1;32m---> 15\u001b[0m \u001b[38;5;28mprint\u001b[39m(\u001b[43mmy_object\u001b[49m\u001b[38;5;241;43m.\u001b[39;49m\u001b[43m__arg\u001b[49m)\n",
      "\u001b[1;31mAttributeError\u001b[0m: 'MyClass' object has no attribute '__arg'"
     ]
    }
   ],
   "source": [
    "class MyClass:\n",
    "    def __init__(self, arg):\n",
    "        self.__arg = arg\n",
    "        print(f\"MyClass initializer: arg = {self.__arg}\")\n",
    "    \n",
    "    def get_arg(self):\n",
    "        return self.__arg\n",
    "\n",
    "my_object = MyClass(10)\n",
    "\n",
    "# Так сделать можно:\n",
    "print(my_object.get_arg())\n",
    "\n",
    "# А так - нельзя:\n",
    "print(my_object.__arg)"
   ]
  },
  {
   "cell_type": "markdown",
   "metadata": {},
   "source": [
    "К другим часто встречаемым методам, имеющим специальное значение, относятся:\n",
    "\n",
    "    __str__ - Приведение объекта к строке.\n",
    "    \n",
    "    __repr__ - Этот метод определяет \"стандартное\" представление объекта, получаемое функцией repr().\n",
    "    \n",
    "    __call__ - этот метод вызывается при обращении к объекту как к функции."
   ]
  },
  {
   "cell_type": "code",
   "execution_count": 10,
   "metadata": {},
   "outputs": [
    {
     "name": "stdout",
     "output_type": "stream",
     "text": [
      "MyClass initializer: arg = 10\n",
      "I am MyClass with argument 10\n"
     ]
    }
   ],
   "source": [
    "class MyClass:\n",
    "    def __init__(self, arg):\n",
    "        self.__arg = arg\n",
    "        print(f\"MyClass initializer: arg = {self.__arg}\")\n",
    "    \n",
    "    def __str__(self):\n",
    "        return f\"I am MyClass with argument {self.__arg}\"\n",
    "    \n",
    "    def __repr__(self):\n",
    "        return f\"MyClass debug output {self.__arg}\"\n",
    "    \n",
    "    def __call__(self, x):\n",
    "        print(f\"MyClass called as a function with parameter x = {x}\")\n",
    "\n",
    "my_object = MyClass(10)\n",
    "print(str(my_object))"
   ]
  },
  {
   "cell_type": "markdown",
   "metadata": {},
   "source": [
    "Вы можете видеть \"стандартный\" вывод, когда, например, просто вводите имя объекта в интерпретаторе:"
   ]
  },
  {
   "cell_type": "code",
   "execution_count": 11,
   "metadata": {},
   "outputs": [
    {
     "data": {
      "text/plain": [
       "MyClass debug output 10"
      ]
     },
     "execution_count": 11,
     "metadata": {},
     "output_type": "execute_result"
    }
   ],
   "source": [
    "my_object"
   ]
  },
  {
   "cell_type": "markdown",
   "metadata": {},
   "source": [
    "Пример вызова объекта как функции:"
   ]
  },
  {
   "cell_type": "code",
   "execution_count": 12,
   "metadata": {},
   "outputs": [
    {
     "name": "stdout",
     "output_type": "stream",
     "text": [
      "MyClass called as a function with parameter x = 100\n"
     ]
    }
   ],
   "source": [
    "my_object(100)"
   ]
  },
  {
   "cell_type": "markdown",
   "metadata": {},
   "source": [
    "#### Сводная таблица методов, которые можно имплементировать в классе для определения поведения при вызове встроенных функций и операторов Python\n",
    "\n",
    "| Встроенная функция или оператор | Метод класса |Комментарий |\n",
    "|------|------|------|\n",
    "| __Базовые методы__ |\n",
    "|   obj = Class()  | obj.\\_\\_new\\_\\_()| Конструктор объекта |\n",
    "|   obj = Class()  | obj.\\_\\_init\\_\\_()| Инициализатор объекта |\n",
    "|   del obj  | obj.\\_\\_del\\_\\_()| Деструктор объекта, вызываемый при его удалении* |\n",
    "|   obj  | obj.\\_\\_repr\\_\\_()| \"Стандартное\" представление объекта |\n",
    "|   str(obj)  | obj.\\_\\_str\\_\\_()| Строковое представление объекта |\n",
    "|   bytes(obj)  | obj.\\_\\_bytes\\_\\_()| Представление объекта в виде байтовой последовательности |\n",
    "|   format(obj, format_spec)  | obj.\\_\\_format\\_\\_(format_spec)| Представление объекта в виде форматированной строки |\n",
    "| __Поведение объекта как функции__ |\n",
    "|   obj()  | obj.\\_\\_call\\_\\_()| Вызов объекта как функции |\n",
    "| __Поведение итерируемого объекта__ |\n",
    "|   iter(obj)  | obj.\\_\\_iter\\_\\_()| Итерация по объекту |\n",
    "|   next(obj)  | obj.\\_\\_next\\_\\_()| Следующий элемент |\n",
    "|   reversed(obj)  | obj.\\_\\_reversed\\_\\_()| Итератор в обратном порядке |\n",
    "| __Работа с аттрибутами объекта__ |\n",
    "|   dir(obj)  | obj.\\_\\_dir\\_\\_()| Перечисление всех аттрибутов и методов объекта |\n",
    "|   obj.property  | obj.\\_\\_getattribute\\_\\_('property')| Получение аттрибута объекта. Вызов метода осуществляется до \"стандартного\" поиска аттрибута |\n",
    "|   obj.property  | obj.\\_\\_getattr\\_\\_('property')| Получение аттрибута объекта. Вызов метода осуществляется после \"стандартного\" поиска аттрибута |\n",
    "|   obj.property = x  | obj.\\_\\_setattr\\_\\_('property', x)| Установка значения аттрибута объекта |\n",
    "|   del obj.property  | obj.\\_\\_delattr\\_\\_('property')| Удаление аттрибута объекта |\n",
    "| __Поведение объекта как множества или списка__ |\n",
    "|   len(obj)  | obj.\\_\\_len\\_\\_()| \"Длина\" объкта (аналогично длине кортежа, списка или словаря) |\n",
    "|   x in obj  | obj.\\_\\_contains\\_\\_(x)| Проверка, содержится ли x в obj |\n",
    "| __Поведение объекта как словаря__ |\n",
    "|   obj\\[key\\]  | obj.\\_\\_getitem\\_\\_(key)| Получение значения по ключу key |\n",
    "|   obj\\[key\\] = value  | obj.\\_\\_setitem\\_\\_(key, value)| Присвоение значения value по ключу key |\n",
    "|   del obj\\[key\\]  | obj.\\_\\_delitem\\_\\_(key)| Удаление элемента по ключу key |\n",
    "|   obj\\[nonexistent_key\\]  | obj.\\_\\_missing\\_\\_(key)| Получение значения по-умолчанию для несуществующего ключа |\n",
    "| __Поведение объекта как числа__ |\n",
    "| __Операции, относительно левого объекта__ |\n",
    "|   x + y  | x.\\_\\_add\\_\\_(y)| Сложение |\n",
    "|   x - y  | x.\\_\\_sub\\_\\_(y)| Вычитание |\n",
    "|   x * y  | x.\\_\\_mul\\_\\_(y)| Умножение |\n",
    "|   x / y  | x.\\_\\_truediv\\_\\_(y)| Деление |\n",
    "|   x // y  | x.\\_\\_floordiv\\_\\_(y)| Целочисленное деление |\n",
    "|   x % y  | x.\\_\\_mod\\_\\_(y)| Остаток от деления |\n",
    "|   divmod(x, y)  | x.\\_\\_divmod\\_\\_(y)| Целочисленное деление и остаток |\n",
    "|   x ** y  | x.\\_\\_pow\\_\\_(y)| Возведение в степень |\n",
    "|   x << y  | x.\\_\\_lshift\\_\\_(y)| Битовый сдвиг влево |\n",
    "|   x >> y  | x.\\_\\_rshift\\_\\_(y)| Битовый сдвиг вправо |\n",
    "|   x & y  | x.\\_\\_and\\_\\_(y)| Побитовое и |\n",
    "|   x \\| y  | x.\\_\\_or\\_\\_(y)| Побитовое или |\n",
    "|   x ^ y  | x.\\_\\_xor\\_\\_(y)| Побитовое исключающее или |\n",
    "| __Операции, относительно правого объекта__ |\n",
    "|   x + y  | y.\\_\\_radd\\_\\_(x)| Сложение |\n",
    "|   x - y  | y.\\_\\_rsub\\_\\_(x)| Вычитание |\n",
    "|   x * y  | y.\\_\\_rmul\\_\\_(x)| Умножение |\n",
    "|   x / y  | y.\\_\\_rtruediv\\_\\_(x)| Деление |\n",
    "|   x // y  | y.\\_\\_rfloordiv\\_\\_(x)| Целочисленное деление |\n",
    "|   x % y  | y.\\_\\_rmod\\_\\_(x)| Остаток от деления |\n",
    "|   divmod(x, y)  | y.\\_\\_rdivmod\\_\\_(x)| Целочисленное деление и остаток |\n",
    "|   x ** y  | y.\\_\\_rpow\\_\\_(x)| Возведение в степень |\n",
    "|   x << y  | y.\\_\\_rlshift\\_\\_(x)| Битовый сдвиг влево |\n",
    "|   x >> y  | y.\\_\\_rshift\\_\\_(x)| Битовый сдвиг вправо |\n",
    "|   x & y  | y.\\_\\_rand\\_\\_(x)| Побитовое и |\n",
    "|   x \\| y  | y.\\_\\_ror\\_\\_(x)| Побитовое или |\n",
    "|   x ^ y  | y.\\_\\_rxor\\_\\_(x)| Побитовое исключающее или |\n",
    "| __In-place операции__ |\n",
    "|   x += y  | x.\\_\\_iadd\\_\\_(y)| Сложение |\n",
    "|   x -= y  | x.\\_\\_isub\\_\\_(y)| Вычитание |\n",
    "|   x *= y  | x.\\_\\_imul\\_\\_(y)| Умножение |\n",
    "|   x /= y  | x.\\_\\_itruediv\\_\\_(y)| Деление |\n",
    "|   x //= y  | x.\\_\\_ifloordiv\\_\\_(y)| Целочисленное деление |\n",
    "|   x %= y  | x.\\_\\_imod\\_\\_(y)| Остаток от деления |\n",
    "|   x \\*\\*= y  | x.\\_\\_ipow\\_\\_(y)| Возведение в степень |\n",
    "|   x <<= y  | x.\\_\\_ilshift\\_\\_(y)| Битовый сдвиг влево |\n",
    "|   x >>= y  | x.\\_\\_irshift\\_\\_(y)| Битовый сдвиг вправо |\n",
    "|   x &= y  | x.\\_\\_iand\\_\\_(y)| Побитовое и |\n",
    "|   x \\|= y  | x.\\_\\_ior\\_\\_(y)| Побитовое или |\n",
    "|   x ^= y  | x.\\_\\_ixor\\_\\_(y)| Побитовое исключающее или |\n",
    "| __Унарные операции__ |\n",
    "|   -x  | x.\\_\\_neg\\_\\_()| Отрицательное значение |\n",
    "|   +x  | x.\\_\\_pos\\_\\_()| Положительное значение |\n",
    "|   abs(x)  | x.\\_\\_abs\\_\\_()| Абсолютное значение |\n",
    "|   ~x  | x.\\_\\_inv\\_\\_()| Побитовое обращение |\n",
    "|   complex(x)  | x.\\_\\_complex\\_\\_()| Приведение к комплексному числу |\n",
    "|   int(x)  | x.\\_\\_int\\_\\_()| Приведение к целому числу |\n",
    "|   float(x)  | x.\\_\\_float\\_\\_()| Приведение к числу с плавающей точкой |\n",
    "|   round(x)  | x.\\_\\_round\\_\\_()| Округление до ближайшего целого числа |\n",
    "|   round(x, n)  | x.\\_\\_round\\_\\_(n)| Округление до n знаков после точки |\n",
    "|   math.ceil(x)  | x.\\_\\_ceil\\_\\_()| Минимальное целое >= x |\n",
    "|   math.floor(x)  | x.\\_\\_floor\\_\\_()| Максимальное целое <= x |\n",
    "|   math.trunc(x)  | x.\\_\\_trunc\\_\\_()| Округление до ближайшего целого в сторону нуля |\n",
    "|   a_list\\[x\\]  | a_list\\[x.\\_\\_index\\_\\_()\\]| Использование в качестве индекса |\n",
    "| __Операции сравнения__ |\n",
    "|   x == y  | x.\\_\\_eq\\_\\_(y)| Равенство |\n",
    "|   x != y  | x.\\_\\_ne\\_\\_(y)| Неравенство |\n",
    "|   x < y  | x.\\_\\_lt\\_\\_(y)| Меньше |\n",
    "|   x <= y  | x.\\_\\_le\\_\\_(y)| Меньше или равно |\n",
    "|   x > y  | x.\\_\\_gt\\_\\_(y)| Больше |\n",
    "|   x >= y  | x.\\_\\_ge\\_\\_(y)| Больше или равно |\n",
    "|   if x:  | x.\\_\\_bool\\_\\_()| Истинность |\n",
    "| __Сериализация__ |\n",
    "|   copy.copy(x)  | x.\\_\\_copy\\_\\_()| Копирование объекта |\n",
    "|   copy.deepcopy(x)  | x.\\_\\_deepcopy\\_\\_()| \"Глубокое\" копирование объекта |\n",
    "| __Поведение в блоке with__ |\n",
    "|   with x:  | x.\\_\\_enter\\_\\_()| Вход в блок with |\n",
    "|   with x:  | x.\\_\\_exit\\_\\_()| Выход из блока with |"
   ]
  },
  {
   "cell_type": "markdown",
   "metadata": {},
   "source": [
    "# Паттерны проектирования\n",
    "\n",
    "Под паттернами (или шаблонами) проектирования в разработке программного обеспечения понимаются повторяемые архитектурные конструкции, представляющие собой решение проблемы проектирования в рамках некоторого часто возникающего контекста. [Статья на Вики](https://ru.wikipedia.org/wiki/%D0%A8%D0%B0%D0%B1%D0%BB%D0%BE%D0%BD_%D0%BF%D1%80%D0%BE%D0%B5%D0%BA%D1%82%D0%B8%D1%80%D0%BE%D0%B2%D0%B0%D0%BD%D0%B8%D1%8F)\n",
    "\n",
    "Паттерны проектирования в ООП определяют отношения и взаимодействия между классами и объектами без определения того, какие классы и объекты будут использоваться.\n",
    "\n",
    "Подробнее о паттернах проектирования на Python можно почитать [здесь](https://refactoring.guru/ru/design-patterns/) или [здесь](https://github.com/faif/python-patterns).\n",
    "\n",
    "В качестве примера рассмотрим паттерн \"Фабрика\". Этот паттерн позволяет создавать объекты некторых классов без знания спецификации этих классов."
   ]
  },
  {
   "cell_type": "markdown",
   "metadata": {},
   "source": [
    "# Пример: Бойцовский клуб\n",
    "\n",
    "### Два бойца со случайно выбранным оружием и бронёй по очереди бьют друг друга."
   ]
  },
  {
   "cell_type": "code",
   "execution_count": 13,
   "metadata": {},
   "outputs": [],
   "source": [
    "import random"
   ]
  },
  {
   "cell_type": "code",
   "execution_count": 14,
   "metadata": {},
   "outputs": [],
   "source": [
    "class Weapon:\n",
    "    def __init__(self, name=\"\", min_force=None, max_force=None):\n",
    "        \"\"\"\n",
    "            name - название оружия\n",
    "            min_force - минимальная сила удара\n",
    "            max_force - максимальная сила удара\n",
    "        \"\"\"\n",
    "        assert max_force > min_force\n",
    "        self.name = name\n",
    "        self.min_force = min_force\n",
    "        self.max_force = max_force\n",
    "    \n",
    "    def strike(self):\n",
    "        \"\"\"\n",
    "            Нанести удар\n",
    "            Возвращаемое значение - максимальный урон, нанесённый цели\n",
    "        \"\"\"\n",
    "        force = random.uniform(self.min_force, self.max_force)\n",
    "        return force\n",
    "    \n",
    "    def __str__(self):\n",
    "        return f\"{self.name} (урон от {self.min_force} до {self.max_force})\"\n",
    "\n",
    "class Fist(Weapon):\n",
    "    def __init__(self, name=\"Кулак\", min_force=0, max_force=3):\n",
    "        super(Fist, self).__init__(name, min_force, max_force)\n",
    "    \n",
    "    def strike(self):\n",
    "        \"\"\"\n",
    "            Нанести удар\n",
    "            Возвращаемое значение - максимальный урон, нанесённый цели\n",
    "            С вероятностью 0.5 будет произведён двойной удар\n",
    "        \"\"\"\n",
    "        force = random.uniform(self.min_force, self.max_force)\n",
    "        #Вероятность второго удара\n",
    "        if random.uniform(0, 1) > 0.5:\n",
    "            print(\"Двойной удар!\")\n",
    "            force += random.uniform(self.min_force, self.max_force)\n",
    "        return force\n",
    "        \n",
    "class Knife(Weapon):\n",
    "    def __init__(self, name=\"Нож\", min_force=2, max_force=3):\n",
    "        super(Knife, self).__init__(name, min_force, max_force)\n",
    "        \n",
    "class Club(Weapon):\n",
    "    def __init__(self, name=\"Дубинка\", min_force=0, max_force=4):\n",
    "        super(Club, self).__init__(name, min_force, max_force)\n",
    "        \n",
    "class Handgun(Weapon):\n",
    "    def __init__(self, name=\"Пистолет\", min_force=4, max_force=6):\n",
    "        super(Handgun, self).__init__(name, min_force, max_force)\n",
    "        \n",
    "class Shotgun(Weapon):\n",
    "    def __init__(self, name=\"Дробовик\", min_force=6, max_force=10):\n",
    "        super(Shotgun, self).__init__(name, min_force, max_force)\n",
    "        \n",
    "class AssaultRifle(Weapon):\n",
    "    def __init__(self, name=\"Штурмовая винтовка\", min_force=8, max_force=15):\n",
    "        super(AssaultRifle, self).__init__(name, min_force, max_force)\n",
    "        \n",
    "class GatlingGun(Weapon):\n",
    "    def __init__(self, name=\"Пулемёт Гатлинга\", min_force=10, max_force=18):\n",
    "        super(GatlingGun, self).__init__(name, min_force, max_force)"
   ]
  },
  {
   "cell_type": "code",
   "execution_count": 15,
   "metadata": {},
   "outputs": [],
   "source": [
    "class Defence:\n",
    "    def __init__(self, name=\"\", defence_coeff=None):\n",
    "        \"\"\"\n",
    "            name - название брони\n",
    "            defence_coeff - Коэффициент защиты: максимальное уменьшение нанесённого удара\n",
    "        \"\"\"\n",
    "        assert defence_coeff >= 0. and defence_coeff < 1.0\n",
    "        self.name = name\n",
    "        self.defence_coeff = defence_coeff\n",
    "    \n",
    "    def defend(self):\n",
    "        \"\"\"\n",
    "            Произвести защиту\n",
    "            Возвращаемое значение - часть урона (от 0 до 1), поглощённый защитой\n",
    "        \"\"\"\n",
    "        return random.uniform(0, self.defence_coeff)\n",
    "    \n",
    "    def __str__(self):\n",
    "        return f\"{self.name} (защита {int(100 * self.defence_coeff)}%)\"\n",
    "\n",
    "class NoDefence(Defence):\n",
    "    def __init__(self, name=\"Нет защиты\", defence_coeff=0.0):\n",
    "        super(NoDefence, self).__init__(name, defence_coeff)\n",
    "\n",
    "class SimpleClothes(Defence):\n",
    "    def __init__(self, name=\"Простая одежда\", defence_coeff=0.05):\n",
    "        super(SimpleClothes, self).__init__(name, defence_coeff)\n",
    "\n",
    "class LeatherJacket(Defence):\n",
    "    def __init__(self, name=\"Кожаная куртка\", defence_coeff=0.1):\n",
    "        super(LeatherJacket, self).__init__(name, defence_coeff)\n",
    "\n",
    "class LightBodyArmor(Defence):\n",
    "    def __init__(self, name=\"Лёгкий бронежилет\", defence_coeff=0.3):\n",
    "        super(LightBodyArmor, self).__init__(name, defence_coeff)\n",
    "\n",
    "class HeavyBodyArmor(Defence):\n",
    "    def __init__(self, name=\"Тяжёлый бронежилет\", defence_coeff=0.5):\n",
    "        super(HeavyBodyArmor, self).__init__(name, defence_coeff)\n",
    "\n",
    "class CombatExoskeleton(Defence):\n",
    "    def __init__(self, name=\"Боевой экзоскелет\", defence_coeff=0.8):\n",
    "        super(CombatExoskeleton, self).__init__(name, defence_coeff)"
   ]
  },
  {
   "cell_type": "markdown",
   "metadata": {},
   "source": [
    "Фабрики случайных вещей позволяют получить объекты без знания спецификаций конкретных классов.\n",
    "\n",
    "Функция \\_\\_subclasses\\_\\_() позволяет получить все дочерние классы для данного класса."
   ]
  },
  {
   "cell_type": "code",
   "execution_count": 16,
   "metadata": {},
   "outputs": [],
   "source": [
    "class RandomProductFactory:\n",
    "    def __init__(self, cls):\n",
    "        self.cls = cls\n",
    "    \n",
    "    def get_product(self):\n",
    "        specific_cls = random.choice(self.cls.__subclasses__())\n",
    "        return specific_cls()"
   ]
  },
  {
   "cell_type": "code",
   "execution_count": 17,
   "metadata": {},
   "outputs": [],
   "source": [
    "class Fighter:\n",
    "    def __init__(self, name):\n",
    "        self.name = name\n",
    "        self.health = 100\n",
    "        self.weapon = Fist()\n",
    "        self.defence = NoDefence()\n",
    "    \n",
    "    def __str__(self):\n",
    "        return f\"{self.name}\\nТекущее здоровье: {self.health}\"\\\n",
    "               f\"\\nОружие: {str(self.weapon)}\\nБроня: {str(self.defence)}\"\n",
    "    \n",
    "    def respawn(self):\n",
    "        self.health = 100\n",
    "    \n",
    "    def is_dead(self):\n",
    "        return self.health <= 0\n",
    "    \n",
    "    def set_weapon(self, weapon):\n",
    "        assert isinstance(weapon, Weapon)\n",
    "        self.weapon = weapon\n",
    "    \n",
    "    def set_defence(self, defence):\n",
    "        assert isinstance(defence, Defence)\n",
    "        self.defence = defence\n",
    "    \n",
    "    def take_hit(self, force):\n",
    "        \"Принять удар с силой force. Возвращаемое значение - фактически нанесённый урон.\"\n",
    "        defence = self.defence.defend()\n",
    "        damage = int(force * (1 - defence))\n",
    "        self.health -= int(damage)\n",
    "        return damage\n",
    "    \n",
    "    def hit(self, target):\n",
    "        \"Нанести удар по цели target. Возвращаемое значение - фактически нанесённый урон.\"\n",
    "        force = self.weapon.strike()\n",
    "        return target.take_hit(force)"
   ]
  },
  {
   "cell_type": "code",
   "execution_count": 18,
   "metadata": {},
   "outputs": [],
   "source": [
    "class FightClub:\n",
    "    all_heroes = [\n",
    "        \"Т-800\", \"Джон Коннор\", \"Бэтмен\", \"Джокер\", \"Бэйн\", \"Женщина-кошка\", \"Капитан Америка\",\n",
    "        \"Танос\", \"Железный человек\", \"Чёрная вдова\", \"Доктор Стрэндж\", \"Каратель\", \"Халк\", \"Тор\", \"Локи\",\n",
    "        \"Нео\", \"Морфеус\", \"Тринити\", \"Агент Смит\", \"Ёсимицу\", \"Сектор\", \"Сайракс\", \"Лю Кан\", \"Шан Цун\", \"Соня Блейд\"\n",
    "    ]\n",
    "    def __init__(self, nfighters=2):\n",
    "        self.nfighters = nfighters\n",
    "        self.weapon_factory = RandomProductFactory(Weapon)\n",
    "        self.defence_factory = RandomProductFactory(Defence)\n",
    "        \n",
    "    def init_combat(self):\n",
    "        self.fighters = []\n",
    "        for hero_name in random.sample(FightClub.all_heroes, self.nfighters):\n",
    "            fighter = Fighter(hero_name)\n",
    "            fighter.set_weapon(self.weapon_factory.get_product())\n",
    "            fighter.set_defence(self.defence_factory.get_product())\n",
    "            self.fighters.append(fighter)\n",
    "        print(\"Сражаются:\", \" против \".join([f.name for f in self.fighters]))\n",
    "        for fighter in self.fighters:\n",
    "            print(\"===========================\")\n",
    "            print(str(fighter))\n",
    "        print(\"===========================\")\n",
    "    \n",
    "    def start_combat(self):\n",
    "        fight_end = False\n",
    "        while not fight_end:\n",
    "            attacker_id, defender_id = random.sample(range(self.nfighters), 2)\n",
    "            attacker = self.fighters[attacker_id]\n",
    "            defender = self.fighters[defender_id]\n",
    "            damage = attacker.hit(defender)\n",
    "            if damage > 0:\n",
    "                print(f\"{attacker.name} бьёт {defender.name} и наносит урон {damage}\")\n",
    "            else:\n",
    "                print(f\"{attacker.name} промахнулся\")\n",
    "            if defender.is_dead():\n",
    "                fight_end = True\n",
    "                print(f\"{defender.name} убит\")\n",
    "                print(\"Поединок завершён\")\n",
    "                print(f\"Победил {attacker.name}\")\n",
    "                print(\"========ПОБЕДИТЕЛЬ=========\")\n",
    "                print(str(attacker))\n",
    "                print(\"=======ПРОИГРАВШИЙ=========\")\n",
    "                print(str(defender))\n",
    "                print(\"===========================\")"
   ]
  },
  {
   "cell_type": "code",
   "execution_count": 19,
   "metadata": {},
   "outputs": [
    {
     "name": "stdout",
     "output_type": "stream",
     "text": [
      "Сражаются: Сектор против Чёрная вдова\n",
      "===========================\n",
      "Сектор\n",
      "Текущее здоровье: 100\n",
      "Оружие: Дубинка (урон от 0 до 4)\n",
      "Броня: Лёгкий бронежилет (защита 30%)\n",
      "===========================\n",
      "Чёрная вдова\n",
      "Текущее здоровье: 100\n",
      "Оружие: Штурмовая винтовка (урон от 8 до 15)\n",
      "Броня: Простая одежда (защита 5%)\n",
      "===========================\n"
     ]
    }
   ],
   "source": [
    "fc = FightClub()\n",
    "fc.init_combat()"
   ]
  },
  {
   "cell_type": "code",
   "execution_count": 20,
   "metadata": {},
   "outputs": [
    {
     "name": "stdout",
     "output_type": "stream",
     "text": [
      "Чёрная вдова бьёт Сектор и наносит урон 13\n",
      "Чёрная вдова бьёт Сектор и наносит урон 7\n",
      "Сектор бьёт Чёрная вдова и наносит урон 2\n",
      "Сектор промахнулся\n",
      "Чёрная вдова бьёт Сектор и наносит урон 6\n",
      "Чёрная вдова бьёт Сектор и наносит урон 10\n",
      "Чёрная вдова бьёт Сектор и наносит урон 10\n",
      "Чёрная вдова бьёт Сектор и наносит урон 9\n",
      "Сектор промахнулся\n",
      "Чёрная вдова бьёт Сектор и наносит урон 13\n",
      "Сектор промахнулся\n",
      "Чёрная вдова бьёт Сектор и наносит урон 6\n",
      "Чёрная вдова бьёт Сектор и наносит урон 9\n",
      "Сектор бьёт Чёрная вдова и наносит урон 1\n",
      "Чёрная вдова бьёт Сектор и наносит урон 10\n",
      "Сектор бьёт Чёрная вдова и наносит урон 2\n",
      "Сектор бьёт Чёрная вдова и наносит урон 2\n",
      "Сектор бьёт Чёрная вдова и наносит урон 1\n",
      "Сектор промахнулся\n",
      "Сектор бьёт Чёрная вдова и наносит урон 3\n",
      "Сектор бьёт Чёрная вдова и наносит урон 1\n",
      "Чёрная вдова бьёт Сектор и наносит урон 11\n",
      "Сектор убит\n",
      "Поединок завершён\n",
      "Победил Чёрная вдова\n",
      "========ПОБЕДИТЕЛЬ=========\n",
      "Чёрная вдова\n",
      "Текущее здоровье: 88\n",
      "Оружие: Штурмовая винтовка (урон от 8 до 15)\n",
      "Броня: Простая одежда (защита 5%)\n",
      "=======ПРОИГРАВШИЙ=========\n",
      "Сектор\n",
      "Текущее здоровье: -4\n",
      "Оружие: Дубинка (урон от 0 до 4)\n",
      "Броня: Лёгкий бронежилет (защита 30%)\n",
      "===========================\n"
     ]
    }
   ],
   "source": [
    "fc.start_combat()"
   ]
  },
  {
   "cell_type": "markdown",
   "metadata": {},
   "source": [
    "# ООП - не \"серебряная пуля\".\n",
    "\n",
    "#### Не следует применять ООП в любой ситуации. Иногда, особенно для относительно простых программ, следует обратиться к другим парадигмам разработки ПО - например к классическому процедурному программированию.\n",
    "\n",
    "### Разработка с примерением ООП требует навыков разработки системной архитектуры и достаточно высокой квалификации программиста.\n",
    "\n",
    "![alt text](Python03-OOP_extra/meme1.png)\n",
    "Источник: https://www.reddit.com/r/ProgrammerHumor/comments/418x95/theory_vs_reality/"
   ]
  },
  {
   "cell_type": "code",
   "execution_count": null,
   "metadata": {},
   "outputs": [],
   "source": []
  }
 ],
 "metadata": {
  "kernelspec": {
   "display_name": "Python 3 (ipykernel)",
   "language": "python",
   "name": "python3"
  },
  "language_info": {
   "codemirror_mode": {
    "name": "ipython",
    "version": 3
   },
   "file_extension": ".py",
   "mimetype": "text/x-python",
   "name": "python",
   "nbconvert_exporter": "python",
   "pygments_lexer": "ipython3",
   "version": "3.9.12"
  }
 },
 "nbformat": 4,
 "nbformat_minor": 4
}
