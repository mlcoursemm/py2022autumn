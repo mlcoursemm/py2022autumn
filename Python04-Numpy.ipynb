{
 "cells": [
  {
   "cell_type": "markdown",
   "metadata": {
    "slideshow": {
     "slide_type": "-"
    }
   },
   "source": [
    "### Курс \"Python для исследователя\", осень 2022"
   ]
  },
  {
   "cell_type": "markdown",
   "metadata": {},
   "source": [
    "### Занятие 4, библиотека Numpy"
   ]
  },
  {
   "cell_type": "markdown",
   "metadata": {},
   "source": [
    "# Numpy"
   ]
  },
  {
   "cell_type": "markdown",
   "metadata": {},
   "source": [
    "![](Python04-Numpy_extra/numpy.jpeg) "
   ]
  },
  {
   "cell_type": "markdown",
   "metadata": {},
   "source": [
    "**Numpy** - это главная библиотека для научных расчетов в Python. В целом, очень похожа на **MatLab**. Ее основа - многомерные массивы, а также набор функций для удобной работы с ними.\n",
    "\n",
    "*Замечание*. В данной презентации будут изложены наиболее важные и необходимые моменты, детальную информацию по библиотеке можно получить, сверившись с официальной [документацией](https://numpy.org/doc/stable/)."
   ]
  },
  {
   "cell_type": "markdown",
   "metadata": {},
   "source": [
    "Для начала эту библиотеку нужно установить (например, с помощью pip или conda):"
   ]
  },
  {
   "cell_type": "code",
   "execution_count": 1,
   "metadata": {},
   "outputs": [
    {
     "name": "stdout",
     "output_type": "stream",
     "text": [
      "Requirement already satisfied: numpy in c:\\users\\k00506636\\miniconda3\\lib\\site-packages (1.23.1)\n"
     ]
    }
   ],
   "source": [
    "!pip install numpy"
   ]
  },
  {
   "cell_type": "markdown",
   "metadata": {},
   "source": [
    "### Зачем нужно максимально стараться все математические расчеты делать в NumPy?"
   ]
  },
  {
   "cell_type": "markdown",
   "metadata": {},
   "source": [
    "* Предположим модельную задачу: у нас есть два списка a и b одинаковой длины n, и мы хотим посчитать сумму $R = \\sum_{i=0}^{n-1}(a_{i}^2+b_{i}^3)$"
   ]
  },
  {
   "cell_type": "markdown",
   "metadata": {},
   "source": [
    "Сравним по скорости варианты выполнения через обычные списки и подход с помощью Numpy. Детали об используемых функциях будут рассказаны дальше, здесь - просто мотивационный пример."
   ]
  },
  {
   "cell_type": "code",
   "execution_count": 2,
   "metadata": {},
   "outputs": [
    {
     "name": "stdout",
     "output_type": "stream",
     "text": [
      "list result = 610.7398226334875, np result = 610.7398226334874\n"
     ]
    }
   ],
   "source": [
    "import os\n",
    "import numpy as np # импорт numpy\n",
    "\n",
    "a_np = np.random.random(1000) # два случайных вектора длины n=1000\n",
    "b_np = np.random.random(1000)\n",
    "a_list = a_np.tolist() # переводим их в списки для чистоты эксперимента\n",
    "b_list = b_np.tolist()\n",
    "\n",
    "# списочная функция\n",
    "def fun_list(a_list, b_list):\n",
    "    res = 0\n",
    "    for i in range(len(a_list)):\n",
    "        a1 = a_list[i]\n",
    "        b1 = b_list[i]\n",
    "        res += a1*a1 + b1*b1*b1\n",
    "    return res\n",
    "\n",
    "# numpy-функция\n",
    "def fun_np(a_np, b_np):\n",
    "    res = np.sum(a_np**2 + b_np**3)\n",
    "    return res\n",
    "\n",
    "ret_list = fun_list(a_list, b_list)\n",
    "ret_np = fun_np(a_np, b_np)\n",
    "print(f'list result = {ret_list}, np result = {ret_np}') # ответы - одинаковые"
   ]
  },
  {
   "cell_type": "markdown",
   "metadata": {},
   "source": [
    "А теперь сравним по времени эти два подхода (сделаем 1000 замеров):"
   ]
  },
  {
   "cell_type": "code",
   "execution_count": 3,
   "metadata": {},
   "outputs": [
    {
     "name": "stdout",
     "output_type": "stream",
     "text": [
      "List time: 0.16097090000000058\n",
      "Numpy time: 0.03627769999999941\n"
     ]
    }
   ],
   "source": [
    "from timeit import timeit\n",
    "\n",
    "t_list = timeit('fun_list(a_list, b_list)', globals=globals(), number=1000)\n",
    "print(f'List time: {t_list}')\n",
    "t_np = timeit('fun_np(a_np, b_np)', globals=globals(), number=1000)\n",
    "print(f'Numpy time: {t_np}')"
   ]
  },
  {
   "cell_type": "markdown",
   "metadata": {},
   "source": [
    "![](Python04-Numpy_extra/numpy_speed.jpg) "
   ]
  },
  {
   "cell_type": "markdown",
   "metadata": {},
   "source": [
    "* Откуда берется эта производительность?\n",
    "\n",
    "Во многом, благодаря использованию технологии **SIMD** (single instruction, multiple data), когда к набору однотипных данных применяется одна команда, т.е. реализуется параллелизм на уровне данных. Для этого необходим процессор с поддержкой соответствующих инструкций (например, MMX / SSE / AVX). Почитать подробнее можно на [wiki](https://ru.wikipedia.org/wiki/SIMD). При наличии видеокарты, поддерживающей CUDA, можно еще больше ускорить вычисления в Numpy-подобном стиле с использованием библиотеки [CuPy](https://cupy.dev/)."
   ]
  },
  {
   "cell_type": "markdown",
   "metadata": {},
   "source": [
    "![](Python04-Numpy_extra/SIMD.png)"
   ]
  },
  {
   "cell_type": "markdown",
   "metadata": {},
   "source": [
    "### Создание массивов из списков и стандартные массивы"
   ]
  },
  {
   "cell_type": "markdown",
   "metadata": {},
   "source": [
    "* Главный конструктор: `np.array`"
   ]
  },
  {
   "cell_type": "code",
   "execution_count": 4,
   "metadata": {},
   "outputs": [
    {
     "name": "stdout",
     "output_type": "stream",
     "text": [
      "1D: [1 2 3]\n",
      "2D: [[1.5 2.  3. ]\n",
      " [4.  5.  6. ]]\n",
      "3D: [[[1.5 2.  3. ]\n",
      "  [4.  5.  6. ]]\n",
      "\n",
      " [[3.  2.  1. ]\n",
      "  [4.  5.  6. ]]]\n"
     ]
    }
   ],
   "source": [
    "a = np.array([1, 2, 3]) # создание одномерного массива из плоского списка\n",
    "b = np.array([[1.5, 2, 3], [4, 5, 6]]) # создание двухмерного массива 2x3 из списка списков\n",
    "c = np.array([[[1.5, 2, 3], [4, 5, 6]], [[3, 2, 1], [4, 5, 6]]], dtype=np.float32) # Массив\n",
    "# создание трехмерного массива 2x2x3 (3 - внутренняя размерность) и явное задание типа массива\n",
    "\n",
    "print(f'1D: {a}\\n2D: {b}\\n3D: {c}')"
   ]
  },
  {
   "cell_type": "markdown",
   "metadata": {},
   "source": [
    "![](Python04-Numpy_extra/np_create_matrix.png) "
   ]
  },
  {
   "cell_type": "markdown",
   "metadata": {},
   "source": [
    "* *Важное замечание*. Как numpy печатает многомерные массивы:\n",
    "  * содержимое по последней размерности печатается слева направо,\n",
    "  * содержимое по предпоследней размерности печатается сверху вниз,\n",
    "  * содержимое по остальным размерностя печатается сверху вниз, разделенные пустой строкой."
   ]
  },
  {
   "cell_type": "markdown",
   "metadata": {},
   "source": [
    "* Можно определять нулевые `zeros()`, единичные `ones`/`eye` и пустые `empty` массивы (которые можно затем заполнить с помощью метода `fill`)\n",
    "* Также можно задавать массивы, которые являются арифметической прогрессией с помощью `arange` или `linspace`\n",
    "\n",
    "\n",
    "**Внимание**: размерность (если больше 1) задается кортежем, а не просто через запятую!"
   ]
  },
  {
   "cell_type": "code",
   "execution_count": 5,
   "metadata": {},
   "outputs": [
    {
     "name": "stdout",
     "output_type": "stream",
     "text": [
      "Zeros = [[0. 0. 0. 0.]\n",
      " [0. 0. 0. 0.]\n",
      " [0. 0. 0. 0.]]\n",
      "Ones = [[[1 1 1 1]\n",
      "  [1 1 1 1]\n",
      "  [1 1 1 1]]\n",
      "\n",
      " [[1 1 1 1]\n",
      "  [1 1 1 1]\n",
      "  [1 1 1 1]]]\n",
      "Identity = [[1. 0. 0. 0.]\n",
      " [0. 1. 0. 0.]\n",
      " [0. 0. 1. 0.]]\n",
      "Empty = [[ 4.73638733e+240 -3.54676743e+145]]\n",
      "Empty filled = [[2. 2.]]\n",
      "x_arange = [0 1 2 3]\n",
      "x_linspace = [0.   1.25 2.5  3.75 5.  ]\n"
     ]
    }
   ],
   "source": [
    "x = np.zeros((3, 4)) # нулевой массив размера 3x4\n",
    "y = np.ones((2, 3, 4), dtype=np.int64) # трехмерный массив из единиц\n",
    "v = np.eye(3, 4) # матрица с единицей на главной диагонали\n",
    "u = np.empty([1,2]) # пустой вектор - заполняется тем, что уже было в ячейках памяти. Очень быстрая функция\n",
    "print(f'Zeros = {x}\\nOnes = {y}\\nIdentity = {v}\\nEmpty = {u}')\n",
    "u.fill(2)\n",
    "print(f'Empty filled = {u}')\n",
    "xa = np.arange(4) # аналог range\n",
    "xl = np.linspace(0, 5, 5) # делим отрезок на n-1 равных частей\n",
    "print(f'x_arange = {xa}\\nx_linspace = {xl}')"
   ]
  },
  {
   "cell_type": "markdown",
   "metadata": {},
   "source": [
    "![](Python04-Numpy_extra/scalar_vector_matrix_tensor.jpeg) "
   ]
  },
  {
   "cell_type": "markdown",
   "metadata": {},
   "source": [
    "* Преобразовать обратно в Python-список можно с помощью функции `tolist`"
   ]
  },
  {
   "cell_type": "code",
   "execution_count": 6,
   "metadata": {},
   "outputs": [
    {
     "name": "stdout",
     "output_type": "stream",
     "text": [
      "a = [[1. 0. 0. 0.]\n",
      " [0. 1. 0. 0.]\n",
      " [0. 0. 1. 0.]], type = <class 'numpy.ndarray'>\n",
      "a_list = [[1.0, 0.0, 0.0, 0.0], [0.0, 1.0, 0.0, 0.0], [0.0, 0.0, 1.0, 0.0]], type = <class 'list'>\n"
     ]
    }
   ],
   "source": [
    "print(f'a = {v}, type = {type(v)}')\n",
    "v_list = v.tolist()\n",
    "print(f'a_list = {v_list}, type = {type(v_list)}')"
   ]
  },
  {
   "cell_type": "markdown",
   "metadata": {},
   "source": [
    "* Преобразование типа: `astype`"
   ]
  },
  {
   "cell_type": "code",
   "execution_count": 7,
   "metadata": {
    "scrolled": true
   },
   "outputs": [
    {
     "name": "stdout",
     "output_type": "stream",
     "text": [
      "a = [1.   2.   3.99], type = float32\n",
      "a.astype(int32) = [1 2 3], type = int32\n"
     ]
    }
   ],
   "source": [
    "a_f = np.array([1, 2, 3.99], dtype=np.float32)\n",
    "a_i = a_f.astype(np.int32)\n",
    "print(f'a = {a_f}, type = {a_f.dtype}')\n",
    "print(f'a.astype(int32) = {a_i}, type = {a_i.dtype}')"
   ]
  },
  {
   "cell_type": "markdown",
   "metadata": {},
   "source": [
    "### Метрики размера массива\n",
    "* В Numpy существует целый ряд характеристик размера массива\n",
    "    * `.shape`: количество элементов по каждой из размерностей\n",
    "    * `len()`: количество элементов в первой (\"внешней\") размерности\n",
    "    * `.ndim`: размерность\n",
    "    * `.size`: полное количество элементов (объем)\n",
    "    \n",
    "Обратите внимание, что все, кроме `len()` - поля (не методы)!"
   ]
  },
  {
   "cell_type": "code",
   "execution_count": 8,
   "metadata": {},
   "outputs": [
    {
     "name": "stdout",
     "output_type": "stream",
     "text": [
      "c = [[[1.5 2.  3. ]\n",
      "  [4.  5.  6. ]]\n",
      "\n",
      " [[3.  2.  1. ]\n",
      "  [4.  5.  6. ]]]\n",
      "Shape = (2, 2, 3), Length = 2, NDim = 3, Size = 12\n"
     ]
    }
   ],
   "source": [
    "print(f'c = {c}')\n",
    "print(f\"Shape = {c.shape}, Length = {len(c)}, NDim = {c.ndim}, Size = {c.size}\")"
   ]
  },
  {
   "cell_type": "markdown",
   "metadata": {},
   "source": [
    "По первой размерности массива можно итерировать:"
   ]
  },
  {
   "cell_type": "code",
   "execution_count": 9,
   "metadata": {},
   "outputs": [
    {
     "name": "stdout",
     "output_type": "stream",
     "text": [
      "0:\n",
      "[[1.5 2.  3. ]\n",
      " [4.  5.  6. ]]\n",
      "1:\n",
      "[[3. 2. 1.]\n",
      " [4. 5. 6.]]\n"
     ]
    }
   ],
   "source": [
    "for i, c_sub in enumerate(c):\n",
    "    print(f\"{i}:\")\n",
    "    print(c_sub)"
   ]
  },
  {
   "cell_type": "markdown",
   "metadata": {},
   "source": [
    "### Операции над массивами (линейная алгебра и геометрия)\n",
    "* Поэлементные арифметические операции выполняются с помощью переопределенных операторов `+ - * /`"
   ]
  },
  {
   "cell_type": "markdown",
   "metadata": {},
   "source": [
    "* Операции со **скалярным** операндом: операнд копируется во все ячейки матрицы ровно того же размера, что и матричный операнд, после чего происходит поэлементное действие"
   ]
  },
  {
   "cell_type": "code",
   "execution_count": 10,
   "metadata": {},
   "outputs": [
    {
     "name": "stdout",
     "output_type": "stream",
     "text": [
      "a = [1 2 3]\n",
      "a*3 = [3 6 9]\n"
     ]
    }
   ],
   "source": [
    "print(f'a = {a}')\n",
    "print(f'a*3 = {a*3}')"
   ]
  },
  {
   "cell_type": "markdown",
   "metadata": {},
   "source": [
    "![](Python04-Numpy_extra/np_multiply_broadcasting.png)"
   ]
  },
  {
   "cell_type": "markdown",
   "metadata": {},
   "source": [
    "* Операции с **матричными** операндами: оба должны иметь одинаковые размерности (кроме случая *броадкастинга* - см. далее)"
   ]
  },
  {
   "cell_type": "code",
   "execution_count": 11,
   "metadata": {},
   "outputs": [
    {
     "name": "stdout",
     "output_type": "stream",
     "text": [
      "a1 = [[1 2]\n",
      " [3 4]], shape=(2, 2)\n",
      "a2 = [[5 6]\n",
      " [7 8]], shape=(2, 2)\n",
      "a1 + a2 = [[ 6  8]\n",
      " [10 12]], shape=(2, 2)\n"
     ]
    }
   ],
   "source": [
    "a1 = np.array([[1, 2], [3, 4]])\n",
    "a2 = np.array([[5, 6], [7, 8]])\n",
    "a12 = a1 + a2\n",
    "print(f'a1 = {a1}, shape={a1.shape}\\na2 = {a2}, shape={a2.shape}')\n",
    "print(f'a1 + a2 = {a12}, shape={a12.shape}')"
   ]
  },
  {
   "cell_type": "markdown",
   "metadata": {},
   "source": [
    "![](Python04-Numpy_extra/np_sub_mult_divide.png)"
   ]
  },
  {
   "cell_type": "markdown",
   "metadata": {},
   "source": [
    "* Главная матричная операция - умножение, выполняется с помощью функции `matmul` либо `@`"
   ]
  },
  {
   "cell_type": "code",
   "execution_count": 12,
   "metadata": {},
   "outputs": [
    {
     "name": "stdout",
     "output_type": "stream",
     "text": [
      "A = [[1. 1. 1.]\n",
      " [1. 1. 1.]]\n",
      "x = [1. 1. 1.]\n",
      "A*x (matmul) = [3. 3.], A*x (@) = [3. 3.]\n"
     ]
    }
   ],
   "source": [
    "x = np.ones((3)) # вектор размера 3\n",
    "A = np.ones((2, 3)) # матрица размера 2x3\n",
    "Ax = np.matmul(A, x) # результат - вектор размера 2\n",
    "Ax2 = A @ x\n",
    "print(f'A = {A}\\nx = {x}\\nA*x (matmul) = {Ax}, A*x (@) = {Ax2}')"
   ]
  },
  {
   "cell_type": "markdown",
   "metadata": {},
   "source": [
    "* Скалярное произведение двух векторов: `dot`"
   ]
  },
  {
   "cell_type": "code",
   "execution_count": 13,
   "metadata": {},
   "outputs": [
    {
     "name": "stdout",
     "output_type": "stream",
     "text": [
      "a1 = [1 2 3], a2 = [3 2 1], (a1, a2) = 10\n"
     ]
    }
   ],
   "source": [
    "a1 = np.array([1, 2, 3])\n",
    "a2 = np.array([3, 2, 1])\n",
    "a12 = np.dot(a1, a2)\n",
    "print(f'a1 = {a1}, a2 = {a2}, (a1, a2) = {a12}')"
   ]
  },
  {
   "cell_type": "markdown",
   "metadata": {},
   "source": [
    "* Также часто применяется транспонирование матрицы: `.T`"
   ]
  },
  {
   "cell_type": "code",
   "execution_count": 14,
   "metadata": {},
   "outputs": [
    {
     "name": "stdout",
     "output_type": "stream",
     "text": [
      "b = [[1.5 2.  3. ]\n",
      " [4.  5.  6. ]]\n",
      "b.T = [[1.5 4. ]\n",
      " [2.  5. ]\n",
      " [3.  6. ]]\n"
     ]
    }
   ],
   "source": [
    "print(f'b = {b}')\n",
    "print(f'b.T = {b.T}') # транспонируем"
   ]
  },
  {
   "cell_type": "markdown",
   "metadata": {},
   "source": [
    "![](Python04-Numpy_extra/np_transposing_reshaping.png)"
   ]
  },
  {
   "cell_type": "markdown",
   "metadata": {},
   "source": [
    "* Обращение матрицы происходит с помощью функции `linalg.inv()`\n",
    "* А детерминант - с помощью `linalg.det()`"
   ]
  },
  {
   "cell_type": "code",
   "execution_count": 15,
   "metadata": {},
   "outputs": [
    {
     "name": "stdout",
     "output_type": "stream",
     "text": [
      "A = [[1 2]\n",
      " [3 4]]\n",
      "A^(-1) = [[-2.   1. ]\n",
      " [ 1.5 -0.5]]\n",
      "det(A) = -2.0000000000000004\n",
      "A * A^(-1) = [[1.00000000e+00 1.11022302e-16]\n",
      " [0.00000000e+00 1.00000000e+00]]\n"
     ]
    }
   ],
   "source": [
    "matr = np.array([[1, 2], [3, 4]])\n",
    "matr_inv = np.linalg.inv(matr)\n",
    "matr_det = np.linalg.det(matr)\n",
    "print(f'A = {matr}')\n",
    "print(f'A^(-1) = {matr_inv}')\n",
    "print(f'det(A) = {matr_det}')\n",
    "print(f'A * A^(-1) = {np.matmul(matr, matr_inv)}')"
   ]
  },
  {
   "cell_type": "markdown",
   "metadata": {},
   "source": [
    "* А систему линейных уравнений можно решить с помощью `linalg.solve()`"
   ]
  },
  {
   "cell_type": "code",
   "execution_count": 16,
   "metadata": {},
   "outputs": [
    {
     "name": "stdout",
     "output_type": "stream",
     "text": [
      "A*x = b\n",
      "A = [[1 2]\n",
      " [3 4]]\n",
      "b = [1 1]\n",
      "=> x = [-1.  1.]\n",
      "Check: A*x = [1. 1.] = b = [1 1]\n"
     ]
    }
   ],
   "source": [
    "svob = np.array([1, 1])\n",
    "x = np.linalg.solve(matr, svob)\n",
    "print(f'A*x = b\\nA = {matr}\\nb = {svob}\\n=> x = {x}')\n",
    "print(f'Check: A*x = {np.matmul(matr, x)} = b = {svob}')"
   ]
  },
  {
   "cell_type": "markdown",
   "metadata": {},
   "source": [
    "* Можно использовать тригонометрические функции (например, `sin`, `cos`) и разные константы (например, `np.pi`)\n",
    "* То же самое и со степенными (`exp`, `log`) и константами (`np.e`)"
   ]
  },
  {
   "cell_type": "code",
   "execution_count": 17,
   "metadata": {},
   "outputs": [
    {
     "name": "stdout",
     "output_type": "stream",
     "text": [
      "pi = 3.141592653589793, sin(pi) = 1.2246467991473532e-16, cos(pi) = -1.0\n",
      "e = 2.718281828459045, exp(1) = 2.718281828459045, log(e) = 1.0\n"
     ]
    }
   ],
   "source": [
    "pi = np.pi\n",
    "e = np.e\n",
    "print(f'pi = {pi}, sin(pi) = {np.sin(pi)}, cos(pi) = {np.cos(pi)}')\n",
    "print(f'e = {e}, exp(1) = {np.exp(1)}, log(e) = {np.log(e)}')"
   ]
  },
  {
   "cell_type": "markdown",
   "metadata": {},
   "source": [
    "* Векторное произведение (вектор, перпендикулярный двум исходным) с помощью `cross`"
   ]
  },
  {
   "cell_type": "code",
   "execution_count": 18,
   "metadata": {},
   "outputs": [
    {
     "name": "stdout",
     "output_type": "stream",
     "text": [
      "a1 = [1 0 0], a2 = [0 0 1], cross = [ 0 -1  0]\n"
     ]
    }
   ],
   "source": [
    "a1 = np.array([1,0,0])\n",
    "a2 = np.array([0,0,1])\n",
    "a_cross = np.cross(a1, a2)\n",
    "print(f'a1 = {a1}, a2 = {a2}, cross = {a_cross}')"
   ]
  },
  {
   "cell_type": "markdown",
   "metadata": {},
   "source": [
    "* Декартово (внешнее) произведение векторов размерности (m,) и (n,) - это матрица (m,n). Делается с помощью `outer`"
   ]
  },
  {
   "cell_type": "code",
   "execution_count": 19,
   "metadata": {},
   "outputs": [
    {
     "name": "stdout",
     "output_type": "stream",
     "text": [
      "a1 = [1 2], shape=(2,), a2 = [3 4 5], shape=(3,)\n",
      "outer = [[ 3  4  5]\n",
      " [ 6  8 10]], shape=(2, 3)\n"
     ]
    }
   ],
   "source": [
    "a1 = np.array([1,2])\n",
    "a2 = np.array([3,4,5])\n",
    "a_outer = np.outer(a1, a2)\n",
    "print(f'a1 = {a1}, shape={a1.shape}, a2 = {a2}, shape={a2.shape}')\n",
    "print(f'outer = {a_outer}, shape={a_outer.shape}')"
   ]
  },
  {
   "cell_type": "markdown",
   "metadata": {},
   "source": [
    "### Broadcasting (бродкастинг)\n",
    "\n",
    "Бродкастинг позволяет выполнять операции с аргуметами разных размерностей, неявно приводя их к одной.\n",
    "\n",
    "1. Если размерность `ndim` массивов не совпадает, то все недостающие внешние (первые) размерности меньшего массива становятся равными 1\n",
    "2. Если соответствующие размерности `shape` массивов не совпадают, но при этом в одном массиве это значение равно 1, то оно увеличивается до размерности второго простым копированием значений в этой размерности\n",
    "    * В противном случае будет ошибка `ValueError: operands could not be broadcast together` "
   ]
  },
  {
   "cell_type": "code",
   "execution_count": 20,
   "metadata": {},
   "outputs": [
    {
     "name": "stdout",
     "output_type": "stream",
     "text": [
      "a = [1 2 3]\n",
      "a.shape = (3,)\n",
      "b = [[1.5 2.  3. ]\n",
      " [4.  5.  6. ]]\n",
      "b.shape = (2, 3)\n",
      "b1 = [[1.5 2. ]\n",
      " [4.  5. ]]\n",
      "b1.shape = (2, 2)\n"
     ]
    }
   ],
   "source": [
    "a = np.array([1, 2, 3]) # shape = 3\n",
    "b = np.array([[1.5, 2, 3], [4, 5, 6]]) # shape = (2,3)\n",
    "b1 = np.array([[1.5, 2], [4, 5]]) # shape = (2,2)\n",
    "\n",
    "print(f'a = {a}\\na.shape = {a.shape}')\n",
    "print(f'b = {b}\\nb.shape = {b.shape}')\n",
    "print(f'b1 = {b1}\\nb1.shape = {b1.shape}')"
   ]
  },
  {
   "cell_type": "markdown",
   "metadata": {},
   "source": [
    "При арифметической операции `a+b` мы имеем: `a` размерности 3, `b` размерности 2x3. Дополняем внешние размерности для `a`: 1x3. Теперь по первой размерности у `a` имеем 1, а у `b` - 3. Теперь копированием \"раздуваем\" массив `a` до размерности 2x3. И уже теперь выполняем поэлементное сложение."
   ]
  },
  {
   "cell_type": "code",
   "execution_count": 21,
   "metadata": {},
   "outputs": [
    {
     "name": "stdout",
     "output_type": "stream",
     "text": [
      "a + b = [[2.5 4.  6. ]\n",
      " [5.  7.  9. ]]\n"
     ]
    }
   ],
   "source": [
    "ab = a + b # После \"бродкаста\" складываем a по очереди с первой и второй строкой b\n",
    "print(f'a + b = {ab}') "
   ]
  },
  {
   "cell_type": "markdown",
   "metadata": {},
   "source": [
    "![](Python04-Numpy_extra/np_matrix_broadcasting.png)"
   ]
  },
  {
   "cell_type": "code",
   "execution_count": 22,
   "metadata": {},
   "outputs": [
    {
     "ename": "ValueError",
     "evalue": "operands could not be broadcast together with shapes (3,) (2,2) ",
     "output_type": "error",
     "traceback": [
      "\u001b[1;31m---------------------------------------------------------------------------\u001b[0m",
      "\u001b[1;31mValueError\u001b[0m                                Traceback (most recent call last)",
      "Input \u001b[1;32mIn [22]\u001b[0m, in \u001b[0;36m<cell line: 1>\u001b[1;34m()\u001b[0m\n\u001b[1;32m----> 1\u001b[0m ab1 \u001b[38;5;241m=\u001b[39m \u001b[43ma\u001b[49m\u001b[43m \u001b[49m\u001b[38;5;241;43m+\u001b[39;49m\u001b[43m \u001b[49m\u001b[43mb1\u001b[49m\n",
      "\u001b[1;31mValueError\u001b[0m: operands could not be broadcast together with shapes (3,) (2,2) "
     ]
    }
   ],
   "source": [
    "ab1 = a + b1"
   ]
  },
  {
   "cell_type": "markdown",
   "metadata": {},
   "source": [
    "### Индексация и срезы"
   ]
  },
  {
   "cell_type": "markdown",
   "metadata": {},
   "source": [
    "* К элементу `(i1, i2,...,in)` `n`-мерного массива `a` можно обратиться тремя способами:\n",
    "    * `a[i1][i2]...[in]`\n",
    "    * `a[i1, i2,...,in]`\n",
    "    * `a[(i1, i2,...,in)]`\n",
    "* Если массив имеет размерность `n`, а при его вызове указывается только `k < n` координат, то результатом будет `(n-k)`-мерный массив\n",
    "  * `0`-мерный массив - это точка (единственное значение)\n",
    "* Указание символа `:` вместо координаты  означает \"взять все элементы в этой размерности\"\n",
    "  * Так же, как и с обычными списками, можно указывать диапазон при срезе: `n1:n2:step` (а если `::-step`, `step`>0, то будем идти в обратном направлении)\n",
    "* Указание символа `...` вместо координаты  означает \"заменить все остальные координаты на `:`\""
   ]
  },
  {
   "cell_type": "code",
   "execution_count": 23,
   "metadata": {},
   "outputs": [
    {
     "name": "stdout",
     "output_type": "stream",
     "text": [
      "b = [[1.5 2.  3. ]\n",
      " [4.  5.  6. ]]\n",
      "b[1][2] = 6.0\n",
      "b[1, 2] = 6.0\n",
      "b[(1, 2)] = 6.0\n",
      "b[0] = [1.5 2.  3. ]\n",
      "b[-1] = [4. 5. 6.]\n",
      "b[:, 1] = [2. 5.]\n",
      "b[0, ::-2] = [3.  1.5]\n",
      "c = [[[1.5 2.  3. ]\n",
      "  [4.  5.  6. ]]\n",
      "\n",
      " [[3.  2.  1. ]\n",
      "  [4.  5.  6. ]]]\n",
      "c[...,2] = [[3. 6.]\n",
      " [1. 6.]]\n"
     ]
    }
   ],
   "source": [
    "print(f'b = {b}')\n",
    "# Возвращаем единственный элемент\n",
    "print(f'b[1][2] = {b[1][2]}')\n",
    "print(f'b[1, 2] = {b[1, 2]}')\n",
    "print(f'b[(1, 2)] = {b[(1, 2)]}')\n",
    "# Возвращаем массив \n",
    "print(f'b[0] = {b[0]}')\n",
    "print(f'b[-1] = {b[-1]}') # Последний элемент по первой размерности\n",
    "print(f'b[:, 1] = {b[:, 1]}') # Срез\n",
    "print(f'b[0, ::-2] = {b[0, ::-2]}') # Срез\n",
    "\n",
    "print(f'c = {c}')\n",
    "print(f'c[...,2] = {c[...,2]}')"
   ]
  },
  {
   "cell_type": "markdown",
   "metadata": {},
   "source": [
    "![](Python04-Numpy_extra/np_indexing.png)"
   ]
  },
  {
   "cell_type": "markdown",
   "metadata": {},
   "source": [
    "![](Python04-Numpy_extra/np_matrix_indexing.png)"
   ]
  },
  {
   "cell_type": "markdown",
   "metadata": {},
   "source": [
    "* Логическая индексация: `a[a_bool]`, где `a_bool` - массив типа `bool` такого же `shape`, как и `a`. На выходе будет одномерный массив тех элементов `a`, соответствующие координаты которых в `a_bool` заняты `True`\n",
    "* Списковая индексация: `b[x, y]`, где `x, y` - обычные списки одинаковой длины `n`, означает одномерный массив `c = [b[x[0], y[0]], b[x[1], y[1]], ..., b[x[n-1], y[n-1]]]`"
   ]
  },
  {
   "cell_type": "code",
   "execution_count": 24,
   "metadata": {},
   "outputs": [
    {
     "name": "stdout",
     "output_type": "stream",
     "text": [
      "b = [[1.5 2.  3. ]\n",
      " [4.  5.  6. ]]\n",
      "b[b > 2] = [3. 4. 5. 6.]\n",
      "x = [1, 0], y = [1, 2], b[x, y] = [5. 3.]\n"
     ]
    }
   ],
   "source": [
    "print(f'b = {b}')\n",
    "print(f'b[b > 2] = {b[b >2]}')\n",
    "x = [1, 0]\n",
    "y = [1, 2]\n",
    "print(f'x = {x}, y = {y}, b[x, y] = {b[x, y]}')"
   ]
  },
  {
   "cell_type": "markdown",
   "metadata": {},
   "source": [
    "### О преобразовании размерностей"
   ]
  },
  {
   "cell_type": "markdown",
   "metadata": {},
   "source": [
    "* Все вектора по умолчанию имеют размерность 1, то есть их shape=(n,). Они не являются ни вектор-строками shape=(1,n), ни вектор-столбцами shape=(n,1), поскольку это уже матрицы.\n",
    "\n",
    "* Часто при матричных операциях вектора сами преобразуются в нужный формат (1,n) или (n,1) - см. раздел *Броадкастинг*, но иногда это нужно сделать специально с помощью функции `reshape` (которая может поменять размерность для любых входных массивов)."
   ]
  },
  {
   "cell_type": "code",
   "execution_count": 25,
   "metadata": {},
   "outputs": [
    {
     "name": "stdout",
     "output_type": "stream",
     "text": [
      "a = [1 2 3], a.shape = (3,)\n",
      "a_row = \n",
      "[[1 2 3]]\n",
      "a_row.shape = (1, 3)\n",
      "a_col = \n",
      "[[1]\n",
      " [2]\n",
      " [3]]\n",
      "a_col.shape = (3, 1)\n"
     ]
    }
   ],
   "source": [
    "a = np.array([1, 2, 3])\n",
    "print(f'a = {a}, a.shape = {a.shape}')\n",
    "a_row = np.reshape(a, (1, 3)) # новый размер (1, 3): вектор-строка\n",
    "a_col = np.reshape(a, (3, 1)) # новый размер (3, 1): вектор-столбец\n",
    "print(f'a_row = \\n{a_row}\\na_row.shape = {a_row.shape}')\n",
    "print(f'a_col = \\n{a_col}\\na_col.shape = {a_col.shape}')"
   ]
  },
  {
   "cell_type": "markdown",
   "metadata": {},
   "source": [
    "* `reshape` просто переупорядочивает данные, раскладывая их в массив другой размерности\n",
    "  * Вместо одной из размерностей для `reshape` можно написать `-1`, тогда она будет вычислена автоматически (как size / произведение всех остальных размерностей)"
   ]
  },
  {
   "cell_type": "code",
   "execution_count": 26,
   "metadata": {},
   "outputs": [
    {
     "name": "stdout",
     "output_type": "stream",
     "text": [
      "a = [[1 2 3]\n",
      " [4 5 6]], shape=(2, 3)\n",
      "reshape = [[1 2]\n",
      " [3 4]\n",
      " [5 6]], shape=(3, 2)\n"
     ]
    }
   ],
   "source": [
    "a = np.array([[1, 2, 3], [4, 5, 6]])\n",
    "a_r = np.reshape(a, (3, -1)) # на место второй размерности будет подставлено 2*3 / 3 = 2\n",
    "print(f'a = {a}, shape={a.shape}')\n",
    "print(f'reshape = {a_r}, shape={a_r.shape}')"
   ]
  },
  {
   "cell_type": "markdown",
   "metadata": {},
   "source": [
    "* Также для добавления единичной размерности можно использовать: `np.newaxis` (алиас для `None`) и функцию `expand_dims`"
   ]
  },
  {
   "cell_type": "code",
   "execution_count": 27,
   "metadata": {},
   "outputs": [
    {
     "name": "stdout",
     "output_type": "stream",
     "text": [
      "b = [[1.5 2.  3. ]\n",
      " [4.  5.  6. ]], shape = (2, 3)\n",
      "3d b by newaxis = [[[1.5 2.  3. ]\n",
      "  [4.  5.  6. ]]], shape = (1, 2, 3)\n",
      "3d b by expand_dims = [[[1.5 2.  3. ]]\n",
      "\n",
      " [[4.  5.  6. ]]], shape = (2, 1, 3)\n"
     ]
    }
   ],
   "source": [
    "print(f'b = {b}, shape = {b.shape}')\n",
    "b_3d_1 = b[np.newaxis, ...]\n",
    "b_3d_2 = np.expand_dims(b, axis=1)\n",
    "print(f'3d b by newaxis = {b_3d_1}, shape = {b_3d_1.shape}')\n",
    "print(f'3d b by expand_dims = {b_3d_2}, shape = {b_3d_2.shape}')"
   ]
  },
  {
   "cell_type": "markdown",
   "metadata": {},
   "source": [
    "* Убрать же единичную размерность можно с помощью функции `squeeze`"
   ]
  },
  {
   "cell_type": "code",
   "execution_count": 28,
   "metadata": {},
   "outputs": [
    {
     "name": "stdout",
     "output_type": "stream",
     "text": [
      "3d b by expand_dims = [[[1.5 2.  3. ]]\n",
      "\n",
      " [[4.  5.  6. ]]], shape = (2, 1, 3)\n",
      "3d b after squeeze = [[1.5 2.  3. ]\n",
      " [4.  5.  6. ]], shape = (2, 3)\n"
     ]
    }
   ],
   "source": [
    "print(f'3d b by expand_dims = {b_3d_2}, shape = {b_3d_2.shape}')\n",
    "b_clear = np.squeeze(b_3d_2)\n",
    "print(f'3d b after squeeze = {b_clear}, shape = {b_clear.shape}')"
   ]
  },
  {
   "cell_type": "markdown",
   "metadata": {},
   "source": [
    "* Часто бывает важно \"вытянуть\" многомерный массив в одномерный - это делается с помощью функции `flatten`"
   ]
  },
  {
   "cell_type": "code",
   "execution_count": 29,
   "metadata": {},
   "outputs": [
    {
     "name": "stdout",
     "output_type": "stream",
     "text": [
      "b = [[1.5 2.  3. ]\n",
      " [4.  5.  6. ]], shape = (2, 3)\n",
      "b flatten = [1.5 2.  3.  4.  5.  6. ], shape = (6,)\n"
     ]
    }
   ],
   "source": [
    "print(f'b = {b}, shape = {b.shape}')\n",
    "b_flatten = b.flatten()\n",
    "print(f'b flatten = {b_flatten}, shape = {b_flatten.shape}')"
   ]
  },
  {
   "cell_type": "markdown",
   "metadata": {},
   "source": [
    "* Также может пригодиться операция перемешивания размерностей согласно заданному порядку - `transpose`"
   ]
  },
  {
   "cell_type": "code",
   "execution_count": 30,
   "metadata": {},
   "outputs": [
    {
     "name": "stdout",
     "output_type": "stream",
     "text": [
      "b = [[[1.5 2.  3. ]]\n",
      "\n",
      " [[4.  5.  6. ]]], shape = (2, 1, 3)\n",
      "b transposed = [[[1.5]\n",
      "  [4. ]]\n",
      "\n",
      " [[2. ]\n",
      "  [5. ]]\n",
      "\n",
      " [[3. ]\n",
      "  [6. ]]], shape = (3, 2, 1)\n"
     ]
    }
   ],
   "source": [
    "print(f'b = {b_3d_2}, shape = {b_3d_2.shape}')\n",
    "b_tr = b_3d_2.transpose((2, 0, 1))\n",
    "print(f'b transposed = {b_tr}, shape = {b_tr.shape}')"
   ]
  },
  {
   "cell_type": "markdown",
   "metadata": {},
   "source": [
    "### Конкатенация и разделение массивов"
   ]
  },
  {
   "cell_type": "markdown",
   "metadata": {},
   "source": [
    "* Обычная конкатенация матриц происходит с помощью функций `hstack` (по горизонтали) и `vstack` (по вертикали)\n",
    "  * Для более экзотических случаев конкатенации по *существующей* размерности см. `concatenate`"
   ]
  },
  {
   "cell_type": "code",
   "execution_count": 31,
   "metadata": {},
   "outputs": [
    {
     "name": "stdout",
     "output_type": "stream",
     "text": [
      "a1 = [[1 2]\n",
      " [3 4]]\n",
      "a2 = [[5 6]\n",
      " [7 8]]\n",
      "hstack(a1, a2) = [[1 2 5 6]\n",
      " [3 4 7 8]]\n",
      "vstack(a1, a2) = [[1 2]\n",
      " [3 4]\n",
      " [5 6]\n",
      " [7 8]]\n"
     ]
    }
   ],
   "source": [
    "arr1 = np.array([[1, 2], [3, 4]])\n",
    "arr2 = np.array([[5, 6], [7, 8]])\n",
    "print(f'a1 = {arr1}\\na2 = {arr2}')\n",
    "arr_hor = np.hstack((arr1, arr2)) # Горизонтальная конкатенация - по второй размерности\n",
    "print(f'hstack(a1, a2) = {arr_hor}')\n",
    "arr_ver = np.vstack((arr1, arr2)) # Вертикальная конкатенация - по первой размерности\n",
    "print(f'vstack(a1, a2) = {arr_ver}')"
   ]
  },
  {
   "cell_type": "markdown",
   "metadata": {},
   "source": [
    "* Для упрощения помещения векторов в матрицы существуют функции `column_stack` и `row_stack`"
   ]
  },
  {
   "cell_type": "code",
   "execution_count": 32,
   "metadata": {},
   "outputs": [
    {
     "name": "stdout",
     "output_type": "stream",
     "text": [
      "v1 = [1 2], v2 = [3 4]\n",
      "column_stack(v1, v2) = [[1 3]\n",
      " [2 4]]\n",
      "hstack = [[1 3]\n",
      " [2 4]]\n",
      "row_stack(v1, v2) = [[1 2]\n",
      " [3 4]]\n",
      "vstack = [[1 2]\n",
      " [3 4]]\n",
      "hstack = [1 2 3 4]\n",
      "vstack = [[1 2]\n",
      " [3 4]]\n"
     ]
    }
   ],
   "source": [
    "v1 = np.array([1, 2])\n",
    "v2 = np.array([3, 4])\n",
    "print(f'v1 = {v1}, v2 = {v2}')\n",
    "v_col = np.column_stack((v1, v2)) # \n",
    "v_col2 = np.hstack((v1[:, np.newaxis], v2[:, np.newaxis]))\n",
    "print(f'column_stack(v1, v2) = {v_col}\\nhstack = {v_col2}')\n",
    "v_row = np.row_stack((v1, v2)) \n",
    "v_row2 = np.vstack((v1[np.newaxis, :], v2[np.newaxis, :]))\n",
    "print(f'row_stack(v1, v2) = {v_row}\\nvstack = {v_row2}')\n",
    "\n",
    "v_hstack = np.hstack((v1, v2))\n",
    "v_vstack = np.vstack((v1, v2))\n",
    "print(f'hstack = {v_hstack}\\nvstack = {v_vstack}')"
   ]
  },
  {
   "cell_type": "markdown",
   "metadata": {},
   "source": [
    "* Можно конкатенировать по *новой* размерности с помощью функции `stack`"
   ]
  },
  {
   "cell_type": "code",
   "execution_count": 33,
   "metadata": {},
   "outputs": [
    {
     "name": "stdout",
     "output_type": "stream",
     "text": [
      "a1 = [[1 2 1]\n",
      " [3 4 3]], shape=(2, 3)\n",
      "a2 = [[5 6 7]\n",
      " [7 8 9]], shape=(2, 3)\n",
      "stack along new axis=0: [[[1 2 1]\n",
      "  [3 4 3]]\n",
      "\n",
      " [[5 6 7]\n",
      "  [7 8 9]]], shape=(2, 2, 3)\n"
     ]
    }
   ],
   "source": [
    "arr1 = np.array([[1, 2, 1], [3, 4, 3]])\n",
    "arr2 = np.array([[5, 6, 7], [7, 8, 9]])\n",
    "print(f'a1 = {arr1}, shape={arr1.shape}\\na2 = {arr2}, shape={arr2.shape}')\n",
    "arr_stack_0 = np.stack((arr1, arr2), axis=0)\n",
    "print(f'stack along new axis=0: {arr_stack_0}, shape={arr_stack_0.shape}')"
   ]
  },
  {
   "cell_type": "markdown",
   "metadata": {},
   "source": [
    "* Точно так же можно и делить вдоль горизонтальной или вертикальной размерности с помощью `hsplit` / `vsplit`"
   ]
  },
  {
   "cell_type": "code",
   "execution_count": 34,
   "metadata": {},
   "outputs": [
    {
     "name": "stdout",
     "output_type": "stream",
     "text": [
      "u = [[1 2]\n",
      " [3 4]]\n",
      "hsplit: u1 = [[1]\n",
      " [3]], u2 = [[2]\n",
      " [4]]\n",
      "vsplit: u1 = [[1 2]], u2 = [[3 4]]\n"
     ]
    }
   ],
   "source": [
    "u = np.array([[1, 2], [3, 4]])\n",
    "u_hor1, u_hor2 = np.hsplit(u, 2) # Делим на 2 равные части по горизонтали\n",
    "u_ver1, u_ver2 = np.vsplit(u, 2) # Делим на 2 равные части по вертикали\n",
    "\n",
    "print(f'u = {u}')\n",
    "print(f'hsplit: u1 = {u_hor1}, u2 = {u_hor2}')\n",
    "print(f'vsplit: u1 = {u_ver1}, u2 = {u_ver2}')"
   ]
  },
  {
   "cell_type": "markdown",
   "metadata": {},
   "source": [
    "* Вдоль произвольной размерности `axis` делим с помощью функции `split`"
   ]
  },
  {
   "cell_type": "code",
   "execution_count": 35,
   "metadata": {},
   "outputs": [
    {
     "name": "stdout",
     "output_type": "stream",
     "text": [
      "a = [[[1 2 1]\n",
      "  [3 4 3]]\n",
      "\n",
      " [[5 6 7]\n",
      "  [7 8 9]]], shape=(2, 2, 3)\n",
      "a1 = [[[1 2 1]\n",
      "  [3 4 3]]], shape=(1, 2, 3)\n",
      "a2 = [[[5 6 7]\n",
      "  [7 8 9]]], shape=(1, 2, 3)\n"
     ]
    }
   ],
   "source": [
    "print(f'a = {arr_stack_0}, shape={arr_stack_0.shape}')\n",
    "a_s1, a_s2 = np.split(arr_stack_0, 2, axis=0)\n",
    "print(f'a1 = {a_s1}, shape={a_s1.shape}\\na2 = {a_s2}, shape={a_s2.shape}')"
   ]
  },
  {
   "cell_type": "markdown",
   "metadata": {},
   "source": [
    "* Иногда нужно объединить (для индексации) диапазон через `:` вместе с обычными списками и скалярными значениями. Это делается с помощью выражения `np.r_[]`"
   ]
  },
  {
   "cell_type": "code",
   "execution_count": 36,
   "metadata": {},
   "outputs": [
    {
     "name": "stdout",
     "output_type": "stream",
     "text": [
      "r_ = [ 0  1  2  4  6 11 12 33 44]\n"
     ]
    }
   ],
   "source": [
    "arr_r = np.r_[0, 1, 2:7:2, np.array([11, 12]), [33, 44]]\n",
    "print(f'r_ = {arr_r}')"
   ]
  },
  {
   "cell_type": "markdown",
   "metadata": {},
   "source": [
    "* Ну и можно повторять каждый элемент в массиве нужно число раз по выбранной размерности `axis` с помощью `repeat`"
   ]
  },
  {
   "cell_type": "code",
   "execution_count": 37,
   "metadata": {},
   "outputs": [
    {
     "name": "stdout",
     "output_type": "stream",
     "text": [
      "a = [[1 2]\n",
      " [3 4]]\n",
      "a x 3 along axis = 1: [[1 1 1 2 2 2]\n",
      " [3 3 3 4 4 4]]\n"
     ]
    }
   ],
   "source": [
    "q = np.array([[1, 2], [3, 4]])\n",
    "q_r = np.repeat(q, 3, axis=1)\n",
    "print(f'a = {q}')\n",
    "print(f'a x 3 along axis = 1: {q_r}')"
   ]
  },
  {
   "cell_type": "markdown",
   "metadata": {},
   "source": [
    "### О присваивании массивов"
   ]
  },
  {
   "cell_type": "markdown",
   "metadata": {},
   "source": [
    "* При присвоении новой переменной изначальный numpy-массив копируется по ссылке, поэтому, если будет изменен массив в новой переменной, то он точно так же изменится и в старой переменной.\n",
    "\n",
    "* Для того, чтобы этого не случалось, нужно копировать массив с помощью `copy`, и постоянно быть внимательным (половина проблем в Numpy - это как раз привязанность переменных к одному массиву. Вторая половина - неуменее работать с броадкастингом и следить за размерностью)."
   ]
  },
  {
   "cell_type": "code",
   "execution_count": 38,
   "metadata": {},
   "outputs": [
    {
     "name": "stdout",
     "output_type": "stream",
     "text": [
      "a_init = [1 2 3], a_assign = [1 2 3], the same: True\n",
      "a_init = [  1   2 111], a_assign = [  1   2 111]\n",
      "a_init = [  1   2 111], a_copy = [  1   2 222]\n"
     ]
    }
   ],
   "source": [
    "a_init = np.array([1, 2, 3])\n",
    "a_assign = a_init\n",
    "print(f'a_init = {a_init}, a_assign = {a_assign}, the same: {a_init is a_assign}')\n",
    "a_assign[2] = 111\n",
    "print(f'a_init = {a_init}, a_assign = {a_assign}')\n",
    "a_copy = a_init.copy()\n",
    "a_copy[2] = 222\n",
    "print(f'a_init = {a_init}, a_copy = {a_copy}')"
   ]
  },
  {
   "cell_type": "markdown",
   "metadata": {},
   "source": [
    "* Обычные срезы (получаемые с помощью `:` или `...`) - также передается по ссылке"
   ]
  },
  {
   "cell_type": "code",
   "execution_count": 39,
   "metadata": {},
   "outputs": [
    {
     "name": "stdout",
     "output_type": "stream",
     "text": [
      "a_init = [[1 2]\n",
      " [3 4]], a_assign = [2 4]\n",
      "a_init = [[  1 111]\n",
      " [  3   4]], a_assign = [111   4]\n",
      "a_init = [[  1 111]\n",
      " [  3   4]], a_assign = [3 4]\n",
      "a_init = [[  1 111]\n",
      " [222   4]], a_assign = [222   4]\n"
     ]
    }
   ],
   "source": [
    "a_init = np.array([[1, 2], [3, 4]])\n",
    "a_assign1 = a_init[:, 1]\n",
    "print(f'a_init = {a_init}, a_assign = {a_assign1}')\n",
    "a_assign1[0] = 111\n",
    "print(f'a_init = {a_init}, a_assign = {a_assign1}')\n",
    "a_assign2 = a_init[1]\n",
    "print(f'a_init = {a_init}, a_assign = {a_assign2}')\n",
    "a_assign2[0] = 222\n",
    "print(f'a_init = {a_init}, a_assign = {a_assign2}')"
   ]
  },
  {
   "cell_type": "markdown",
   "metadata": {},
   "source": [
    "### Полезные функции Numpy"
   ]
  },
  {
   "cell_type": "markdown",
   "metadata": {},
   "source": [
    "* Сортировка массива - функция `sort`\n",
    "* Индексы, используемые при сортировке - функция `argsort`"
   ]
  },
  {
   "cell_type": "code",
   "execution_count": 40,
   "metadata": {},
   "outputs": [
    {
     "name": "stdout",
     "output_type": "stream",
     "text": [
      "a = [2 3 1]\n",
      "a sorted = [1 2 3]\n",
      "ind for sort = [2 0 1]\n",
      "a[ind] = [1 2 3]\n"
     ]
    }
   ],
   "source": [
    "a_unsort = np.array([2, 3, 1])\n",
    "a_sort = np.sort(a_unsort)\n",
    "ind_sort = np.argsort(a_unsort)\n",
    "a_sort2 = a_unsort[ind_sort]\n",
    "print(f'a = {a_unsort}\\na sorted = {a_sort}\\nind for sort = {ind_sort}\\na[ind] = {a_sort2}')"
   ]
  },
  {
   "cell_type": "markdown",
   "metadata": {},
   "source": [
    "* Поиск уникальных элементов в массиве - `unique`, можно даже посмотреть на количество вхождений каждого элемента"
   ]
  },
  {
   "cell_type": "code",
   "execution_count": 41,
   "metadata": {},
   "outputs": [
    {
     "name": "stdout",
     "output_type": "stream",
     "text": [
      "a = [1 0 1 2 1 0 2 1 1 1 0], unique = [0 1 2], count = [3 6 2]\n"
     ]
    }
   ],
   "source": [
    "a_all = np.array([1, 0, 1, 2, 1, 0, 2, 1, 1, 1, 0])\n",
    "a_unique, a_count = np.unique(a_all, return_counts=True)\n",
    "print(f'a = {a_all}, unique = {a_unique}, count = {a_count}')"
   ]
  },
  {
   "cell_type": "markdown",
   "metadata": {},
   "source": [
    "* Развернуть массив задом наперед можно с помощью функции `flip`"
   ]
  },
  {
   "cell_type": "code",
   "execution_count": 42,
   "metadata": {},
   "outputs": [
    {
     "name": "stdout",
     "output_type": "stream",
     "text": [
      "a = [1 3 4 2 0], flip = [0 2 4 3 1]\n"
     ]
    }
   ],
   "source": [
    "a_forward = np.array([1, 3, 4, 2, 0])\n",
    "a_flip = np.flip(a_forward)\n",
    "print(f'a = {a_forward}, flip = {a_flip}')"
   ]
  },
  {
   "cell_type": "markdown",
   "metadata": {},
   "source": [
    "* Функция поиска ненулевых элементов - `argwhere`. Можно использовать как альтернативу логической индексации"
   ]
  },
  {
   "cell_type": "code",
   "execution_count": 43,
   "metadata": {},
   "outputs": [
    {
     "name": "stdout",
     "output_type": "stream",
     "text": [
      "a = [1 0 2 0 3 0 0]\n",
      "nonzero(a) = [[0]\n",
      " [2]\n",
      " [4]]\n",
      "a[non_zero_idx] = [[1]\n",
      " [2]\n",
      " [3]]\n"
     ]
    }
   ],
   "source": [
    "a_zero = np.array([1, 0, 2, 0, 3, 0, 0])\n",
    "a_nz = np.argwhere(a_zero)\n",
    "print(f'a = {a_zero}\\nnonzero(a) = {a_nz}')\n",
    "a_b2 = a_zero[a_nz]\n",
    "print(f'a[non_zero_idx] = {a_b2}')"
   ]
  },
  {
   "cell_type": "markdown",
   "metadata": {},
   "source": [
    "* Можно проверить на выполнение некоторого условия для всех `all` или хотя бы одного `any` элемента"
   ]
  },
  {
   "cell_type": "code",
   "execution_count": 44,
   "metadata": {},
   "outputs": [
    {
     "name": "stdout",
     "output_type": "stream",
     "text": [
      "a = [1 0 2 0 3 0 0], all(a > 0) = False, any(a > 0) = True\n"
     ]
    }
   ],
   "source": [
    "print(f'a = {a_zero}, all(a > 0) = {np.all(a_zero > 0)}, any(a > 0) = {np.any(a_zero > 0)}')"
   ]
  },
  {
   "cell_type": "markdown",
   "metadata": {},
   "source": [
    "### Агрегирующие функции"
   ]
  },
  {
   "cell_type": "markdown",
   "metadata": {},
   "source": [
    "* Экстремальные функции: `max`, `min`, а также соответственно `argmax` и `argmin`"
   ]
  },
  {
   "cell_type": "code",
   "execution_count": 45,
   "metadata": {},
   "outputs": [
    {
     "name": "stdout",
     "output_type": "stream",
     "text": [
      "b = [[1.5 2.  3. ]\n",
      " [4.  5.  6. ]], max = 6.0, argmax = 5, min = 1.5, argmin = 0\n"
     ]
    }
   ],
   "source": [
    "print(f'b = {b}, max = {b.max()}, argmax = {b.argmax()}, min = {b.min()}, argmin = {b.argmin()}')"
   ]
  },
  {
   "cell_type": "markdown",
   "metadata": {},
   "source": [
    "* Статистические функции: среднее `mean`, дисперсия `var` и среднеквадратичное отклонение `std`"
   ]
  },
  {
   "cell_type": "code",
   "execution_count": 46,
   "metadata": {},
   "outputs": [
    {
     "name": "stdout",
     "output_type": "stream",
     "text": [
      "b = [[1.5 2.  3. ]\n",
      " [4.  5.  6. ]], mean = 3.5833333333333335, variance = 2.534722222222222, std = 1.5920810978785667\n"
     ]
    }
   ],
   "source": [
    "print(f'b = {b}, mean = {b.mean()}, variance = {b.var()}, std = {b.std()}')"
   ]
  },
  {
   "cell_type": "markdown",
   "metadata": {},
   "source": [
    "* Агрегирующие функции: сумма `sum` и произведение `prod`"
   ]
  },
  {
   "cell_type": "code",
   "execution_count": 47,
   "metadata": {},
   "outputs": [
    {
     "name": "stdout",
     "output_type": "stream",
     "text": [
      "b = [[1.5 2.  3. ]\n",
      " [4.  5.  6. ]], sum = 21.5, product = 1080.0\n"
     ]
    }
   ],
   "source": [
    "print(f'b = {b}, sum = {b.sum()}, product = {b.prod()}')"
   ]
  },
  {
   "cell_type": "markdown",
   "metadata": {},
   "source": [
    "* Также все эти функции можно применять вдоль какой-нибудь из размерностей с помощью параметра `axis`"
   ]
  },
  {
   "cell_type": "code",
   "execution_count": 48,
   "metadata": {},
   "outputs": [
    {
     "name": "stdout",
     "output_type": "stream",
     "text": [
      "b = [[1.5 2.  3. ]\n",
      " [4.  5.  6. ]], sum_0 = [5.5 7.  9. ], product_1 = [  9. 120.]\n"
     ]
    }
   ],
   "source": [
    "print(f'b = {b}, sum_0 = {b.sum(axis=0)}, product_1 = {b.prod(axis=1)}')"
   ]
  },
  {
   "cell_type": "markdown",
   "metadata": {},
   "source": [
    "![](Python04-Numpy_extra/np_matrix_aggregation_row.png)"
   ]
  },
  {
   "cell_type": "markdown",
   "metadata": {},
   "source": [
    "### Генерация случайных величин"
   ]
  },
  {
   "cell_type": "markdown",
   "metadata": {},
   "source": [
    "* Самое важное, что нужно сделать вначале для воспроизводимости результатов - зафиксировать случайный сид с помощью `random.seed`"
   ]
  },
  {
   "cell_type": "code",
   "execution_count": 49,
   "metadata": {},
   "outputs": [],
   "source": [
    "np.random.seed(seed=12345)"
   ]
  },
  {
   "cell_type": "markdown",
   "metadata": {},
   "source": [
    "* Случайное, равномерное число на интервале \\[0, 1\\) с помощью `random.rand`"
   ]
  },
  {
   "cell_type": "code",
   "execution_count": 50,
   "metadata": {},
   "outputs": [
    {
     "name": "stdout",
     "output_type": "stream",
     "text": [
      "Uniform matrix = [[0.92961609 0.31637555]\n",
      " [0.18391881 0.20456028]]\n"
     ]
    }
   ],
   "source": [
    "r_uni = np.random.rand(2, 2)\n",
    "print(f'Uniform matrix = {r_uni}')"
   ]
  },
  {
   "cell_type": "markdown",
   "metadata": {},
   "source": [
    "* Случайное нормально распределенное значение с помощью `random.randn`"
   ]
  },
  {
   "cell_type": "code",
   "execution_count": 51,
   "metadata": {},
   "outputs": [
    {
     "name": "stdout",
     "output_type": "stream",
     "text": [
      "Normal matrix = [[1.96578057 1.39340583]\n",
      " [0.09290788 0.28174615]]\n"
     ]
    }
   ],
   "source": [
    "r_norm = np.random.randn(2, 2)\n",
    "print(f'Normal matrix = {r_norm}')"
   ]
  },
  {
   "cell_type": "markdown",
   "metadata": {},
   "source": [
    "* Случайное целое число в открытом интервале \\[a, b\\) с помощью `random.randint` "
   ]
  },
  {
   "cell_type": "code",
   "execution_count": 52,
   "metadata": {},
   "outputs": [
    {
     "name": "stdout",
     "output_type": "stream",
     "text": [
      "Integer matrix = [[9 7]\n",
      " [6 0]]\n"
     ]
    }
   ],
   "source": [
    "r_int = np.random.randint(0, 10, size=(2, 2))\n",
    "print(f'Integer matrix = {r_int}')"
   ]
  },
  {
   "cell_type": "markdown",
   "metadata": {},
   "source": [
    "* Случайное перемешивание данных с помощью `random.permutation`, либо генерация случайной перестановки\n",
    "* Можно также пользоваться функцией `random.shuffle`, она позволяет делать случайные перестановки по любой размерности (а не только по первой как `random.permutation`, но при этом работает inplace - то есть нужно сначала делать `copy`)"
   ]
  },
  {
   "cell_type": "code",
   "execution_count": 53,
   "metadata": {},
   "outputs": [
    {
     "name": "stdout",
     "output_type": "stream",
     "text": [
      "a = [ 1  4  7 34 -5], Random permutation = [-5  1 34  4  7]\n",
      "a = [ 1  4  7 34 -5], Random permutation_idx = [0 4 3 2 1], Random permutation = [ 1 -5 34  7  4]\n"
     ]
    }
   ],
   "source": [
    "a_1 = np.array([1, 4, 7, 34, -5])\n",
    "a_2 = np.random.permutation(a_1)\n",
    "a_ind = np.random.permutation(a_1.size)\n",
    "a_3 = a_1[a_ind]\n",
    "print(f'a = {a_1}, Random permutation = {a_2}')\n",
    "print(f'a = {a_1}, Random permutation_idx = {a_ind}, Random permutation = {a_3}')"
   ]
  },
  {
   "cell_type": "markdown",
   "metadata": {},
   "source": [
    "Остальные распределения можно посмотреть на странице [документации](https://numpy.org/doc/stable/reference/random/generator.html#distributions)"
   ]
  },
  {
   "cell_type": "markdown",
   "metadata": {},
   "source": [
    "### Numpy IO"
   ]
  },
  {
   "cell_type": "markdown",
   "metadata": {},
   "source": [
    "* Сохранить / прочитать массивы numpy: `np.save()` / `np.load()`\n",
    "* Сохранить в текстовом формате: `np.savetxt()`\n",
    "* Загрузить `csv` (учитывая пропущенные значения, которые будут заменены на `nan`): `np.genfromtxt()`"
   ]
  },
  {
   "cell_type": "code",
   "execution_count": 54,
   "metadata": {},
   "outputs": [
    {
     "name": "stdout",
     "output_type": "stream",
     "text": [
      "b = [[1.5 2.  3. ]\n",
      " [4.  5.  6. ]]\n",
      "['.git', '.ipynb_checkpoints', 'my_b.npy', 'my_b.txt', 'my_b_none.txt', 'Python01-basics.ipynb', 'Python01-basics_extra', 'Python02-basics2.ipynb', 'Python02-basics2_extra', 'Python03-OOP.ipynb', 'Python03-OOP_extra', 'Python04-Numpy.ipynb', 'Python04-Numpy_extra', 'README.md']\n",
      "q = [[1.5 2.  3. ]\n",
      " [4.  5.  6. ]]\n"
     ]
    }
   ],
   "source": [
    "import os\n",
    "print('b =', b)\n",
    "np.save('my_b', b)\n",
    "print(os.listdir(\"./\"))\n",
    "q = np.load('my_b.npy')\n",
    "print('q =', q)"
   ]
  },
  {
   "cell_type": "code",
   "execution_count": 55,
   "metadata": {},
   "outputs": [
    {
     "name": "stdout",
     "output_type": "stream",
     "text": [
      "1.500000000000000000e+00,2.000000000000000000e+00,3.000000000000000000e+00\n",
      "4.000000000000000000e+00,5.000000000000000000e+00,6.000000000000000000e+00\n"
     ]
    }
   ],
   "source": [
    "np.savetxt('my_b.txt', b, delimiter=',')\n",
    "with open('my_b.txt', 'r') as f:\n",
    "    for line in f:\n",
    "        print(line, end='')"
   ]
  },
  {
   "cell_type": "code",
   "execution_count": 56,
   "metadata": {},
   "outputs": [
    {
     "name": "stdout",
     "output_type": "stream",
     "text": [
      "1.5,,3\n",
      ",5,\n",
      "w = [[1.5 nan 3. ]\n",
      " [nan 5.  nan]]\n",
      "[[False  True False]\n",
      " [ True False  True]]\n"
     ]
    }
   ],
   "source": [
    "with open('my_b_none.txt', 'w') as f:\n",
    "    f.write(\"1.5,,3\\n\")\n",
    "    f.write(\",5,\\n\")\n",
    "    \n",
    "with open('my_b_none.txt', 'r') as f:\n",
    "    for line in f:\n",
    "        print(line, end='')\n",
    "\n",
    "w = np.genfromtxt('my_b_none.txt', delimiter=',')\n",
    "print('w =', w)\n",
    "print(np.isnan(w))"
   ]
  },
  {
   "cell_type": "markdown",
   "metadata": {},
   "source": [
    "### Заключение\n",
    "Numpy является мощным инструментом для оптимизации вычислений с помощью векторных инструкций и позволяет в разы ускорить исполнение программ. Широкий набор возможностей и встроенных алгоритмов позволит вам разрабатывать эффективные и лаконичные программы. Имея видеокарту с поддержкой CUDA, можно получить ещё больше ускорения, если воспользоваться библиотекой Cupy или одним из фреймворков для тензорных вычислений, таких как PyTorch, TensorFlow, MindSpore или Jax."
   ]
  }
 ],
 "metadata": {
  "kernelspec": {
   "display_name": "Python 3 (ipykernel)",
   "language": "python",
   "name": "python3"
  },
  "language_info": {
   "codemirror_mode": {
    "name": "ipython",
    "version": 3
   },
   "file_extension": ".py",
   "mimetype": "text/x-python",
   "name": "python",
   "nbconvert_exporter": "python",
   "pygments_lexer": "ipython3",
   "version": "3.9.12"
  }
 },
 "nbformat": 4,
 "nbformat_minor": 4
}
