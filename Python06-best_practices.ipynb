{
 "cells": [
  {
   "cell_type": "markdown",
   "metadata": {},
   "source": [
    "### Курс \"Python для исследователя\", осень 2022"
   ]
  },
  {
   "cell_type": "markdown",
   "metadata": {},
   "source": [
    "### Занятие 6, лучшие практики "
   ]
  },
  {
   "cell_type": "markdown",
   "metadata": {},
   "source": [
    "### Содержание\n",
    "\n",
    "* PEP8\n",
    "* Ошибки и исключения\n",
    "* Контекстные менеджеры\n",
    "* Функции dir и help, документирование\n",
    "* Работа с путями: os.path\n",
    "* Использование virtualenv, conda env, docker\n",
    "* Статический анализ кода"
   ]
  },
  {
   "cell_type": "markdown",
   "metadata": {},
   "source": [
    "### PEP8"
   ]
  },
  {
   "cell_type": "markdown",
   "metadata": {},
   "source": [
    "Вопрос: Что такое PEP8?\n",
    "    \n",
    "Ответ: ![](Python06-best_practices_extra/pep8.jpeg) \n",
    "\n",
    "Рекомендуется читать в [оригинале](https://www.python.org/dev/peps/pep-0008/)"
   ]
  },
  {
   "cell_type": "markdown",
   "metadata": {},
   "source": [
    "Вопрос: Зачем нужен PEP8?\n",
    "    \n",
    "Ответ: код читается намного больше раз, чем пишется. Pекоммендации о стиле написания кода направлены на то, чтобы улучшить читабельность кода и сделать его согласованным между большим числом проектов."
   ]
  },
  {
   "cell_type": "code",
   "execution_count": null,
   "metadata": {},
   "outputs": [],
   "source": [
    "import this # кстати, это PEP 20"
   ]
  },
  {
   "cell_type": "markdown",
   "metadata": {},
   "source": [
    "### Перевод на русский:\n",
    "\n",
    "    Красивое лучше, чем уродливое.\n",
    "    Явное лучше, чем неявное.\n",
    "    Простое лучше, чем сложное.\n",
    "    Сложное лучше, чем запутанное.\n",
    "    Плоское лучше, чем вложенное.\n",
    "    Разреженное лучше, чем плотное.\n",
    "    Читаемость имеет значение.\n",
    "    Особые случаи не настолько особые, чтобы нарушать правила.\n",
    "    При этом практичность важнее безупречности.\n",
    "    Ошибки никогда не должны замалчиваться.\n",
    "    Если они не замалчиваются явно.\n",
    "    Встретив двусмысленность, отбрось искушение угадать.\n",
    "    Должен существовать один и, желательно, только один очевидный способ сделать это.\n",
    "    Хотя он поначалу может быть и не очевиден, если вы не голландец.\n",
    "    Сейчас лучше, чем никогда.\n",
    "    Хотя никогда зачастую лучше, чем прямо сейчас.\n",
    "    Если реализацию сложно объяснить — идея плоха.\n",
    "    Если реализацию легко объяснить — идея, возможно, хороша.\n",
    "    Пространства имён — отличная штука! Будем делать их больше!\n"
   ]
  },
  {
   "cell_type": "markdown",
   "metadata": {},
   "source": [
    "Вопрос: Когда следует игнорировать стандарт PEP8?\n",
    "\n",
    "Ответ: Когда основная цель (улучшение читабельности кода) не может быть достигнута, следуя рекомендациям стандарта"
   ]
  },
  {
   "cell_type": "markdown",
   "metadata": {},
   "source": [
    "![](Python06-best_practices_extra/read_code_joke.jpg) "
   ]
  },
  {
   "cell_type": "markdown",
   "metadata": {},
   "source": [
    "####   1. PEP8: форматирование кода"
   ]
  },
  {
   "cell_type": "markdown",
   "metadata": {},
   "source": [
    "**Отступы**\n",
    "\n",
    "Используйте 4 пробела на один уровень отступа. "
   ]
  },
  {
   "cell_type": "markdown",
   "metadata": {},
   "source": [
    "**Максимальная длина строки**\n",
    "\n",
    "Ограничьте максимальную длину строки 79 символами.\n",
    "\n",
    "Для более длинных блоков текста с меньшими структурными ограничениями (строки документации или комментарии), длину строки следует ограничить 72 символами.\n",
    "\n"
   ]
  },
  {
   "cell_type": "markdown",
   "metadata": {},
   "source": [
    "**Перенос строки**\n",
    "\n",
    "Предпочтительный способ переноса длинных строк — использование подразумевающегося продолжения строки между обычными, квадратными и фигурными скобками. В случае необходимости можно добавить еще одну пару скобок вокруг выражения, но часто лучше выглядит обратный слэш. Постарайтесь сделать правильные отступы для перенесённой строки."
   ]
  },
  {
   "cell_type": "code",
   "execution_count": null,
   "metadata": {},
   "outputs": [],
   "source": [
    "with open('/path/to/some/file/you/want/to/read') as file_1, \\\n",
    "     open('/path/to/some/file/being/written', 'w') as file_2:\n",
    "    file_2.write(file_1.read())"
   ]
  },
  {
   "cell_type": "code",
   "execution_count": null,
   "metadata": {},
   "outputs": [],
   "source": [
    "# Correct:\n",
    "\n",
    "# Aligned with opening delimiter.\n",
    "foo = long_function_name(var_one, var_two,\n",
    "                         var_three, var_four)\n",
    "\n",
    "# Add 4 spaces (an extra level of indentation) to distinguish arguments from the rest.\n",
    "def long_function_name(\n",
    "        var_one, var_two, var_three,\n",
    "        var_four):\n",
    "    print(var_one)\n",
    "\n",
    "# Hanging indents should add a level.\n",
    "foo = long_function_name(\n",
    "    var_one, var_two,\n",
    "    var_three, var_four)"
   ]
  },
  {
   "cell_type": "code",
   "execution_count": null,
   "metadata": {},
   "outputs": [],
   "source": [
    "# Wrong:\n",
    "\n",
    "# Arguments on first line forbidden when not using vertical alignment.\n",
    "foo = long_function_name(var_one, var_two,\n",
    "    var_three, var_four)\n",
    "\n",
    "# Further indentation required as indentation is not distinguishable.\n",
    "def long_function_name(\n",
    "    var_one, var_two, var_three,\n",
    "    var_four):\n",
    "    print(var_one)"
   ]
  },
  {
   "cell_type": "code",
   "execution_count": null,
   "metadata": {},
   "outputs": [],
   "source": [
    "my_list = [\n",
    "    1, 2, 3,\n",
    "    4, 5, 6,\n",
    "    ]\n",
    "result = some_function_that_takes_arguments(\n",
    "    'a', 'b', 'c',\n",
    "    'd', 'e', 'f',\n",
    "    )\n",
    "\n",
    "my_list = [\n",
    "    1, 2, 3,\n",
    "    4, 5, 6,\n",
    "]\n",
    "result = some_function_that_takes_arguments(\n",
    "    'a', 'b', 'c',\n",
    "    'd', 'e', 'f',\n",
    ")"
   ]
  },
  {
   "cell_type": "markdown",
   "metadata": {},
   "source": [
    "Следует помещать операторы на одну строку с последующими операндами"
   ]
  },
  {
   "cell_type": "code",
   "execution_count": null,
   "metadata": {},
   "outputs": [],
   "source": [
    "# Wrong:\n",
    "# operators sit far away from their operands\n",
    "income = (gross_wages +\n",
    "          taxable_interest +\n",
    "          (dividends - qualified_dividends) -\n",
    "          ira_deduction -\n",
    "          student_loan_interest)"
   ]
  },
  {
   "cell_type": "code",
   "execution_count": null,
   "metadata": {},
   "outputs": [],
   "source": [
    "# Correct:\n",
    "# easy to match operators with operands\n",
    "income = (gross_wages\n",
    "          + taxable_interest\n",
    "          + (dividends - qualified_dividends)\n",
    "          - ira_deduction\n",
    "          - student_loan_interest)"
   ]
  },
  {
   "cell_type": "markdown",
   "metadata": {},
   "source": [
    "**Пустые строки**\n",
    "\n",
    "* Отделяйте функции (верхнего уровня, не функции внутри функций) и определения классов двумя пустыми строчками.\n",
    "\n",
    "* Определения методов внутри класса отделяйте одной пустой строкой.\n",
    "\n",
    "* Дополнительные отступы строками могут быть изредка использованы для выделения группы логически связанных функций.\n",
    "\n",
    "* Используйте (без энтузиазма) пустые строки в коде функций, чтобы отделить друг от друга логические части.\n"
   ]
  },
  {
   "cell_type": "markdown",
   "metadata": {},
   "source": [
    "**Пробелы в выражениях и инструкциях**"
   ]
  },
  {
   "cell_type": "markdown",
   "metadata": {},
   "source": [
    "1. Избегайте использование пробелов сразу после или перед скобками "
   ]
  },
  {
   "cell_type": "code",
   "execution_count": null,
   "metadata": {},
   "outputs": [],
   "source": [
    "# Correct:\n",
    "spam(ham[1], {eggs: 2})\n",
    "\n",
    "# Wrong:\n",
    "spam( ham[ 1 ], { eggs: 2 } )"
   ]
  },
  {
   "cell_type": "code",
   "execution_count": null,
   "metadata": {},
   "outputs": [],
   "source": [
    "# Correct:\n",
    "foo = (0,)\n",
    "\n",
    "# Wrong:\n",
    "bar = (0, )\n"
   ]
  },
  {
   "cell_type": "markdown",
   "metadata": {},
   "source": [
    "2. Избегайте использование пробелов перед запятой, точкой с запятой, двоеточием"
   ]
  },
  {
   "cell_type": "code",
   "execution_count": null,
   "metadata": {},
   "outputs": [],
   "source": [
    "# Correct:\n",
    "if x == 4: print x, y; x, y = y, x\n",
    "    \n",
    "# Wrong:\n",
    "if x == 4 : print x , y ; x , y = y , x"
   ]
  },
  {
   "cell_type": "markdown",
   "metadata": {},
   "source": [
    "3. Избегайте использование пробелов перед открывающей скобкой, после которой начинается список аргументов при вызове функци"
   ]
  },
  {
   "cell_type": "code",
   "execution_count": null,
   "metadata": {},
   "outputs": [],
   "source": [
    "# Correct:\n",
    "spam(1)\n",
    "\n",
    "# Wrong:\n",
    "spam (1)"
   ]
  },
  {
   "cell_type": "markdown",
   "metadata": {},
   "source": [
    "4. Избегайте использование пробелов сразу перед открывающей скобкой, после которой следует индекс или срез"
   ]
  },
  {
   "cell_type": "code",
   "execution_count": null,
   "metadata": {},
   "outputs": [],
   "source": [
    "# Correct:\n",
    "dct['key'] = lst[index]\n",
    "\n",
    "# Wrong:\n",
    "dct ['key'] = lst [index]"
   ]
  },
  {
   "cell_type": "markdown",
   "metadata": {},
   "source": [
    "5.  Избегайте использование более одного пробела вокруг оператора присваивания (или любого другого) для того, чтобы выровнять его с другим таким же оператором на соседней строке:"
   ]
  },
  {
   "cell_type": "code",
   "execution_count": null,
   "metadata": {},
   "outputs": [],
   "source": [
    "# Correct:\n",
    "x = 1\n",
    "y = 2\n",
    "long_variable = 3\n",
    "\n",
    "# Wrong:\n",
    "x             = 1\n",
    "y             = 2\n",
    "long_variable = 3"
   ]
  },
  {
   "cell_type": "markdown",
   "metadata": {},
   "source": [
    "6. Вседа окружайте эти бинарные операторы одним пробелом с каждой стороны: присваивание (=, +=, -= и прочие), сравнения (==, <, >, !=, <>, <=, >=, in, not in, is, is not), логические операторы (and, or, not). Ставьте пробелы вокруг арифметических операций. Если используются операторы с разным приоритетом, то лучше выделять пробелами операцию с наименьшим приоритетом"
   ]
  },
  {
   "cell_type": "code",
   "execution_count": null,
   "metadata": {},
   "outputs": [],
   "source": [
    "# Correct:\n",
    "i = i + 1\n",
    "submitted += 1\n",
    "x = x*2 - 1\n",
    "hypot2 = x*x + y*y\n",
    "c = (a+b) * (a-b)\n",
    "\n",
    "# Wrong:\n",
    "i=i+1\n",
    "submitted +=1\n",
    "x = x * 2 - 1\n",
    "hypot2 = x * x + y * y\n",
    "c = (a + b) * (a - b)"
   ]
  },
  {
   "cell_type": "markdown",
   "metadata": {},
   "source": [
    "7. Не используйте пробелы для отделения знака =, когда он употребляется для обозначения аргумента-ключа (keyword argument) или значения параметра по умолчанию"
   ]
  },
  {
   "cell_type": "code",
   "execution_count": null,
   "metadata": {},
   "outputs": [],
   "source": [
    "# Correct:\n",
    "def complex(real, imag=0.0):\n",
    "    return magic(r=real, i=imag)\n",
    "\n",
    "# Wrong:\n",
    "def complex(real, imag = 0.0):\n",
    "    return magic(r = real, i = imag)"
   ]
  },
  {
   "cell_type": "markdown",
   "metadata": {},
   "source": [
    "8. Не используйте составные инструкции (несколько команд в одной строке)."
   ]
  },
  {
   "cell_type": "code",
   "execution_count": null,
   "metadata": {},
   "outputs": [],
   "source": [
    "# Correct:\n",
    "if foo == 'blah':\n",
    "    do_blah_thing()\n",
    "do_one()\n",
    "do_two()\n",
    "do_three()\n",
    "\n",
    "# Wrong:\n",
    "if foo == 'blah': do_blah_thing()\n",
    "do_one(); do_two(); do_three()"
   ]
  },
  {
   "cell_type": "code",
   "execution_count": null,
   "metadata": {},
   "outputs": [],
   "source": []
  },
  {
   "cell_type": "markdown",
   "metadata": {},
   "source": [
    "**Комментарии**\n",
    "\n",
    "* Старайтесь писать код так, чтобы к нему требовались минимальные комментарии\n",
    "* Комментарии, которые противоречат коду, хуже, чем отсутствие комментариев. Следите за актуальностью комментариев\n",
    "* Желательно придерживаться английского языка при написании комментариев\n",
    "* Комментарий не должен быть очевидным\n",
    "\n",
    "* Однострочные комментарии начинаются со знака решетки и пробела"
   ]
  },
  {
   "cell_type": "code",
   "execution_count": null,
   "metadata": {},
   "outputs": [],
   "source": [
    "# Wrong:\n",
    "x = x + 1                 # Increment x\n",
    "\n",
    "# Correct:\n",
    "x = x + 1                 # Compensate for border"
   ]
  },
  {
   "cell_type": "markdown",
   "metadata": {},
   "source": [
    "**Блок комментариев**\n",
    "\n",
    "* Блок комментариев обычно объясняет код (весь, или только некоторую часть), идущий после блока, и должен иметь тот же отступ, что и сам код. Каждая строчка такого блока должна начинаться с символа # и одного пробела после него (если только сам текст комментария не имеет отступа).\n",
    "\n",
    "* Абзацы внутри блока комментариев лучше отделять строкой, состоящей из одного символа #.\n",
    "* Отдельный вид комментариев - документирование (PEP 257 -- Docstring Conventions)"
   ]
  },
  {
   "cell_type": "markdown",
   "metadata": {},
   "source": [
    "**Импорты**\n",
    "\n",
    "Импортирование разных модулей должно быть на разных строчках"
   ]
  },
  {
   "cell_type": "code",
   "execution_count": null,
   "metadata": {},
   "outputs": [],
   "source": [
    "# Correct:\n",
    "import os\n",
    "import sys\n",
    "\n",
    "# Wrong:\n",
    "import sys, os\n",
    "\n",
    "# Correct:\n",
    "from subprocess import Popen, PIPE"
   ]
  },
  {
   "cell_type": "markdown",
   "metadata": {},
   "source": [
    "Старайтесь избегать импортов с *"
   ]
  },
  {
   "cell_type": "code",
   "execution_count": null,
   "metadata": {},
   "outputs": [],
   "source": [
    "# Wrong:\n",
    "from numpy import *\n",
    "\n",
    "# Correct:\n",
    "import numpy as np"
   ]
  },
  {
   "cell_type": "markdown",
   "metadata": {},
   "source": [
    "Импортирование всегда нужно делать сразу после комментариев к модулю и строк документации, перед объявлением глобальных переменных и констант.\n",
    "\n",
    "Группируйте импорты в следующем порядке:\n",
    "\n",
    "* импорты стандартной библиотеки\n",
    "* импорты сторонних библиотек\n",
    "* импорты модулей текущего проекта\n",
    "\n",
    "Вставляйте пустую строку между каждой группой импортов.\n",
    "\n"
   ]
  },
  {
   "cell_type": "markdown",
   "metadata": {},
   "source": [
    "#### 2. PEP-8: названия переменных"
   ]
  },
  {
   "cell_type": "markdown",
   "metadata": {},
   "source": [
    "**Главное правило**: Называйте переменные таким образом, чтобы для понимания кода, не требовался комментарий"
   ]
  },
  {
   "cell_type": "markdown",
   "metadata": {},
   "source": [
    "* Не используйте в качестве имён встроенные (built-in) функции (list, id и т.д.) и ключевые слова\n",
    "* Не рекомендуется использовать литеры l, o , I в качестве переменных. \n",
    "* Вообще лучше отказаться от использования однобуквенных наименований"
   ]
  },
  {
   "cell_type": "markdown",
   "metadata": {},
   "source": [
    "Стили именования переменных:\n",
    "* b (одиночная маленькая буква)\n",
    "* B (одиночная заглавная буква)\n",
    "* lowercase (слово в нижнем регистре)\n",
    "* lower_case_with_underscores (слова из маленьких букв с подчеркиваниями)\n",
    "* UPPERCASE (заглавные буквы)\n",
    "* UPPERCASE_WITH_UNDERSCORES (слова из заглавных букв с подчеркиваниями)\n",
    "* CapitalizedWords (слова с заглавными буквами, или CapWords, или CamelCase 5. Иногда называется StudlyCaps). \n",
    "* mixedCase (отличается от CapitalizedWords тем, что первое слово начинается с маленькой буквы)\n",
    "* Capitalized_Words_With_Underscores (слова с заглавными буквами и подчеркиваниями)\n",
    "\n",
    "Ещё существует стиль, в котором имена, принадлежащие одной логической группе, имеют один короткий префикс"
   ]
  },
  {
   "cell_type": "markdown",
   "metadata": {},
   "source": [
    "**Правила именования переменных**"
   ]
  },
  {
   "cell_type": "markdown",
   "metadata": {},
   "source": [
    "![](Python06-best_practices_extra/naming.jpeg)"
   ]
  },
  {
   "cell_type": "markdown",
   "metadata": {},
   "source": [
    "**Подчеркивания**\n",
    "\n",
    "* Имена переменной или метода, начинающиеся с подчеркивания, например, _var, предназначены для внутреннего использования\n",
    "* Имена переменной или метода, заканчивающегося  подчеркиванием, например, var_, используют для избежания конфликта с ключевыми словами языка\n",
    "* Двойное подчеркивание в начале переменной, например, \\__var, используется для сокрытия приватных переменных при наследовании (name mangling) \n"
   ]
  },
  {
   "cell_type": "markdown",
   "metadata": {},
   "source": [
    "* Имена переменной или метода с двумя подчеркиваниями в начале и в конце, например, \\_\\_var\\_\\_, так называемые magic methods\n",
    "* Одиночное подчеркивание используется для несущественных переменных"
   ]
  },
  {
   "cell_type": "code",
   "execution_count": null,
   "metadata": {},
   "outputs": [],
   "source": [
    "for _ in range(3):\n",
    "    print('Hello')"
   ]
  },
  {
   "cell_type": "code",
   "execution_count": null,
   "metadata": {},
   "outputs": [],
   "source": [
    "print(_)"
   ]
  },
  {
   "cell_type": "code",
   "execution_count": null,
   "metadata": {},
   "outputs": [],
   "source": [
    "car = ('red', 'auto', 12, 3812.4)\n",
    "color, _, _, mileage = car\n",
    "print(_)"
   ]
  },
  {
   "cell_type": "markdown",
   "metadata": {},
   "source": [
    "**Общие соображения**\n",
    "\n",
    "* Разделяйте логику между функциями и классами\n",
    "* Если код вашего класса или функции занимает 1000 строк, скорее всего вы что-то делаете не так\n",
    "* Избегайте дублирования кода\n",
    "* Максимально переиспользуйте код"
   ]
  },
  {
   "cell_type": "markdown",
   "metadata": {},
   "source": [
    "Вопрос: Как начать следовать PEP8?\n",
    "\n",
    "Ответ: Включить проверку кода на соотвествие PEP8 в вашей любимой IDE или использовать пакет [pep8](https://pypi.org/project/pep8/)"
   ]
  },
  {
   "cell_type": "markdown",
   "metadata": {},
   "source": [
    "![](Python06-best_practices_extra/harry.jpg)\n",
    "\n",
    "# Вопросы?"
   ]
  },
  {
   "cell_type": "markdown",
   "metadata": {},
   "source": [
    "### Ошибки и исключения"
   ]
  },
  {
   "cell_type": "markdown",
   "metadata": {},
   "source": [
    "**Виды ошибок**:\n",
    "* Синтаксические\n",
    "* Критические ошибки, не позволяющие продолжить работу\n",
    "* Рядовые ошибки, с которыми программа может продолжить работу"
   ]
  },
  {
   "cell_type": "markdown",
   "metadata": {},
   "source": [
    "**Что такое исключения?**\n",
    "* Исключения - специальный механизм python для работы с ошибками\n",
    "* Прерывают нормальный ход исполнения программы и сообщают об исключительной ситуации\n",
    "* Дают возможность обработать ошибку и восстановить программу"
   ]
  },
  {
   "cell_type": "markdown",
   "metadata": {},
   "source": [
    "**Примеры исключительных ситуаций**\n",
    "\n",
    "* Файл не существует\n",
    "* В словаре нет нужного ключа\n",
    "* Деление на ноль\n",
    "* ..."
   ]
  },
  {
   "cell_type": "markdown",
   "metadata": {},
   "source": [
    "**[Иерархия исключений](https://docs.python.org/3/library/exceptions.html)**\n",
    "\n",
    "![](Python06-best_practices_extra/hierarchy.jpeg)"
   ]
  },
  {
   "cell_type": "markdown",
   "metadata": {},
   "source": [
    "**Синтаксис исключений**"
   ]
  },
  {
   "cell_type": "markdown",
   "metadata": {},
   "source": [
    "**try...except**"
   ]
  },
  {
   "cell_type": "code",
   "execution_count": null,
   "metadata": {},
   "outputs": [],
   "source": [
    "filename='123'\n",
    "try:\n",
    "    df = open(filename, 'r')\n",
    "except FileNotFoundError:\n",
    "    print(\"File %s does not exist\" % filename)"
   ]
  },
  {
   "cell_type": "markdown",
   "metadata": {},
   "source": [
    "**try...except...except**"
   ]
  },
  {
   "cell_type": "code",
   "execution_count": null,
   "metadata": {},
   "outputs": [],
   "source": [
    "filename='123'\n",
    "try:\n",
    "    df = open(filename, 'r')\n",
    "except FileNotFoundError:\n",
    "    print(\"File %s does not exist\" % filename)\n",
    "except Exception as e:\n",
    "    print(e)"
   ]
  },
  {
   "cell_type": "code",
   "execution_count": null,
   "metadata": {},
   "outputs": [],
   "source": [
    "filename='123'\n",
    "try:\n",
    "    df = open(filename, 'r')\n",
    "except (TypeError, MemoryError) as e:\n",
    "    print('TypeError or MemoryError')\n",
    "except FileNotFoundError:\n",
    "    print(\"File %s does not exist\" % filename)"
   ]
  },
  {
   "cell_type": "markdown",
   "metadata": {},
   "source": [
    "**try...except...else...finally**"
   ]
  },
  {
   "cell_type": "code",
   "execution_count": null,
   "metadata": {},
   "outputs": [],
   "source": [
    "filename='123'\n",
    "try:\n",
    "    x=1\n",
    "    #df = open(filename, 'r')\n",
    "except FileNotFoundError:\n",
    "    print(\"File %s does not exist\" % filename)\n",
    "else:\n",
    "    print('Everything is ok')\n",
    "finally:\n",
    "    print('Finally block')"
   ]
  },
  {
   "cell_type": "markdown",
   "metadata": {},
   "source": [
    "**Стратегии обработки ошибок**"
   ]
  },
  {
   "cell_type": "markdown",
   "metadata": {},
   "source": [
    "* Look before you leap\n",
    "* It's easier to ask for forgiveness than permission"
   ]
  },
  {
   "cell_type": "code",
   "execution_count": null,
   "metadata": {},
   "outputs": [],
   "source": [
    "import os\n",
    "\n",
    "if os.path.exists(filename):\n",
    "    df = open(filename, 'r')\n",
    "else:\n",
    "    ..."
   ]
  },
  {
   "cell_type": "markdown",
   "metadata": {},
   "source": [
    "**Как бросить исключение**"
   ]
  },
  {
   "cell_type": "code",
   "execution_count": null,
   "metadata": {},
   "outputs": [],
   "source": [
    "raise ValueError('Positive integer expected')"
   ]
  },
  {
   "cell_type": "code",
   "execution_count": null,
   "metadata": {},
   "outputs": [],
   "source": [
    "raise 123 # должно быть наследником BaseException"
   ]
  },
  {
   "cell_type": "code",
   "execution_count": null,
   "metadata": {},
   "outputs": [],
   "source": [
    "try:\n",
    "    raise RuntimeError('Crash')\n",
    "except:\n",
    "    print('Unknown error')\n",
    "    raise"
   ]
  },
  {
   "cell_type": "code",
   "execution_count": null,
   "metadata": {},
   "outputs": [],
   "source": [
    "raise"
   ]
  },
  {
   "cell_type": "markdown",
   "metadata": {},
   "source": [
    "**AssertionError**\n",
    "\n",
    "Используется в случае, если мы хотим, чтобы при не выполнении условий программа сломалась"
   ]
  },
  {
   "cell_type": "code",
   "execution_count": null,
   "metadata": {},
   "outputs": [],
   "source": [
    "assert 3==1+2, 'No error'\n",
    "\n",
    "assert 3==2, 'Error'"
   ]
  },
  {
   "cell_type": "code",
   "execution_count": null,
   "metadata": {},
   "outputs": [],
   "source": [
    "x = 1\n",
    "\n",
    "assert isinstance(x, list), 'Error'"
   ]
  },
  {
   "cell_type": "markdown",
   "metadata": {},
   "source": [
    "**Как сделать кастомное исключение**"
   ]
  },
  {
   "cell_type": "code",
   "execution_count": null,
   "metadata": {},
   "outputs": [],
   "source": [
    "class SalaryNotInRangeError(Exception):\n",
    "    \"\"\"Exception raised for errors in the input salary.\n",
    "\n",
    "    Attributes:\n",
    "        salary -- input salary which caused the error\n",
    "        message -- explanation of the error\n",
    "    \"\"\"\n",
    "\n",
    "    def __init__(self, salary, message=\"Salary is not in (5000, 15000) range\"):\n",
    "        self.salary = salary\n",
    "        self.message = message\n",
    "        super().__init__(self.message)\n",
    "\n",
    "    def __str__(self):\n",
    "        return f'{self.salary} -> {self.message}'\n",
    "\n",
    "\n",
    "salary = 100000 # int(input(\"Enter salary amount: \"))\n",
    "if not 5000 < salary < 15000:\n",
    "    raise SalaryNotInRangeError(salary)"
   ]
  },
  {
   "cell_type": "markdown",
   "metadata": {},
   "source": [
    "**Лучшие практики**\n",
    "\n",
    "* Старайтесь максимально конкретизировать исключения в Except\n",
    "* Простое написание 'except:' также перехватит и SystemExit, и KeyboardInterrupt, что породит проблемы, например, сложнее будет завершить программу нажатием control+C. Если вы действительно собираетесь перехватить все исключения, пишите 'except Exception:'."
   ]
  },
  {
   "cell_type": "code",
   "execution_count": null,
   "metadata": {},
   "outputs": [],
   "source": [
    "try:\n",
    "    import platform_specific_module\n",
    "except ImportError:\n",
    "    platform_specific_module = None"
   ]
  },
  {
   "cell_type": "code",
   "execution_count": null,
   "metadata": {},
   "outputs": [],
   "source": [
    "# Wrong:\n",
    "try:\n",
    "    i=1\n",
    "except:\n",
    "    pass"
   ]
  },
  {
   "cell_type": "code",
   "execution_count": null,
   "metadata": {},
   "outputs": [],
   "source": [
    "# Wrong:\n",
    "try:\n",
    "    i=1\n",
    "except BaseException:\n",
    "    pass"
   ]
  },
  {
   "cell_type": "markdown",
   "metadata": {},
   "source": [
    "Ограничьтесь использованием чистого 'except:' в двух случаях:\n",
    "\n",
    "1. Если обработчик исключения выводит пользователю всё о случившейся ошибке (например, traceback)\n",
    "\n",
    "2. Если нужно выполнить некоторый код после перехвата исключения, а потом вновь «бросить» его для обработки где-то в другом месте. Обычно же лучше пользоваться конструкцией 'try...finally'."
   ]
  },
  {
   "cell_type": "markdown",
   "metadata": {},
   "source": [
    "Постарайтесь заключать в каждую конструкцию try...except минимум кода, чтобы легче отлавливать ошибки."
   ]
  },
  {
   "cell_type": "code",
   "execution_count": null,
   "metadata": {},
   "outputs": [],
   "source": [
    "try: \n",
    "    value = collection[key] \n",
    "except KeyError: \n",
    "    return key_not_found(key) \n",
    "else: \n",
    "    return handle_value(value) \n",
    "\n",
    "try: \n",
    "    # Здесь много действий!\n",
    "    return handle_value(collection[key]) \n",
    "except KeyError: \n",
    "    # Здесь также перехватится KeyError, сгенерированный handle_value() \n",
    "    return key_not_found(key) "
   ]
  },
  {
   "cell_type": "markdown",
   "metadata": {},
   "source": [
    "Так как исключения являются классами, к исключениями применяется стиль именования классов. Однако вы можете добавить Error в конце имени (если конечно исключение действительно является ошибкой)."
   ]
  },
  {
   "cell_type": "markdown",
   "metadata": {},
   "source": [
    "### Контекстные менеджеры"
   ]
  },
  {
   "cell_type": "code",
   "execution_count": null,
   "metadata": {},
   "outputs": [],
   "source": [
    "f = open('hello.txt', 'w')\n",
    "f.write('hello')\n",
    "f.close()"
   ]
  },
  {
   "cell_type": "code",
   "execution_count": null,
   "metadata": {},
   "outputs": [],
   "source": [
    "f = open('hello.txt', 'w')\n",
    "try:\n",
    "    f.write('hello')\n",
    "finally:\n",
    "    f.close()"
   ]
  },
  {
   "cell_type": "code",
   "execution_count": null,
   "metadata": {},
   "outputs": [],
   "source": [
    "with open('hello.txt', 'w') as f:\n",
    "    f.write('hello')"
   ]
  },
  {
   "cell_type": "code",
   "execution_count": null,
   "metadata": {},
   "outputs": [],
   "source": [
    "with first() as f, second() as s:\n",
    "    do(f,s)\n",
    "    \n",
    "#same\n",
    "with first() as f:\n",
    "    with second as s:\n",
    "        do(f,s)"
   ]
  },
  {
   "cell_type": "markdown",
   "metadata": {},
   "source": [
    "**Интерфейс контекстного менеджера**"
   ]
  },
  {
   "cell_type": "code",
   "execution_count": null,
   "metadata": {},
   "outputs": [],
   "source": [
    "class ManagedFile:\n",
    "    def __init__(self, name):\n",
    "        self.name = name\n",
    " \n",
    "    def __enter__(self):\n",
    "        self.file = open(self.name, 'w')\n",
    "        return self.file\n",
    " \n",
    "    def __exit__(self, exc_type, exc_val, exc_tb):\n",
    "        if self.file:\n",
    "            self.file.close()\n",
    "        if exc_value is not None:\n",
    "            return True"
   ]
  },
  {
   "cell_type": "markdown",
   "metadata": {},
   "source": [
    "**Семантика**"
   ]
  },
  {
   "cell_type": "code",
   "execution_count": null,
   "metadata": {},
   "outputs": [],
   "source": [
    "with acquire_resource() as resource:\n",
    "    use(resource)"
   ]
  },
  {
   "cell_type": "code",
   "execution_count": null,
   "metadata": {},
   "outputs": [],
   "source": [
    "manager = acquire_resource()\n",
    "resource = manager.__enter__()\n",
    "try:\n",
    "    use(resource)\n",
    "finally:\n",
    "    exc_type, exc_valur, traceback = sys.ext_info()\n",
    "    supress = manager.__exit__(exc_type, exc_valur, traceback)\n",
    "    if exc_value is not none and not suppress:\n",
    "        raise exc_value"
   ]
  },
  {
   "cell_type": "markdown",
   "metadata": {},
   "source": [
    "sys.exc_info() - возвращает кортеж из трех значений, которые дают информацию об исключениях, обрабатывающихся в данный момент."
   ]
  },
  {
   "cell_type": "code",
   "execution_count": null,
   "metadata": {},
   "outputs": [],
   "source": [
    "class Indenter:\n",
    "    def __init__(self):\n",
    "        self.level = 0\n",
    "    \n",
    "    def __enter__(self):\n",
    "        self.level += 1\n",
    "        return self\n",
    "    \n",
    "    def __exit__(self, exc_type, exc_val, exc_tb):\n",
    "        self.level -= 1\n",
    "    \n",
    "    def print(self, text):\n",
    "        print(' ' * self.level + text)"
   ]
  },
  {
   "cell_type": "code",
   "execution_count": null,
   "metadata": {},
   "outputs": [],
   "source": [
    "with Indenter() as indent:\n",
    "    indent.print('hi!')\n",
    "    with indent:\n",
    "        indent.print('hello')\n",
    "        with indent:\n",
    "            indent.print('bonjour')\n",
    "    indent.print('hey')"
   ]
  },
  {
   "cell_type": "markdown",
   "metadata": {},
   "source": [
    "Менеджеры контекста должны вызываться через отдельные функции или методы всякий раз, когда они делают что-то, кроме получения и освобождения ресурсов:"
   ]
  },
  {
   "cell_type": "code",
   "execution_count": null,
   "metadata": {},
   "outputs": [],
   "source": [
    "# Correct:\n",
    "with conn.begin_transaction():\n",
    "    do_stuff_in_transaction(conn)\n",
    "    \n",
    "# Wrong:\n",
    "with conn:\n",
    "    do_stuff_in_transaction(conn)"
   ]
  },
  {
   "cell_type": "markdown",
   "metadata": {},
   "source": [
    "### Функции dir и help, документирование"
   ]
  },
  {
   "cell_type": "markdown",
   "metadata": {},
   "source": [
    "Встроенная функция dir() позволяет получить список аттрибутов объекта (модуля, класса)"
   ]
  },
  {
   "cell_type": "code",
   "execution_count": null,
   "metadata": {},
   "outputs": [],
   "source": [
    "import numpy as np\n",
    "dir(np.random)"
   ]
  },
  {
   "cell_type": "markdown",
   "metadata": {},
   "source": [
    "Встроенная функция help() позволяет напечатать документацию данного объекта (модуля, класса, функции)."
   ]
  },
  {
   "cell_type": "code",
   "execution_count": null,
   "metadata": {},
   "outputs": [],
   "source": [
    "help(np.random.randint)"
   ]
  },
  {
   "cell_type": "markdown",
   "metadata": {},
   "source": [
    "Задокументировать объект можно с помощью так называемых \"docstring\" - строковых литералов, идущих сразу после объявления объекта."
   ]
  },
  {
   "cell_type": "code",
   "execution_count": null,
   "metadata": {},
   "outputs": [],
   "source": [
    "def compl(real=0.0, imag=0.0):\n",
    "    \"\"\"Form a complex number.\n",
    "\n",
    "    Keyword arguments:\n",
    "    real -- the real part (default 0.0)\n",
    "    imag -- the imaginary part (default 0.0)\n",
    "    \"\"\"\n",
    "    if imag == 0.0 and real == 0.0: return complex_zero\n",
    "    ..."
   ]
  },
  {
   "cell_type": "code",
   "execution_count": null,
   "metadata": {},
   "outputs": [],
   "source": [
    "print(compl.__doc__)"
   ]
  },
  {
   "cell_type": "code",
   "execution_count": null,
   "metadata": {},
   "outputs": [],
   "source": [
    "help(compl)"
   ]
  },
  {
   "cell_type": "code",
   "execution_count": null,
   "metadata": {},
   "outputs": [],
   "source": [
    "class AClass:\n",
    "    \"\"\"This is AClass's docstring.\"\"\"\n",
    "    \n",
    "    c = 'class attribute'\n",
    "\n",
    "    def __init__(self):\n",
    "        \"\"\"Method __init__'s docstring.\"\"\"\n",
    "\n",
    "        self.i = 'instance attribute'\n",
    "        \"\"\"This is self.i's docstring.\"\"\"\n",
    "\n",
    "    def f(x):\n",
    "        \"\"\"Function f's docstring.\"\"\"\n",
    "        return x**2"
   ]
  },
  {
   "cell_type": "code",
   "execution_count": null,
   "metadata": {},
   "outputs": [],
   "source": [
    "help(AClass)"
   ]
  },
  {
   "cell_type": "markdown",
   "metadata": {},
   "source": [
    "### \\_\\_file\\_\\_"
   ]
  },
  {
   "cell_type": "markdown",
   "metadata": {},
   "source": [
    "\\_\\_file\\_\\_ - абсолютный путь к данному модулю.\n",
    "\n",
    "Знать этот путь бывает чрезвычайно полезно при отладке программ: из правильного ли места вы импортируете модуль?"
   ]
  },
  {
   "cell_type": "code",
   "execution_count": null,
   "metadata": {},
   "outputs": [],
   "source": [
    "import numpy as np\n",
    "np.__file__"
   ]
  },
  {
   "cell_type": "markdown",
   "metadata": {},
   "source": [
    "### Работа с путями: os.path\n",
    "\n",
    "join() - правильное (с точки зрения платформы) объединение путей\n",
    "\n",
    "exists() - проверка существования файла\n",
    "\n",
    "basename() - собственное имя файла или папки\n",
    "\n",
    "isfile() - является ли данный объект файлом?\n",
    "\n",
    "isdir() - является ли данный объект директорией?"
   ]
  },
  {
   "cell_type": "code",
   "execution_count": null,
   "metadata": {},
   "outputs": [],
   "source": [
    "import os"
   ]
  },
  {
   "cell_type": "code",
   "execution_count": null,
   "metadata": {},
   "outputs": [],
   "source": [
    "path = os.path.join('first', 'second', '1')\n",
    "print(path)\n",
    "\n",
    "if not os.path.exists(path):\n",
    "    os.makedirs(path)"
   ]
  },
  {
   "cell_type": "code",
   "execution_count": null,
   "metadata": {},
   "outputs": [],
   "source": [
    "!ls first/second/"
   ]
  },
  {
   "cell_type": "code",
   "execution_count": null,
   "metadata": {},
   "outputs": [],
   "source": [
    "file_path = os.path.join(path, '1')"
   ]
  },
  {
   "cell_type": "code",
   "execution_count": null,
   "metadata": {},
   "outputs": [],
   "source": [
    "print(file_path)"
   ]
  },
  {
   "cell_type": "code",
   "execution_count": null,
   "metadata": {},
   "outputs": [],
   "source": [
    "os.path.basename(file_path)"
   ]
  },
  {
   "cell_type": "code",
   "execution_count": null,
   "metadata": {},
   "outputs": [],
   "source": [
    "# file_path.split(\"/\")[-1] # Тоже самое, но только для *nix"
   ]
  },
  {
   "cell_type": "code",
   "execution_count": null,
   "metadata": {},
   "outputs": [],
   "source": [
    "!ls"
   ]
  },
  {
   "cell_type": "code",
   "execution_count": null,
   "metadata": {},
   "outputs": [],
   "source": [
    "dirname = '.'"
   ]
  },
  {
   "cell_type": "code",
   "execution_count": null,
   "metadata": {},
   "outputs": [],
   "source": [
    "[f for f  in os.listdir(dirname) if os.path.isfile(os.path.join(dirname, f))]"
   ]
  },
  {
   "cell_type": "code",
   "execution_count": null,
   "metadata": {},
   "outputs": [],
   "source": [
    "[f for f  in os.listdir(dirname) if os.path.isdir(os.path.join(dirname, f))]"
   ]
  },
  {
   "cell_type": "code",
   "execution_count": null,
   "metadata": {},
   "outputs": [],
   "source": [
    "help(os.path)"
   ]
  },
  {
   "cell_type": "markdown",
   "metadata": {},
   "source": [
    "### Использование virtualenv, conda env, docker"
   ]
  },
  {
   "cell_type": "markdown",
   "metadata": {},
   "source": [
    "Со временем использование глобального Python ведет к аду с зависимостями.\n",
    "Для того, чтобы изолировать своё окружение используются следующие инструменты:\n",
    "\n",
    "* virtualenv\n",
    "* conda env\n",
    "* docker"
   ]
  },
  {
   "cell_type": "markdown",
   "metadata": {},
   "source": [
    " [virtualenv-cheatsheet](https://aaronlelevier.github.io/virtualenv-cheatsheet/)\n",
    "    \n",
    "[conda environments](https://docs.conda.io/projects/conda/en/latest/user-guide/tasks/manage-environments.html)\n",
    "\n",
    "[docker](https://ru.wikipedia.org/wiki/Docker)"
   ]
  },
  {
   "cell_type": "markdown",
   "metadata": {},
   "source": [
    "### Статический анализ кода\n",
    "\n",
    "https://pylint.org/\n",
    "\n",
    "Статический анализатор __pylint__ позволяет:\n",
    "\n",
    "* Проверить код на соответствие стандарту (например, PEP-8)\n",
    "* Найти некоторые ошибки\n",
    "* Дать советы по рефакторингу кода\n",
    "\n",
    "pylint myfile.py"
   ]
  },
  {
   "cell_type": "markdown",
   "metadata": {},
   "source": [
    "#### Литература"
   ]
  },
  {
   "cell_type": "markdown",
   "metadata": {},
   "source": [
    "* Читайте документацию, PEP-ы\n",
    "* Dan Bader, Python Tricks \n",
    "https://realpython.com/products/python-tricks-book/\n"
   ]
  }
 ],
 "metadata": {
  "kernelspec": {
   "display_name": "Python 3",
   "language": "python",
   "name": "python3"
  },
  "language_info": {
   "codemirror_mode": {
    "name": "ipython",
    "version": 3
   },
   "file_extension": ".py",
   "mimetype": "text/x-python",
   "name": "python",
   "nbconvert_exporter": "python",
   "pygments_lexer": "ipython3",
   "version": "3.7.7"
  }
 },
 "nbformat": 4,
 "nbformat_minor": 4
}
