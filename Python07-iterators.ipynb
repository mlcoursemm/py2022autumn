{
 "cells": [
  {
   "cell_type": "markdown",
   "metadata": {},
   "source": [
    "![alt text](Python07-iterators_extra/logo.png) "
   ]
  },
  {
   "cell_type": "markdown",
   "metadata": {},
   "source": [
    "# Итераторы, генераторы, декораторы"
   ]
  },
  {
   "cell_type": "markdown",
   "metadata": {},
   "source": [
    "Тема непростая, будем слегка жертвовать формализмом и точностью в пользу понятности, а существование некотрых вещей вообще проигнорируем. Те из вас, кто захотят больше деталей и чётких формулировок найдут их в избытке в документации и интернете."
   ]
  },
  {
   "cell_type": "markdown",
   "metadata": {},
   "source": [
    "# Итераторы"
   ]
  },
  {
   "cell_type": "markdown",
   "metadata": {},
   "source": [
    "Давайте вспомним цикл for, который мы прошли в лекции основы питона 2, и еще раз на него посмотрим."
   ]
  },
  {
   "cell_type": "code",
   "execution_count": 1,
   "metadata": {},
   "outputs": [
    {
     "name": "stdout",
     "output_type": "stream",
     "text": [
      "0\n",
      "1\n",
      "2\n",
      "3\n",
      "4\n"
     ]
    }
   ],
   "source": [
    "for number in range(5):\n",
    "    print (number)"
   ]
  },
  {
   "cell_type": "code",
   "execution_count": 2,
   "metadata": {},
   "outputs": [
    {
     "name": "stdout",
     "output_type": "stream",
     "text": [
      "H\n",
      "e\n",
      "l\n",
      "l\n",
      "o\n",
      " \n",
      "w\n",
      "o\n",
      "r\n",
      "l\n",
      "d\n"
     ]
    }
   ],
   "source": [
    "for letter in 'Hello world':\n",
    "    print (letter)"
   ]
  },
  {
   "cell_type": "code",
   "execution_count": 3,
   "metadata": {},
   "outputs": [
    {
     "name": "stdout",
     "output_type": "stream",
     "text": [
      "Name\n",
      "Age\n",
      "Gender\n"
     ]
    }
   ],
   "source": [
    "for key in {'Name':'John', \n",
    "            'Age':15, \n",
    "            'Gender':'Male', \n",
    "           }:\n",
    "    print (key)"
   ]
  },
  {
   "cell_type": "code",
   "execution_count": 4,
   "metadata": {},
   "outputs": [
    {
     "name": "stdout",
     "output_type": "stream",
     "text": [
      "Today we have an outstanding topic!\n",
      "\n",
      "Iterators are amazing!!\n",
      "\n",
      "You gonna love it!!\n",
      "\n"
     ]
    }
   ],
   "source": [
    "for line in open('Python07-iterators_extra/motivation.txt', 'r'):\n",
    "    print (line)"
   ]
  },
  {
   "cell_type": "code",
   "execution_count": 5,
   "metadata": {},
   "outputs": [
    {
     "name": "stdout",
     "output_type": "stream",
     "text": [
      "0\n",
      "1\n",
      "2\n",
      "3\n",
      "4\n",
      "5\n"
     ]
    }
   ],
   "source": [
    "for element in [0,1,2,3,4,5]:\n",
    "    print (element)"
   ]
  },
  {
   "cell_type": "markdown",
   "metadata": {},
   "source": [
    "То есть мы что, можем идти циклом по любому объекту? А это вообще законно?\n",
    "\n",
    "Давайте разбираться, как мы помним из лекции про ООП - все объекты являются классами. Рассмотрим их методы"
   ]
  },
  {
   "cell_type": "code",
   "execution_count": 6,
   "metadata": {},
   "outputs": [
    {
     "data": {
      "text/plain": [
       "['__bool__',\n",
       " '__class__',\n",
       " '__contains__',\n",
       " '__delattr__',\n",
       " '__dir__',\n",
       " '__doc__',\n",
       " '__eq__',\n",
       " '__format__',\n",
       " '__ge__',\n",
       " '__getattribute__',\n",
       " '__getitem__',\n",
       " '__gt__',\n",
       " '__hash__',\n",
       " '__init__',\n",
       " '__init_subclass__',\n",
       " '__iter__',\n",
       " '__le__',\n",
       " '__len__',\n",
       " '__lt__',\n",
       " '__ne__',\n",
       " '__new__',\n",
       " '__reduce__',\n",
       " '__reduce_ex__',\n",
       " '__repr__',\n",
       " '__reversed__',\n",
       " '__setattr__',\n",
       " '__sizeof__',\n",
       " '__str__',\n",
       " '__subclasshook__',\n",
       " 'count',\n",
       " 'index',\n",
       " 'start',\n",
       " 'step',\n",
       " 'stop']"
      ]
     },
     "execution_count": 6,
     "metadata": {},
     "output_type": "execute_result"
    }
   ],
   "source": [
    "dir(range(5))"
   ]
  },
  {
   "cell_type": "code",
   "execution_count": 7,
   "metadata": {},
   "outputs": [
    {
     "data": {
      "text/plain": [
       "['__class__',\n",
       " '__contains__',\n",
       " '__delattr__',\n",
       " '__delitem__',\n",
       " '__dir__',\n",
       " '__doc__',\n",
       " '__eq__',\n",
       " '__format__',\n",
       " '__ge__',\n",
       " '__getattribute__',\n",
       " '__getitem__',\n",
       " '__gt__',\n",
       " '__hash__',\n",
       " '__init__',\n",
       " '__init_subclass__',\n",
       " '__iter__',\n",
       " '__le__',\n",
       " '__len__',\n",
       " '__lt__',\n",
       " '__ne__',\n",
       " '__new__',\n",
       " '__reduce__',\n",
       " '__reduce_ex__',\n",
       " '__repr__',\n",
       " '__reversed__',\n",
       " '__setattr__',\n",
       " '__setitem__',\n",
       " '__sizeof__',\n",
       " '__str__',\n",
       " '__subclasshook__',\n",
       " 'clear',\n",
       " 'copy',\n",
       " 'fromkeys',\n",
       " 'get',\n",
       " 'items',\n",
       " 'keys',\n",
       " 'pop',\n",
       " 'popitem',\n",
       " 'setdefault',\n",
       " 'update',\n",
       " 'values']"
      ]
     },
     "execution_count": 7,
     "metadata": {},
     "output_type": "execute_result"
    }
   ],
   "source": [
    "dir({'Name':'John', \n",
    "            'Age':15, \n",
    "            'Gender':'Male', \n",
    "           })"
   ]
  },
  {
   "cell_type": "markdown",
   "metadata": {},
   "source": [
    "Метод  *\\_\\_iter*\\_\\_  возвращает итератор для заданного объекта. ![alt text](Python07-iterators_extra/iterator.jpg) \n",
    "\n",
    "Итератор - это такой объект, который имплементирует протокол итерирования. Если сказать попроще, то итератор помнит текущее состояние и знает как выбирать следующий элемент объекта, над которым он построен."
   ]
  },
  {
   "cell_type": "code",
   "execution_count": 8,
   "metadata": {},
   "outputs": [
    {
     "name": "stdout",
     "output_type": "stream",
     "text": [
      "<list_iterator object at 0x7f62746298b0>\n"
     ]
    }
   ],
   "source": [
    "my_list = [0,1,2,3,4,5,6,7,8,9]\n",
    "my_iter = iter(my_list)\n",
    "print(my_iter)"
   ]
  },
  {
   "cell_type": "markdown",
   "metadata": {},
   "source": [
    "Метод *\\_\\_next*\\_\\_ возвращает объект соответствующий текущему состоянию итератора и переходит к следующему, согласно заданному алгоритму (в тривиальном случае - k+1й объект). Делать это можно до тех пор, пока не получим ислючение **StopIteration**. С исключениями разбирались в лекции про Python Best Practices."
   ]
  },
  {
   "cell_type": "code",
   "execution_count": 18,
   "metadata": {},
   "outputs": [
    {
     "name": "stdout",
     "output_type": "stream",
     "text": [
      "9\n"
     ]
    }
   ],
   "source": [
    "print(my_iter.__next__()) # Выглядит жутковато"
   ]
  },
  {
   "cell_type": "code",
   "execution_count": 19,
   "metadata": {},
   "outputs": [
    {
     "ename": "StopIteration",
     "evalue": "",
     "output_type": "error",
     "traceback": [
      "\u001b[0;31m---------------------------------------------------------------------------\u001b[0m",
      "\u001b[0;31mStopIteration\u001b[0m                             Traceback (most recent call last)",
      "Cell \u001b[0;32mIn [19], line 1\u001b[0m\n\u001b[0;32m----> 1\u001b[0m \u001b[38;5;28mprint\u001b[39m(\u001b[38;5;28;43mnext\u001b[39;49m\u001b[43m(\u001b[49m\u001b[43mmy_iter\u001b[49m\u001b[43m)\u001b[49m)\n",
      "\u001b[0;31mStopIteration\u001b[0m: "
     ]
    }
   ],
   "source": [
    "print(next(my_iter)) # Вроде как-то попривычнее"
   ]
  },
  {
   "cell_type": "code",
   "execution_count": 17,
   "metadata": {},
   "outputs": [
    {
     "data": {
      "text/plain": [
       "8"
      ]
     },
     "execution_count": 17,
     "metadata": {},
     "output_type": "execute_result"
    }
   ],
   "source": [
    "# Будем делать так, чтобы уменьшить синтаксическую нагрузку\n",
    "next(my_iter) "
   ]
  },
  {
   "cell_type": "markdown",
   "metadata": {},
   "source": [
    "**Важное свойство итератора - он не хранит объект в памяти.**"
   ]
  },
  {
   "cell_type": "code",
   "execution_count": 20,
   "metadata": {},
   "outputs": [
    {
     "name": "stdout",
     "output_type": "stream",
     "text": [
      "0\n",
      "1\n"
     ]
    }
   ],
   "source": [
    "my_list = [0,1,2,3,4,5,6,7,8,9]\n",
    "my_iter = iter(my_list)\n",
    "print(next(my_iter))\n",
    "print(next(my_iter))"
   ]
  },
  {
   "cell_type": "code",
   "execution_count": 21,
   "metadata": {},
   "outputs": [],
   "source": [
    "# Подменим объект не трогая итератор\n",
    "my_list[3] = 'let put a string here'\n",
    "my_list[4] = 'iterator does not care'"
   ]
  },
  {
   "cell_type": "code",
   "execution_count": 24,
   "metadata": {},
   "outputs": [
    {
     "name": "stdout",
     "output_type": "stream",
     "text": [
      "iterator does not care\n"
     ]
    }
   ],
   "source": [
    "# Выполним несколько раз\n",
    "print(next(my_iter))"
   ]
  },
  {
   "cell_type": "markdown",
   "metadata": {},
   "source": [
    "Метод  *\\_\\_iter*\\_\\_ может возвращать self (т.е. себя), то есть итератор от итератора - тоже итератор, причём тот же самый. ![alt text](Python07-iterators_extra/more_iterators.jpg) Мы в текущей лекции не будем уделять этому много внимания, но это очень важное и постоянно используемое свойство. Давайте взглянём:"
   ]
  },
  {
   "cell_type": "code",
   "execution_count": 25,
   "metadata": {},
   "outputs": [],
   "source": [
    "my_list = [0,1,2,3,4,5]\n",
    "my_iter1 = iter(my_list)\n",
    "my_iter2 = iter(my_iter1)"
   ]
  },
  {
   "cell_type": "code",
   "execution_count": 26,
   "metadata": {},
   "outputs": [
    {
     "name": "stdout",
     "output_type": "stream",
     "text": [
      "<list_iterator object at 0x7f627404a2b0>\n",
      "<list_iterator object at 0x7f627404a2b0>\n",
      "True\n"
     ]
    }
   ],
   "source": [
    "print (my_iter1)\n",
    "print (my_iter2)\n",
    "print (my_iter1 == my_iter2)"
   ]
  },
  {
   "cell_type": "code",
   "execution_count": 27,
   "metadata": {},
   "outputs": [
    {
     "data": {
      "text/plain": [
       "0"
      ]
     },
     "execution_count": 27,
     "metadata": {},
     "output_type": "execute_result"
    }
   ],
   "source": [
    "next(my_iter2)"
   ]
  },
  {
   "cell_type": "code",
   "execution_count": 28,
   "metadata": {},
   "outputs": [
    {
     "data": {
      "text/plain": [
       "1"
      ]
     },
     "execution_count": 28,
     "metadata": {},
     "output_type": "execute_result"
    }
   ],
   "source": [
    "# Чтобы было понятнее, итераторы не просто одинаковые, это тот самый итератор!\n",
    "next(my_iter1)"
   ]
  },
  {
   "cell_type": "markdown",
   "metadata": {},
   "source": [
    "Если быть достаточно наблюдательным, то можно заметить, что метод *\\_\\_next*\\_\\_ вообще-то отсутствует у наших исходных объектов. \n",
    "\n",
    "Однако он появляется когда мы делаем из него итератор"
   ]
  },
  {
   "cell_type": "code",
   "execution_count": 29,
   "metadata": {},
   "outputs": [
    {
     "data": {
      "text/plain": [
       "['__add__',\n",
       " '__class__',\n",
       " '__contains__',\n",
       " '__delattr__',\n",
       " '__delitem__',\n",
       " '__dir__',\n",
       " '__doc__',\n",
       " '__eq__',\n",
       " '__format__',\n",
       " '__ge__',\n",
       " '__getattribute__',\n",
       " '__getitem__',\n",
       " '__gt__',\n",
       " '__hash__',\n",
       " '__iadd__',\n",
       " '__imul__',\n",
       " '__init__',\n",
       " '__init_subclass__',\n",
       " '__iter__',\n",
       " '__le__',\n",
       " '__len__',\n",
       " '__lt__',\n",
       " '__mul__',\n",
       " '__ne__',\n",
       " '__new__',\n",
       " '__reduce__',\n",
       " '__reduce_ex__',\n",
       " '__repr__',\n",
       " '__reversed__',\n",
       " '__rmul__',\n",
       " '__setattr__',\n",
       " '__setitem__',\n",
       " '__sizeof__',\n",
       " '__str__',\n",
       " '__subclasshook__',\n",
       " 'append',\n",
       " 'clear',\n",
       " 'copy',\n",
       " 'count',\n",
       " 'extend',\n",
       " 'index',\n",
       " 'insert',\n",
       " 'pop',\n",
       " 'remove',\n",
       " 'reverse',\n",
       " 'sort']"
      ]
     },
     "execution_count": 29,
     "metadata": {},
     "output_type": "execute_result"
    }
   ],
   "source": [
    "dir(my_list)"
   ]
  },
  {
   "cell_type": "code",
   "execution_count": 30,
   "metadata": {},
   "outputs": [
    {
     "data": {
      "text/plain": [
       "['__class__',\n",
       " '__delattr__',\n",
       " '__dir__',\n",
       " '__doc__',\n",
       " '__eq__',\n",
       " '__format__',\n",
       " '__ge__',\n",
       " '__getattribute__',\n",
       " '__gt__',\n",
       " '__hash__',\n",
       " '__init__',\n",
       " '__init_subclass__',\n",
       " '__iter__',\n",
       " '__le__',\n",
       " '__length_hint__',\n",
       " '__lt__',\n",
       " '__ne__',\n",
       " '__new__',\n",
       " '__next__',\n",
       " '__reduce__',\n",
       " '__reduce_ex__',\n",
       " '__repr__',\n",
       " '__setattr__',\n",
       " '__setstate__',\n",
       " '__sizeof__',\n",
       " '__str__',\n",
       " '__subclasshook__']"
      ]
     },
     "execution_count": 30,
     "metadata": {},
     "output_type": "execute_result"
    }
   ],
   "source": [
    "dir(iter(my_list))"
   ]
  },
  {
   "cell_type": "code",
   "execution_count": 31,
   "metadata": {},
   "outputs": [
    {
     "name": "stdout",
     "output_type": "stream",
     "text": [
      "iterable\n"
     ]
    }
   ],
   "source": [
    "# Как проверить объект на итерируемость\n",
    "my_object = [1,2,3]\n",
    "#my_object = 2\n",
    "#my_object = 'hello'\n",
    "try:\n",
    "    iter(my_object)\n",
    "    print('iterable')\n",
    "except:\n",
    "    print('not iterable')    "
   ]
  },
  {
   "cell_type": "markdown",
   "metadata": {},
   "source": [
    "С try/except тоже будем разбираться в другой лекции. Если кратко и неправильно, то при ошибке вместо выпадания мы перескочим к исключению"
   ]
  },
  {
   "cell_type": "markdown",
   "metadata": {},
   "source": [
    "Логика подсказывала, что итерироваться по числу как-то некорректно. Так и есть, делать этого нельзя.\n",
    "\n",
    "Заметим, что итерироваться по объекту можно не только при помощи iter и next, но ещё и иначе, посредством метода *\\_\\_getitem*\\_\\_. Мы не будем его подробно рассматривать, отметим только что в отличии от iter который хранит состояние внутри итератора, getitem его не хранит, принимая его снаружи, со всеми вытекающими достоинствами и недостатками. В стародавние времена это был основной протокол итерирования (в python<2.4), теперь, видимо, можно считать его устаревшим и оставшимся нам по наследству во всех старых кодах. Просто не удивляйтесь при встрече."
   ]
  },
  {
   "cell_type": "code",
   "execution_count": 32,
   "metadata": {},
   "outputs": [
    {
     "name": "stdout",
     "output_type": "stream",
     "text": [
      "15\n"
     ]
    }
   ],
   "source": [
    "a = [12,13,14,15,16,17]\n",
    "b = a.__getitem__(3)\n",
    "print(b)"
   ]
  },
  {
   "cell_type": "markdown",
   "metadata": {},
   "source": [
    "Давайте рассмотрим **range**, это даст нам новый взгляд на итераторы. Допустим, нам надо проитерироваться по какому-то очень большому циклу. Втупую, для этого пришлось бы записать всю последовательность элементов в память, создать итератор, и идти от предыдущего к следующему много раз. Но держать в памяти этот огромный объект не слишком-то хотелось бы. Тут нас и выручают итераторы, которые не держат в памяти объект, а знают только своё текущее состояние и закон по которому выбираем следующий элемент."
   ]
  },
  {
   "cell_type": "code",
   "execution_count": 33,
   "metadata": {},
   "outputs": [
    {
     "name": "stdout",
     "output_type": "stream",
     "text": [
      "range(0, 5)\n",
      "<class 'range'>\n"
     ]
    }
   ],
   "source": [
    "# range не существует в каком-то полном запомненном/записанном виде\n",
    "print(range(5)) \n",
    "print(type(range(5)))"
   ]
  },
  {
   "cell_type": "code",
   "execution_count": 34,
   "metadata": {},
   "outputs": [
    {
     "ename": "TypeError",
     "evalue": "'range' object is not an iterator",
     "output_type": "error",
     "traceback": [
      "\u001b[0;31m---------------------------------------------------------------------------\u001b[0m",
      "\u001b[0;31mTypeError\u001b[0m                                 Traceback (most recent call last)",
      "Cell \u001b[0;32mIn [34], line 3\u001b[0m\n\u001b[1;32m      1\u001b[0m a \u001b[38;5;241m=\u001b[39m \u001b[38;5;28mrange\u001b[39m(\u001b[38;5;241m5\u001b[39m)\n\u001b[1;32m      2\u001b[0m \u001b[38;5;66;03m# Но range на самом деле не итератор, это итерируемый объект\u001b[39;00m\n\u001b[0;32m----> 3\u001b[0m \u001b[38;5;28;43mnext\u001b[39;49m\u001b[43m(\u001b[49m\u001b[43ma\u001b[49m\u001b[43m)\u001b[49m\n",
      "\u001b[0;31mTypeError\u001b[0m: 'range' object is not an iterator"
     ]
    }
   ],
   "source": [
    "a = range(5)\n",
    "# Но range на самом деле не итератор, это итерируемый объект\n",
    "next(a)"
   ]
  },
  {
   "cell_type": "code",
   "execution_count": 35,
   "metadata": {},
   "outputs": [],
   "source": [
    "# А вот это - итератор по range\n",
    "my_iter = iter(a) "
   ]
  },
  {
   "cell_type": "code",
   "execution_count": 36,
   "metadata": {},
   "outputs": [
    {
     "data": {
      "text/plain": [
       "0"
      ]
     },
     "execution_count": 36,
     "metadata": {},
     "output_type": "execute_result"
    }
   ],
   "source": [
    "next(my_iter)"
   ]
  },
  {
   "cell_type": "code",
   "execution_count": 37,
   "metadata": {},
   "outputs": [
    {
     "data": {
      "text/plain": [
       "<range_iterator at 0x7f6274034390>"
      ]
     },
     "execution_count": 37,
     "metadata": {},
     "output_type": "execute_result"
    }
   ],
   "source": [
    "# Давайте проверим, а вдруг теперь когда мы сделали над range итератор, там всё же записали весь объект\n",
    "my_iter"
   ]
  },
  {
   "cell_type": "markdown",
   "metadata": {},
   "source": [
    "**Внимание, важно!**\n",
    "\n",
    "Мы создали объект не записывая его в память и идём по нему, не держа в памяти ничего кроме текущего положения. Это очень быстро"
   ]
  },
  {
   "cell_type": "code",
   "execution_count": 38,
   "metadata": {},
   "outputs": [
    {
     "data": {
      "text/plain": [
       "[1, 2, 3, 4]"
      ]
     },
     "execution_count": 38,
     "metadata": {},
     "output_type": "execute_result"
    }
   ],
   "source": [
    "# Однако, если очень хочется, мы можем попросить его сделать. \n",
    "list(my_iter)"
   ]
  },
  {
   "cell_type": "markdown",
   "metadata": {},
   "source": [
    "Все заметили что список начался не с нуля? Дело в том, что когда мы просим сделать, например, список от итератора, то происходит вот что, начиная с текущего состояния он начинает просить у итератора следующий элемент и писать в список, пока не дойдёт до конца. "
   ]
  },
  {
   "cell_type": "markdown",
   "metadata": {},
   "source": [
    "Ну, раз уж мы знаем ООП, давайте напишем свой класс с итератором. Это поможет нам лучше понять на что надо обращать внимание и как вообще их писать "
   ]
  },
  {
   "cell_type": "code",
   "execution_count": 39,
   "metadata": {},
   "outputs": [],
   "source": [
    "class NaiveRange():\n",
    "    def __init__(self, start, end):\n",
    "        self.end = end\n",
    "        self.ind = start\n",
    "        \n",
    "    def __iter__(self):\n",
    "        return self\n",
    "    \n",
    "    def __next__(self):\n",
    "        if self.ind >= self.end:\n",
    "            raise StopIteration  # С этим будем разбираться в другой лекции. Если просто - \"упади с ТАКОЙ ошибкой\"\n",
    "        self.ind += 1\n",
    "        return (self.ind - 1)"
   ]
  },
  {
   "cell_type": "code",
   "execution_count": 40,
   "metadata": {},
   "outputs": [],
   "source": [
    "my_range = NaiveRange(3,9)"
   ]
  },
  {
   "cell_type": "code",
   "execution_count": 41,
   "metadata": {},
   "outputs": [
    {
     "data": {
      "text/plain": [
       "[3, 4, 5, 6, 7, 8]"
      ]
     },
     "execution_count": 41,
     "metadata": {},
     "output_type": "execute_result"
    }
   ],
   "source": [
    "# Давайте ещё раз попросим список и рассмотрим детальнее.\n",
    "list(my_range)"
   ]
  },
  {
   "cell_type": "code",
   "execution_count": 42,
   "metadata": {},
   "outputs": [
    {
     "data": {
      "text/plain": [
       "[]"
      ]
     },
     "execution_count": 42,
     "metadata": {},
     "output_type": "execute_result"
    }
   ],
   "source": [
    "# А что если ещё разок?\n",
    "list(my_range)"
   ]
  },
  {
   "cell_type": "markdown",
   "metadata": {},
   "source": [
    "Дело в том, что архитектура нашего класса не позволяет индексу вернуться к исходному состоянию без ре-инициализации, итератор пройден до конца, и с этим ничего не поделать. Такая итерация называется **исчерпаемой**. Пример: итерация по файлу. Мы можем его открыть и по мере прочтения достигнем конца. Конечно есть всякие трюки, но базово мы можем прочитать файл только раз, далее должны открыть его заново (и ре-инициализировать итератор).\n",
    "\n",
    "Давайте теперь построим неисчераемый итератор."
   ]
  },
  {
   "cell_type": "code",
   "execution_count": 43,
   "metadata": {},
   "outputs": [],
   "source": [
    "class BaseIter():\n",
    "    def __init__(self, start, end):\n",
    "        self.end = end\n",
    "        self.ind = start\n",
    "        \n",
    "    def __next__(self):\n",
    "        if self.ind == self.end:\n",
    "            raise StopIteration\n",
    "        self.ind += 1\n",
    "        return (self.ind -1)\n",
    "    \n",
    "    \n",
    "class AdvancedRange():\n",
    "    def __init__(self, start, end):\n",
    "        self.end = end\n",
    "        self.start = start\n",
    "        \n",
    "    def __iter__(self):\n",
    "        return BaseIter(self.start, self.end)"
   ]
  },
  {
   "cell_type": "code",
   "execution_count": 44,
   "metadata": {},
   "outputs": [],
   "source": [
    "my_range = AdvancedRange(3,9)"
   ]
  },
  {
   "cell_type": "code",
   "execution_count": 45,
   "metadata": {},
   "outputs": [
    {
     "data": {
      "text/plain": [
       "[3, 4, 5, 6, 7, 8]"
      ]
     },
     "execution_count": 45,
     "metadata": {},
     "output_type": "execute_result"
    }
   ],
   "source": [
    "list(my_range)"
   ]
  },
  {
   "cell_type": "code",
   "execution_count": 46,
   "metadata": {},
   "outputs": [
    {
     "data": {
      "text/plain": [
       "[3, 4, 5, 6, 7, 8]"
      ]
     },
     "execution_count": 46,
     "metadata": {},
     "output_type": "execute_result"
    }
   ],
   "source": [
    "list(my_range)"
   ]
  },
  {
   "cell_type": "markdown",
   "metadata": {},
   "source": [
    "Теперь, при вызове итератора, мы создаем объект класса BaseIter и можем так делать сколько угодно раз, и каждый из них будет держать в своей памяти своё состояние, не мешая остальным итерироваться. Это, соответственно, **неисчерпаемая** итерация. Пример: список, словарь."
   ]
  },
  {
   "cell_type": "markdown",
   "metadata": {},
   "source": [
    "Теперь, с учётом полученных сведений, давайте вернёмся к тому с чего начинали лекцию. \n",
    "\n",
    "**Псевдокод для цикла for** (он примерно так и организован)"
   ]
  },
  {
   "cell_type": "markdown",
   "metadata": {},
   "source": [
    "```python\n",
    "some_iter = iter(some_object)\n",
    "while True:    \n",
    "    try:        \n",
    "        some_value = next(some_iter)        \n",
    "    except StopIteration:        \n",
    "        break        \n",
    "    do_smth(some_value)\n",
    "```"
   ]
  },
  {
   "cell_type": "markdown",
   "metadata": {},
   "source": [
    "# Генераторы"
   ]
  },
  {
   "cell_type": "markdown",
   "metadata": {},
   "source": [
    "Идея следующая. Сделаем такую функцию, которая будет по какому-то входному параметру создавать итераторы. Ключевой является команда **yield**, которая работает примерно как *return* только при следующем обращении проход по телу будет осуществляться не с начала, а с места где мы закончили. Разберём пару примеров и станет ясно зачем это всё надо. \n",
    "![alt text](Python07-iterators_extra/iter_vs_gen.svg)"
   ]
  },
  {
   "cell_type": "code",
   "execution_count": 47,
   "metadata": {},
   "outputs": [],
   "source": [
    "def my_first_genertor(var):\n",
    "    yield 'first launch'\n",
    "    yield 'second launch'\n",
    "    some_result = var*3+2\n",
    "    yield some_result\n",
    "    yield 'last launch'\n",
    "    print ('Done, no more yields, only an exception - StopIteration')"
   ]
  },
  {
   "cell_type": "code",
   "execution_count": 48,
   "metadata": {},
   "outputs": [],
   "source": [
    "my_gen = my_first_genertor(2)\n",
    "#list(my_gen)"
   ]
  },
  {
   "cell_type": "code",
   "execution_count": 53,
   "metadata": {},
   "outputs": [
    {
     "name": "stdout",
     "output_type": "stream",
     "text": [
      "Done, no more yields, only an exception - StopIteration\n"
     ]
    },
    {
     "ename": "StopIteration",
     "evalue": "",
     "output_type": "error",
     "traceback": [
      "\u001b[0;31m---------------------------------------------------------------------------\u001b[0m",
      "\u001b[0;31mStopIteration\u001b[0m                             Traceback (most recent call last)",
      "Cell \u001b[0;32mIn [53], line 1\u001b[0m\n\u001b[0;32m----> 1\u001b[0m \u001b[38;5;28;43mnext\u001b[39;49m\u001b[43m(\u001b[49m\u001b[43mmy_gen\u001b[49m\u001b[43m)\u001b[49m\n",
      "\u001b[0;31mStopIteration\u001b[0m: "
     ]
    }
   ],
   "source": [
    "next(my_gen)"
   ]
  },
  {
   "cell_type": "markdown",
   "metadata": {},
   "source": [
    "Далее, сколько бы мы не вызывали, если не ре-инициализировать генератор, то он больше ничего не выдаст. Генератор **исчерпался**. \n",
    "\n",
    "**Return** же в свою очередь в генераторе не работает как обычно, а работает исключительно как *StopIteration*. Если return не написать, то он подразумевается в конце."
   ]
  },
  {
   "cell_type": "code",
   "execution_count": 54,
   "metadata": {},
   "outputs": [],
   "source": [
    "def my_second_genertor(var):\n",
    "    yield 'first launch'\n",
    "    return 'second launch' # Заменим yield на return\n",
    "    some_result = var*3+2\n",
    "    yield some_result\n",
    "    yield 'last launch'\n",
    "    print ('Done, no more yields, only an exception - StopIteration')"
   ]
  },
  {
   "cell_type": "code",
   "execution_count": 55,
   "metadata": {},
   "outputs": [],
   "source": [
    "my_gen = my_second_genertor(2)\n",
    "#list(gen)"
   ]
  },
  {
   "cell_type": "code",
   "execution_count": 56,
   "metadata": {},
   "outputs": [
    {
     "data": {
      "text/plain": [
       "'first launch'"
      ]
     },
     "execution_count": 56,
     "metadata": {},
     "output_type": "execute_result"
    }
   ],
   "source": [
    "next(my_gen)"
   ]
  },
  {
   "cell_type": "markdown",
   "metadata": {},
   "source": [
    "Заметим, что запустив повторно мы больше не переходим к следующему yield. Генератор исчерпался по исключению, не зависимо от того есть ли там ещё yield. "
   ]
  },
  {
   "cell_type": "markdown",
   "metadata": {},
   "source": [
    "**Важное замечание** Кроме описанного обычного завершения, стандартные генераторы можно завершить снаружи при помощи метода close. Этот метод вызывается, в том числе, принудительной остановкой и работает через исключение *GeneratorExit*. При самостоятельной реализации метода close, надо учитывать, что **GeneratorExit не отлавливается как базовое исключение**, и если не прописать его в явном виде при имплементации своего генератора, то есть шанс утратить возможность принудительной остановки, и никакие *Ctrl+C* не отработают. Уже после принудительной остановки, дальнейшие вызовы также получат *StopIteration*."
   ]
  },
  {
   "cell_type": "markdown",
   "metadata": {},
   "source": [
    "Выглядеть должно как-то так. Выглядит усложненным, но это близко к настоящей реализации.\n",
    "```python\n",
    "def safe_gen():\n",
    "    closed = False\n",
    "    try:\n",
    "        yield 'check '\n",
    "    except GeneratorExit:\n",
    "        print('exit!')\n",
    "        closed = True\n",
    "        raise StopIteration\n",
    "    finally:\n",
    "        if not closed:\n",
    "            print('worked!')\n",
    "\n",
    "```"
   ]
  },
  {
   "cell_type": "markdown",
   "metadata": {},
   "source": [
    "Зачем же нам всё это может нам понадобиться? Давайте вспомним одну классную *штуку* которую мы видели на второй лекции"
   ]
  },
  {
   "cell_type": "code",
   "execution_count": 57,
   "metadata": {},
   "outputs": [
    {
     "name": "stdout",
     "output_type": "stream",
     "text": [
      "0 zero\n",
      "1 one\n",
      "2 two\n",
      "3 three\n",
      "4 four\n"
     ]
    }
   ],
   "source": [
    "nums = ['zero', 'one', 'two', 'three', 'four']\n",
    "for index, number in enumerate(nums):\n",
    "    print(index, number)"
   ]
  },
  {
   "cell_type": "markdown",
   "metadata": {},
   "source": [
    "**Enumerate** при итерации по объекту присваивает порядковые номера объектам, очень удобно и рекомендуется к использованию. *Enumerate* ни что иное как генератор, и может быть записано следующим образом"
   ]
  },
  {
   "cell_type": "code",
   "execution_count": 58,
   "metadata": {},
   "outputs": [],
   "source": [
    "def my_enumerate(iterable_object):\n",
    "    ind = 0\n",
    "    for smth in iterable_object:\n",
    "        yield ind, smth\n",
    "        ind += 1"
   ]
  },
  {
   "cell_type": "code",
   "execution_count": 59,
   "metadata": {},
   "outputs": [
    {
     "name": "stdout",
     "output_type": "stream",
     "text": [
      "0 zero\n",
      "1 one\n",
      "2 two\n",
      "3 three\n",
      "4 four\n"
     ]
    }
   ],
   "source": [
    "for index, number in my_enumerate(nums):\n",
    "    print(index, number)"
   ]
  },
  {
   "cell_type": "markdown",
   "metadata": {},
   "source": [
    "Когда встречаешь что-то такое первый раз, то невольно возникает мысль \"Ну написали цикл в функции, и зачем это всё? Я и сам могу цикл написать и безо всяких генераторов\". Однако, стоит обратить внимание на то, что генератор (он ведь тоже итератор!) не держит в памяти полностью записанный объект, вместо этого просто обращается к методу *next*, и это очень важно."
   ]
  },
  {
   "cell_type": "code",
   "execution_count": null,
   "metadata": {},
   "outputs": [],
   "source": [
    "print(my_enumerate(nums))"
   ]
  },
  {
   "cell_type": "markdown",
   "metadata": {},
   "source": [
    "Давайте рассмотрим ещё несколько генераторов"
   ]
  },
  {
   "cell_type": "code",
   "execution_count": null,
   "metadata": {},
   "outputs": [],
   "source": [
    "# map(func, smth_iterable) применяет к каждом элементу функцию func\n",
    "double = map(lambda x: x + x, nums) \n",
    "print(double)"
   ]
  },
  {
   "cell_type": "code",
   "execution_count": null,
   "metadata": {},
   "outputs": [],
   "source": [
    "print(list(double))"
   ]
  },
  {
   "cell_type": "code",
   "execution_count": null,
   "metadata": {},
   "outputs": [],
   "source": [
    "# Потренируемся, сделаем свой map\n",
    "def my_map(func, iterable_object):\n",
    "    for smth in iterable_object:\n",
    "        yield func(smth)"
   ]
  },
  {
   "cell_type": "code",
   "execution_count": null,
   "metadata": {},
   "outputs": [],
   "source": [
    "my_double = my_map(lambda x: x + x, nums) \n",
    "print(list(my_double))"
   ]
  },
  {
   "cell_type": "code",
   "execution_count": null,
   "metadata": {},
   "outputs": [],
   "source": [
    "# filter(cond, smth_iterable) применяет к каждому элементу проверку по условию cond и отфильтровывает\n",
    "len_filter = filter(lambda x: len(x) > 3, nums)\n",
    "print(list(len_filter))"
   ]
  },
  {
   "cell_type": "code",
   "execution_count": null,
   "metadata": {},
   "outputs": [],
   "source": [
    "# Cделаем свой filter\n",
    "def my_filter(condition, iterable_object):\n",
    "    for smth in iterable_object:\n",
    "        if condition(smth):\n",
    "            yield smth"
   ]
  },
  {
   "cell_type": "code",
   "execution_count": null,
   "metadata": {},
   "outputs": [],
   "source": [
    "# filter(cond, smth_iterable) применяет к каждому элементу проверку по условию cond и отфильтровывает\n",
    "my_len_filter = my_filter(lambda x: len(x) > 3, nums)\n",
    "print(list(my_len_filter))"
   ]
  },
  {
   "cell_type": "markdown",
   "metadata": {},
   "source": [
    "Есть множество полезных генераторов, которые пока ещё не впилили в основной питон (но судя по логам версий - этим занимаются): count, repeat, cycle, chain и другие. Их можно найти в пакете itertools. Давайте посмотрим."
   ]
  },
  {
   "cell_type": "code",
   "execution_count": null,
   "metadata": {},
   "outputs": [],
   "source": [
    "from itertools import repeat\n",
    "# Повторяет то что ему дали"
   ]
  },
  {
   "cell_type": "code",
   "execution_count": null,
   "metadata": {},
   "outputs": [],
   "source": [
    "for var in repeat(5):\n",
    "    print(var)"
   ]
  },
  {
   "cell_type": "code",
   "execution_count": null,
   "metadata": {},
   "outputs": [],
   "source": [
    "from itertools import chain\n",
    "# \"Раскрывает\" итерируемые объекты и делает из них один. Но делает это только на 1 уровень в \"глубину\""
   ]
  },
  {
   "cell_type": "code",
   "execution_count": null,
   "metadata": {},
   "outputs": [],
   "source": [
    "list(chain('A', 'B', [1, 2, 3, None], 'a string', range(4,7)))"
   ]
  },
  {
   "cell_type": "code",
   "execution_count": null,
   "metadata": {},
   "outputs": [],
   "source": [
    "list(chain('A', 'B', [1, 2, 3, 'a string', None], [range(4,7)]))"
   ]
  },
  {
   "cell_type": "code",
   "execution_count": null,
   "metadata": {},
   "outputs": [],
   "source": [
    "from itertools import count\n",
    "# Принимает начальное состояние и шаг и делает с ними бесконечный цикл"
   ]
  },
  {
   "cell_type": "code",
   "execution_count": null,
   "metadata": {},
   "outputs": [],
   "source": [
    "for i in count(0,3):\n",
    "    print(i)"
   ]
  },
  {
   "cell_type": "markdown",
   "metadata": {},
   "source": [
    "Давайте еще рассмотрим такой пример. Допустим у нас есть объект, и мы хотим его перегруппировать в процессе итерации. "
   ]
  },
  {
   "cell_type": "code",
   "execution_count": null,
   "metadata": {},
   "outputs": [],
   "source": [
    "my_object = [0, 1, 2, 'zero', 'one', 'two', 'A', 'B', 'C']\n",
    "my_iter = iter(my_object)\n",
    "print(list(zip(my_iter, my_iter, my_iter)))"
   ]
  },
  {
   "cell_type": "markdown",
   "metadata": {},
   "source": [
    "### Выражения-генераторы"
   ]
  },
  {
   "cell_type": "markdown",
   "metadata": {},
   "source": [
    "Стандарт Pep-289 даёт нам подробные инструкции как надо записывать и вообще как пользоваться выражениями-генераторами https://www.python.org/dev/peps/pep-0289/ \n",
    "Например,"
   ]
  },
  {
   "cell_type": "code",
   "execution_count": 1,
   "metadata": {},
   "outputs": [],
   "source": [
    "def gen(exp):\n",
    "    for x in exp:\n",
    "        yield x**2\n",
    "g = gen(iter(range(10)))\n",
    "\n",
    "# Эквивалентно\n",
    "g = (x**2 for x in range(10))"
   ]
  },
  {
   "cell_type": "markdown",
   "metadata": {},
   "source": [
    "Это удобно краткой записью в одну строку, при этом это не просто выражение, а генератор, со всеми вытекающими преимуществами и свойствами, которые мы ранее изучили. "
   ]
  },
  {
   "cell_type": "markdown",
   "metadata": {},
   "source": [
    "**Расширим функциональность генератора**. Теперь мы хотим не только получать из него следующий элемент по команде, но и как-то более явно в этом участвовать, например посылать в него данные, чтобы получать другие данные. Для этого Используем команду **send**, а принимать данные будем при помощи всё того же *yield*, но немного иначе."
   ]
  },
  {
   "cell_type": "code",
   "execution_count": 6,
   "metadata": {},
   "outputs": [],
   "source": [
    "def gen():\n",
    "    for i in range(10):\n",
    "        x = yield \n",
    "        print(i + x)"
   ]
  },
  {
   "cell_type": "code",
   "execution_count": 7,
   "metadata": {},
   "outputs": [],
   "source": [
    "my_gen = gen()\n",
    "next(my_gen) "
   ]
  },
  {
   "cell_type": "markdown",
   "metadata": {},
   "source": [
    "Могло показаться что мы попросили следующий элемент... но это не так, это обращение к генератору для его инициализации. На самом деле next теперь вообще не работает, ввиду более сложной конструкции."
   ]
  },
  {
   "cell_type": "code",
   "execution_count": 4,
   "metadata": {},
   "outputs": [
    {
     "ename": "TypeError",
     "evalue": "unsupported operand type(s) for +: 'int' and 'NoneType'",
     "output_type": "error",
     "traceback": [
      "\u001b[0;31m---------------------------------------------------------------------------\u001b[0m",
      "\u001b[0;31mTypeError\u001b[0m                                 Traceback (most recent call last)",
      "Cell \u001b[0;32mIn [4], line 1\u001b[0m\n\u001b[0;32m----> 1\u001b[0m \u001b[38;5;28;43mnext\u001b[39;49m\u001b[43m(\u001b[49m\u001b[43mmy_gen\u001b[49m\u001b[43m)\u001b[49m\n",
      "Cell \u001b[0;32mIn [2], line 4\u001b[0m, in \u001b[0;36mgen\u001b[0;34m()\u001b[0m\n\u001b[1;32m      2\u001b[0m \u001b[38;5;28;01mfor\u001b[39;00m i \u001b[38;5;129;01min\u001b[39;00m \u001b[38;5;28mrange\u001b[39m(\u001b[38;5;241m10\u001b[39m):\n\u001b[1;32m      3\u001b[0m     x \u001b[38;5;241m=\u001b[39m \u001b[38;5;28;01myield\u001b[39;00m \n\u001b[0;32m----> 4\u001b[0m     \u001b[38;5;28mprint\u001b[39m(\u001b[43mi\u001b[49m\u001b[43m \u001b[49m\u001b[38;5;241;43m+\u001b[39;49m\u001b[43m \u001b[49m\u001b[43mx\u001b[49m)\n",
      "\u001b[0;31mTypeError\u001b[0m: unsupported operand type(s) for +: 'int' and 'NoneType'"
     ]
    }
   ],
   "source": [
    "next(my_gen)"
   ]
  },
  {
   "cell_type": "markdown",
   "metadata": {},
   "source": [
    "NoneType - это потому что x - None, он не пришёл, и с ним невозможно сложиться.\n",
    "\n",
    "Послать x можно при помощи send"
   ]
  },
  {
   "cell_type": "code",
   "execution_count": 8,
   "metadata": {},
   "outputs": [
    {
     "name": "stdout",
     "output_type": "stream",
     "text": [
      "17\n"
     ]
    }
   ],
   "source": [
    "my_gen.send(17)"
   ]
  },
  {
   "cell_type": "markdown",
   "metadata": {},
   "source": [
    "next(my_gen) эквивалентент my_gen.send(None)"
   ]
  },
  {
   "cell_type": "markdown",
   "metadata": {},
   "source": [
    "![alt text](Python07-iterators_extra/deeper.png) "
   ]
  },
  {
   "cell_type": "markdown",
   "metadata": {},
   "source": [
    "Давайте теперь рассмотрим такой пример, когда у нас есть два генератора, которые общаются между собой "
   ]
  },
  {
   "cell_type": "code",
   "execution_count": 9,
   "metadata": {},
   "outputs": [],
   "source": [
    "import random\n",
    "\n",
    "# Генерим новые данные... но это не генератор! (по определению генератора)\n",
    "def get_data():\n",
    "    return random.sample(range(10), 2)\n",
    "\n",
    "# Обрабатываем данные\n",
    "def consume():\n",
    "    total_sum = 0\n",
    "    total_amount = 0\n",
    "    \n",
    "    while True:\n",
    "        data = yield\n",
    "        total_sum += sum(data)\n",
    "        total_amount += len(data)\n",
    "        print('Running average is {}'.format(total_sum/total_amount))\n",
    "        \n",
    "# Производим новые данные и передаём в обработку\n",
    "def produce(consumer):\n",
    "    while True:\n",
    "        data = get_data()\n",
    "        print('New data {}'.format(data))\n",
    "        consumer.send(data)\n",
    "        yield"
   ]
  },
  {
   "cell_type": "code",
   "execution_count": 10,
   "metadata": {},
   "outputs": [
    {
     "name": "stdout",
     "output_type": "stream",
     "text": [
      "New data [4, 8]\n",
      "Running average is 6.0\n",
      "New data [4, 3]\n",
      "Running average is 4.75\n",
      "New data [6, 3]\n",
      "Running average is 4.666666666666667\n",
      "New data [6, 4]\n",
      "Running average is 4.75\n",
      "New data [8, 9]\n",
      "Running average is 5.5\n",
      "New data [5, 8]\n",
      "Running average is 5.666666666666667\n",
      "New data [1, 7]\n",
      "Running average is 5.428571428571429\n",
      "New data [2, 1]\n",
      "Running average is 4.9375\n",
      "New data [5, 8]\n",
      "Running average is 5.111111111111111\n",
      "New data [6, 0]\n",
      "Running average is 4.9\n",
      "New data [2, 5]\n",
      "Running average is 4.7727272727272725\n",
      "New data [8, 5]\n",
      "Running average is 4.916666666666667\n",
      "New data [2, 9]\n",
      "Running average is 4.961538461538462\n",
      "New data [0, 7]\n",
      "Running average is 4.857142857142857\n",
      "New data [4, 3]\n",
      "Running average is 4.766666666666667\n",
      "New data [6, 8]\n",
      "Running average is 4.90625\n",
      "New data [4, 8]\n",
      "Running average is 4.970588235294118\n",
      "New data [8, 9]\n",
      "Running average is 5.166666666666667\n",
      "New data [4, 1]\n",
      "Running average is 5.026315789473684\n",
      "New data [5, 4]\n",
      "Running average is 5.0\n",
      "New data [3, 1]\n",
      "Running average is 4.857142857142857\n",
      "New data [2, 7]\n",
      "Running average is 4.840909090909091\n",
      "New data [0, 1]\n",
      "Running average is 4.6521739130434785\n",
      "New data [2, 7]\n",
      "Running average is 4.645833333333333\n",
      "New data [3, 7]\n",
      "Running average is 4.66\n",
      "New data [3, 4]\n",
      "Running average is 4.615384615384615\n",
      "New data [5, 2]\n",
      "Running average is 4.574074074074074\n",
      "New data [7, 2]\n",
      "Running average is 4.571428571428571\n",
      "New data [7, 9]\n",
      "Running average is 4.689655172413793\n",
      "New data [1, 6]\n",
      "Running average is 4.65\n",
      "New data [2, 4]\n",
      "Running average is 4.596774193548387\n",
      "New data [8, 2]\n",
      "Running average is 4.609375\n",
      "New data [1, 0]\n",
      "Running average is 4.484848484848484\n",
      "New data [3, 9]\n",
      "Running average is 4.529411764705882\n",
      "New data [8, 3]\n",
      "Running average is 4.557142857142857\n",
      "New data [0, 5]\n",
      "Running average is 4.5\n",
      "New data [2, 1]\n",
      "Running average is 4.418918918918919\n",
      "New data [8, 1]\n",
      "Running average is 4.421052631578948\n",
      "New data [5, 6]\n",
      "Running average is 4.448717948717949\n",
      "New data [7, 3]\n",
      "Running average is 4.4625\n",
      "New data [0, 1]\n",
      "Running average is 4.365853658536586\n",
      "New data [5, 2]\n",
      "Running average is 4.345238095238095\n",
      "New data [7, 0]\n",
      "Running average is 4.325581395348837\n",
      "New data [9, 6]\n",
      "Running average is 4.3977272727272725\n",
      "New data [0, 7]\n",
      "Running average is 4.377777777777778\n",
      "New data [9, 4]\n",
      "Running average is 4.423913043478261\n",
      "New data [1, 3]\n",
      "Running average is 4.372340425531915\n",
      "New data [8, 7]\n",
      "Running average is 4.4375\n",
      "New data [0, 3]\n",
      "Running average is 4.377551020408164\n",
      "New data [8, 5]\n",
      "Running average is 4.42\n",
      "New data [0, 9]\n",
      "Running average is 4.421568627450981\n",
      "New data [4, 7]\n",
      "Running average is 4.4423076923076925\n",
      "New data [6, 2]\n",
      "Running average is 4.433962264150943\n",
      "New data [7, 3]\n",
      "Running average is 4.444444444444445\n",
      "New data [2, 3]\n",
      "Running average is 4.409090909090909\n",
      "New data [2, 5]\n",
      "Running average is 4.392857142857143\n",
      "New data [2, 9]\n",
      "Running average is 4.412280701754386\n",
      "New data [3, 7]\n",
      "Running average is 4.422413793103448\n",
      "New data [8, 2]\n",
      "Running average is 4.432203389830509\n",
      "New data [1, 5]\n",
      "Running average is 4.408333333333333\n",
      "New data [4, 5]\n",
      "Running average is 4.409836065573771\n",
      "New data [9, 6]\n",
      "Running average is 4.459677419354839\n",
      "New data [9, 2]\n",
      "Running average is 4.476190476190476\n",
      "New data [9, 4]\n",
      "Running average is 4.5078125\n",
      "New data [8, 9]\n",
      "Running average is 4.569230769230769\n",
      "New data [8, 7]\n",
      "Running average is 4.613636363636363\n",
      "New data [1, 2]\n",
      "Running average is 4.567164179104478\n",
      "New data [0, 2]\n",
      "Running average is 4.514705882352941\n",
      "New data [1, 3]\n",
      "Running average is 4.478260869565218\n",
      "New data [3, 0]\n",
      "Running average is 4.435714285714286\n",
      "New data [2, 5]\n",
      "Running average is 4.422535211267606\n",
      "New data [6, 0]\n",
      "Running average is 4.402777777777778\n",
      "New data [3, 4]\n",
      "Running average is 4.390410958904109\n",
      "New data [6, 3]\n",
      "Running average is 4.391891891891892\n",
      "New data [6, 9]\n",
      "Running average is 4.433333333333334\n",
      "New data [1, 0]\n",
      "Running average is 4.381578947368421\n",
      "New data [5, 4]\n",
      "Running average is 4.383116883116883\n",
      "New data [6, 3]\n",
      "Running average is 4.384615384615385\n",
      "New data [7, 4]\n",
      "Running average is 4.39873417721519\n",
      "New data [3, 0]\n",
      "Running average is 4.3625\n",
      "New data [1, 9]\n",
      "Running average is 4.37037037037037\n",
      "New data [7, 9]\n",
      "Running average is 4.414634146341464\n",
      "New data [6, 9]\n",
      "Running average is 4.451807228915663\n",
      "New data [5, 3]\n",
      "Running average is 4.446428571428571\n",
      "New data [3, 4]\n",
      "Running average is 4.435294117647059\n",
      "New data [1, 6]\n",
      "Running average is 4.424418604651163\n",
      "New data [1, 4]\n",
      "Running average is 4.402298850574713\n",
      "New data [3, 8]\n",
      "Running average is 4.4147727272727275\n",
      "New data [0, 1]\n",
      "Running average is 4.370786516853933\n",
      "New data [7, 2]\n",
      "Running average is 4.372222222222222\n",
      "New data [9, 6]\n",
      "Running average is 4.406593406593407\n",
      "New data [3, 9]\n",
      "Running average is 4.423913043478261\n",
      "New data [6, 9]\n",
      "Running average is 4.456989247311828\n",
      "New data [1, 7]\n",
      "Running average is 4.452127659574468\n",
      "New data [2, 5]\n",
      "Running average is 4.442105263157894\n",
      "New data [0, 5]\n",
      "Running average is 4.421875\n",
      "New data [0, 2]\n",
      "Running average is 4.38659793814433\n",
      "New data [1, 3]\n",
      "Running average is 4.362244897959184\n",
      "New data [8, 9]\n",
      "Running average is 4.404040404040404\n",
      "New data [6, 7]\n",
      "Running average is 4.425\n",
      "New data [8, 3]\n",
      "Running average is 4.435643564356436\n",
      "New data [0, 5]\n",
      "Running average is 4.416666666666667\n",
      "New data [3, 6]\n",
      "Running average is 4.41747572815534\n",
      "New data [4, 1]\n",
      "Running average is 4.399038461538462\n",
      "New data [3, 8]\n",
      "Running average is 4.40952380952381\n",
      "New data [8, 4]\n",
      "Running average is 4.4245283018867925\n",
      "New data [1, 3]\n",
      "Running average is 4.401869158878505\n",
      "New data [3, 1]\n",
      "Running average is 4.37962962962963\n",
      "New data [2, 9]\n",
      "Running average is 4.389908256880734\n",
      "New data [0, 7]\n",
      "Running average is 4.381818181818182\n",
      "New data [0, 3]\n",
      "Running average is 4.3558558558558556\n",
      "New data [1, 9]\n",
      "Running average is 4.361607142857143\n",
      "New data [2, 7]\n",
      "Running average is 4.3628318584070795\n",
      "New data [5, 6]\n",
      "Running average is 4.37280701754386\n",
      "New data [5, 0]\n",
      "Running average is 4.356521739130435\n",
      "New data [2, 6]\n",
      "Running average is 4.353448275862069\n",
      "New data [9, 3]\n",
      "Running average is 4.367521367521367\n",
      "New data [5, 1]\n",
      "Running average is 4.3559322033898304\n",
      "New data [5, 2]\n",
      "Running average is 4.348739495798319\n",
      "New data [7, 8]\n",
      "Running average is 4.375\n",
      "New data [0, 8]\n",
      "Running average is 4.371900826446281\n",
      "New data [0, 8]\n",
      "Running average is 4.368852459016393\n",
      "New data [0, 5]\n",
      "Running average is 4.353658536585366\n",
      "New data [3, 9]\n",
      "Running average is 4.366935483870968\n",
      "New data [0, 7]\n",
      "Running average is 4.36\n",
      "New data [0, 4]\n",
      "Running average is 4.341269841269841\n",
      "New data [9, 0]\n",
      "Running average is 4.34251968503937\n",
      "New data [9, 5]\n",
      "Running average is 4.36328125\n",
      "New data [5, 9]\n",
      "Running average is 4.383720930232558\n",
      "New data [8, 0]\n",
      "Running average is 4.380769230769231\n",
      "New data [7, 1]\n",
      "Running average is 4.377862595419847\n",
      "New data [9, 1]\n",
      "Running average is 4.382575757575758\n",
      "New data [0, 1]\n",
      "Running average is 4.353383458646617\n",
      "New data [1, 4]\n",
      "Running average is 4.33955223880597\n",
      "New data [5, 6]\n",
      "Running average is 4.348148148148148\n",
      "New data [2, 3]\n",
      "Running average is 4.334558823529412\n",
      "New data [2, 7]\n",
      "Running average is 4.335766423357664\n",
      "New data [1, 7]\n",
      "Running average is 4.333333333333333\n",
      "New data [9, 7]\n",
      "Running average is 4.359712230215828\n",
      "New data [2, 6]\n",
      "Running average is 4.357142857142857\n",
      "New data [4, 3]\n",
      "Running average is 4.351063829787234\n",
      "New data [3, 0]\n",
      "Running average is 4.330985915492958\n",
      "New data [4, 3]\n",
      "Running average is 4.325174825174825\n",
      "New data [6, 9]\n",
      "Running average is 4.347222222222222\n",
      "New data [0, 1]\n",
      "Running average is 4.320689655172414\n",
      "New data [7, 6]\n",
      "Running average is 4.335616438356165\n",
      "New data [0, 9]\n",
      "Running average is 4.336734693877551\n",
      "New data [9, 1]\n",
      "Running average is 4.341216216216216\n",
      "New data [3, 7]\n",
      "Running average is 4.345637583892618\n",
      "New data [2, 7]\n",
      "Running average is 4.346666666666667\n",
      "New data [8, 3]\n",
      "Running average is 4.354304635761589\n",
      "New data [8, 6]\n",
      "Running average is 4.371710526315789\n",
      "New data [5, 1]\n",
      "Running average is 4.362745098039215\n",
      "New data [7, 5]\n",
      "Running average is 4.373376623376624\n",
      "New data [8, 9]\n",
      "Running average is 4.4\n",
      "New data [6, 2]\n",
      "Running average is 4.397435897435898\n",
      "New data [7, 3]\n",
      "Running average is 4.401273885350318\n",
      "New data [6, 1]\n",
      "Running average is 4.3955696202531644\n",
      "New data [6, 7]\n",
      "Running average is 4.408805031446541\n",
      "New data [9, 6]\n",
      "Running average is 4.428125\n",
      "New data [8, 6]\n",
      "Running average is 4.444099378881988\n",
      "New data [5, 8]\n",
      "Running average is 4.45679012345679\n",
      "New data [1, 9]\n",
      "Running average is 4.460122699386503\n",
      "New data [9, 3]\n",
      "Running average is 4.469512195121951\n",
      "New data [4, 6]\n",
      "Running average is 4.472727272727273\n",
      "New data [9, 8]\n",
      "Running average is 4.496987951807229\n",
      "New data [4, 2]\n",
      "Running average is 4.4880239520958085\n",
      "New data [4, 8]\n",
      "Running average is 4.497023809523809\n",
      "New data [7, 4]\n",
      "Running average is 4.502958579881657\n",
      "New data [0, 7]\n",
      "Running average is 4.497058823529412\n",
      "New data [6, 7]\n",
      "Running average is 4.508771929824562\n",
      "New data [7, 9]\n",
      "Running average is 4.52906976744186\n",
      "New data [1, 7]\n",
      "Running average is 4.526011560693641\n",
      "New data [2, 4]\n",
      "Running average is 4.517241379310345\n",
      "New data [8, 4]\n",
      "Running average is 4.525714285714286\n",
      "New data [8, 9]\n",
      "Running average is 4.548295454545454\n",
      "New data [1, 7]\n",
      "Running average is 4.545197740112994\n",
      "New data [6, 9]\n",
      "Running average is 4.561797752808989\n",
      "New data [7, 9]\n",
      "Running average is 4.581005586592179\n",
      "New data [9, 7]\n",
      "Running average is 4.6\n",
      "New data [1, 6]\n",
      "Running average is 4.593922651933702\n",
      "New data [2, 1]\n",
      "Running average is 4.576923076923077\n",
      "New data [1, 3]\n",
      "Running average is 4.562841530054645\n",
      "New data [8, 3]\n",
      "Running average is 4.567934782608695\n",
      "New data [9, 3]\n",
      "Running average is 4.575675675675676\n",
      "New data [8, 6]\n",
      "Running average is 4.588709677419355\n",
      "New data [9, 8]\n",
      "Running average is 4.609625668449198\n",
      "New data [1, 8]\n",
      "Running average is 4.60904255319149\n",
      "New data [6, 7]\n",
      "Running average is 4.619047619047619\n",
      "New data [3, 1]\n",
      "Running average is 4.605263157894737\n",
      "New data [4, 9]\n",
      "Running average is 4.615183246073299\n",
      "New data [2, 7]\n",
      "Running average is 4.614583333333333\n",
      "New data [7, 2]\n",
      "Running average is 4.6139896373057\n",
      "New data [6, 5]\n",
      "Running average is 4.618556701030927\n",
      "New data [8, 3]\n",
      "Running average is 4.623076923076923\n",
      "New data [9, 2]\n",
      "Running average is 4.627551020408164\n",
      "New data [8, 0]\n",
      "Running average is 4.624365482233503\n",
      "New data [6, 2]\n",
      "Running average is 4.621212121212121\n",
      "New data [7, 4]\n",
      "Running average is 4.625628140703518\n",
      "New data [8, 4]\n",
      "Running average is 4.6325\n",
      "New data [0, 1]\n",
      "Running average is 4.611940298507463\n",
      "New data [2, 3]\n",
      "Running average is 4.601485148514851\n",
      "New data [0, 5]\n",
      "Running average is 4.5911330049261085\n",
      "New data [4, 7]\n",
      "Running average is 4.595588235294118\n",
      "New data [2, 9]\n",
      "Running average is 4.6\n",
      "New data [5, 2]\n",
      "Running average is 4.594660194174757\n",
      "New data [0, 9]\n",
      "Running average is 4.594202898550725\n",
      "New data [2, 6]\n",
      "Running average is 4.591346153846154\n",
      "New data [1, 4]\n",
      "Running average is 4.58133971291866\n",
      "New data [7, 5]\n",
      "Running average is 4.588095238095238\n",
      "New data [6, 1]\n",
      "Running average is 4.5829383886255926\n",
      "New data [6, 8]\n",
      "Running average is 4.59433962264151\n",
      "New data [6, 0]\n",
      "Running average is 4.586854460093897\n",
      "New data [8, 5]\n",
      "Running average is 4.595794392523365\n",
      "New data [5, 0]\n",
      "Running average is 4.586046511627907\n",
      "New data [5, 9]\n",
      "Running average is 4.597222222222222\n",
      "New data [5, 4]\n",
      "Running average is 4.596774193548387\n",
      "New data [2, 9]\n",
      "Running average is 4.60091743119266\n",
      "New data [5, 1]\n",
      "Running average is 4.593607305936073\n",
      "New data [6, 3]\n",
      "Running average is 4.593181818181818\n",
      "New data [1, 0]\n",
      "Running average is 4.574660633484163\n",
      "New data [5, 3]\n",
      "Running average is 4.572072072072072\n",
      "New data [9, 5]\n",
      "Running average is 4.582959641255606\n",
      "New data [8, 9]\n",
      "Running average is 4.600446428571429\n",
      "New data [5, 7]\n",
      "Running average is 4.6066666666666665\n",
      "New data [4, 8]\n",
      "Running average is 4.6128318584070795\n",
      "New data [9, 6]\n",
      "Running average is 4.6255506607929515\n",
      "New data [2, 9]\n",
      "Running average is 4.629385964912281\n",
      "New data [6, 0]\n",
      "Running average is 4.622270742358078\n",
      "New data [8, 9]\n",
      "Running average is 4.639130434782609\n",
      "New data [8, 7]\n",
      "Running average is 4.651515151515151\n",
      "New data [1, 9]\n",
      "Running average is 4.6530172413793105\n",
      "New data [9, 4]\n",
      "Running average is 4.660944206008583\n",
      "New data [9, 5]\n",
      "Running average is 4.670940170940171\n",
      "New data [3, 6]\n",
      "Running average is 4.670212765957447\n",
      "New data [2, 6]\n",
      "Running average is 4.6673728813559325\n",
      "New data [3, 0]\n",
      "Running average is 4.654008438818566\n",
      "New data [0, 1]\n",
      "Running average is 4.63655462184874\n",
      "New data [5, 1]\n",
      "Running average is 4.629707112970712\n",
      "New data [4, 3]\n",
      "Running average is 4.625\n",
      "New data [4, 2]\n",
      "Running average is 4.618257261410788\n",
      "New data [5, 8]\n",
      "Running average is 4.62603305785124\n",
      "New data [0, 7]\n",
      "Running average is 4.621399176954733\n",
      "New data [0, 8]\n",
      "Running average is 4.618852459016393\n",
      "New data [5, 1]\n",
      "Running average is 4.612244897959184\n",
      "New data [0, 3]\n",
      "Running average is 4.599593495934959\n",
      "New data [8, 3]\n",
      "Running average is 4.603238866396761\n",
      "New data [8, 3]\n",
      "Running average is 4.606854838709677\n",
      "New data [1, 9]\n",
      "Running average is 4.608433734939759\n",
      "New data [2, 9]\n",
      "Running average is 4.612\n",
      "New data [5, 6]\n",
      "Running average is 4.615537848605578\n",
      "New data [7, 0]\n",
      "Running average is 4.611111111111111\n",
      "New data [7, 4]\n",
      "Running average is 4.6146245059288535\n",
      "New data [6, 8]\n",
      "Running average is 4.624015748031496\n",
      "New data [5, 8]\n",
      "Running average is 4.631372549019608\n",
      "New data [3, 4]\n",
      "Running average is 4.626953125\n",
      "New data [8, 6]\n",
      "Running average is 4.636186770428016\n",
      "New data [3, 2]\n",
      "Running average is 4.627906976744186\n",
      "New data [9, 0]\n",
      "Running average is 4.627413127413128\n",
      "New data [0, 4]\n",
      "Running average is 4.617307692307692\n",
      "New data [3, 4]\n",
      "Running average is 4.6130268199233715\n",
      "New data [5, 2]\n",
      "Running average is 4.608778625954199\n",
      "New data [1, 6]\n",
      "Running average is 4.604562737642586\n",
      "New data [4, 2]\n",
      "Running average is 4.598484848484849\n",
      "New data [8, 2]\n",
      "Running average is 4.6\n",
      "New data [7, 9]\n",
      "Running average is 4.612781954887218\n",
      "New data [7, 0]\n",
      "Running average is 4.608614232209738\n",
      "New data [8, 5]\n",
      "Running average is 4.615671641791045\n",
      "New data [3, 7]\n",
      "Running average is 4.617100371747212\n",
      "New data [5, 3]\n",
      "Running average is 4.614814814814815\n",
      "New data [5, 3]\n",
      "Running average is 4.612546125461255\n",
      "New data [2, 4]\n",
      "Running average is 4.606617647058823\n",
      "New data [6, 8]\n",
      "Running average is 4.615384615384615\n",
      "New data [9, 8]\n",
      "Running average is 4.62956204379562\n",
      "New data [6, 5]\n",
      "Running average is 4.632727272727273\n",
      "New data [1, 9]\n",
      "Running average is 4.634057971014493\n",
      "New data [9, 1]\n",
      "Running average is 4.635379061371841\n",
      "New data [1, 5]\n",
      "Running average is 4.629496402877698\n",
      "New data [5, 9]\n",
      "Running average is 4.637992831541219\n",
      "New data [6, 8]\n",
      "Running average is 4.646428571428571\n",
      "New data [0, 5]\n",
      "Running average is 4.6387900355871885\n",
      "New data [7, 3]\n",
      "Running average is 4.640070921985815\n",
      "New data [3, 7]\n",
      "Running average is 4.641342756183746\n",
      "New data [6, 2]\n",
      "Running average is 4.639084507042254\n",
      "New data [3, 0]\n",
      "Running average is 4.628070175438596\n",
      "New data [8, 3]\n",
      "Running average is 4.631118881118881\n",
      "New data [0, 8]\n",
      "Running average is 4.628919860627177\n",
      "New data [5, 7]\n",
      "Running average is 4.633680555555555\n",
      "New data [8, 3]\n",
      "Running average is 4.6366782006920415\n",
      "New data [8, 6]\n",
      "Running average is 4.644827586206897\n",
      "New data [8, 7]\n",
      "Running average is 4.654639175257732\n",
      "New data [7, 0]\n",
      "Running average is 4.6506849315068495\n",
      "New data [1, 7]\n",
      "Running average is 4.648464163822526\n",
      "New data [6, 1]\n",
      "Running average is 4.644557823129252\n",
      "New data [9, 1]\n",
      "Running average is 4.645762711864407\n",
      "New data [3, 8]\n",
      "Running average is 4.648648648648648\n",
      "New data [5, 2]\n",
      "Running average is 4.6447811447811445\n",
      "New data [7, 8]\n",
      "Running average is 4.654362416107382\n",
      "New data [8, 7]\n",
      "Running average is 4.6638795986622075\n",
      "New data [5, 9]\n",
      "Running average is 4.671666666666667\n",
      "New data [0, 8]\n",
      "Running average is 4.6694352159468435\n",
      "New data [8, 3]\n",
      "Running average is 4.672185430463577\n",
      "New data [9, 0]\n",
      "Running average is 4.6716171617161715\n",
      "New data [9, 4]\n",
      "Running average is 4.677631578947368\n",
      "New data [6, 1]\n",
      "Running average is 4.673770491803278\n",
      "New data [1, 6]\n",
      "Running average is 4.669934640522876\n",
      "New data [4, 5]\n",
      "Running average is 4.669381107491857\n",
      "New data [7, 5]\n",
      "Running average is 4.673701298701299\n",
      "New data [0, 4]\n",
      "Running average is 4.665048543689321\n",
      "New data [9, 2]\n",
      "Running average is 4.667741935483871\n",
      "New data [0, 4]\n",
      "Running average is 4.659163987138264\n",
      "New data [1, 5]\n",
      "Running average is 4.653846153846154\n",
      "New data [0, 2]\n",
      "Running average is 4.642172523961661\n",
      "New data [4, 3]\n",
      "Running average is 4.638535031847134\n",
      "New data [0, 4]\n",
      "Running average is 4.630158730158731\n",
      "New data [4, 6]\n",
      "Running average is 4.631329113924051\n",
      "New data [5, 0]\n",
      "Running average is 4.624605678233438\n",
      "New data [0, 6]\n",
      "Running average is 4.619496855345912\n",
      "New data [2, 9]\n",
      "Running average is 4.622257053291536\n",
      "New data [8, 0]\n",
      "Running average is 4.6203125\n",
      "New data [8, 0]\n",
      "Running average is 4.618380062305296\n",
      "New data [2, 9]\n",
      "Running average is 4.62111801242236\n",
      "New data [2, 8]\n",
      "Running average is 4.622291021671827\n",
      "New data [8, 3]\n",
      "Running average is 4.625\n",
      "New data [3, 2]\n",
      "Running average is 4.618461538461538\n",
      "New data [2, 5]\n",
      "Running average is 4.615030674846626\n",
      "New data [9, 5]\n",
      "Running average is 4.622324159021407\n",
      "New data [6, 0]\n",
      "Running average is 4.617378048780488\n",
      "New data [1, 6]\n",
      "Running average is 4.613981762917933\n",
      "New data [7, 6]\n",
      "Running average is 4.61969696969697\n",
      "New data [3, 7]\n",
      "Running average is 4.620845921450151\n",
      "New data [2, 1]\n",
      "Running average is 4.61144578313253\n",
      "New data [3, 8]\n",
      "Running average is 4.614114114114114\n",
      "New data [2, 1]\n",
      "Running average is 4.604790419161676\n",
      "New data [0, 1]\n",
      "Running average is 4.592537313432836\n",
      "New data [8, 4]\n",
      "Running average is 4.596726190476191\n",
      "New data [9, 0]\n",
      "Running average is 4.596439169139466\n",
      "New data [9, 1]\n",
      "Running average is 4.597633136094674\n",
      "New data [3, 9]\n",
      "Running average is 4.601769911504425\n",
      "New data [9, 3]\n",
      "Running average is 4.605882352941176\n",
      "New data [0, 4]\n",
      "Running average is 4.5982404692082115\n",
      "New data [5, 9]\n",
      "Running average is 4.605263157894737\n",
      "New data [3, 9]\n",
      "Running average is 4.60932944606414\n",
      "New data [5, 3]\n",
      "Running average is 4.607558139534884\n",
      "New data [2, 6]\n",
      "Running average is 4.605797101449276\n",
      "New data [7, 4]\n",
      "Running average is 4.608381502890174\n",
      "New data [5, 8]\n",
      "Running average is 4.6138328530259365\n",
      "New data [8, 3]\n",
      "Running average is 4.616379310344827\n",
      "New data [0, 4]\n",
      "Running average is 4.608882521489972\n",
      "New data [4, 8]\n",
      "Running average is 4.612857142857143\n",
      "New data [8, 0]\n",
      "Running average is 4.611111111111111\n",
      "New data [3, 6]\n",
      "Running average is 4.610795454545454\n",
      "New data [3, 7]\n",
      "Running average is 4.611898016997167\n",
      "New data [8, 3]\n",
      "Running average is 4.614406779661017\n",
      "New data [0, 5]\n",
      "Running average is 4.608450704225352\n",
      "New data [5, 4]\n",
      "Running average is 4.60814606741573\n",
      "New data [8, 9]\n",
      "Running average is 4.619047619047619\n",
      "New data [9, 8]\n",
      "Running average is 4.629888268156424\n",
      "New data [4, 1]\n",
      "Running average is 4.623955431754875\n",
      "New data [9, 5]\n",
      "Running average is 4.6305555555555555\n",
      "New data [5, 6]\n",
      "Running average is 4.632963988919667\n",
      "New data [4, 5]\n",
      "Running average is 4.632596685082873\n",
      "New data [1, 4]\n",
      "Running average is 4.626721763085399\n",
      "New data [6, 5]\n",
      "Running average is 4.6291208791208796\n",
      "New data [7, 0]\n",
      "Running average is 4.626027397260274\n",
      "New data [5, 0]\n",
      "Running average is 4.620218579234972\n",
      "New data [2, 0]\n",
      "Running average is 4.610354223433243\n",
      "New data [4, 1]\n",
      "Running average is 4.604619565217392\n",
      "New data [7, 8]\n",
      "Running average is 4.612466124661246\n",
      "New data [2, 1]\n",
      "Running average is 4.604054054054054\n",
      "New data [7, 4]\n",
      "Running average is 4.606469002695418\n",
      "New data [3, 2]\n",
      "Running average is 4.600806451612903\n",
      "New data [0, 4]\n",
      "Running average is 4.593833780160858\n",
      "New data [9, 6]\n",
      "Running average is 4.601604278074866\n",
      "New data [2, 7]\n",
      "Running average is 4.601333333333334\n",
      "New data [7, 3]\n",
      "Running average is 4.602393617021277\n",
      "New data [0, 9]\n",
      "Running average is 4.6021220159151195\n",
      "New data [2, 8]\n",
      "Running average is 4.603174603174603\n",
      "New data [4, 9]\n",
      "Running average is 4.608179419525066\n",
      "New data [6, 7]\n",
      "Running average is 4.613157894736842\n",
      "New data [2, 8]\n",
      "Running average is 4.6141732283464565\n",
      "New data [6, 0]\n",
      "Running average is 4.609947643979058\n",
      "New data [7, 2]\n",
      "Running average is 4.6096605744125325\n",
      "New data [5, 8]\n",
      "Running average is 4.614583333333333\n",
      "New data [6, 2]\n",
      "Running average is 4.612987012987013\n",
      "New data [5, 0]\n",
      "Running average is 4.607512953367876\n",
      "New data [0, 1]\n",
      "Running average is 4.596899224806202\n",
      "New data [7, 5]\n",
      "Running average is 4.600515463917525\n",
      "New data [4, 6]\n",
      "Running average is 4.6015424164524426\n",
      "New data [0, 6]\n",
      "Running average is 4.597435897435897\n",
      "New data [3, 4]\n",
      "Running average is 4.59462915601023\n",
      "New data [9, 4]\n",
      "Running average is 4.599489795918367\n",
      "New data [3, 5]\n",
      "Running average is 4.597964376590331\n",
      "New data [9, 5]\n",
      "Running average is 4.604060913705584\n",
      "New data [0, 6]\n",
      "Running average is 4.6\n",
      "New data [1, 8]\n",
      "Running average is 4.599747474747475\n",
      "New data [6, 9]\n",
      "Running average is 4.607052896725441\n",
      "New data [8, 3]\n",
      "Running average is 4.60929648241206\n",
      "New data [6, 0]\n",
      "Running average is 4.605263157894737\n",
      "New data [7, 6]\n",
      "Running average is 4.61\n",
      "New data [7, 2]\n",
      "Running average is 4.609725685785536\n",
      "New data [0, 5]\n",
      "Running average is 4.604477611940299\n",
      "New data [6, 9]\n",
      "Running average is 4.61166253101737\n",
      "New data [4, 9]\n",
      "Running average is 4.616336633663367\n",
      "New data [4, 9]\n",
      "Running average is 4.620987654320988\n",
      "New data [1, 5]\n",
      "Running average is 4.6169950738916254\n",
      "New data [7, 2]\n",
      "Running average is 4.616707616707616\n",
      "New data [1, 6]\n",
      "Running average is 4.613970588235294\n",
      "New data [1, 7]\n",
      "Running average is 4.612469437652812\n",
      "New data [4, 6]\n",
      "Running average is 4.613414634146341\n",
      "New data [5, 4]\n",
      "Running average is 4.613138686131387\n",
      "New data [4, 8]\n",
      "Running average is 4.616504854368932\n",
      "New data [1, 2]\n",
      "Running average is 4.608958837772397\n",
      "New data [7, 9]\n",
      "Running average is 4.617149758454106\n",
      "New data [4, 8]\n",
      "Running average is 4.620481927710843\n",
      "New data [1, 5]\n",
      "Running average is 4.616586538461538\n",
      "New data [3, 2]\n",
      "Running average is 4.611510791366906\n",
      "New data [3, 7]\n",
      "Running average is 4.6124401913875595\n",
      "New data [1, 0]\n",
      "Running average is 4.602625298329356\n",
      "New data [8, 6]\n",
      "Running average is 4.608333333333333\n",
      "New data [9, 6]\n",
      "Running average is 4.61520190023753\n",
      "New data [5, 3]\n",
      "Running average is 4.613744075829384\n",
      "New data [1, 3]\n",
      "Running average is 4.607565011820331\n",
      "New data [7, 0]\n",
      "Running average is 4.6049528301886795\n",
      "New data [9, 6]\n",
      "Running average is 4.6117647058823525\n",
      "New data [5, 6]\n",
      "Running average is 4.613849765258216\n",
      "New data [9, 8]\n",
      "Running average is 4.622950819672131\n",
      "New data [7, 9]\n",
      "Running average is 4.630841121495327\n",
      "New data [8, 4]\n",
      "Running average is 4.634032634032634\n",
      "New data [3, 2]\n",
      "Running average is 4.629069767441861\n",
      "New data [8, 4]\n",
      "Running average is 4.632250580046404\n",
      "New data [1, 2]\n",
      "Running average is 4.625\n",
      "New data [9, 3]\n",
      "Running average is 4.628175519630485\n",
      "New data [4, 7]\n",
      "Running average is 4.630184331797235\n",
      "New data [8, 1]\n",
      "Running average is 4.629885057471264\n",
      "New data [1, 0]\n",
      "Running average is 4.620412844036697\n",
      "New data [9, 5]\n",
      "Running average is 4.625858123569794\n",
      "New data [9, 8]\n",
      "Running average is 4.634703196347032\n",
      "New data [6, 9]\n",
      "Running average is 4.64123006833713\n",
      "New data [5, 7]\n",
      "Running average is 4.644318181818182\n",
      "New data [7, 0]\n",
      "Running average is 4.64172335600907\n",
      "New data [6, 0]\n",
      "Running average is 4.638009049773756\n",
      "New data [8, 7]\n",
      "Running average is 4.644469525959368\n",
      "New data [4, 5]\n",
      "Running average is 4.6441441441441444\n",
      "New data [8, 9]\n",
      "Running average is 4.652808988764045\n",
      "New data [0, 7]\n",
      "Running average is 4.650224215246637\n",
      "New data [7, 5]\n",
      "Running average is 4.6532438478747205\n",
      "New data [5, 6]\n",
      "Running average is 4.655133928571429\n",
      "New data [4, 2]\n",
      "Running average is 4.651447661469933\n",
      "New data [6, 3]\n",
      "Running average is 4.651111111111111\n",
      "New data [3, 6]\n",
      "Running average is 4.650776053215077\n",
      "New data [3, 0]\n",
      "Running average is 4.643805309734513\n",
      "New data [6, 1]\n",
      "Running average is 4.641280353200883\n",
      "New data [5, 3]\n",
      "Running average is 4.639867841409692\n",
      "New data [2, 8]\n",
      "Running average is 4.640659340659341\n",
      "New data [5, 3]\n",
      "Running average is 4.639254385964913\n",
      "New data [1, 9]\n",
      "Running average is 4.6400437636761485\n",
      "New data [4, 8]\n",
      "Running average is 4.643013100436681\n",
      "New data [1, 5]\n",
      "Running average is 4.639433551198257\n",
      "New data [5, 1]\n",
      "Running average is 4.635869565217392\n",
      "New data [4, 8]\n",
      "Running average is 4.63882863340564\n",
      "New data [9, 2]\n",
      "Running average is 4.640692640692641\n",
      "New data [2, 3]\n",
      "Running average is 4.636069114470843\n",
      "New data [0, 8]\n",
      "Running average is 4.634698275862069\n",
      "New data [9, 3]\n",
      "Running average is 4.637634408602151\n",
      "New data [0, 4]\n",
      "Running average is 4.631974248927039\n",
      "New data [1, 9]\n",
      "Running average is 4.632762312633833\n",
      "New data [4, 5]\n",
      "Running average is 4.632478632478633\n",
      "New data [1, 8]\n",
      "Running average is 4.632196162046908\n",
      "New data [1, 6]\n",
      "Running average is 4.629787234042553\n",
      "New data [6, 7]\n",
      "Running average is 4.63375796178344\n",
      "New data [6, 0]\n",
      "Running average is 4.630296610169491\n",
      "New data [8, 6]\n",
      "Running average is 4.635306553911205\n",
      "New data [1, 0]\n",
      "Running average is 4.6265822784810124\n",
      "New data [9, 8]\n",
      "Running average is 4.634736842105263\n",
      "New data [4, 7]\n",
      "Running average is 4.63655462184874\n",
      "New data [5, 0]\n",
      "Running average is 4.632075471698113\n",
      "New data [3, 2]\n",
      "Running average is 4.627615062761507\n",
      "New data [8, 1]\n",
      "Running average is 4.627348643006263\n",
      "New data [5, 9]\n",
      "Running average is 4.632291666666666\n",
      "New data [3, 4]\n",
      "Running average is 4.62993762993763\n",
      "New data [5, 8]\n",
      "Running average is 4.6338174273858925\n",
      "New data [0, 8]\n",
      "Running average is 4.632505175983437\n",
      "New data [2, 5]\n",
      "Running average is 4.630165289256198\n",
      "New data [4, 3]\n",
      "Running average is 4.627835051546392\n",
      "New data [6, 9]\n",
      "Running average is 4.633744855967078\n",
      "New data [5, 2]\n",
      "Running average is 4.631416837782341\n",
      "New data [0, 3]\n",
      "Running average is 4.625\n",
      "New data [9, 7]\n",
      "Running average is 4.631901840490798\n",
      "New data [1, 3]\n",
      "Running average is 4.626530612244898\n",
      "New data [3, 1]\n",
      "Running average is 4.621181262729125\n",
      "New data [9, 2]\n",
      "Running average is 4.622967479674797\n",
      "New data [6, 0]\n",
      "Running average is 4.619675456389452\n",
      "New data [4, 3]\n",
      "Running average is 4.617408906882591\n",
      "New data [6, 1]\n",
      "Running average is 4.615151515151515\n",
      "New data [4, 0]\n",
      "Running average is 4.609879032258065\n",
      "New data [1, 3]\n",
      "Running average is 4.604627766599598\n",
      "New data [4, 7]\n",
      "Running average is 4.606425702811245\n",
      "New data [6, 1]\n",
      "Running average is 4.604208416833667\n",
      "New data [6, 3]\n",
      "Running average is 4.604\n",
      "New data [5, 7]\n",
      "Running average is 4.606786427145709\n",
      "New data [3, 9]\n",
      "Running average is 4.609561752988048\n",
      "New data [4, 1]\n",
      "Running average is 4.605367793240557\n",
      "New data [2, 6]\n",
      "Running average is 4.604166666666667\n",
      "New data [1, 2]\n",
      "Running average is 4.598019801980198\n",
      "New data [8, 7]\n",
      "Running average is 4.603754940711463\n",
      "New data [8, 6]\n",
      "Running average is 4.608481262327416\n",
      "New data [2, 0]\n",
      "Running average is 4.6013779527559056\n",
      "New data [7, 0]\n",
      "Running average is 4.599214145383104\n",
      "New data [1, 4]\n",
      "Running average is 4.595098039215686\n",
      "New data [8, 7]\n",
      "Running average is 4.6007827788649704\n",
      "New data [3, 1]\n",
      "Running average is 4.595703125\n",
      "New data [9, 8]\n",
      "Running average is 4.603313840155946\n",
      "New data [9, 1]\n",
      "Running average is 4.60408560311284\n",
      "New data [4, 5]\n",
      "Running average is 4.603883495145631\n",
      "New data [9, 6]\n",
      "Running average is 4.609496124031008\n",
      "New data [1, 0]\n",
      "Running average is 4.601547388781431\n",
      "New data [7, 2]\n",
      "Running average is 4.601351351351352\n",
      "New data [1, 3]\n",
      "Running average is 4.596339113680155\n",
      "New data [6, 8]\n",
      "Running average is 4.600961538461538\n",
      "New data [6, 8]\n",
      "Running average is 4.60556621880998\n",
      "New data [1, 8]\n",
      "Running average is 4.605363984674329\n",
      "New data [2, 6]\n",
      "Running average is 4.604206500956023\n",
      "New data [9, 5]\n",
      "Running average is 4.608778625954199\n",
      "New data [1, 0]\n",
      "Running average is 4.600952380952381\n",
      "New data [6, 5]\n",
      "Running average is 4.602661596958175\n",
      "New data [3, 4]\n",
      "Running average is 4.600569259962049\n",
      "New data [9, 6]\n",
      "Running average is 4.606060606060606\n",
      "New data [3, 7]\n",
      "Running average is 4.606805293005671\n",
      "New data [5, 4]\n",
      "Running average is 4.606603773584905\n",
      "New data [6, 8]\n",
      "Running average is 4.611111111111111\n",
      "New data [4, 1]\n",
      "Running average is 4.607142857142857\n",
      "New data [4, 3]\n",
      "Running average is 4.605065666041276\n",
      "New data [5, 2]\n",
      "Running average is 4.602996254681648\n",
      "New data [4, 5]\n",
      "Running average is 4.602803738317757\n",
      "New data [7, 6]\n",
      "Running average is 4.606343283582089\n",
      "New data [5, 4]\n",
      "Running average is 4.606145251396648\n",
      "New data [5, 9]\n",
      "Running average is 4.610594795539034\n",
      "New data [0, 6]\n",
      "Running average is 4.607606679035251\n",
      "New data [0, 9]\n",
      "Running average is 4.607407407407408\n",
      "New data [4, 1]\n",
      "Running average is 4.603512014787431\n",
      "New data [1, 8]\n",
      "Running average is 4.6033210332103325\n",
      "New data [6, 4]\n",
      "Running average is 4.6040515653775325\n",
      "New data [2, 1]\n",
      "Running average is 4.598345588235294\n",
      "New data [6, 7]\n",
      "Running average is 4.601834862385321\n",
      "New data [6, 9]\n",
      "Running average is 4.607142857142857\n",
      "New data [7, 5]\n",
      "Running average is 4.609689213893967\n",
      "New data [7, 0]\n",
      "Running average is 4.607664233576642\n",
      "New data [8, 2]\n",
      "Running average is 4.608378870673953\n",
      "New data [6, 9]\n",
      "Running average is 4.613636363636363\n",
      "New data [1, 2]\n",
      "Running average is 4.607985480943738\n",
      "New data [4, 0]\n",
      "Running average is 4.603260869565218\n",
      "New data [9, 3]\n",
      "Running average is 4.605786618444847\n",
      "New data [4, 3]\n",
      "Running average is 4.603790613718411\n",
      "New data [5, 3]\n",
      "Running average is 4.602702702702703\n",
      "New data [7, 5]\n",
      "Running average is 4.60521582733813\n",
      "New data [8, 1]\n",
      "Running average is 4.6050269299820465\n",
      "New data [9, 0]\n",
      "Running average is 4.604838709677419\n",
      "New data [5, 8]\n",
      "Running average is 4.608228980322004\n",
      "New data [4, 3]\n",
      "Running average is 4.60625\n",
      "New data [1, 0]\n",
      "Running average is 4.598930481283422\n",
      "New data [5, 8]\n",
      "Running average is 4.602313167259786\n",
      "New data [4, 3]\n",
      "Running average is 4.600355239786857\n",
      "New data [2, 4]\n",
      "Running average is 4.597517730496454\n",
      "New data [5, 4]\n",
      "Running average is 4.597345132743363\n",
      "New data [1, 2]\n",
      "Running average is 4.591872791519434\n",
      "New data [0, 4]\n",
      "Running average is 4.587301587301587\n",
      "New data [8, 9]\n",
      "Running average is 4.59419014084507\n",
      "New data [8, 1]\n",
      "Running average is 4.59402460456942\n",
      "New data [9, 5]\n",
      "Running average is 4.598245614035088\n",
      "New data [1, 8]\n",
      "Running average is 4.5980735551663745\n",
      "New data [1, 9]\n",
      "Running average is 4.598776223776224\n",
      "New data [8, 4]\n",
      "Running average is 4.601221640488657\n",
      "New data [0, 1]\n",
      "Running average is 4.594076655052265\n",
      "New data [8, 0]\n",
      "Running average is 4.59304347826087\n",
      "New data [3, 6]\n",
      "Running average is 4.592881944444445\n",
      "New data [5, 8]\n",
      "Running average is 4.596187175043328\n",
      "New data [7, 3]\n",
      "Running average is 4.596885813148789\n",
      "New data [7, 2]\n",
      "Running average is 4.596718480138169\n",
      "New data [7, 4]\n",
      "Running average is 4.598275862068966\n",
      "New data [2, 9]\n",
      "Running average is 4.599827882960413\n",
      "New data [0, 9]\n",
      "Running average is 4.599656357388316\n",
      "New data [1, 2]\n",
      "Running average is 4.59433962264151\n",
      "New data [8, 4]\n",
      "Running average is 4.596746575342466\n",
      "New data [6, 3]\n",
      "Running average is 4.596581196581196\n",
      "New data [7, 6]\n",
      "Running average is 4.599829351535837\n",
      "New data [8, 5]\n",
      "Running average is 4.6030664395229985\n",
      "New data [7, 5]\n",
      "Running average is 4.605442176870748\n",
      "New data [9, 2]\n",
      "Running average is 4.606960950764007\n",
      "New data [3, 9]\n",
      "Running average is 4.609322033898305\n",
      "New data [8, 3]\n",
      "Running average is 4.61082910321489\n",
      "New data [8, 6]\n",
      "Running average is 4.614864864864865\n",
      "New data [9, 6]\n",
      "Running average is 4.61973018549747\n",
      "New data [0, 5]\n",
      "Running average is 4.616161616161616\n",
      "New data [8, 1]\n",
      "Running average is 4.615966386554621\n",
      "New data [5, 0]\n",
      "Running average is 4.6124161073825505\n",
      "New data [6, 0]\n",
      "Running average is 4.609715242881072\n",
      "New data [3, 8]\n",
      "Running average is 4.611204013377926\n",
      "New data [3, 6]\n",
      "Running average is 4.6110183639399\n",
      "New data [6, 2]\n",
      "Running average is 4.61\n",
      "New data [5, 8]\n",
      "Running average is 4.613144758735441\n",
      "New data [4, 6]\n",
      "Running average is 4.613787375415282\n",
      "New data [9, 3]\n",
      "Running average is 4.61608623548922\n",
      "New data [5, 7]\n",
      "Running average is 4.618377483443709\n",
      "New data [3, 5]\n",
      "Running average is 4.6173553719008265\n",
      "New data [5, 1]\n",
      "Running average is 4.614686468646864\n",
      "New data [9, 8]\n",
      "Running average is 4.621087314662273\n",
      "New data [6, 0]\n",
      "Running average is 4.618421052631579\n",
      "New data [0, 1]\n",
      "Running average is 4.611658456486043\n",
      "New data [3, 4]\n",
      "Running average is 4.609836065573771\n",
      "New data [9, 1]\n",
      "Running average is 4.610474631751227\n",
      "New data [1, 0]\n",
      "Running average is 4.603758169934641\n",
      "New data [9, 5]\n",
      "Running average is 4.607667210440456\n",
      "New data [3, 5]\n",
      "Running average is 4.606677524429967\n",
      "New data [2, 0]\n",
      "Running average is 4.600813008130081\n",
      "New data [9, 0]\n",
      "Running average is 4.60064935064935\n",
      "New data [1, 2]\n",
      "Running average is 4.595623987034036\n",
      "New data [4, 3]\n",
      "Running average is 4.593851132686084\n",
      "New data [9, 3]\n",
      "Running average is 4.596122778675283\n",
      "New data [2, 8]\n",
      "Running average is 4.596774193548387\n",
      "New data [5, 7]\n",
      "Running average is 4.599033816425121\n",
      "New data [6, 4]\n",
      "Running average is 4.59967845659164\n",
      "New data [4, 6]\n",
      "Running average is 4.600321027287319\n",
      "New data [1, 7]\n",
      "Running average is 4.5993589743589745\n",
      "New data [1, 9]\n",
      "Running average is 4.6\n",
      "New data [3, 7]\n",
      "Running average is 4.600638977635783\n",
      "New data [8, 7]\n",
      "Running average is 4.605263157894737\n",
      "New data [7, 3]\n",
      "Running average is 4.605891719745223\n",
      "New data [1, 3]\n",
      "Running average is 4.601748807631161\n",
      "New data [2, 5]\n",
      "Running average is 4.6\n",
      "New data [5, 6]\n",
      "Running average is 4.601426307448494\n",
      "New data [0, 3]\n",
      "Running average is 4.5965189873417724\n",
      "New data [8, 2]\n",
      "Running average is 4.597156398104265\n",
      "New data [1, 9]\n",
      "Running average is 4.597791798107256\n",
      "New data [5, 2]\n",
      "Running average is 4.596062992125984\n",
      "New data [1, 4]\n",
      "Running average is 4.5927672955974845\n",
      "New data [0, 8]\n",
      "Running average is 4.591836734693878\n",
      "New data [6, 7]\n",
      "Running average is 4.594827586206897\n",
      "New data [6, 2]\n",
      "Running average is 4.593896713615023\n",
      "New data [3, 5]\n",
      "Running average is 4.59296875\n",
      "New data [9, 2]\n",
      "Running average is 4.594383775351014\n",
      "New data [4, 7]\n",
      "Running average is 4.595794392523365\n",
      "New data [7, 3]\n",
      "Running average is 4.596423017107309\n",
      "New data [8, 6]\n",
      "Running average is 4.600155279503106\n",
      "New data [2, 5]\n",
      "Running average is 4.598449612403101\n",
      "New data [6, 7]\n",
      "Running average is 4.601393188854489\n",
      "New data [9, 4]\n",
      "Running average is 4.604327666151469\n",
      "New data [0, 8]\n",
      "Running average is 4.603395061728395\n",
      "New data [9, 3]\n",
      "Running average is 4.6055469953775034\n",
      "New data [3, 6]\n",
      "Running average is 4.605384615384615\n",
      "New data [3, 4]\n",
      "Running average is 4.6036866359447\n",
      "New data [2, 9]\n",
      "Running average is 4.605061349693251\n",
      "New data [3, 5]\n",
      "Running average is 4.604134762633997\n",
      "New data [7, 1]\n",
      "Running average is 4.603211009174312\n",
      "New data [8, 9]\n",
      "Running average is 4.6091603053435115\n",
      "New data [7, 4]\n",
      "Running average is 4.610518292682927\n",
      "New data [6, 0]\n",
      "Running average is 4.60806697108067\n",
      "New data [9, 8]\n",
      "Running average is 4.613981762917933\n",
      "New data [5, 0]\n",
      "Running average is 4.610773899848255\n",
      "New data [6, 5]\n",
      "Running average is 4.612121212121212\n",
      "New data [7, 4]\n",
      "Running average is 4.613464447806354\n",
      "New data [2, 9]\n",
      "Running average is 4.614803625377643\n",
      "New data [5, 6]\n",
      "Running average is 4.616138763197586\n",
      "New data [1, 6]\n",
      "Running average is 4.614457831325301\n",
      "New data [8, 3]\n",
      "Running average is 4.61578947368421\n",
      "New data [0, 9]\n",
      "Running average is 4.615615615615615\n",
      "New data [7, 4]\n",
      "Running average is 4.616941529235382\n",
      "New data [4, 3]\n",
      "Running average is 4.615269461077844\n",
      "New data [5, 2]\n",
      "Running average is 4.613602391629297\n",
      "New data [5, 9]\n",
      "Running average is 4.617164179104478\n",
      "New data [9, 4]\n",
      "Running average is 4.619970193740685\n",
      "New data [3, 6]\n",
      "Running average is 4.619791666666667\n",
      "New data [0, 3]\n",
      "Running average is 4.615156017830609\n",
      "New data [4, 8]\n",
      "Running average is 4.617210682492582\n",
      "New data [7, 5]\n",
      "Running average is 4.619259259259259\n",
      "New data [6, 0]\n",
      "Running average is 4.616863905325443\n",
      "New data [8, 5]\n",
      "Running average is 4.619645494830133\n",
      "New data [5, 9]\n",
      "Running average is 4.623156342182891\n",
      "New data [9, 2]\n",
      "Running average is 4.624447717231222\n",
      "New data [9, 6]\n",
      "Running average is 4.6286764705882355\n",
      "New data [1, 3]\n",
      "Running average is 4.62481644640235\n",
      "New data [7, 6]\n",
      "Running average is 4.627565982404692\n",
      "New data [8, 4]\n",
      "Running average is 4.629575402635432\n",
      "New data [4, 0]\n",
      "Running average is 4.625730994152047\n",
      "New data [7, 3]\n",
      "Running average is 4.6262773722627735\n",
      "New data [5, 6]\n",
      "Running average is 4.627551020408164\n",
      "New data [9, 4]\n",
      "Running average is 4.630276564774381\n",
      "New data [6, 9]\n",
      "Running average is 4.634447674418604\n",
      "New data [8, 1]\n",
      "Running average is 4.634252539912917\n",
      "New data [9, 4]\n",
      "Running average is 4.636956521739131\n",
      "New data [4, 5]\n",
      "Running average is 4.636758321273517\n",
      "New data [4, 6]\n",
      "Running average is 4.63728323699422\n",
      "New data [0, 7]\n",
      "Running average is 4.635642135642136\n",
      "New data [0, 4]\n",
      "Running average is 4.631844380403458\n",
      "New data [5, 6]\n",
      "Running average is 4.633093525179856\n",
      "New data [1, 8]\n",
      "Running average is 4.632902298850575\n",
      "New data [8, 5]\n",
      "Running average is 4.63558106169297\n",
      "New data [9, 1]\n",
      "Running average is 4.636103151862464\n",
      "New data [3, 7]\n",
      "Running average is 4.636623748211731\n",
      "New data [6, 5]\n",
      "Running average is 4.6378571428571425\n",
      "New data [6, 1]\n",
      "Running average is 4.63623395149786\n",
      "New data [3, 8]\n",
      "Running average is 4.637464387464387\n",
      "New data [0, 3]\n",
      "Running average is 4.633001422475107\n",
      "New data [4, 8]\n",
      "Running average is 4.634943181818182\n",
      "New data [4, 5]\n",
      "Running average is 4.634751773049645\n",
      "New data [6, 4]\n",
      "Running average is 4.635269121813031\n",
      "New data [6, 2]\n",
      "Running average is 4.634370579915134\n",
      "New data [9, 1]\n",
      "Running average is 4.634887005649717\n",
      "New data [0, 5]\n",
      "Running average is 4.631875881523272\n",
      "New data [5, 2]\n",
      "Running average is 4.630281690140845\n",
      "New data [9, 7]\n",
      "Running average is 4.635021097046414\n",
      "New data [9, 5]\n",
      "Running average is 4.638342696629214\n",
      "New data [4, 6]\n",
      "Running average is 4.638849929873773\n",
      "New data [1, 6]\n",
      "Running average is 4.637254901960785\n",
      "New data [1, 4]\n",
      "Running average is 4.6342657342657345\n",
      "New data [3, 8]\n",
      "Running average is 4.635474860335195\n",
      "New data [9, 1]\n",
      "Running average is 4.635983263598327\n",
      "New data [1, 7]\n",
      "Running average is 4.635097493036212\n",
      "New data [8, 5]\n",
      "Running average is 4.63769123783032\n",
      "New data [8, 2]\n",
      "Running average is 4.638194444444444\n",
      "New data [2, 3]\n",
      "Running average is 4.6352288488210815\n",
      "New data [3, 8]\n",
      "Running average is 4.636426592797784\n",
      "New data [4, 7]\n",
      "Running average is 4.63762102351314\n",
      "New data [1, 4]\n",
      "Running average is 4.634668508287293\n",
      "New data [3, 7]\n",
      "Running average is 4.635172413793104\n",
      "New data [0, 7]\n",
      "Running average is 4.633608815426998\n",
      "New data [5, 4]\n",
      "Running average is 4.633425034387895\n",
      "New data [6, 1]\n",
      "Running average is 4.631868131868132\n",
      "New data [1, 7]\n",
      "Running average is 4.631001371742112\n",
      "New data [4, 9]\n",
      "Running average is 4.633561643835616\n",
      "New data [5, 1]\n",
      "Running average is 4.631326949384405\n",
      "New data [2, 4]\n",
      "Running average is 4.629098360655738\n",
      "New data [3, 1]\n",
      "Running average is 4.625511596180082\n",
      "New data [0, 5]\n",
      "Running average is 4.622615803814714\n",
      "New data [7, 5]\n",
      "Running average is 4.624489795918367\n",
      "New data [4, 6]\n",
      "Running average is 4.625\n",
      "New data [0, 2]\n",
      "Running average is 4.620081411126187\n",
      "New data [6, 0]\n",
      "Running average is 4.617886178861789\n",
      "New data [0, 5]\n",
      "Running average is 4.615020297699594\n",
      "New data [3, 4]\n",
      "Running average is 4.613513513513514\n",
      "New data [7, 6]\n",
      "Running average is 4.616059379217274\n",
      "New data [9, 3]\n",
      "Running average is 4.617924528301887\n",
      "New data [2, 8]\n",
      "Running average is 4.618438761776582\n",
      "New data [6, 5]\n",
      "Running average is 4.619623655913978\n",
      "New data [0, 7]\n",
      "Running average is 4.618120805369127\n",
      "New data [7, 1]\n",
      "Running average is 4.617292225201072\n",
      "New data [2, 5]\n",
      "Running average is 4.615796519410977\n",
      "New data [5, 6]\n",
      "Running average is 4.616978609625669\n",
      "New data [1, 2]\n",
      "Running average is 4.612817089452603\n",
      "New data [2, 4]\n",
      "Running average is 4.610666666666667\n",
      "New data [5, 1]\n",
      "Running average is 4.608521970705726\n",
      "New data [3, 7]\n",
      "Running average is 4.60904255319149\n",
      "New data [5, 7]\n",
      "Running average is 4.610889774236388\n",
      "New data [3, 0]\n",
      "Running average is 4.606763925729443\n",
      "New data [5, 3]\n",
      "Running average is 4.605960264900662\n",
      "New data [2, 5]\n",
      "Running average is 4.604497354497354\n",
      "New data [5, 7]\n",
      "Running average is 4.606340819022457\n",
      "New data [1, 7]\n",
      "Running average is 4.605540897097625\n",
      "New data [4, 1]\n",
      "Running average is 4.602766798418973\n",
      "New data [3, 8]\n",
      "Running average is 4.603947368421053\n",
      "New data [1, 0]\n",
      "Running average is 4.598554533508541\n",
      "New data [5, 1]\n",
      "Running average is 4.596456692913386\n",
      "New data [2, 8]\n",
      "Running average is 4.596985583224115\n",
      "New data [5, 3]\n",
      "Running average is 4.596204188481676\n",
      "New data [3, 5]\n",
      "Running average is 4.595424836601307\n",
      "New data [6, 0]\n",
      "Running average is 4.5933420365535245\n",
      "New data [4, 3]\n",
      "Running average is 4.591916558018253\n",
      "New data [8, 3]\n",
      "Running average is 4.593098958333333\n",
      "New data [6, 1]\n",
      "Running average is 4.591677503250975\n",
      "New data [2, 0]\n",
      "Running average is 4.587012987012987\n",
      "New data [6, 9]\n",
      "Running average is 4.590791180285343\n",
      "New data [0, 2]\n",
      "Running average is 4.586139896373057\n",
      "New data [0, 6]\n",
      "Running average is 4.584087968952135\n",
      "New data [7, 9]\n",
      "Running average is 4.588501291989664\n",
      "New data [3, 9]\n",
      "Running average is 4.590322580645161\n",
      "New data [1, 6]\n",
      "Running average is 4.588917525773196\n",
      "New data [3, 9]\n",
      "Running average is 4.590733590733591\n",
      "New data [6, 4]\n",
      "Running average is 4.591259640102828\n",
      "New data [6, 8]\n",
      "Running average is 4.594351732991014\n",
      "New data [2, 7]\n",
      "Running average is 4.594230769230769\n",
      "New data [0, 3]\n",
      "Running average is 4.590268886043534\n",
      "New data [5, 6]\n",
      "Running average is 4.591432225063938\n",
      "New data [0, 6]\n",
      "Running average is 4.589399744572158\n",
      "New data [2, 4]\n",
      "Running average is 4.5873724489795915\n",
      "New data [1, 9]\n",
      "Running average is 4.587898089171975\n",
      "New data [7, 2]\n",
      "Running average is 4.587786259541985\n",
      "New data [3, 2]\n",
      "Running average is 4.585133418043202\n",
      "New data [4, 8]\n",
      "Running average is 4.586928934010152\n",
      "New data [1, 8]\n",
      "Running average is 4.58681875792142\n",
      "New data [1, 6]\n",
      "Running average is 4.5854430379746836\n",
      "New data [1, 9]\n",
      "Running average is 4.585967130214918\n",
      "New data [3, 5]\n",
      "Running average is 4.5852272727272725\n",
      "New data [9, 2]\n",
      "Running average is 4.5863808322824715\n",
      "New data [8, 4]\n",
      "Running average is 4.58816120906801\n",
      "New data [1, 4]\n",
      "Running average is 4.5855345911949685\n",
      "New data [2, 4]\n",
      "Running average is 4.583542713567839\n",
      "New data [3, 5]\n",
      "Running average is 4.582810539523212\n",
      "New data [5, 4]\n",
      "Running average is 4.582706766917293\n",
      "New data [7, 9]\n",
      "Running average is 4.5869837296620775\n",
      "New data [5, 9]\n",
      "Running average is 4.59\n",
      "New data [2, 1]\n",
      "Running average is 4.586142322097379\n",
      "New data [0, 6]\n",
      "Running average is 4.584164588528679\n",
      "New data [8, 4]\n",
      "Running average is 4.585927770859278\n",
      "New data [5, 3]\n",
      "Running average is 4.585199004975125\n",
      "New data [1, 7]\n",
      "Running average is 4.584472049689441\n",
      "New data [7, 8]\n",
      "Running average is 4.588089330024814\n",
      "New data [1, 5]\n",
      "Running average is 4.586121437422553\n",
      "New data [4, 5]\n",
      "Running average is 4.586014851485149\n",
      "New data [8, 0]\n",
      "Running average is 4.585290482076638\n",
      "New data [1, 8]\n",
      "Running average is 4.5851851851851855\n",
      "New data [6, 9]\n",
      "Running average is 4.588779284833539\n",
      "New data [5, 7]\n",
      "Running average is 4.5905172413793105\n",
      "New data [7, 6]\n",
      "Running average is 4.592865928659287\n",
      "New data [9, 8]\n",
      "Running average is 4.597665847665848\n",
      "New data [4, 2]\n",
      "Running average is 4.595705521472393\n",
      "New data [0, 4]\n",
      "Running average is 4.592524509803922\n",
      "New data [4, 7]\n",
      "Running average is 4.593635250917993\n",
      "New data [8, 6]\n",
      "Running average is 4.596577017114915\n",
      "New data [0, 2]\n",
      "Running average is 4.592185592185592\n",
      "New data [0, 9]\n",
      "Running average is 4.592073170731707\n",
      "New data [2, 1]\n",
      "Running average is 4.588306942752741\n",
      "New data [7, 1]\n",
      "Running average is 4.587591240875913\n",
      "New data [2, 6]\n",
      "Running average is 4.586877278250304\n",
      "New data [3, 6]\n",
      "Running average is 4.586771844660194\n",
      "New data [5, 9]\n",
      "Running average is 4.58969696969697\n",
      "New data [0, 8]\n",
      "Running average is 4.588983050847458\n",
      "New data [8, 5]\n",
      "Running average is 4.591293833131802\n",
      "New data [3, 9]\n",
      "Running average is 4.592995169082125\n",
      "New data [9, 8]\n",
      "Running average is 4.597708082026538\n",
      "New data [4, 0]\n",
      "Running average is 4.594578313253012\n",
      "New data [3, 4]\n",
      "Running average is 4.593261131167268\n",
      "New data [7, 2]\n",
      "Running average is 4.593149038461538\n",
      "New data [7, 9]\n",
      "Running average is 4.597238895558223\n",
      "New data [2, 5]\n",
      "Running average is 4.595923261390888\n",
      "New data [4, 3]\n",
      "Running average is 4.594610778443114\n",
      "New data [2, 1]\n",
      "Running average is 4.590909090909091\n",
      "New data [3, 9]\n",
      "Running average is 4.592592592592593\n",
      "New data [8, 0]\n",
      "Running average is 4.591885441527446\n",
      "New data [7, 3]\n",
      "Running average is 4.592371871275327\n",
      "New data [4, 7]\n",
      "Running average is 4.593452380952381\n",
      "New data [2, 1]\n",
      "Running average is 4.589774078478002\n",
      "New data [2, 7]\n",
      "Running average is 4.589667458432304\n",
      "New data [6, 2]\n",
      "Running average is 4.588967971530249\n",
      "New data [3, 9]\n",
      "Running average is 4.5906398104265405\n",
      "New data [6, 7]\n",
      "Running average is 4.5928994082840235\n",
      "New data [7, 2]\n",
      "Running average is 4.592789598108747\n",
      "New data [5, 3]\n",
      "Running average is 4.592089728453365\n",
      "New data [7, 4]\n",
      "Running average is 4.59316037735849\n",
      "New data [0, 6]\n",
      "Running average is 4.591283863368669\n",
      "New data [3, 5]\n",
      "Running average is 4.590588235294118\n",
      "New data [2, 6]\n",
      "Running average is 4.589894242068155\n",
      "New data [4, 0]\n",
      "Running average is 4.586854460093897\n",
      "New data [8, 9]\n",
      "Running average is 4.591441969519344\n",
      "New data [2, 4]\n",
      "Running average is 4.589578454332552\n",
      "New data [3, 6]\n",
      "Running average is 4.589473684210526\n",
      "New data [4, 3]\n",
      "Running average is 4.588200934579439\n",
      "New data [3, 5]\n",
      "Running average is 4.587514585764294\n",
      "New data [5, 1]\n",
      "Running average is 4.585664335664336\n",
      "New data [9, 0]\n",
      "Running average is 4.585564610011642\n",
      "New data [3, 4]\n",
      "Running average is 4.584302325581396\n",
      "New data [8, 4]\n",
      "Running average is 4.5859465737514515\n",
      "New data [6, 2]\n",
      "Running average is 4.585266821345708\n",
      "New data [2, 0]\n",
      "Running average is 4.581112398609502\n",
      "New data [1, 2]\n",
      "Running average is 4.577546296296297\n",
      "New data [8, 1]\n",
      "Running average is 4.577456647398844\n",
      "New data [7, 1]\n",
      "Running average is 4.576789838337183\n",
      "New data [5, 3]\n",
      "Running average is 4.576124567474048\n",
      "New data [2, 5]\n",
      "Running average is 4.574884792626728\n",
      "New data [1, 8]\n",
      "Running average is 4.574798619102417\n",
      "New data [5, 8]\n",
      "Running average is 4.577011494252874\n",
      "New data [2, 1]\n",
      "Running average is 4.573478760045925\n",
      "New data [6, 7]\n",
      "Running average is 4.575688073394495\n",
      "New data [2, 6]\n",
      "Running average is 4.575028636884307\n",
      "New data [7, 5]\n",
      "Running average is 4.576659038901602\n",
      "New data [1, 3]\n",
      "Running average is 4.573714285714286\n",
      "New data [7, 9]\n",
      "Running average is 4.577625570776256\n",
      "New data [6, 8]\n",
      "Running average is 4.580387685290764\n",
      "New data [6, 0]\n",
      "Running average is 4.578587699316628\n",
      "New data [2, 0]\n",
      "Running average is 4.5745164960182025\n",
      "New data [7, 8]\n",
      "Running average is 4.577840909090909\n",
      "New data [6, 5]\n",
      "Running average is 4.5788876276958\n",
      "New data [0, 6]\n",
      "Running average is 4.5770975056689345\n",
      "New data [0, 4]\n",
      "Running average is 4.574178935447339\n",
      "New data [1, 2]\n",
      "Running average is 4.5707013574660635\n",
      "New data [7, 5]\n",
      "Running average is 4.572316384180791\n",
      "New data [2, 1]\n",
      "Running average is 4.568848758465012\n",
      "New data [8, 2]\n",
      "Running average is 4.569334836527621\n",
      "New data [9, 3]\n",
      "Running average is 4.570945945945946\n",
      "New data [4, 7]\n",
      "Running average is 4.571991001124859\n",
      "New data [5, 6]\n",
      "Running average is 4.573033707865169\n",
      "New data [8, 4]\n",
      "Running average is 4.574635241301908\n",
      "New data [1, 8]\n",
      "Running average is 4.574551569506727\n",
      "New data [6, 7]\n",
      "Running average is 4.5767077267637175\n",
      "New data [0, 2]\n",
      "Running average is 4.572706935123042\n",
      "New data [9, 1]\n",
      "Running average is 4.5731843575419\n",
      "New data [4, 1]\n",
      "Running average is 4.570870535714286\n",
      "New data [0, 2]\n",
      "Running average is 4.566889632107023\n",
      "New data [0, 5]\n",
      "Running average is 4.564587973273942\n",
      "New data [5, 6]\n",
      "Running average is 4.565628476084538\n",
      "New data [4, 0]\n",
      "Running average is 4.562777777777778\n",
      "New data [6, 8]\n",
      "Running average is 4.565482796892342\n",
      "New data [7, 9]\n",
      "Running average is 4.569290465631929\n",
      "New data [2, 4]\n",
      "Running average is 4.567552602436323\n",
      "New data [6, 3]\n",
      "Running average is 4.567477876106195\n",
      "New data [0, 1]\n",
      "Running average is 4.562983425414365\n",
      "New data [7, 4]\n",
      "Running average is 4.56401766004415\n",
      "New data [6, 5]\n",
      "Running average is 4.565049614112459\n",
      "New data [6, 3]\n",
      "Running average is 4.564977973568282\n",
      "New data [7, 6]\n",
      "Running average is 4.567106710671067\n",
      "New data [1, 6]\n",
      "Running average is 4.565934065934066\n",
      "New data [7, 6]\n",
      "Running average is 4.568057080131723\n",
      "New data [4, 8]\n",
      "Running average is 4.569627192982456\n",
      "New data [1, 6]\n",
      "Running average is 4.568455640744797\n",
      "New data [1, 7]\n",
      "Running average is 4.567833698030634\n",
      "New data [3, 5]\n",
      "Running average is 4.567213114754098\n",
      "New data [1, 9]\n",
      "Running average is 4.567685589519651\n",
      "New data [0, 8]\n",
      "Running average is 4.567066521264994\n",
      "New data [2, 4]\n",
      "Running average is 4.565359477124183\n",
      "New data [1, 4]\n",
      "Running average is 4.563112078346029\n",
      "New data [0, 9]\n",
      "Running average is 4.5630434782608695\n",
      "New data [2, 9]\n",
      "Running average is 4.564060803474484\n",
      "New data [2, 7]\n",
      "Running average is 4.563991323210412\n",
      "New data [1, 7]\n",
      "Running average is 4.563380281690141\n",
      "New data [0, 3]\n",
      "Running average is 4.560064935064935\n",
      "New data [0, 2]\n",
      "Running average is 4.5562162162162165\n",
      "New data [8, 9]\n",
      "Running average is 4.560475161987041\n",
      "New data [3, 4]\n",
      "Running average is 4.55933117583603\n",
      "New data [4, 7]\n",
      "Running average is 4.560344827586207\n",
      "New data [0, 5]\n",
      "Running average is 4.558127018299246\n",
      "New data [7, 3]\n",
      "Running average is 4.558602150537634\n",
      "New data [4, 3]\n",
      "Running average is 4.557465091299678\n",
      "New data [9, 1]\n",
      "Running average is 4.55793991416309\n",
      "New data [5, 3]\n",
      "Running average is 4.557341907824223\n",
      "New data [4, 9]\n",
      "Running average is 4.559421841541756\n",
      "New data [9, 4]\n",
      "Running average is 4.561497326203209\n",
      "New data [0, 6]\n",
      "Running average is 4.55982905982906\n",
      "New data [8, 2]\n",
      "Running average is 4.560298826040555\n",
      "New data [9, 5]\n",
      "Running average is 4.562899786780384\n",
      "New data [9, 1]\n",
      "Running average is 4.5633652822151225\n",
      "New data [3, 7]\n",
      "Running average is 4.5638297872340425\n",
      "New data [0, 2]\n",
      "Running average is 4.560042507970245\n",
      "New data [9, 1]\n",
      "Running average is 4.560509554140127\n",
      "New data [5, 3]\n",
      "Running average is 4.559915164369035\n",
      "New data [8, 7]\n",
      "Running average is 4.563029661016949\n",
      "New data [8, 1]\n",
      "Running average is 4.562962962962963\n",
      "New data [1, 5]\n",
      "Running average is 4.561310782241015\n",
      "New data [8, 6]\n",
      "Running average is 4.563885955649419\n",
      "New data [7, 5]\n",
      "Running average is 4.565400843881856\n",
      "New data [1, 2]\n",
      "Running average is 4.562170706006323\n",
      "New data [4, 7]\n",
      "Running average is 4.563157894736842\n",
      "New data [4, 1]\n",
      "Running average is 4.5609884332281805\n",
      "New data [3, 4]\n",
      "Running average is 4.559873949579832\n",
      "New data [6, 9]\n",
      "Running average is 4.56295907660021\n",
      "New data [7, 9]\n",
      "Running average is 4.566561844863732\n",
      "New data [4, 0]\n",
      "Running average is 4.563874345549738\n",
      "New data [0, 9]\n",
      "Running average is 4.563807531380753\n",
      "New data [1, 0]\n",
      "Running average is 4.559561128526646\n",
      "New data [5, 9]\n",
      "Running average is 4.562108559498956\n",
      "New data [3, 9]\n",
      "Running average is 4.563607924921794\n",
      "New data [1, 5]\n",
      "Running average is 4.561979166666666\n",
      "New data [9, 0]\n",
      "Running average is 4.561914672216441\n",
      "New data [6, 4]\n",
      "Running average is 4.5623700623700625\n",
      "New data [3, 4]\n",
      "Running average is 4.561266874350986\n",
      "New data [0, 5]\n",
      "Running average is 4.559128630705394\n",
      "New data [8, 3]\n",
      "Running average is 4.560103626943005\n",
      "New data [1, 4]\n",
      "Running average is 4.557971014492754\n",
      "New data [2, 7]\n",
      "Running average is 4.557911065149948\n",
      "New data [7, 9]\n",
      "Running average is 4.56146694214876\n",
      "New data [1, 2]\n",
      "Running average is 4.558307533539732\n",
      "New data [5, 1]\n",
      "Running average is 4.556701030927835\n",
      "New data [5, 2]\n",
      "Running average is 4.555612770339856\n",
      "New data [1, 4]\n",
      "Running average is 4.553497942386831\n",
      "New data [8, 6]\n",
      "Running average is 4.5560123329907505\n",
      "New data [5, 6]\n",
      "Running average is 4.556981519507187\n",
      "New data [0, 6]\n",
      "Running average is 4.555384615384615\n",
      "New data [1, 5]\n",
      "Running average is 4.553790983606557\n",
      "New data [0, 5]\n",
      "Running average is 4.551688843398158\n",
      "New data [2, 4]\n",
      "Running average is 4.550102249488752\n",
      "New data [4, 5]\n",
      "Running average is 4.550051072522983\n",
      "New data [9, 2]\n",
      "Running average is 4.551020408163265\n",
      "New data [0, 8]\n",
      "Running average is 4.5504587155963305\n",
      "New data [7, 5]\n",
      "Running average is 4.551934826883911\n",
      "New data [7, 1]\n",
      "Running average is 4.551373346897253\n",
      "New data [8, 5]\n",
      "Running average is 4.553353658536586\n",
      "New data [4, 2]\n",
      "Running average is 4.551776649746193\n",
      "New data [7, 5]\n",
      "Running average is 4.553245436105477\n",
      "New data [2, 9]\n",
      "Running average is 4.554204660587639\n",
      "New data [1, 9]\n",
      "Running average is 4.554655870445344\n",
      "New data [5, 0]\n",
      "Running average is 4.5525783619818\n",
      "New data [4, 7]\n",
      "Running average is 4.553535353535353\n",
      "New data [0, 5]\n",
      "Running average is 4.55146316851665\n",
      "New data [8, 2]\n",
      "Running average is 4.551915322580645\n",
      "New data [4, 7]\n",
      "Running average is 4.552870090634441\n",
      "New data [8, 6]\n",
      "Running average is 4.55533199195171\n",
      "New data [1, 6]\n",
      "Running average is 4.55427135678392\n",
      "New data [9, 5]\n",
      "Running average is 4.556726907630522\n",
      "New data [4, 9]\n",
      "Running average is 4.558676028084252\n",
      "New data [3, 9]\n",
      "Running average is 4.560120240480962\n",
      "New data [3, 7]\n",
      "Running average is 4.56056056056056\n",
      "New data [4, 7]\n",
      "Running average is 4.5615\n"
     ]
    }
   ],
   "source": [
    "consumer = consume()\n",
    "next(consumer)\n",
    "producer = produce(consumer)\n",
    "\n",
    "for _ in range(1000):\n",
    "    next(producer)"
   ]
  },
  {
   "cell_type": "markdown",
   "metadata": {},
   "source": [
    "Чем хороша приведённая конструкция (её идея)? Мы не просто разделили процесс генерации и обработки данных, это можно было сделать и без всяких генераторов. **Send** создаёт отдельный поток вычислений, которые производятся параллельно основному телу программы. Таким образом, генерить и обрабатывать данные многими разными способами можно в параллели, притормаживая только по ключевому слову *yield* чтобы дождаться данных или следующего обращения. \n",
    "\n",
    "Всё это называется Coroutine и поподробнее можно почитать в PEP-342 https://www.python.org/dev/peps/pep-0342/"
   ]
  },
  {
   "cell_type": "markdown",
   "metadata": {},
   "source": [
    "![alt text](Python07-iterators_extra/coroutine.jpg)"
   ]
  },
  {
   "cell_type": "markdown",
   "metadata": {},
   "source": [
    "Картинка выглядит похожей, и может показаться что мы переименовали прерывания и переключения на yield, и огород не стоил свеч. Но, повторимся, send уходит в отдельный поток вычислений.\n",
    "\n",
    "Эта идея позволяет нам, например, создать планировщик задач, который по определенным условиям будет запускать тот или иной генератор, и экономить время выполняя их в параллели и переключаясь на них только когда это требуется. Это наша первая встреча с мультипроцессингом. На самом деле тут очень много нюансов, и обсуждать это мы будем в самой последней лекции. \n",
    "\n",
    "**ВНИМАНИЕ** *Те кто переживает что плохо понял тему, и кто хочет разобраться и закрепить в памяти материал по генераторам, могут после лекции попробовать написать генератор, который в параллели качнет наши прошедшие лекции с гитхаба, обложить таймерами, и убедиться что это действительно работает быстрее, а так же убедиться что это почему-то быстрее не в N раз, где N - число прошедших лекций. Это не сложно, и это не обязательное задание, но это поможет усвоить материал. Ничего никуда посылать не надо.*"
   ]
  },
  {
   "cell_type": "markdown",
   "metadata": {},
   "source": [
    "Последнее о генераторах, что хотелось бы рассмотреть это конструкция **yield from**. Обычно говорят, что эта конструкция устанавливает двунаправленную связь между вызывающим генератором и суб-генератором, передавая, в том числе, исключения (transparent two way channel).\n",
    "\n",
    "Сначала простой пример:"
   ]
  },
  {
   "cell_type": "code",
   "execution_count": 11,
   "metadata": {},
   "outputs": [],
   "source": [
    "def generator_simple():\n",
    "    for i in range(10):\n",
    "        yield i\n",
    "    for j in range(10, 20):\n",
    "        yield j"
   ]
  },
  {
   "cell_type": "markdown",
   "metadata": {},
   "source": [
    "Он, будет выдавать нам числа от 0 до 19. И мы решили разбить его на две части чтобы их можно было еще использовать по отдельности где-то в других местах и не писать по генератору на все случаи жизни."
   ]
  },
  {
   "cell_type": "code",
   "execution_count": 12,
   "metadata": {},
   "outputs": [],
   "source": [
    "def generator1():\n",
    "    for i in range(10):\n",
    "        yield i\n",
    "\n",
    "def generator2():\n",
    "    for j in range(10, 20):\n",
    "        yield j        "
   ]
  },
  {
   "cell_type": "markdown",
   "metadata": {},
   "source": [
    "А потом всё же решили что нам нужен один генератор, который умеет от 0 до 19"
   ]
  },
  {
   "cell_type": "code",
   "execution_count": 13,
   "metadata": {},
   "outputs": [],
   "source": [
    "def generator():\n",
    "    for i in generator1():\n",
    "        yield i\n",
    "    for j in generator2():\n",
    "        yield j"
   ]
  },
  {
   "cell_type": "code",
   "execution_count": 14,
   "metadata": {},
   "outputs": [],
   "source": [
    "# То же самое можно записать в виде\n",
    "def generator_from():\n",
    "    yield from generator1()\n",
    "    yield from generator2()"
   ]
  },
  {
   "cell_type": "markdown",
   "metadata": {},
   "source": [
    "Понятно, что это не очень впечатляет, так что давайте сразу посмотрим чуть более сложный пример"
   ]
  },
  {
   "cell_type": "code",
   "execution_count": 15,
   "metadata": {},
   "outputs": [],
   "source": [
    "def writer():\n",
    "    \"\"\"A coroutine that writes data *sent* to it \"\"\"\n",
    "    while True:\n",
    "        w = (yield)\n",
    "        print('>> ', w)\n",
    "\n",
    "def writer_wrapper(coro):\n",
    "    coro.send(None)  # Для инициализации\n",
    "    while True:\n",
    "        try:\n",
    "            x = (yield)  # Принимаем\n",
    "            coro.send(x)  # и передаём\n",
    "        except StopIteration:\n",
    "            pass"
   ]
  },
  {
   "cell_type": "code",
   "execution_count": 16,
   "metadata": {},
   "outputs": [
    {
     "name": "stdout",
     "output_type": "stream",
     "text": [
      ">>  0\n",
      ">>  1\n",
      ">>  2\n",
      ">>  3\n"
     ]
    }
   ],
   "source": [
    "w = writer()\n",
    "wrap = writer_wrapper(w)\n",
    "wrap.send(None)\n",
    "for i in range(4):\n",
    "    wrap.send(i)"
   ]
  },
  {
   "cell_type": "code",
   "execution_count": 17,
   "metadata": {},
   "outputs": [],
   "source": [
    "#Всё то же самое выполняется при помощи yield from\n",
    "def writer_wrapper_from(coro):\n",
    "    yield from coro"
   ]
  },
  {
   "cell_type": "code",
   "execution_count": 18,
   "metadata": {},
   "outputs": [
    {
     "name": "stdout",
     "output_type": "stream",
     "text": [
      ">>  0\n",
      ">>  1\n",
      ">>  2\n",
      ">>  3\n"
     ]
    }
   ],
   "source": [
    "w = writer()\n",
    "wrap = writer_wrapper_from(w)\n",
    "wrap.send(None)\n",
    "for i in range(4):\n",
    "    wrap.send(i)"
   ]
  },
  {
   "cell_type": "markdown",
   "metadata": {},
   "source": [
    "Если подытожить, то yield from позволяет серьезно упростить код и не думать о всяких вещах, о которых мы обычно не хотим думать, и **не теряет** при этом никаких важных исключений или типа того."
   ]
  },
  {
   "cell_type": "markdown",
   "metadata": {},
   "source": [
    "# Декораторы\n",
    "![alt text](Python07-iterators_extra/decorators.jpg)"
   ]
  },
  {
   "cell_type": "markdown",
   "metadata": {},
   "source": [
    "Допустим, мы столкнулись с задачей, что нам надо подправить кое-какие функции, но лезть в них и менять код прямо там нам не сильно охота, потому что, например, мы можем потом передумать. Или переживаем за общую совместимость кода в большом проекте. Сделаем обёртку нужной нам функции:"
   ]
  },
  {
   "cell_type": "code",
   "execution_count": 19,
   "metadata": {},
   "outputs": [],
   "source": [
    "def deprecated(func):\n",
    "    def wrap(*args, **kwargs):\n",
    "        print ('{} will be deprecated soon'.format(func.__name__))\n",
    "        return func(*args, **kwargs)\n",
    "    return wrap"
   ]
  },
  {
   "cell_type": "code",
   "execution_count": 20,
   "metadata": {},
   "outputs": [],
   "source": [
    "def my_func(x):\n",
    "    return x+3\n",
    "\n",
    "# \"Обернём\" нашу функцию посредством переприсвоения\n",
    "my_func = deprecated(my_func)"
   ]
  },
  {
   "cell_type": "code",
   "execution_count": 21,
   "metadata": {},
   "outputs": [
    {
     "name": "stdout",
     "output_type": "stream",
     "text": [
      "my_func will be deprecated soon\n"
     ]
    },
    {
     "data": {
      "text/plain": [
       "5"
      ]
     },
     "execution_count": 21,
     "metadata": {},
     "output_type": "execute_result"
    }
   ],
   "source": [
    "my_func(2)"
   ]
  },
  {
   "cell_type": "code",
   "execution_count": 22,
   "metadata": {},
   "outputs": [],
   "source": [
    "# Ровно то же самое можно записать без переприсвоения:\n",
    "@deprecated # Это декоратор\n",
    "def my_func(x):\n",
    "    return x+3"
   ]
  },
  {
   "cell_type": "code",
   "execution_count": 23,
   "metadata": {},
   "outputs": [
    {
     "name": "stdout",
     "output_type": "stream",
     "text": [
      "my_func will be deprecated soon\n"
     ]
    },
    {
     "data": {
      "text/plain": [
       "5"
      ]
     },
     "execution_count": 23,
     "metadata": {},
     "output_type": "execute_result"
    }
   ],
   "source": [
    "my_func(2)"
   ]
  },
  {
   "cell_type": "code",
   "execution_count": 24,
   "metadata": {},
   "outputs": [
    {
     "data": {
      "text/plain": [
       "'wrap'"
      ]
     },
     "execution_count": 24,
     "metadata": {},
     "output_type": "execute_result"
    }
   ],
   "source": [
    "# Но, заметим, что именем ф-ии стало имя обёртки\n",
    "my_func.__name__"
   ]
  },
  {
   "cell_type": "markdown",
   "metadata": {},
   "source": [
    "Чтобы сделать красивый декоратор и совсем ничего в функции не менять, кроме того что мы поменять хотим, давайте воспользуемся библиотекой functools ![alt text](Python07-iterators_extra/decoration.jpeg)"
   ]
  },
  {
   "cell_type": "code",
   "execution_count": 25,
   "metadata": {},
   "outputs": [
    {
     "data": {
      "text/plain": [
       "'my_func'"
      ]
     },
     "execution_count": 25,
     "metadata": {},
     "output_type": "execute_result"
    }
   ],
   "source": [
    "import functools\n",
    "\n",
    "def deprecated(func):\n",
    "    @functools.wraps(func)\n",
    "    def wrap(*args, **kwargs):\n",
    "        print ('{} will be deprecated soon'.format(func.__name__))\n",
    "        return func(*args, **kwargs)\n",
    "    return wrap\n",
    "\n",
    "@deprecated\n",
    "def my_func(x):\n",
    "    return x+3\n",
    "\n",
    "my_func.__name__"
   ]
  },
  {
   "cell_type": "markdown",
   "metadata": {},
   "source": [
    "Functools - высокоуровневая библиотека, упрощающая работу с функциями и другими вызываемыми объектами, когда требуется расширить, дополнить или даже полностью изменить сам объект. Более детально можно познакомиться, например, здесь https://docs.python.org/3.3/library/functools.html"
   ]
  },
  {
   "cell_type": "markdown",
   "metadata": {},
   "source": [
    "Декораторы работают с классами так же как и с функциями. \n",
    "\n",
    "Создадим декоратор выводящий время работы декорируемой функции или класса, вполне жизненный пример. "
   ]
  },
  {
   "cell_type": "code",
   "execution_count": 26,
   "metadata": {},
   "outputs": [],
   "source": [
    "import time\n",
    "import functools\n",
    "\n",
    "def timer(func):\n",
    "    \"\"\"Print the runtime of the decorated function\"\"\"\n",
    "    @functools.wraps(func)\n",
    "    def wrapper_timer(*args, **kwargs):\n",
    "        start_time = time.perf_counter()    # 1\n",
    "        value = func(*args, **kwargs)\n",
    "        end_time = time.perf_counter()      # 2\n",
    "        run_time = end_time - start_time    # 3\n",
    "        print(f\"Finished {func.__name__!r} in {run_time:.4f} secs\")\n",
    "        return value\n",
    "    return wrapper_timer\n"
   ]
  },
  {
   "cell_type": "code",
   "execution_count": 27,
   "metadata": {},
   "outputs": [],
   "source": [
    "class TimeWaster:    \n",
    "    def __init__(self, max_num):\n",
    "        self.max_num = max_num\n",
    "\n",
    "    @timer\n",
    "    def waste_time(self, num_times):\n",
    "        for _ in range(num_times):\n",
    "            sum([i**2 for i in range(self.max_num)])        "
   ]
  },
  {
   "cell_type": "code",
   "execution_count": 28,
   "metadata": {},
   "outputs": [
    {
     "name": "stdout",
     "output_type": "stream",
     "text": [
      "Finished 'waste_time' in 0.2477 secs\n"
     ]
    }
   ],
   "source": [
    "tw = TimeWaster(1000)\n",
    "tw.waste_time(999)"
   ]
  },
  {
   "cell_type": "markdown",
   "metadata": {},
   "source": [
    "Допустим, мы хотим чтобы наш декоратор что-то нам важное вывел, например исключение. Только не в общий вывод, чтобы не засорять, а куда-то в другое место, где мы при необходимости прочитаем. Для этого можно использовать *атрибуты декоратора*"
   ]
  },
  {
   "cell_type": "code",
   "execution_count": 29,
   "metadata": {},
   "outputs": [],
   "source": [
    "def redirected_output(destination=None):        \n",
    "    def wrapper(*args, **kwargs):\n",
    "        with open(destination, 'w') as output:\n",
    "            print('Some important information', \n",
    "                  file=output)    \n",
    "    return wrapper"
   ]
  },
  {
   "cell_type": "code",
   "execution_count": 30,
   "metadata": {},
   "outputs": [],
   "source": [
    "@redirected_output(destination='log.txt')\n",
    "def foo():\n",
    "    pass"
   ]
  },
  {
   "cell_type": "markdown",
   "metadata": {},
   "source": [
    "Этот пример не очень хорош, зато он прост и демонстрирует, что в сам декоратор можно передавать входные данные"
   ]
  },
  {
   "cell_type": "markdown",
   "metadata": {},
   "source": [
    "![alt text](Python07-iterators_extra/end.jpg)"
   ]
  },
  {
   "cell_type": "markdown",
   "metadata": {},
   "source": [
    "# Домашнее задание."
   ]
  },
  {
   "cell_type": "markdown",
   "metadata": {},
   "source": [
    "Вы снова получите у телеграм-бота файлы с автомобильными траекториями. По полученным данным нужно выявить нарушителей скоростного режима. Предельная допустимая скорость устанавливается в 40 км/ч. Сделать это нужно при помощи полученных сегодня знаний **(pandas запрещен)**, написать хороший итератор или несколько, и пройтись ним по данным.\n",
    "\n",
    "Генератор принимает путь к файлу и выдаёт все объекты превышающие допустимую скорость 40 км/ч непрерывно в течении 1 секунды или дольше.\n",
    "\n",
    "Скорость это путь разделенный на время.  \n",
    "\n",
    "**Координаты в метрах, время в секундах.**\n",
    "\n",
    "Для самопроверки нужно передать боту ID всех нарушителей. Для этого нужно записать их в файл по одному в строку и прислать.\n",
    "\n",
    "Детали:\n",
    "Мы ожидаем от вас answer.txt с ответами и code.py с кодом, в котором будет написан итератор/генератор, и всё что нужно для запуска.\n",
    "\n",
    "Посмотрим пример"
   ]
  },
  {
   "cell_type": "code",
   "execution_count": 1,
   "metadata": {},
   "outputs": [],
   "source": [
    "import os \n",
    "\n",
    "from code import my_generator"
   ]
  },
  {
   "cell_type": "code",
   "execution_count": 2,
   "metadata": {},
   "outputs": [
    {
     "data": {
      "text/plain": [
       "<generator object my_generator at 0x7f465d9f1e40>"
      ]
     },
     "execution_count": 2,
     "metadata": {},
     "output_type": "execute_result"
    }
   ],
   "source": [
    "my_generator('datafile.csv')"
   ]
  },
  {
   "cell_type": "code",
   "execution_count": 3,
   "metadata": {
    "scrolled": true
   },
   "outputs": [
    {
     "data": {
      "text/plain": [
       "['00000000-0000-0000-0000-000000096255',\n",
       " '00000000-0000-0000-0000-000000096392',\n",
       " '00000000-0000-0000-0000-000000096637',\n",
       " '00000000-0000-0000-0000-000000096642',\n",
       " '00000000-0000-0000-0000-000000096665']"
      ]
     },
     "execution_count": 3,
     "metadata": {},
     "output_type": "execute_result"
    }
   ],
   "source": [
    "list(my_generator('data.csv'))"
   ]
  },
  {
   "cell_type": "code",
   "execution_count": null,
   "metadata": {},
   "outputs": [],
   "source": []
  },
  {
   "cell_type": "code",
   "execution_count": null,
   "metadata": {},
   "outputs": [],
   "source": []
  }
 ],
 "metadata": {
  "kernelspec": {
   "display_name": "Python 3 (ipykernel)",
   "language": "python",
   "name": "python3"
  },
  "language_info": {
   "codemirror_mode": {
    "name": "ipython",
    "version": 3
   },
   "file_extension": ".py",
   "mimetype": "text/x-python",
   "name": "python",
   "nbconvert_exporter": "python",
   "pygments_lexer": "ipython3",
   "version": "3.8.10"
  }
 },
 "nbformat": 4,
 "nbformat_minor": 4
}
