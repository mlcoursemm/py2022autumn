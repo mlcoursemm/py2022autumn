{
 "cells": [
  {
   "cell_type": "markdown",
   "metadata": {
    "slideshow": {
     "slide_type": "-"
    }
   },
   "source": [
    "# Курс \"Python для исследователя\", зима 2022"
   ]
  },
  {
   "cell_type": "markdown",
   "metadata": {},
   "source": [
    "## Занятие 9. Параллелизация в Python. HTTP запросы. "
   ]
  },
  {
   "cell_type": "markdown",
   "metadata": {},
   "source": [
    "![](Python09-Parallel_extra/logo.png) "
   ]
  },
  {
   "cell_type": "markdown",
   "metadata": {},
   "source": [
    "---"
   ]
  },
  {
   "cell_type": "markdown",
   "metadata": {},
   "source": [
    "# Параллелизация в Python"
   ]
  },
  {
   "cell_type": "markdown",
   "metadata": {},
   "source": [
    "## Немного теории"
   ]
  },
  {
   "cell_type": "markdown",
   "metadata": {},
   "source": [
    "### Закон Амдала"
   ]
  },
  {
   "cell_type": "markdown",
   "metadata": {},
   "source": [
    "Распараллеливать что-нибудь очень хорошо и правильно. Но есть ли пределы распараллеливания, даже если увеличивать до бесконечности число занятых в этом процессе устройств?\n",
    "\n",
    "Оказывается, да, и этот предел описывает простым [**законом Амдала**](https://ru.wikipedia.org/wiki/%D0%97%D0%B0%D0%BA%D0%BE%D0%BD_%D0%90%D0%BC%D0%B4%D0%B0%D0%BB%D0%B0): \"*В случае, когда задача разделяется на несколько частей, суммарное время её выполнения на параллельной системе не может быть меньше времени выполнения самого медленного фрагмента*\".\n",
    "\n",
    "#### Формульное выражение\n",
    "\n",
    "Предположим, что в программе доля вычислений *a* - чисто последовательные (и никак не могут быть распараллелены). Также предположим, что у нас есть *p* одинаковых вычислителей. Тогда максимальное ускорение по сравнению с одним вычислителем, которое можно получить, используя *p* таких вычислителей, выражается формулой:\n",
    "\n",
    "$$R = \\frac{1}{a + \\frac{1 - a}{p}}\\xrightarrow[p\\rightarrow\\infty]{} \\frac{1}{a}$$\n",
    "\n",
    "Таким образом, имея половину нераспараллеливаемых вычислений (*a=0.5*), даже имея неограниченное число вычислителей, невозможно ускорить программу больше чем в 2 раза.\n",
    "\n",
    "![](Python09-Parallel_extra/amdal.png)"
   ]
  },
  {
   "cell_type": "markdown",
   "metadata": {},
   "source": [
    "### О парадигмах распараллеливания"
   ]
  },
  {
   "cell_type": "markdown",
   "metadata": {},
   "source": [
    "На данный момент наибольшее распространение получили 2 классических подхода к распараллеливанию:\n",
    "1. Основанный на процессах (multiprocessing)\n",
    "2. Основанный на нитях (multithreading)\n",
    "\n",
    "> Правда, есть еще такая важная ветка, как *распределённые вычисления* (и связанные с ней механизмы синхронизации). К сожалению, это не тема данного семинара.\n",
    "\n",
    "Чем отличаются multiprocessing и multithreading? Самое важное различие - доступ к памяти:\n",
    "- Если применяется multiprocessing, то создаются копии текущего процесса и каждая копия работает независимо \n",
    "- Если применяется multithreading, то запускаются т.н. \"нити\", каждая из которых имеет такой же полный доступ к общей памяти, как и любая другая нить"
   ]
  },
  {
   "cell_type": "markdown",
   "metadata": {},
   "source": [
    "![](Python09-Parallel_extra/th_vs_pr.png)"
   ]
  },
  {
   "cell_type": "markdown",
   "metadata": {},
   "source": [
    "Очевидно, что multiprocessing имеет смысл применять, когда у нас:\n",
    "- есть в наличии дополнительные процессоры (ядра)\n",
    "- процессы не требуют особого взаимодействия (ни между собой, ни с внешним миром)"
   ]
  },
  {
   "cell_type": "markdown",
   "metadata": {},
   "source": [
    "![](Python09-Parallel_extra/pr.png)"
   ]
  },
  {
   "cell_type": "markdown",
   "metadata": {},
   "source": [
    "По идее, для multithreading тоже лучше бы использовать разные процессоры (ядра), только нити могут активно общаться между собой. \n",
    "\n",
    "Однако, в Python не все так радужно :)"
   ]
  },
  {
   "cell_type": "markdown",
   "metadata": {},
   "source": [
    "Оказывается, в Python его главный интерпретатор, CPython, не позволяет делать истинную многопоточность из-за механизма ограничения доступа, названного Global Interpreter Lock (GIL).\n",
    "\n",
    "GIL применяется, потому что интерпретатор Питона не потоково безопасный (thread-safe). Это значит, что существует глобальная блокировка (lock) при попытке использовать питоновские объекты изнутри нитей. В каждый момент времени ровно одна нить может блокировать доступ к интерпретатору (и соответственно, к объекту). \n",
    "\n",
    "Создатели языка делали попытки избавиться от GIL, но тогда язык теряет существенную часть своей простоты. Написание надёжных многопоточных программ зачастую является непростой задачей. Без GIL Python станет другим языком с более высоким порогом входа."
   ]
  },
  {
   "cell_type": "markdown",
   "metadata": {},
   "source": [
    "Как выглядит работа с нитями:\n",
    "![](Python09-Parallel_extra/th.png)"
   ]
  },
  {
   "cell_type": "markdown",
   "metadata": {},
   "source": [
    "Как разные нити выполняются по времени:\n",
    "![](Python09-Parallel_extra/GIL_description.gif)"
   ]
  },
  {
   "cell_type": "markdown",
   "metadata": {},
   "source": [
    "Рассмотрим подробнее два этих подхода. Сразу заметим, что все скрипты будем пускать из отдельного файла, а не через ноутбук, иначе эффективного распараллеливания не получится :)\n",
    "\n",
    "Также важно: будет пользоваться общепринятой практикой оформления кода в файле вида `if __name__ == \"__main__\":`, после чего будет идти код, который должен исполняться только если мы напрямую запускаем этот файл, а не импортируем его (что могло бы привести к печальным последствиям)\n",
    "\n",
    "Начнем с более простого - **нитей** (или **потоков**, часто это - синонимы)."
   ]
  },
  {
   "cell_type": "markdown",
   "metadata": {},
   "source": [
    "## Multithreading"
   ]
  },
  {
   "cell_type": "markdown",
   "metadata": {},
   "source": [
    "### Одна нить"
   ]
  },
  {
   "cell_type": "markdown",
   "metadata": {},
   "source": [
    "* делается с помощью стандартной библиотеки *`threading`*\n",
    "* конструктор нити: `Thread(target=thread_function, args=args)`, где\n",
    "  * `target`: это функция, которая будет запущена в отдельной нити\n",
    "  * `args`: аргументы этой функции\n",
    "* запуск нити происходит с помощью функции `start`"
   ]
  },
  {
   "cell_type": "markdown",
   "metadata": {},
   "source": [
    "th1.py:\n",
    "```python\n",
    "import threading\n",
    "import time\n",
    "\n",
    "def thread_function(name):\n",
    "    print(f'Thread {name}: starting')\n",
    "    time.sleep(2)\n",
    "    print(f'Thread {name}: finishing')\n",
    "\n",
    "if __name__ == \"__main__\":\n",
    "    print('Main    : before creating thread')\n",
    "    x = threading.Thread(target=thread_function, args=(1,))\n",
    "    print('Main    : before running thread')\n",
    "    x.start()\n",
    "    print('Main    : wait for the thread to finish')\n",
    "    # x.join()\n",
    "    print('Main    : all done')\n",
    "```"
   ]
  },
  {
   "cell_type": "code",
   "execution_count": 1,
   "metadata": {},
   "outputs": [],
   "source": [
    "import os\n",
    "import subprocess\n",
    "\n",
    "def run(cmd):\n",
    "    print(subprocess.check_output(cmd.split(\" \"), stderr=subprocess.STDOUT).decode())"
   ]
  },
  {
   "cell_type": "code",
   "execution_count": 2,
   "metadata": {},
   "outputs": [
    {
     "name": "stdout",
     "output_type": "stream",
     "text": [
      "Main    : before creating thread\n",
      "Main    : before running thread\n",
      "Thread 1: starting\n",
      "Main    : wait for the thread to finish\n",
      "Main    : all done\n",
      "Thread 1: finishing\n",
      "\n"
     ]
    }
   ],
   "source": [
    "run(\"python Python09-Parallel_extra/th1.py\")"
   ]
  },
  {
   "cell_type": "markdown",
   "metadata": {},
   "source": [
    "Мы передавали имя нити как аргумент (1), но можно воспользоваться:\n",
    "* стандартным полем извлечения имени: `current_thread().name` (получить ссылку на главный поток программы можно с помощью `main_thread()`)\n",
    "* передавать это имя в конструкторе через `name=name`"
   ]
  },
  {
   "cell_type": "markdown",
   "metadata": {},
   "source": [
    "th2.py:\n",
    "```python\n",
    "import threading\n",
    "import time\n",
    "\n",
    "def thread_function():\n",
    "    name = threading.current_thread().name\n",
    "    print(f'Thread {name}: starting')\n",
    "    time.sleep(2)\n",
    "    print(f'Thread {name}: finishing')\n",
    "\n",
    "if __name__ == \"__main__\":\n",
    "    print('Main    : before creating thread')\n",
    "    x = threading.Thread(target=thread_function, name='my_thread_1')\n",
    "    print('Main    : before running thread')\n",
    "    x.start()\n",
    "    print('Main    : wait for the thread to finish')\n",
    "    # x.join()\n",
    "    print('Main    : all done')\n",
    "```"
   ]
  },
  {
   "cell_type": "code",
   "execution_count": 3,
   "metadata": {},
   "outputs": [
    {
     "name": "stdout",
     "output_type": "stream",
     "text": [
      "Main    : before creating thread\n",
      "Main    : before running thread\n",
      "Thread my_thread_1: starting\n",
      "Main    : wait for the thread to finish\n",
      "Main    : all done\n",
      "Thread my_thread_1: finishing\n",
      "\n"
     ]
    }
   ],
   "source": [
    "run(\"python Python09-Parallel_extra/th2.py\")"
   ]
  },
  {
   "cell_type": "markdown",
   "metadata": {},
   "source": [
    "Заметим, что нить на самом деле завершилась уже после завершения основного потока программы (сначала \"*Main    : all done*\", а затем уже \"*Thread my_thread_1: finishing*\"). Тем не менее, основной поток дождался завершения нити.\n",
    "\n",
    "Однако можно запускать нити в режиме **демона**, которые вообще не привязываются к основному потоку программы, и аварийно (немедленно) завершаются при завершении основного потока программы. Для этого используется соответствующее указание в конструкторе: `daemon=True`"
   ]
  },
  {
   "cell_type": "markdown",
   "metadata": {},
   "source": [
    "th3.py:\n",
    "```python\n",
    "import threading\n",
    "import time\n",
    "\n",
    "def thread_function():\n",
    "    name = threading.current_thread().name\n",
    "    print(f'Thread {name}: starting')\n",
    "    time.sleep(2)\n",
    "    print(f'Thread {name}: finishing')\n",
    "\n",
    "if __name__ == \"__main__\":\n",
    "    print('Main    : before creating thread')\n",
    "    x = threading.Thread(target=thread_function, name='my_thread_1', daemon=True)\n",
    "    print('Main    : before running thread')\n",
    "    x.start()\n",
    "    print('Main    : wait for the thread to finish')\n",
    "    # x.join()\n",
    "    print('Main    : all done')\n",
    "```"
   ]
  },
  {
   "cell_type": "code",
   "execution_count": 4,
   "metadata": {},
   "outputs": [
    {
     "name": "stdout",
     "output_type": "stream",
     "text": [
      "Main    : before creating thread\n",
      "Main    : before running thread\n",
      "Thread my_thread_1: starting\n",
      "Main    : wait for the thread to finish\n",
      "Main    : all done\n",
      "\n"
     ]
    }
   ],
   "source": [
    "run(\"python Python09-Parallel_extra/th3.py\")"
   ]
  },
  {
   "cell_type": "markdown",
   "metadata": {},
   "source": [
    "Как видим, основной поток не стал дожидаться окончания выполнения нити (\"*Thread my_thread_1: finishing*\" уже нет!).\n",
    "\n",
    "Тем не менее, иногда полезно в некотором месте программы дождаться завершения одной (или нескольких, или всех) нити. Для этого используется функция `join()`, и работает даже для демонов."
   ]
  },
  {
   "cell_type": "markdown",
   "metadata": {},
   "source": [
    "th4.py: раскомментируем `x.join()`"
   ]
  },
  {
   "cell_type": "code",
   "execution_count": 5,
   "metadata": {},
   "outputs": [
    {
     "name": "stdout",
     "output_type": "stream",
     "text": [
      "Main    : before creating thread\n",
      "Main    : before running thread\n",
      "Thread my_thread_1: starting\n",
      "Main    : wait for the thread to finish\n",
      "Thread my_thread_1: finishing\n",
      "Main    : all done\n",
      "\n"
     ]
    }
   ],
   "source": [
    "run(\"python Python09-Parallel_extra/th4.py\")"
   ]
  },
  {
   "cell_type": "markdown",
   "metadata": {},
   "source": [
    "### Много нитей"
   ]
  },
  {
   "cell_type": "markdown",
   "metadata": {},
   "source": [
    "Для начала поступим очень просто - создадим, вызовем и дождемся завершения в цикле."
   ]
  },
  {
   "cell_type": "markdown",
   "metadata": {},
   "source": [
    "th5.py:\n",
    "```python\n",
    "import threading\n",
    "import time\n",
    "\n",
    "def thread_function():\n",
    "    name = threading.current_thread().name\n",
    "    print(f'Thread {name}: starting')\n",
    "    time.sleep(2)\n",
    "    print(f'Thread {name}: finishing')\n",
    "\n",
    "if __name__ == \"__main__\":\n",
    "    threads = list()\n",
    "    n_threads = 3\n",
    "    for i in range(n_threads):\n",
    "        th_name = f'my_thread_{i}'\n",
    "        print(f'Main    : before creating and starting {th_name}')\n",
    "        x = threading.Thread(target=thread_function, name=th_name)\n",
    "        threads.append(x)\n",
    "        x.start()\n",
    "        \n",
    "    for i in range(n_threads): \n",
    "        th_name = f'my_thread_{i}'\n",
    "        print(f'Main    : before join {th_name}')\n",
    "        threads[i].join()\n",
    "        print(f'Main    : {th_name} done')\n",
    "    \n",
    "    print('Main    : done')\n",
    "```"
   ]
  },
  {
   "cell_type": "code",
   "execution_count": 6,
   "metadata": {},
   "outputs": [
    {
     "name": "stdout",
     "output_type": "stream",
     "text": [
      "Main    : before creating and starting my_thread_0\n",
      "Thread my_thread_0: starting\n",
      "Main    : before creating and starting my_thread_1\n",
      "Thread my_thread_1: starting\n",
      "Main    : before creating and starting my_thread_2\n",
      "Thread my_thread_2: starting\n",
      "Main    : before join my_thread_0\n",
      "Thread my_thread_0: finishing\n",
      "Main    : my_thread_0 done\n",
      "Main    : before join my_thread_1\n",
      "Thread my_thread_1: finishing\n",
      "Main    : my_thread_1 done\n",
      "Main    : before join my_thread_2\n",
      "Thread my_thread_2: finishing\n",
      "Main    : my_thread_2 done\n",
      "Main    : done\n",
      "\n"
     ]
    }
   ],
   "source": [
    "run(\"python Python09-Parallel_extra/th5.py\")"
   ]
  },
  {
   "cell_type": "markdown",
   "metadata": {},
   "source": [
    "Как видно, порядок вызова сохранился, однако окончание ('*finishing*') может иметь другой порядок (0,1,2 -> 1,2,0), которые еще и может отличаться при разных запусках. За это отвечает операционная система, так что будьте внимательны!"
   ]
  },
  {
   "cell_type": "markdown",
   "metadata": {},
   "source": [
    "#### ThreadPoolExecutor"
   ]
  },
  {
   "cell_type": "markdown",
   "metadata": {},
   "source": [
    "Тем не менее, есть гораздо более удобный метод работать со множеством (да и с одной тоже) нитей из стандартного пакета **`concurrent.futures`**: `ThreadPoolExecutor`.\n",
    "\n",
    "Основной метод использования: вызывать конструктор `ThreadPoolExecutor(max_workers=max_workers)` оператором контекста `with`, при выходе из которого автоматически вызывается `join()` для всех созданных нитей.\n",
    "\n",
    "При этом создание и запуск нитей можно делать:\n",
    "* через функцию `map(thread_function, thread_args_iter)`, тогда итератор пройдется по `thread_args_iter` и передаст каждое новое значение на вход `thread_function()` в качестве аргумента. Будет создано столько нитей, сколько объектов пройдет итератор\n",
    "* через функцию `submit(thread_function, *args, **kwargs)`, и сделать это будет нужно для каждой нити (зато аргументы передавать удобнее)"
   ]
  },
  {
   "cell_type": "markdown",
   "metadata": {},
   "source": [
    "th6.py:\n",
    "```python\n",
    "import threading\n",
    "import concurrent.futures\n",
    "import time\n",
    "\n",
    "def thread_function(a):\n",
    "    name = threading.current_thread().name\n",
    "    print(f'Thread {name}-{a}: starting')\n",
    "    time.sleep(2)\n",
    "    print(f'Thread {name}-{a}: finishing')\n",
    "\n",
    "if __name__ == \"__main__\":\n",
    "    n_threads = 3\n",
    "    with concurrent.futures.ThreadPoolExecutor(max_workers=n_threads) as executor:\n",
    "        executor.map(thread_function, range(n_threads - 1))\n",
    "        executor.submit(thread_function, n_threads - 1)\n",
    "    print('Main    : done')\n",
    "```"
   ]
  },
  {
   "cell_type": "code",
   "execution_count": 7,
   "metadata": {},
   "outputs": [
    {
     "name": "stdout",
     "output_type": "stream",
     "text": [
      "Thread ThreadPoolExecutor-0_0-0: starting\n",
      "Thread ThreadPoolExecutor-0_1-1: starting\n",
      "Thread ThreadPoolExecutor-0_2-2: starting\n",
      "Thread ThreadPoolExecutor-0_1-1: finishing\n",
      "Thread ThreadPoolExecutor-0_0-0: finishing\n",
      "Thread ThreadPoolExecutor-0_2-2: finishing\n",
      "Main    : done\n",
      "\n"
     ]
    }
   ],
   "source": [
    "run(\"python Python09-Parallel_extra/th6.py\")"
   ]
  },
  {
   "cell_type": "markdown",
   "metadata": {},
   "source": [
    "#### О совместном доступе к ресурсам"
   ]
  },
  {
   "cell_type": "markdown",
   "metadata": {},
   "source": [
    "Предположим, что у нас есть некоторая переменная (инициализированная, например, нулем), которую ***изменяют*** две нити (одна добавляет +1, а другая +2). Если аккуратно не позаботиться об атомарном доступе к этой переменной, то предсказать, какое значение будет на выходе - **невозможно**!\n",
    "\n",
    "Например, в примере ниже при завершении работы двух нитей будет либо 1, либо 2 (а вот 3 - вряд ли):"
   ]
  },
  {
   "cell_type": "markdown",
   "metadata": {},
   "source": [
    "th7.py:\n",
    "```python\n",
    "import threading\n",
    "import concurrent.futures\n",
    "import time\n",
    "\n",
    "class NonAtomicUpdate:\n",
    "    def __init__(self):\n",
    "        self.val = 0\n",
    "\n",
    "    def update(self, dx):\n",
    "        name = threading.current_thread().name\n",
    "        print(f'Thread {name}: starting')\n",
    "        val = self.val\n",
    "        val += dx\n",
    "        time.sleep(0.1)\n",
    "        self.val = val\n",
    "        print(f'Thread {name}: finishing')\n",
    "\n",
    "if __name__ == \"__main__\":\n",
    "    n_threads = 2\n",
    "    obj = NonAtomicUpdate()\n",
    "    print(f'Initial val = {obj.val}') \n",
    "    with concurrent.futures.ThreadPoolExecutor(max_workers=n_threads) as executor:\n",
    "        executor.submit(obj.update, 1)\n",
    "        executor.submit(obj.update, 2)\n",
    "    print(f'Final val = {obj.val}')    \n",
    "    print('Main    : done')\n",
    "```"
   ]
  },
  {
   "cell_type": "code",
   "execution_count": 8,
   "metadata": {
    "scrolled": true
   },
   "outputs": [
    {
     "name": "stdout",
     "output_type": "stream",
     "text": [
      "Initial val = 0\n",
      "Thread ThreadPoolExecutor-0_0: starting\n",
      "Thread ThreadPoolExecutor-0_1: starting\n",
      "Thread ThreadPoolExecutor-0_0: finishing\n",
      "Thread ThreadPoolExecutor-0_1: finishing\n",
      "Final val = 2\n",
      "Main    : done\n",
      "\n"
     ]
    }
   ],
   "source": [
    "run(\"python Python09-Parallel_extra/th7.py\")"
   ]
  },
  {
   "cell_type": "markdown",
   "metadata": {},
   "source": [
    "Для того, чтобы делать действительно атомарные операции, необходимо **блокировать** переменные. В Питоне это делается с помощью класса `Lock`, объект которого, будучи вызванным в операторе контекста `with`, блокирует переменную только для одной нити. "
   ]
  },
  {
   "cell_type": "markdown",
   "metadata": {},
   "source": [
    "th8.py:\n",
    "```python\n",
    "import threading\n",
    "import concurrent.futures\n",
    "import time\n",
    "\n",
    "class AtomicUpdate:\n",
    "    def __init__(self):\n",
    "        self.val = 0\n",
    "        self._lock = threading.Lock()\n",
    "\n",
    "    def update(self, dx):\n",
    "        name = threading.current_thread().name\n",
    "        with self._lock:\n",
    "            print(f'Thread {name}: starting to lock')\n",
    "            val = self.val\n",
    "            val += dx\n",
    "            time.sleep(0.1)\n",
    "            self.val = val\n",
    "            print(f'Thread {name}: finishing lock')\n",
    "\n",
    "if __name__ == \"__main__\":\n",
    "    n_threads = 2\n",
    "    obj = AtomicUpdate()\n",
    "    print(f'Initial val = {obj.val}') \n",
    "    with concurrent.futures.ThreadPoolExecutor(max_workers=n_threads) as executor:\n",
    "        executor.submit(obj.update, 1)\n",
    "        executor.submit(obj.update, 2)\n",
    "    print(f'Final val = {obj.val}')    \n",
    "    print('Main    : done')\n",
    "```"
   ]
  },
  {
   "cell_type": "code",
   "execution_count": 9,
   "metadata": {
    "scrolled": true
   },
   "outputs": [
    {
     "name": "stdout",
     "output_type": "stream",
     "text": [
      "Initial val = 0\n",
      "Thread ThreadPoolExecutor-0_0: starting to lock\n",
      "Thread ThreadPoolExecutor-0_0: finishing lock\n",
      "Thread ThreadPoolExecutor-0_1: starting to lock\n",
      "Thread ThreadPoolExecutor-0_1: finishing lock\n",
      "Final val = 3\n",
      "Main    : done\n",
      "\n"
     ]
    }
   ],
   "source": [
    "run(\"python Python09-Parallel_extra/th8.py\")"
   ]
  },
  {
   "cell_type": "markdown",
   "metadata": {},
   "source": [
    "Также для разграничения доступа ресурсов между нитями можно пользоваться классом `local`, тогда значение полей этого класса будет своим для каждой отдельной нити (и по умолчанию неинициализированным)"
   ]
  },
  {
   "cell_type": "markdown",
   "metadata": {},
   "source": [
    "th9.py:\n",
    "```python\n",
    "import threading\n",
    "import concurrent.futures\n",
    "import time\n",
    "\n",
    "def show(loc):\n",
    "    name = threading.current_thread().name\n",
    "    try:\n",
    "        val = loc.val\n",
    "    except AttributeError:\n",
    "        print(f'Thread {name}, value=???')\n",
    "    else:\n",
    "        print(f'Thread {name}, value={val}')\n",
    "\n",
    "def thread_init(loc, v):\n",
    "    time.sleep(0.1)\n",
    "    show(loc)\n",
    "    loc.val = v\n",
    "    show(loc)\n",
    "   \n",
    "\n",
    "if __name__ == '__main__':\n",
    "    loc = threading.local()\n",
    "    thread_init(loc, 0)\n",
    "    n_threads = 2\n",
    "    with concurrent.futures.ThreadPoolExecutor(max_workers=n_threads) as executor:\n",
    "        executor.submit(thread_init, loc, 1)\n",
    "        executor.submit(thread_init, loc, 2)\n",
    "    show(loc)     \n",
    "```"
   ]
  },
  {
   "cell_type": "code",
   "execution_count": 10,
   "metadata": {
    "scrolled": true
   },
   "outputs": [
    {
     "name": "stdout",
     "output_type": "stream",
     "text": [
      "Thread MainThread, value=???\n",
      "Thread MainThread, value=0\n",
      "Thread ThreadPoolExecutor-0_0, value=???\n",
      "Thread ThreadPoolExecutor-0_0, value=1\n",
      "Thread ThreadPoolExecutor-0_1, value=???\n",
      "Thread ThreadPoolExecutor-0_1, value=2\n",
      "Thread MainThread, value=0\n",
      "\n"
     ]
    }
   ],
   "source": [
    "run(\"python Python09-Parallel_extra/th9.py\")"
   ]
  },
  {
   "cell_type": "markdown",
   "metadata": {},
   "source": [
    "#### Модель производитель-потребитель"
   ]
  },
  {
   "cell_type": "markdown",
   "metadata": {},
   "source": [
    "Наиболее продвинутая система \"общения\" между нитями - это модель производитель-потребитель (Producer-Consumer). \n",
    "\n",
    "Для обеспечения работоспособности используется потоково безопасная очередь `queue.Queue` с главными методами `put()` (поместить в очередь) и `get()` (извлечь из очередь), а также `empty()` (пуста либо нет). Очередь типа FIFO (первый вошел - первый вышел). \n",
    "\n",
    "Для служебной сигнализации обычно используется потоково безопасный класс `Event` с главными методами `set()` (установить флаг), `clear()` (снять флаг), `wait()` (ждать пока флаг не установлен) и `is_set()` (проверка, установлен ли флаг).\n",
    "\n",
    "В примере ниже производитель пишет некоторое количестве информации в очередь, затем устанавливает флаг. Потребитель все это время ждет установки флага, а затем считывает все данные из очереди."
   ]
  },
  {
   "cell_type": "markdown",
   "metadata": {},
   "source": [
    "th10.py:\n",
    "```python\n",
    "import concurrent.futures\n",
    "import queue\n",
    "import threading\n",
    "import time\n",
    "\n",
    "def producer(queue, event):\n",
    "    print(f\"Producer will write to queue... event.is_set() = {event.is_set()}\")\n",
    "    for i in range(10):\n",
    "        print(f'Producer writing... {9-i}')\n",
    "        time.sleep(0.5)\n",
    "        queue.put(i*i)\n",
    "    event.set()\n",
    "    print(f\"Producer sent event. Exiting / event.is_set() = {event.is_set()}\")\n",
    "\n",
    "def consumer(queue, event):\n",
    "    print(f\"Consumer is waiting for event... event.is_set() = {event.is_set()}\")\n",
    "    event.wait()\n",
    "    print(f\"Consumer received event! event.is_set() = {event.is_set()}\")\n",
    "    while not queue.empty():\n",
    "        num = queue.get()\n",
    "        print(f\"Consumer got num: {num} (remain qsize={queue.qsize()})\")\n",
    "    event.clear()\n",
    "    print(f\"Consumer cleared event. Exiting  / event.is_set() = {event.is_set()}\")\n",
    "\n",
    "if __name__ == \"__main__\":\n",
    "    pipeline = queue.Queue(maxsize=100)\n",
    "    event = threading.Event()\n",
    "    with concurrent.futures.ThreadPoolExecutor(max_workers=2) as executor:\n",
    "        executor.submit(producer, pipeline, event)\n",
    "        executor.submit(consumer, pipeline, event)\n",
    "    print(f\"Main: event.is_set() = {event.is_set()}\")\n",
    "```"
   ]
  },
  {
   "cell_type": "code",
   "execution_count": 11,
   "metadata": {},
   "outputs": [
    {
     "name": "stdout",
     "output_type": "stream",
     "text": [
      "Producer will write to queue... event.is_set() = False\n",
      "Producer writing... 9\n",
      "Consumer is waiting for event... event.is_set() = False\n",
      "Producer writing... 8\n",
      "Producer writing... 7\n",
      "Producer writing... 6\n",
      "Producer writing... 5\n",
      "Producer writing... 4\n",
      "Producer writing... 3\n",
      "Producer writing... 2\n",
      "Producer writing... 1\n",
      "Producer writing... 0\n",
      "Producer sent event. Exiting / event.is_set() = True\n",
      "Consumer received event! event.is_set() = True\n",
      "Consumer got num: 0 (remain qsize=9)\n",
      "Consumer got num: 1 (remain qsize=8)\n",
      "Consumer got num: 4 (remain qsize=7)\n",
      "Consumer got num: 9 (remain qsize=6)\n",
      "Consumer got num: 16 (remain qsize=5)\n",
      "Consumer got num: 25 (remain qsize=4)\n",
      "Consumer got num: 36 (remain qsize=3)\n",
      "Consumer got num: 49 (remain qsize=2)\n",
      "Consumer got num: 64 (remain qsize=1)\n",
      "Consumer got num: 81 (remain qsize=0)\n",
      "Consumer cleared event. Exiting  / event.is_set() = False\n",
      "Main: event.is_set() = False\n",
      "\n"
     ]
    }
   ],
   "source": [
    "run(\"python Python09-Parallel_extra/th10.py\")"
   ]
  },
  {
   "cell_type": "markdown",
   "metadata": {},
   "source": [
    "## Multiprocessing"
   ]
  },
  {
   "cell_type": "markdown",
   "metadata": {},
   "source": [
    "В случае с распараллеливанием по процессам, многие методы модуля **`multiprocessing`** копируют одноименные из модуля `threading`.  \n",
    "\n",
    "**Внимание** [*замечание для счастливых пользователей Windows*]: в случае с разными процессами вывод на экран порой трудно понять (порядок вывода практически не кореллирует с очередностью процессов), в особенности с дочерними (т.е. не главным процессом main) процессами, т.к. главный процесс сначала ждет, пока все дополнительные процессы завершатся, и только затем выводит. \n",
    "\n",
    "[Цитата из официальной документации](https://docs.python.org/3/howto/logging-cookbook.html#logging-to-a-single-file-from-multiple-processes):\n",
    "> Although logging is thread-safe, and logging to a single file from multiple threads in a single process is supported, logging to a single file from multiple processes is not supported, because there is no standard way to serialize access to a single file across multiple processes in Python. \n",
    "\n",
    "А это значит, что выводы будут блоками: сначала полный вывод одного процесса, затем другого, и т.д.\n",
    "\n",
    "Также воспользуемся дополнительным модулем логирования `logging` для детального вывода в `stderr` порядка запуска процессов"
   ]
  },
  {
   "cell_type": "markdown",
   "metadata": {},
   "source": [
    "* конструктор процесса: `Process(target=process_function, args=args, name=name)`, где\n",
    "  * `target`: это функция, которая будет запущена в отдельном процессе\n",
    "  * `args`: аргументы этой функции\n",
    "  * `name`: имя процесса\n",
    "* запуск процесса происходит с помощью функции `start`"
   ]
  },
  {
   "cell_type": "markdown",
   "metadata": {},
   "source": [
    "pr1.py:\n",
    "```python\n",
    "import multiprocessing\n",
    "import time\n",
    "import logging\n",
    "\n",
    "def process_function(v):\n",
    "    name = multiprocessing.current_process().name\n",
    "    print(f'Process {name} (arg={v}): starting')\n",
    "    time.sleep(2)\n",
    "    print(f'Process {name} (arg={v}): finishing')\n",
    "\n",
    "if __name__ == \"__main__\":\n",
    "    multiprocessing.log_to_stderr()\n",
    "    logger = multiprocessing.get_logger()\n",
    "    logger.setLevel(logging.INFO)\n",
    "    print('Main    : before creating process')\n",
    "    x = multiprocessing.Process(target=process_function, args=(111,), name='my_process_1')\n",
    "    print('Main    : before running process')\n",
    "    x.start()\n",
    "    print('Main    : wait for the process to finish')\n",
    "    # x.join()\n",
    "    print('Main    : all done')\n",
    "```"
   ]
  },
  {
   "cell_type": "code",
   "execution_count": 12,
   "metadata": {},
   "outputs": [
    {
     "name": "stdout",
     "output_type": "stream",
     "text": [
      "Main    : before creating process\n",
      "Main    : before running process\n",
      "Main    : wait for the process to finish\n",
      "Main    : all done\n",
      "[INFO/MainProcess] process shutting down\n",
      "[INFO/MainProcess] calling join() for process my_process_1\n",
      "[INFO/my_process_1] child process calling self.run()\n",
      "[INFO/my_process_1] process shutting down\n",
      "[INFO/my_process_1] process exiting with exitcode 0\n",
      "Process my_process_1 (arg=111): starting\n",
      "Process my_process_1 (arg=111): finishing\n",
      "\n"
     ]
    }
   ],
   "source": [
    "run(\"python Python09-Parallel_extra/pr1.py\")"
   ]
  },
  {
   "cell_type": "markdown",
   "metadata": {},
   "source": [
    "Как видим, сначала полный вывод главного процесса, который в самом конце дождался завершения дочернего процесса."
   ]
  },
  {
   "cell_type": "markdown",
   "metadata": {},
   "source": [
    "Если же мы не хотим при завершении главного процесса дожидаться результатов дочерних процессов, объявляем их как `daemon=True`"
   ]
  },
  {
   "cell_type": "markdown",
   "metadata": {},
   "source": [
    "pr2.py:\n",
    "```python\n",
    "import multiprocessing\n",
    "import time\n",
    "import logging\n",
    "\n",
    "def process_function():\n",
    "    name = multiprocessing.current_process().name\n",
    "    print(f'Process {name}: starting')\n",
    "    time.sleep(2)\n",
    "    print(f'Process {name}: finishing')\n",
    "\n",
    "if __name__ == \"__main__\":\n",
    "    multiprocessing.log_to_stderr()\n",
    "    logger = multiprocessing.get_logger()\n",
    "    logger.setLevel(logging.INFO)\n",
    "    print('Main    : before creating process')\n",
    "    x = multiprocessing.Process(target=process_function, name='my_process_1', daemon=True)\n",
    "    print('Main    : before running process')\n",
    "    x.start()\n",
    "    print('Main    : wait for the process to finish')\n",
    "    # x.join()\n",
    "    print('Main    : all done')\n",
    "```"
   ]
  },
  {
   "cell_type": "code",
   "execution_count": 13,
   "metadata": {},
   "outputs": [
    {
     "name": "stdout",
     "output_type": "stream",
     "text": [
      "Main    : before creating process\n",
      "Main    : before running process\n",
      "Main    : wait for the process to finish\n",
      "Main    : all done\n",
      "[INFO/MainProcess] process shutting down\n",
      "[INFO/MainProcess] calling terminate() for daemon my_process_1\n",
      "[INFO/MainProcess] calling join() for process my_process_1\n",
      "\n"
     ]
    }
   ],
   "source": [
    "run(\"python Python09-Parallel_extra/pr2.py\")"
   ]
  },
  {
   "cell_type": "markdown",
   "metadata": {},
   "source": [
    "Также можно не дожидаться окончания работы главного процесса, а подождать завершения дочерних процессов в определенном месте - это делается с помощью `join()` (работает и для демонов!)"
   ]
  },
  {
   "cell_type": "markdown",
   "metadata": {},
   "source": [
    "pr3.py: просто раскомментируем `x.join()`"
   ]
  },
  {
   "cell_type": "code",
   "execution_count": 14,
   "metadata": {
    "scrolled": true
   },
   "outputs": [
    {
     "name": "stdout",
     "output_type": "stream",
     "text": [
      "Main    : before creating process\n",
      "Main    : before running process\n",
      "[INFO/my_process_1] child process calling self.run()\n",
      "[INFO/my_process_1] process shutting down\n",
      "[INFO/my_process_1] process exiting with exitcode 0\n",
      "Process my_process_1: starting\n",
      "Process my_process_1: finishing\n",
      "Main    : wait for the process to finish\n",
      "Main    : all done\n",
      "[INFO/MainProcess] process shutting down\n",
      "\n"
     ]
    }
   ],
   "source": [
    "run(\"python Python09-Parallel_extra/pr3.py\")"
   ]
  },
  {
   "cell_type": "markdown",
   "metadata": {},
   "source": [
    "### Много процессов\n",
    "\n",
    "#### Pool"
   ]
  },
  {
   "cell_type": "markdown",
   "metadata": {},
   "source": [
    "* Часто нужно создавать гораздо больше одного дочернего процесса. Обычно создают N-1 дочерних процессов, где N - это число ядер на Вашем компьютере. Функция `cpu_count()` позволяет узнать это количество.\n",
    "\n",
    "* Для работы с необходимым количеством дочерних процессов (с автоматическим ожиданием их завершения без явного вызова `join()`) модуль `multiprocessing` предоставляет инструмент `Pool(processes=num_proc)`\n",
    "\n",
    "* Для запуска пула дочерних процессов используется функция `map(process_function, iter)`, где `iter` - это итератор (в простейшем случае - список) для перебора входов для функции процесса `process_function`"
   ]
  },
  {
   "cell_type": "markdown",
   "metadata": {},
   "source": [
    "pr4.py:\n",
    "```python\n",
    "import multiprocessing\n",
    "import time\n",
    "import logging\n",
    "\n",
    "def print_proc(mes):\n",
    "    name = multiprocessing.current_process().name\n",
    "    print(f'Process {name}: {mes}')\n",
    "    \n",
    "def process_function(x):\n",
    "    name = multiprocessing.current_process().name\n",
    "    print_proc('starting')\n",
    "    time.sleep(0.1)\n",
    "    print_proc('finishing')\n",
    "    return x**2\n",
    "\n",
    "if __name__ == \"__main__\":\n",
    "    multiprocessing.log_to_stderr()\n",
    "    logger = multiprocessing.get_logger()\n",
    "    logger.setLevel(logging.INFO)\n",
    "    num_cores = multiprocessing.cpu_count()\n",
    "    num_proc = 7#num_cores - 1 # not counting Main\n",
    "    print_proc(f'number of cores = {num_cores}')\n",
    "    xit = [i for i in range(1, num_proc + 1)]\n",
    "    print_proc('before creating pool')\n",
    "    pool = multiprocessing.Pool(processes=num_proc)\n",
    "    print_proc('before running processes')\n",
    "    res = pool.map(process_function, xit)\n",
    "    print_proc(f'result of processes - {res}')\n",
    "    print_proc('all done')\n",
    "```"
   ]
  },
  {
   "cell_type": "code",
   "execution_count": 15,
   "metadata": {
    "scrolled": true,
    "tags": []
   },
   "outputs": [
    {
     "name": "stdout",
     "output_type": "stream",
     "text": [
      "Process MainProcess: number of cores = 8\n",
      "Process MainProcess: before creating pool\n",
      "[INFO/ForkPoolWorker-1] child process calling self.run()\n",
      "[INFO/ForkPoolWorker-2] child process calling self.run()\n",
      "[INFO/ForkPoolWorker-3] child process calling self.run()\n",
      "[INFO/ForkPoolWorker-4] child process calling self.run()\n",
      "[INFO/ForkPoolWorker-5] child process calling self.run()\n",
      "[INFO/ForkPoolWorker-6] child process calling self.run()\n",
      "[INFO/ForkPoolWorker-7] child process calling self.run()\n",
      "Process MainProcess: before running processes\n",
      "Process MainProcess: result of processes - [1, 4, 9, 16, 25, 36, 49]\n",
      "Process MainProcess: all done\n",
      "[INFO/MainProcess] process shutting down\n",
      "[INFO/ForkPoolWorker-1] process shutting down\n",
      "[INFO/ForkPoolWorker-2] process shutting down\n",
      "[INFO/ForkPoolWorker-3] process shutting down\n",
      "[INFO/ForkPoolWorker-1] process exiting with exitcode 0\n",
      "[INFO/ForkPoolWorker-4] process shutting down\n",
      "Process ForkPoolWorker-1: starting\n",
      "Process ForkPoolWorker-1: finishing\n",
      "[INFO/ForkPoolWorker-2] process exiting with exitcode 0\n",
      "Process ForkPoolWorker-2: starting\n",
      "Process ForkPoolWorker-2: finishing\n",
      "[INFO/ForkPoolWorker-6] process shutting down\n",
      "[INFO/ForkPoolWorker-3] process exiting with exitcode 0\n",
      "[INFO/ForkPoolWorker-5] process shutting down\n",
      "Process ForkPoolWorker-3: starting\n",
      "Process ForkPoolWorker-3: finishing\n",
      "[INFO/ForkPoolWorker-4] process exiting with exitcode 0\n",
      "Process ForkPoolWorker-4: starting\n",
      "Process ForkPoolWorker-4: finishing\n",
      "[INFO/ForkPoolWorker-7] process shutting down\n",
      "[INFO/ForkPoolWorker-6] process exiting with exitcode 0\n",
      "Process ForkPoolWorker-6: starting\n",
      "Process ForkPoolWorker-6: finishing\n",
      "[INFO/ForkPoolWorker-7] process exiting with exitcode 0\n",
      "\n"
     ]
    }
   ],
   "source": [
    "run(\"python Python09-Parallel_extra/pr4.py\")"
   ]
  },
  {
   "cell_type": "markdown",
   "metadata": {},
   "source": [
    "Если `process_function` принимает на вход больше одного параметра, то используется `starmap` вместо `map`, а `iter` должен итерировать по *наборам* параметров (в простейшем случае - по кортежам), которые потом с помощью звездочки преобразуются в обычноe перечисление параметров."
   ]
  },
  {
   "cell_type": "markdown",
   "metadata": {},
   "source": [
    "pr5.py:\n",
    "```python\n",
    "import multiprocessing\n",
    "import time\n",
    "import logging\n",
    "\n",
    "def print_proc(mes):\n",
    "    name = multiprocessing.current_process().name\n",
    "    print(f'Process {name}: {mes}')\n",
    "    \n",
    "def process_function(x, y):\n",
    "    name = multiprocessing.current_process().name\n",
    "    print_proc('starting')\n",
    "    time.sleep(0.1)\n",
    "    print_proc('finishing')\n",
    "    return x + y\n",
    "\n",
    "if __name__ == \"__main__\":\n",
    "    multiprocessing.log_to_stderr()\n",
    "    logger = multiprocessing.get_logger()\n",
    "    logger.setLevel(logging.INFO)\n",
    "    num_cores = multiprocessing.cpu_count()\n",
    "    num_proc = 7#num_cores - 1 # not counting Main\n",
    "    print_proc(f'number of cores = {num_cores}')\n",
    "    xit = [(i, i + 1) for i in range(1, num_proc + 1)]\n",
    "    print_proc('before creating pool')\n",
    "    pool = multiprocessing.Pool(processes=num_proc)\n",
    "    print_proc('before running processes')\n",
    "    res = pool.starmap(process_function, xit)\n",
    "    print_proc(f'result of processes - {res}')\n",
    "    print_proc('all done')\n",
    "```"
   ]
  },
  {
   "cell_type": "code",
   "execution_count": 16,
   "metadata": {},
   "outputs": [
    {
     "name": "stdout",
     "output_type": "stream",
     "text": [
      "Process MainProcess: number of cores = 8\n",
      "Process MainProcess: before creating pool\n",
      "[INFO/ForkPoolWorker-1] child process calling self.run()\n",
      "[INFO/ForkPoolWorker-2] child process calling self.run()\n",
      "[INFO/ForkPoolWorker-3] child process calling self.run()\n",
      "[INFO/ForkPoolWorker-4] child process calling self.run()\n",
      "[INFO/ForkPoolWorker-5] child process calling self.run()\n",
      "[INFO/ForkPoolWorker-6] child process calling self.run()\n",
      "[INFO/ForkPoolWorker-7] child process calling self.run()\n",
      "Process MainProcess: before running processes\n",
      "Process MainProcess: result of processes - [3, 5, 7, 9, 11, 13, 15]\n",
      "Process MainProcess: all done\n",
      "[INFO/MainProcess] process shutting down\n",
      "[INFO/ForkPoolWorker-2] process shutting down\n",
      "[INFO/ForkPoolWorker-1] process shutting down\n",
      "[INFO/ForkPoolWorker-6] process shutting down\n",
      "[INFO/ForkPoolWorker-3] process shutting down\n",
      "[INFO/ForkPoolWorker-6] process exiting with exitcode 0\n",
      "[INFO/ForkPoolWorker-2] process exiting with exitcode 0\n",
      "[INFO/ForkPoolWorker-1] process exiting with exitcode 0\n",
      "[INFO/ForkPoolWorker-4] process shutting down\n",
      "Process ForkPoolWorker-2: starting\n",
      "Process ForkPoolWorker-2: finishing\n",
      "Process ForkPoolWorker-6: starting\n",
      "Process ForkPoolWorker-6: finishing\n",
      "[INFO/ForkPoolWorker-7] process shutting down\n",
      "Process ForkPoolWorker-1: starting\n",
      "Process ForkPoolWorker-1: finishing\n",
      "\n"
     ]
    }
   ],
   "source": [
    "run(\"python Python09-Parallel_extra/pr5.py\")"
   ]
  },
  {
   "cell_type": "markdown",
   "metadata": {},
   "source": [
    "#### ProcessPoolExecutor"
   ]
  },
  {
   "cell_type": "markdown",
   "metadata": {},
   "source": [
    "Тем не менее, наиболее удобно пользоваться стандартным, уже ранее упомянутым интерфейсом, из модуля **`concurrent.futures`** - `ProcessPoolExecutor` (полная аналогия с `ThreadPoolExecutor`).\n",
    "\n",
    "Основной метод использования: вызывать конструктор `ProcessPoolExecutor(max_workers=max_workers)` оператором контекста `with`, при выходе из которого автоматически вызывается `join()` для всех созданных процессов.\n",
    "\n",
    "При этом создание и запуск процессов можно делать:\n",
    "* через функцию `map(process_function, process_args_iter)`, тогда итератор пройдется по `process_args_iter` и передаст каждое новое значение на вход `process_function()` в качестве аргумента. Будет создано столько процессов, сколько объектов пройдет итератор\n",
    "* через функцию `submit(process_function, *args, **kwargs)`, и сделать это будет нужно для каждого процесса (зато аргументы передавать удобнее) (тут нет `starmap`). `submit()` возвращает объект класса `Future`, который инкапсулирует асинхронные вызовы. После этого для объекта Future можно вызвать метод `result()`, получить результат работы процесса. Если к моменту вызова `result()` процесс ещё не завершился, то программа дожётся его завершения.\n",
    "* результат выхода `process_function()` можно получить с помощью `result()`"
   ]
  },
  {
   "cell_type": "markdown",
   "metadata": {},
   "source": [
    "pr6.py:\n",
    "```python\n",
    "import multiprocessing\n",
    "import concurrent.futures\n",
    "import time\n",
    "import logging\n",
    "\n",
    "def print_proc(mes):\n",
    "    name = multiprocessing.current_process().name\n",
    "    print(f'Process {name}: {mes}')\n",
    "    \n",
    "def process_function(x, y):\n",
    "    name = multiprocessing.current_process().name\n",
    "    print_proc('starting')\n",
    "    time.sleep(0.1)\n",
    "    print_proc('finishing')\n",
    "    return x + y\n",
    "\n",
    "if __name__ == \"__main__\":\n",
    "    multiprocessing.log_to_stderr()\n",
    "    logger = multiprocessing.get_logger()\n",
    "    logger.setLevel(logging.INFO)\n",
    "    num_cores = multiprocessing.cpu_count()\n",
    "    num_proc = 7#num_cores - 1 # not counting Main\n",
    "    print_proc(f'number of cores = {num_cores}')\n",
    "    print_proc('before creating & running pool')\n",
    "    res_arr = []\n",
    "    with concurrent.futures.ProcessPoolExecutor(max_workers=num_proc) as executor:\n",
    "        for i in range(1, num_proc+1):\n",
    "            res_arr.append(executor.submit(process_function, i, i+1))\n",
    "    res_arr = [r.result() for r in res_arr]\n",
    "    print_proc(f'result of processes - {res_arr}')\n",
    "    print_proc('all done')\n",
    "```"
   ]
  },
  {
   "cell_type": "code",
   "execution_count": 17,
   "metadata": {
    "scrolled": true
   },
   "outputs": [
    {
     "name": "stdout",
     "output_type": "stream",
     "text": [
      "Process MainProcess: number of cores = 8\n",
      "Process MainProcess: before creating & running pool\n",
      "[INFO/ForkProcess-1] child process calling self.run()\n",
      "[INFO/ForkProcess-2] child process calling self.run()\n",
      "[INFO/ForkProcess-3] child process calling self.run()\n",
      "[INFO/ForkProcess-4] child process calling self.run()\n",
      "[INFO/ForkProcess-5] child process calling self.run()\n",
      "[INFO/ForkProcess-6] child process calling self.run()\n",
      "[INFO/ForkProcess-7] child process calling self.run()\n",
      "[INFO/ForkProcess-1] process shutting down\n",
      "[INFO/ForkProcess-2] process shutting down\n",
      "[INFO/ForkProcess-3] process shutting down\n",
      "[INFO/ForkProcess-4] process shutting down\n",
      "[INFO/ForkProcess-1] process exiting with exitcode 0\n",
      "[INFO/ForkProcess-2] process exiting with exitcode 0\n",
      "Process ForkProcess-1: starting\n",
      "Process ForkProcess-1: finishing\n",
      "Process ForkProcess-2: starting\n",
      "Process ForkProcess-2: finishing\n",
      "[INFO/ForkProcess-5] process shutting down\n",
      "[INFO/ForkProcess-7] process shutting down\n",
      "[INFO/ForkProcess-6] process shutting down\n",
      "[INFO/ForkProcess-3] process exiting with exitcode 0\n",
      "[INFO/ForkProcess-4] process exiting with exitcode 0\n",
      "Process ForkProcess-4: starting\n",
      "Process ForkProcess-4: finishing\n",
      "Process ForkProcess-3: starting\n",
      "Process ForkProcess-3: finishing\n",
      "[INFO/ForkProcess-7] process exiting with exitcode 0\n",
      "[INFO/ForkProcess-5] process exiting with exitcode 0\n",
      "Process ForkProcess-7: starting\n",
      "Process ForkProcess-7: finishing\n",
      "Process ForkProcess-5: starting\n",
      "Process ForkProcess-5: finishing\n",
      "[INFO/ForkProcess-6] process exiting with exitcode 0\n",
      "Process ForkProcess-6: starting\n",
      "Process ForkProcess-6: finishing\n",
      "Process MainProcess: result of processes - [3, 5, 7, 9, 11, 13, 15]\n",
      "Process MainProcess: all done\n",
      "[INFO/MainProcess] process shutting down\n",
      "\n"
     ]
    }
   ],
   "source": [
    "run(\"python Python09-Parallel_extra/pr6.py\")"
   ]
  },
  {
   "cell_type": "markdown",
   "metadata": {},
   "source": [
    "#### О совместном доступе к ресурсам"
   ]
  },
  {
   "cell_type": "markdown",
   "metadata": {},
   "source": [
    "#### Общая память"
   ]
  },
  {
   "cell_type": "markdown",
   "metadata": {},
   "source": [
    "По умолчанию, все процессы имеют отдельную копию главной памяти, и изменения какой-нибудь переменной в одном процессе не меняет ее значения в другом, в т.ч. и в главном"
   ]
  },
  {
   "cell_type": "markdown",
   "metadata": {},
   "source": [
    "pr7.py:\n",
    "```python\n",
    "import multiprocessing\n",
    "import concurrent.futures\n",
    "import time\n",
    "import logging\n",
    "\n",
    "data = [1, 2, 3]\n",
    "\n",
    "def print_proc(mes):\n",
    "    name = multiprocessing.current_process().name\n",
    "    print(f'Process {name}: {mes}')\n",
    "    \n",
    "def process_function(x):\n",
    "    name = multiprocessing.current_process().name\n",
    "    print_proc('starting')\n",
    "    data.append(x)\n",
    "    print_proc(f'data = {data}')\n",
    "    time.sleep(0.1)\n",
    "    print_proc('finishing')\n",
    "\n",
    "if __name__ == \"__main__\":\n",
    "    multiprocessing.log_to_stderr()\n",
    "    logger = multiprocessing.get_logger()\n",
    "    logger.setLevel(logging.INFO)\n",
    "    num_cores = multiprocessing.cpu_count()\n",
    "    num_proc = num_cores - 1 # not counting Main\n",
    "    print_proc(f'number of cores = {num_cores}')\n",
    "    print_proc(f'data = {data}')\n",
    "    print_proc('before creating & running pool')\n",
    "    with concurrent.futures.ProcessPoolExecutor(max_workers=num_proc) as executor:\n",
    "        executor.map(process_function, range(100, num_proc+100))\n",
    "    print_proc(f'data = {data}')\n",
    "    print_proc('all done')\n",
    "```"
   ]
  },
  {
   "cell_type": "code",
   "execution_count": 18,
   "metadata": {
    "scrolled": true
   },
   "outputs": [
    {
     "name": "stdout",
     "output_type": "stream",
     "text": [
      "Process MainProcess: number of cores = 8\n",
      "Process MainProcess: data = [1, 2, 3]\n",
      "Process MainProcess: before creating & running pool\n",
      "[INFO/ForkProcess-1] child process calling self.run()\n",
      "[INFO/ForkProcess-2] child process calling self.run()\n",
      "[INFO/ForkProcess-3] child process calling self.run()\n",
      "[INFO/ForkProcess-4] child process calling self.run()\n",
      "[INFO/ForkProcess-5] child process calling self.run()\n",
      "[INFO/ForkProcess-6] child process calling self.run()\n",
      "[INFO/ForkProcess-7] child process calling self.run()\n",
      "[INFO/ForkProcess-1] process shutting down\n",
      "[INFO/ForkProcess-2] process shutting down\n",
      "[INFO/ForkProcess-1] process exiting with exitcode 0\n",
      "[INFO/ForkProcess-3] process shutting down\n",
      "Process ForkProcess-1: starting\n",
      "Process ForkProcess-1: data = [1, 2, 3, 100]\n",
      "Process ForkProcess-1: finishing\n",
      "[INFO/ForkProcess-4] process shutting down\n",
      "[INFO/ForkProcess-5] process shutting down\n",
      "[INFO/ForkProcess-2] process exiting with exitcode 0\n",
      "Process ForkProcess-2: starting\n",
      "Process ForkProcess-2: data = [1, 2, 3, 101]\n",
      "Process ForkProcess-2: finishing\n",
      "[INFO/ForkProcess-7] process shutting down\n",
      "[INFO/ForkProcess-6] process shutting down\n",
      "[INFO/ForkProcess-3] process exiting with exitcode 0\n",
      "[INFO/ForkProcess-4] process exiting with exitcode 0\n",
      "Process ForkProcess-3: starting\n",
      "Process ForkProcess-3: data = [1, 2, 3, 102]\n",
      "Process ForkProcess-3: finishing\n",
      "Process ForkProcess-4: starting\n",
      "Process ForkProcess-4: data = [1, 2, 3, 103]\n",
      "Process ForkProcess-4: finishing\n",
      "[INFO/ForkProcess-5] process exiting with exitcode 0\n",
      "Process ForkProcess-5: starting\n",
      "Process ForkProcess-5: data = [1, 2, 3, 104]\n",
      "Process ForkProcess-5: finishing\n",
      "[INFO/ForkProcess-7] process exiting with exitcode 0\n",
      "[INFO/ForkProcess-6] process exiting with exitcode 0\n",
      "Process ForkProcess-6: starting\n",
      "Process ForkProcess-6: data = [1, 2, 3, 105]\n",
      "Process ForkProcess-6: finishing\n",
      "Process ForkProcess-7: starting\n",
      "Process ForkProcess-7: data = [1, 2, 3, 106]\n",
      "Process ForkProcess-7: finishing\n",
      "Process MainProcess: data = [1, 2, 3]\n",
      "Process MainProcess: all done\n",
      "[INFO/MainProcess] process shutting down\n",
      "\n"
     ]
    }
   ],
   "source": [
    "run(\"python Python09-Parallel_extra/pr7.py\")"
   ]
  },
  {
   "cell_type": "markdown",
   "metadata": {},
   "source": [
    "И хотя нужно максимально изолировать совместный доступ к ресурсам, все же иногда это делать нужно. Для этого используются безопасные классы `Value(typecode_or_type, val)` и `Array(typecode_or_type, size_or_initializer)`, где:\n",
    "* `typecode_or_type` - односимвольный код [отсюда](https://docs.python.org/3/library/array.html#module-array) либо идентификатор из [ctypes](https://docs.python.org/3/library/ctypes.html#fundamental-data-types) используемого типа\n",
    "  * 'i' - целый int32\n",
    "  * 'd' - дробный double64\n",
    "  * 'c' - в сочетании с `Array` даст строку\n",
    "* `val` - значение для инициализации\n",
    "* `size_or_initializer` - либо размер массива (инициализируем нулями), либо последовательность, которой инициализируем\n",
    "\n",
    "При этом значение можно получить как:\n",
    "* `.value` для объекта `Value`,\n",
    "* `[i]` для объекта `Array`.\n",
    "\n",
    "При этом возможен одновременный доступ к ресурсам на изменение. Чтобы избежать этого, испольуется конструкция\n",
    "```python\n",
    "with obj.get_lock():\n",
    "    # change obj\n",
    "```\n",
    "\n",
    "Также обратите внимание, что размеры массивов\\строк не меняем, меняем только их содержимое (так как память выделяется сразу)."
   ]
  },
  {
   "cell_type": "markdown",
   "metadata": {},
   "source": [
    "pr8.py:\n",
    "```python\n",
    "import multiprocessing\n",
    "import concurrent.futures\n",
    "import time\n",
    "import logging\n",
    "\n",
    "def print_proc(mes):\n",
    "    name = multiprocessing.current_process().name\n",
    "    print(f'Process {name}: {mes}')\n",
    "    \n",
    "def process_function(x_d, x_s, x_a):\n",
    "    time.sleep(0.1)\n",
    "    name = multiprocessing.current_process().name\n",
    "    print_proc('starting')\n",
    "    with x_d.get_lock():\n",
    "        x_d.value += 1\n",
    "    with x_s.get_lock():\n",
    "        x_s.value = x_s.value.upper()\n",
    "    with x_a.get_lock():\n",
    "        x_a[1] *= 2\n",
    "    print_proc(f'x_d = {x_d.value}')\n",
    "    print_proc(f'x_s = {x_s.value}')\n",
    "    print_proc(f'x_a = {[a for a in x_a]}')   \n",
    "    print_proc('finishing')\n",
    "\n",
    "if __name__ == \"__main__\":\n",
    "    multiprocessing.log_to_stderr()\n",
    "    logger = multiprocessing.get_logger()\n",
    "    logger.setLevel(logging.INFO)\n",
    "    num_cores = multiprocessing.cpu_count()\n",
    "    num_proc = num_cores - 1 # not counting Main\n",
    "    print_proc(f'number of cores = {num_cores}')\n",
    "    x_d = multiprocessing.Value('d', 0)\n",
    "    x_s = multiprocessing.Array('c', b\"Hello!\")\n",
    "    x_a = multiprocessing.Array('d', [1.0, 2.5, 4.0])\n",
    "    print_proc(f'x_d = {x_d.value}')\n",
    "    print_proc(f'x_s = {x_s.value}')\n",
    "    print_proc(f'x_a = {[a for a in x_a]}')\n",
    "    print_proc('before creating & running pool')\n",
    "    \n",
    "    processes = [multiprocessing.Process(target=process_function, args=(x_d, x_s, x_a)) for _ in range(num_proc)]\n",
    "    for p in processes:\n",
    "        p.start()\n",
    "    for p in processes:\n",
    "        p.join()    \n",
    "\n",
    "    print_proc('after finishing pool')\n",
    "    print_proc(f'x_d = {x_d.value}')\n",
    "    print_proc(f'x_s = {x_s.value}')\n",
    "    print_proc(f'x_a = {[a for a in x_a]}')\n",
    "    print_proc('all done')\n",
    "```"
   ]
  },
  {
   "cell_type": "code",
   "execution_count": 19,
   "metadata": {
    "scrolled": true
   },
   "outputs": [
    {
     "name": "stdout",
     "output_type": "stream",
     "text": [
      "[INFO/MainProcess] allocating a new mmap of length 4096\n",
      "Process MainProcess: number of cores = 8\n",
      "Process MainProcess: x_d = 0.0\n",
      "Process MainProcess: x_s = b'Hello!'\n",
      "Process MainProcess: x_a = [1.0, 2.5, 4.0]\n",
      "Process MainProcess: before creating & running pool\n",
      "[INFO/Process-1] child process calling self.run()\n",
      "[INFO/Process-2] child process calling self.run()\n",
      "[INFO/Process-3] child process calling self.run()\n",
      "[INFO/Process-4] child process calling self.run()\n",
      "[INFO/Process-5] child process calling self.run()\n",
      "[INFO/Process-6] child process calling self.run()\n",
      "[INFO/Process-7] child process calling self.run()\n",
      "[INFO/Process-1] process shutting down\n",
      "[INFO/Process-1] process exiting with exitcode 0\n",
      "Process Process-1: starting\n",
      "Process Process-1: x_d = 1.0\n",
      "Process Process-1: x_s = b'HELLO!'\n",
      "Process Process-1: x_a = [1.0, 5.0, 4.0]\n",
      "Process Process-1: finishing\n",
      "[INFO/Process-2] process shutting down\n",
      "[INFO/Process-2] process exiting with exitcode 0\n",
      "Process Process-2: starting\n",
      "Process Process-2: x_d = 2.0\n",
      "Process Process-2: x_s = b'HELLO!'\n",
      "Process Process-2: x_a = [1.0, 10.0, 4.0]\n",
      "Process Process-2: finishing\n",
      "[INFO/Process-3] process shutting down\n",
      "[INFO/Process-3] process exiting with exitcode 0\n",
      "Process Process-3: starting\n",
      "Process Process-3: x_d = 3.0\n",
      "Process Process-3: x_s = b'HELLO!'\n",
      "Process Process-3: x_a = [1.0, 20.0, 4.0]\n",
      "Process Process-3: finishing\n",
      "[INFO/Process-4] process shutting down\n",
      "[INFO/Process-4] process exiting with exitcode 0\n",
      "Process Process-4: starting\n",
      "Process Process-4: x_d = 4.0\n",
      "Process Process-4: x_s = b'HELLO!'\n",
      "Process Process-4: x_a = [1.0, 40.0, 4.0]\n",
      "Process Process-4: finishing\n",
      "[INFO/Process-5] process shutting down\n",
      "[INFO/Process-5] process exiting with exitcode 0\n",
      "Process Process-5: starting\n",
      "Process Process-5: x_d = 5.0\n",
      "Process Process-5: x_s = b'HELLO!'\n",
      "Process Process-5: x_a = [1.0, 80.0, 4.0]\n",
      "Process Process-5: finishing\n",
      "[INFO/Process-6] process shutting down\n",
      "[INFO/Process-6] process exiting with exitcode 0\n",
      "Process Process-6: starting\n",
      "Process Process-6: x_d = 6.0\n",
      "Process Process-6: x_s = b'HELLO!'\n",
      "Process Process-6: x_a = [1.0, 160.0, 4.0]\n",
      "Process Process-6: finishing\n",
      "[INFO/Process-7] process shutting down\n",
      "[INFO/Process-7] process exiting with exitcode 0\n",
      "Process Process-7: starting\n",
      "Process Process-7: x_d = 7.0\n",
      "Process Process-7: x_s = b'HELLO!'\n",
      "Process Process-7: x_a = [1.0, 320.0, 4.0]\n",
      "Process Process-7: finishing\n",
      "Process MainProcess: after finishing pool\n",
      "Process MainProcess: x_d = 7.0\n",
      "Process MainProcess: x_s = b'HELLO!'\n",
      "Process MainProcess: x_a = [1.0, 320.0, 4.0]\n",
      "Process MainProcess: all done\n",
      "[INFO/MainProcess] process shutting down\n",
      "\n"
     ]
    }
   ],
   "source": [
    "run(\"python Python09-Parallel_extra/pr8.py\")"
   ]
  },
  {
   "cell_type": "markdown",
   "metadata": {},
   "source": [
    "#### Механизмы синхронизации Queue / Pipe"
   ]
  },
  {
   "cell_type": "markdown",
   "metadata": {},
   "source": [
    "Несмотря на возможность иметь общий доступ к памяти через классы Value/Array и грамотное использование блокировки, вышеописанные методы крайне не рекомендуются из-за ненулевой вероятности неправильной блокировки, разного поведения в Windows/Unix-системах, заранее определенных размеров массивов и крайне непрозрачной, а иногда и невозможной работы с пулами процессов (Pool / ProcessPoolExecutor)."
   ]
  },
  {
   "cell_type": "markdown",
   "metadata": {},
   "source": [
    "#### Производитель-потребитель (Producer-Consumer)"
   ]
  },
  {
   "cell_type": "markdown",
   "metadata": {},
   "source": [
    "Наиболее продвинутая система \"общения\" между процессами - это модель производитель-потребитель (Producer-Consumer).\n",
    "\n",
    "Первый способ реализации - с помощью **очереди**.\n",
    "\n",
    "Для обеспечения работоспособности используется процессорно безопасная очередь `Manager().Queue` с главными методами `put()` (поместить в очередь) и `get()` (извлечь из очередь), а также `empty()` (пуста либо нет). Очередь типа FIFO (первый вошел - первый вышел).\n",
    "\n",
    "Для служебной сигнализации обычно используется процессорно безопасное событие `Manager().Event` с главными методами `set()` (установить флаг), `clear()` (снять флаг), `wait()` (ждать пока флаг не установлен) и `is_set()` (проверка, установлен ли флаг).\n",
    "\n",
    "В примере ниже производитель пишет некоторое количестве информации в очередь, затем устанавливает флаг. Потребитель все это время ждет установки флага, а затем считывает все данные из очереди."
   ]
  },
  {
   "cell_type": "markdown",
   "metadata": {},
   "source": [
    "pr9.py:\n",
    "```python\n",
    "import concurrent.futures\n",
    "import multiprocessing\n",
    "import time\n",
    "import logging\n",
    "\n",
    "def print_proc(mes):\n",
    "    name = multiprocessing.current_process().name\n",
    "    print(f'Process {name}: {mes}')\n",
    "    \n",
    "def producer(queue, event):\n",
    "    print_proc(f\"Producer will write to queue... event.is_set() = {event.is_set()}\")\n",
    "    for i in range(10):\n",
    "        print_proc(f'Producer writing... {9-i}')\n",
    "        time.sleep(0.5)\n",
    "        queue.put(i*i)\n",
    "    event.set()\n",
    "    print_proc(f\"Producer sent event. Exiting / event.is_set() = {event.is_set()}\")\n",
    "\n",
    "def consumer(queue, event):\n",
    "    print_proc(f\"Consumer is waiting for event... event.is_set() = {event.is_set()}\")\n",
    "    event.wait()\n",
    "    print_proc(f\"Consumer received event! event.is_set() = {event.is_set()}\")\n",
    "    while not queue.empty():\n",
    "        num = queue.get()\n",
    "        print_proc(f\"Consumer got num: {num} (remain qsize={queue.qsize()})\")\n",
    "    event.clear()\n",
    "    print_proc(f\"Consumer cleared event. Exiting  / event.is_set() = {event.is_set()}\")\n",
    "\n",
    "if __name__ == \"__main__\":\n",
    "    multiprocessing.log_to_stderr()\n",
    "    logger = multiprocessing.get_logger()\n",
    "    logger.setLevel(logging.INFO)\n",
    "    manager = multiprocessing.Manager()\n",
    "    pipeline = manager.Queue(maxsize=100)\n",
    "    event = manager.Event()\n",
    "    with concurrent.futures.ProcessPoolExecutor(max_workers=2) as executor:\n",
    "        executor.submit(producer, pipeline, event)\n",
    "        executor.submit(consumer, pipeline, event)\n",
    "    print_proc(f\"Main: event.is_set() = {event.is_set()}\")\n",
    "```"
   ]
  },
  {
   "cell_type": "code",
   "execution_count": 20,
   "metadata": {},
   "outputs": [
    {
     "name": "stdout",
     "output_type": "stream",
     "text": [
      "[INFO/SyncManager-1] child process calling self.run()\n",
      "[INFO/SyncManager-1] created temp directory /tmp/pymp-ay29d2i_\n",
      "[INFO/SyncManager-1] manager serving at '/tmp/pymp-ay29d2i_/listener-u_3qemkl'\n",
      "[INFO/ForkProcess-2] child process calling self.run()\n",
      "[INFO/ForkProcess-3] child process calling self.run()\n",
      "[INFO/ForkProcess-2] process shutting down\n",
      "[INFO/ForkProcess-3] process shutting down\n",
      "[INFO/ForkProcess-2] process exiting with exitcode 0\n",
      "Process ForkProcess-2: Producer will write to queue... event.is_set() = False\n",
      "Process ForkProcess-2: Producer writing... 9\n",
      "Process ForkProcess-2: Producer writing... 8\n",
      "Process ForkProcess-2: Producer writing... 7\n",
      "Process ForkProcess-2: Producer writing... 6\n",
      "Process ForkProcess-2: Producer writing... 5\n",
      "Process ForkProcess-2: Producer writing... 4\n",
      "Process ForkProcess-2: Producer writing... 3\n",
      "Process ForkProcess-2: Producer writing... 2\n",
      "Process ForkProcess-2: Producer writing... 1\n",
      "Process ForkProcess-2: Producer writing... 0\n",
      "Process ForkProcess-2: Producer sent event. Exiting / event.is_set() = True\n",
      "[INFO/ForkProcess-3] process exiting with exitcode 0\n",
      "Process ForkProcess-3: Consumer is waiting for event... event.is_set() = False\n",
      "Process ForkProcess-3: Consumer received event! event.is_set() = True\n",
      "Process ForkProcess-3: Consumer got num: 0 (remain qsize=9)\n",
      "Process ForkProcess-3: Consumer got num: 1 (remain qsize=8)\n",
      "Process ForkProcess-3: Consumer got num: 4 (remain qsize=7)\n",
      "Process ForkProcess-3: Consumer got num: 9 (remain qsize=6)\n",
      "Process ForkProcess-3: Consumer got num: 16 (remain qsize=5)\n",
      "Process ForkProcess-3: Consumer got num: 25 (remain qsize=4)\n",
      "Process ForkProcess-3: Consumer got num: 36 (remain qsize=3)\n",
      "Process ForkProcess-3: Consumer got num: 49 (remain qsize=2)\n",
      "Process ForkProcess-3: Consumer got num: 64 (remain qsize=1)\n",
      "Process ForkProcess-3: Consumer got num: 81 (remain qsize=0)\n",
      "Process ForkProcess-3: Consumer cleared event. Exiting  / event.is_set() = False\n",
      "Process MainProcess: Main: event.is_set() = False\n",
      "[INFO/MainProcess] process shutting down\n",
      "[INFO/MainProcess] sending shutdown message to manager\n",
      "[INFO/SyncManager-1] process shutting down\n",
      "[INFO/SyncManager-1] process exiting with exitcode 0\n",
      "\n"
     ]
    }
   ],
   "source": [
    "run(\"python Python09-Parallel_extra/pr9.py\")"
   ]
  },
  {
   "cell_type": "markdown",
   "metadata": {},
   "source": [
    "Но по сравнению с `threading` в модуле `multiprocessing` есть интересный класс `Pipe`, который предоставляет возможность использовать дву- (при `duplex=True`) или одностороннюю (при `duplex=False`) \"трубу\" передачи данных между двумя процессами. При этом после вызова конструктора класса мы получаем два конца этой \"трубы\": `pipe_recv, pipe_send = Pipe(duplex=True)`\n",
    "\n",
    "Полезные методы:\n",
    "* `send(message)` - послать сообщение (если этот конец трубы поддерживает посылку)\n",
    "* `recv(message)` - принять сообщение (если этот конец трубы поддерживает принятие)\n",
    "* `close()` - закрыть конец трубы"
   ]
  },
  {
   "cell_type": "markdown",
   "metadata": {},
   "source": [
    "pr10.py:\n",
    "```python\n",
    "import concurrent.futures\n",
    "import multiprocessing\n",
    "import time\n",
    "import logging\n",
    "\n",
    "def print_proc(mes):\n",
    "    name = multiprocessing.current_process().name\n",
    "    print(f'Process {name}: {mes}')\n",
    "    \n",
    "def producer(pipe):\n",
    "    print_proc(f\"Producer will write to queue...\")\n",
    "    for i in range(10):\n",
    "        print_proc(f'Producer writing... {i}*{i}')\n",
    "        time.sleep(0.5)\n",
    "        pipe.send(i*i)\n",
    "    print_proc(f'Producer writing... DONE')\n",
    "    pipe.send('DONE')\n",
    "    pipe.close()\n",
    "    print_proc(f\"Producer finishing.\")\n",
    "\n",
    "def consumer(pipe):\n",
    "    print_proc(f\"Consumer is waiting for event...\")\n",
    "    while True:\n",
    "        mes = pipe.recv()\n",
    "        print_proc(f\"Consumer got: {mes}\")\n",
    "        if mes == 'DONE':\n",
    "            break\n",
    "    pipe.close()\n",
    "    print_proc(f\"Consumer finishing\")\n",
    "\n",
    "if __name__ == \"__main__\":\n",
    "    multiprocessing.log_to_stderr()\n",
    "    logger = multiprocessing.get_logger()\n",
    "    logger.setLevel(logging.INFO)\n",
    "    pipe_cons, pipe_prod = multiprocessing.Pipe()\n",
    "    with concurrent.futures.ProcessPoolExecutor(max_workers=2) as executor:\n",
    "        executor.submit(producer, pipe_prod)\n",
    "        executor.submit(consumer, pipe_cons)\n",
    "    print_proc(f\"All is done\")\n",
    "```"
   ]
  },
  {
   "cell_type": "code",
   "execution_count": 21,
   "metadata": {
    "scrolled": true
   },
   "outputs": [
    {
     "name": "stdout",
     "output_type": "stream",
     "text": [
      "[INFO/ForkProcess-1] child process calling self.run()\n",
      "[INFO/ForkProcess-2] child process calling self.run()\n",
      "[INFO/MainProcess] created temp directory /tmp/pymp-xv6yax61\n",
      "[INFO/ForkProcess-2] process shutting down\n",
      "[INFO/ForkProcess-1] process shutting down\n",
      "[INFO/ForkProcess-2] process exiting with exitcode 0\n",
      "[INFO/ForkProcess-1] process exiting with exitcode 0\n",
      "Process ForkProcess-2: Consumer is waiting for event...\n",
      "Process ForkProcess-2: Consumer got: 0\n",
      "Process ForkProcess-2: Consumer got: 1\n",
      "Process ForkProcess-2: Consumer got: 4\n",
      "Process ForkProcess-2: Consumer got: 9\n",
      "Process ForkProcess-2: Consumer got: 16\n",
      "Process ForkProcess-2: Consumer got: 25\n",
      "Process ForkProcess-2: Consumer got: 36\n",
      "Process ForkProcess-2: Consumer got: 49\n",
      "Process ForkProcess-2: Consumer got: 64\n",
      "Process ForkProcess-2: Consumer got: 81\n",
      "Process ForkProcess-2: Consumer got: DONE\n",
      "Process ForkProcess-2: Consumer finishing\n",
      "Process ForkProcess-1: Producer will write to queue...\n",
      "Process ForkProcess-1: Producer writing... 0*0\n",
      "Process ForkProcess-1: Producer writing... 1*1\n",
      "Process ForkProcess-1: Producer writing... 2*2\n",
      "Process ForkProcess-1: Producer writing... 3*3\n",
      "Process ForkProcess-1: Producer writing... 4*4\n",
      "Process ForkProcess-1: Producer writing... 5*5\n",
      "Process ForkProcess-1: Producer writing... 6*6\n",
      "Process ForkProcess-1: Producer writing... 7*7\n",
      "Process ForkProcess-1: Producer writing... 8*8\n",
      "Process ForkProcess-1: Producer writing... 9*9\n",
      "Process ForkProcess-1: Producer writing... DONE\n",
      "Process ForkProcess-1: Producer finishing.\n",
      "Process MainProcess: All is done\n",
      "[INFO/MainProcess] process shutting down\n",
      "\n"
     ]
    }
   ],
   "source": [
    "run(\"python Python09-Parallel_extra/pr10.py\")"
   ]
  },
  {
   "cell_type": "markdown",
   "metadata": {},
   "source": [
    "## Параллелизация в Python: выводы"
   ]
  },
  {
   "cell_type": "markdown",
   "metadata": {},
   "source": [
    "* В каждый момент времени внутри одного процесса работает ровно одна нить (поток)\n",
    "* Реальное распараллеливание - это `multiprocessing`, `threading` - это больше про совместный доступ\n",
    "  * Поэтому `multiprocessing` направлен на ускорение,\n",
    "  * А `threading` - на уменьшение простоя\n",
    "* `multiprocessing` - для тяжелых вычислений, `threading` - для активного использования I/O\n",
    "* Для `multiprocessing` используем число дочерних процессов НЕ БОЛЕЕ чем `cores_count - 1`, а для `threading` число нитей как `cores_count * k`, где `k > 1` - некий коэффициент, подбираемый под текущую задачу\n",
    "* Сложная тема: отладка [не в этот раз]\n",
    "* **Совместный доступ к ресурсам** - это простой способ выиграть в лотерее \"*1000 и 1 способ прострелить себе колено*\"\n",
    "\n",
    "![](Python09-Parallel_extra/koleno.gif)"
   ]
  },
  {
   "cell_type": "markdown",
   "metadata": {},
   "source": [
    "При подготовке материала использовалась документация Python ([threading](https://docs.python.org/3/library/threading.html), [multiprocessing](https://docs.python.org/3/library/multiprocessing.html), [concurrent.futures](https://docs.python.org/3/library/concurrent.futures.html)), а также ресуры [realpython.com](https://realpython.com/intro-to-python-threading/) и [medium.com](https://medium.com/contentsquare-engineering-blog/multithreading-vs-multiprocessing-in-python-ece023ad55a)."
   ]
  },
  {
   "cell_type": "markdown",
   "metadata": {},
   "source": [
    "---"
   ]
  },
  {
   "cell_type": "markdown",
   "metadata": {},
   "source": [
    "# Работа с HTTP"
   ]
  },
  {
   "cell_type": "markdown",
   "metadata": {},
   "source": [
    "## Типы запросов"
   ]
  },
  {
   "cell_type": "markdown",
   "metadata": {},
   "source": [
    "Основой работой с http является формальный язык запросов к серверу: http request. Типов запросов много (в т.ч. такие как `PUT`, `HEAD`, `DELETE`, `LINK`, `UNLINK`, `OPTIONS`, `PATCH` и тп), но мы кратко рассмотрим только два самых главных из них:\n",
    "* `GET`: получение данных\n",
    "* `POST`: отправка данных"
   ]
  },
  {
   "cell_type": "markdown",
   "metadata": {},
   "source": [
    "## Структура запросов и ответов"
   ]
  },
  {
   "cell_type": "markdown",
   "metadata": {},
   "source": [
    "В запросе перечисляются такие сущности как:\n",
    "* Метод запроса\n",
    "* Путь к ресурсу на сервере\n",
    "* Версия протокола HTTP\n",
    "* Заголовки (например, идентификатор клиента, принимаемые языки и кодировка и пр.)"
   ]
  },
  {
   "cell_type": "markdown",
   "metadata": {},
   "source": [
    "![](Python09-Parallel_extra/HTTP_Request.png) "
   ]
  },
  {
   "cell_type": "markdown",
   "metadata": {},
   "source": [
    "В ответе перечисляются такие сущности как:\n",
    "* Версия протокола HTTP\n",
    "* Код статуса ответа\n",
    "* Расшифровка статуса ответа\n",
    "* Заголовки (например, дата последнего изменения, размер и тип тела ответа и пр.)\n",
    "* Тело ответа (если есть)"
   ]
  },
  {
   "cell_type": "markdown",
   "metadata": {},
   "source": [
    "![](Python09-Parallel_extra/HTTP_Response.png)"
   ]
  },
  {
   "cell_type": "markdown",
   "metadata": {},
   "source": [
    "Коды HTTP находятся в диапазоне от 1XX до 5XX (200, 404, 500 - скорее всего, видели):\n",
    "* 1XX — информация\n",
    "* 2XX — успешно\n",
    "* 3XX — перенаправление\n",
    "* 4XX — ошибка клиента (ошибка на вашей стороне)\n",
    "* 5XX — ошибка сервера (ошибка на их стороне)\n",
    "\n",
    "Основная цель - получить ответ сервера 200."
   ]
  },
  {
   "cell_type": "markdown",
   "metadata": {},
   "source": [
    "## Библиотеки для работы с http-запросами"
   ]
  },
  {
   "cell_type": "markdown",
   "metadata": {},
   "source": [
    "Основными библиотеками для работы с http-запросами являются:\n",
    "* `socket`\n",
    "* `http`\n",
    "* `urllib` / `urllib3`\n",
    "* `requests`"
   ]
  },
  {
   "cell_type": "markdown",
   "metadata": {},
   "source": [
    "Каждая следующая является в некотором роде надстройкой над предыдущей (функциональности меньше, удобства больше), поэтому возмьем наиболее простую и удобную - библиотеку `requests`"
   ]
  },
  {
   "cell_type": "markdown",
   "metadata": {},
   "source": [
    "## Библиотека `requests`"
   ]
  },
  {
   "cell_type": "markdown",
   "metadata": {},
   "source": [
    "Основные фичи `requests`:\n",
    "* Множество методов http аутентификации\n",
    "* Сессии с куками\n",
    "* Полноценная поддержка SSL\n",
    "* Различные методы-плюшки вроде .json(), которые вернут данные в нужном формате\n",
    "* Проксирование\n",
    "* Грамотная и логичная работа с исключениями"
   ]
  },
  {
   "cell_type": "markdown",
   "metadata": {},
   "source": [
    "В качестве удобного сервера для проверки http-запросов будем использовать очень удобный сервис [httpbin.org](https://httpbin.org/)"
   ]
  },
  {
   "cell_type": "markdown",
   "metadata": {},
   "source": [
    "### `GET`,  заголовки и тело ответа"
   ]
  },
  {
   "cell_type": "markdown",
   "metadata": {},
   "source": [
    "Подключаем библиотеку:"
   ]
  },
  {
   "cell_type": "code",
   "execution_count": 22,
   "metadata": {},
   "outputs": [],
   "source": [
    "import requests"
   ]
  },
  {
   "cell_type": "markdown",
   "metadata": {},
   "source": [
    "Проверим методом `GET` два ресурса: существующий и несуществующий - и посмотрим на ответы:"
   ]
  },
  {
   "cell_type": "code",
   "execution_count": 23,
   "metadata": {},
   "outputs": [
    {
     "name": "stdout",
     "output_type": "stream",
     "text": [
      "https://httpbin.org/get response = <Response [200]>\n",
      "OK: True\n",
      "Reason: OK\n",
      "Status code: 200\n",
      "https://httpbin.org/ggg response = <Response [404]>\n",
      "OK: False\n",
      "Reason: NOT FOUND\n",
      "Status code: 404\n"
     ]
    }
   ],
   "source": [
    "urls = ['https://httpbin.org/get', 'https://httpbin.org/ggg']\n",
    "for url in urls:\n",
    "    res = requests.get(url)\n",
    "    print(f'{url} response = {res}')\n",
    "    print(f'OK: {res.ok}')\n",
    "    print(f'Reason: {res.reason}')\n",
    "    print(f'Status code: {res.status_code}')"
   ]
  },
  {
   "cell_type": "markdown",
   "metadata": {},
   "source": [
    "Теперь посмотрим на заголовки ответа:"
   ]
  },
  {
   "cell_type": "code",
   "execution_count": 24,
   "metadata": {},
   "outputs": [
    {
     "name": "stdout",
     "output_type": "stream",
     "text": [
      "Headers = {'Date': 'Sat, 03 Dec 2022 18:01:59 GMT', 'Content-Type': 'application/json', 'Content-Length': '312', 'Connection': 'keep-alive', 'Server': 'gunicorn/19.9.0', 'Access-Control-Allow-Origin': '*', 'Access-Control-Allow-Credentials': 'true'}\n",
      "Headers / Server = gunicorn/19.9.0\n"
     ]
    }
   ],
   "source": [
    "res = requests.get('https://httpbin.org/get')\n",
    "print(f'Headers = {res.headers}')\n",
    "print(f\"Headers / Server = {res.headers['server']}\") # согласно RFC, имена регистро-независимы"
   ]
  },
  {
   "cell_type": "markdown",
   "metadata": {},
   "source": [
    "а также на все тело ответа - в бинарном формате:"
   ]
  },
  {
   "cell_type": "code",
   "execution_count": 25,
   "metadata": {},
   "outputs": [
    {
     "name": "stdout",
     "output_type": "stream",
     "text": [
      "Content = b'{\\n  \"args\": {}, \\n  \"headers\": {\\n    \"Accept\": \"*/*\", \\n    \"Accept-Encoding\": \"gzip, deflate, br\", \\n    \"Host\": \"httpbin.org\", \\n    \"User-Agent\": \"python-requests/2.27.1\", \\n    \"X-Amzn-Trace-Id\": \"Root=1-638b8f17-0735c3c6177c83f53df73f03\"\\n  }, \\n  \"origin\": \"37.204.141.245\", \\n  \"url\": \"https://httpbin.org/get\"\\n}\\n'\n"
     ]
    }
   ],
   "source": [
    "print(f'Content = {res.content}')"
   ]
  },
  {
   "cell_type": "markdown",
   "metadata": {},
   "source": [
    "в текстовом формате:"
   ]
  },
  {
   "cell_type": "code",
   "execution_count": 26,
   "metadata": {},
   "outputs": [
    {
     "name": "stdout",
     "output_type": "stream",
     "text": [
      "Text = {\n",
      "  \"args\": {}, \n",
      "  \"headers\": {\n",
      "    \"Accept\": \"*/*\", \n",
      "    \"Accept-Encoding\": \"gzip, deflate, br\", \n",
      "    \"Host\": \"httpbin.org\", \n",
      "    \"User-Agent\": \"python-requests/2.27.1\", \n",
      "    \"X-Amzn-Trace-Id\": \"Root=1-638b8f17-0735c3c6177c83f53df73f03\"\n",
      "  }, \n",
      "  \"origin\": \"37.204.141.245\", \n",
      "  \"url\": \"https://httpbin.org/get\"\n",
      "}\n",
      "\n"
     ]
    }
   ],
   "source": [
    "print(f'Text = {res.text}')"
   ]
  },
  {
   "cell_type": "markdown",
   "metadata": {},
   "source": [
    "а также в формате [JSON](https://ru.wikipedia.org/wiki/JSON) - *JavaScript Object Notation*, а именно набор пар `ключ : значение`:"
   ]
  },
  {
   "cell_type": "code",
   "execution_count": 27,
   "metadata": {},
   "outputs": [
    {
     "name": "stdout",
     "output_type": "stream",
     "text": [
      "JSON = {'args': {}, 'headers': {'Accept': '*/*', 'Accept-Encoding': 'gzip, deflate, br', 'Host': 'httpbin.org', 'User-Agent': 'python-requests/2.27.1', 'X-Amzn-Trace-Id': 'Root=1-638b8f17-0735c3c6177c83f53df73f03'}, 'origin': '37.204.141.245', 'url': 'https://httpbin.org/get'}\n"
     ]
    }
   ],
   "source": [
    "print(f'JSON = {res.json()}')"
   ]
  },
  {
   "cell_type": "markdown",
   "metadata": {},
   "source": [
    "Кодировку можно посмотреть или поменять с помощью поля `.encoding`."
   ]
  },
  {
   "cell_type": "markdown",
   "metadata": {},
   "source": [
    "Обратим внимание на поле `headers` в теле ответа:"
   ]
  },
  {
   "cell_type": "code",
   "execution_count": 28,
   "metadata": {},
   "outputs": [
    {
     "name": "stdout",
     "output_type": "stream",
     "text": [
      "{'Accept': '*/*', 'Accept-Encoding': 'gzip, deflate, br', 'Host': 'httpbin.org', 'User-Agent': 'python-requests/2.27.1', 'X-Amzn-Trace-Id': 'Root=1-638b8f18-00b67f2664e780c248a66c13'}\n"
     ]
    }
   ],
   "source": [
    "res = requests.get('https://httpbin.org/get')\n",
    "print(res.json()['headers'])"
   ]
  },
  {
   "cell_type": "markdown",
   "metadata": {},
   "source": [
    "На самом деле это - заголовки запроса, а не ответа. Обычно формируются браузером либо программой, которая делает запросы. Посмотреть заголовки запроса в явном виде можно через поле `.request.headers` (видим, здесь немного меньше - остальное добавилось в процессе посылки запроса):"
   ]
  },
  {
   "cell_type": "code",
   "execution_count": 29,
   "metadata": {},
   "outputs": [
    {
     "name": "stdout",
     "output_type": "stream",
     "text": [
      "Request headers: {'User-Agent': 'python-requests/2.27.1', 'Accept-Encoding': 'gzip, deflate, br', 'Accept': '*/*', 'Connection': 'keep-alive'}\n"
     ]
    }
   ],
   "source": [
    "res = requests.get('https://httpbin.org/get')\n",
    "print(f'Request headers: {res.request.headers}')"
   ]
  },
  {
   "cell_type": "markdown",
   "metadata": {},
   "source": [
    "На тело же запроса (в `GET` его, конечно, нет - только в `POST`) можно посмотреть с помощью `.request.body`:"
   ]
  },
  {
   "cell_type": "code",
   "execution_count": 30,
   "metadata": {},
   "outputs": [
    {
     "name": "stdout",
     "output_type": "stream",
     "text": [
      "Request body: None\n"
     ]
    }
   ],
   "source": [
    "res = requests.get('https://httpbin.org/get')\n",
    "print(f'Request body: {res.request.body}')"
   ]
  },
  {
   "cell_type": "markdown",
   "metadata": {},
   "source": [
    "### `GET`, параметры запроса"
   ]
  },
  {
   "cell_type": "markdown",
   "metadata": {},
   "source": [
    "Можем поменять заголовок запроса с помощью параметра `headers`:"
   ]
  },
  {
   "cell_type": "code",
   "execution_count": 31,
   "metadata": {},
   "outputs": [
    {
     "name": "stdout",
     "output_type": "stream",
     "text": [
      "Request headers: {'user-agent': 'my-app/0.0.1', 'Accept-Encoding': 'gzip, deflate, br', 'Accept': '*/*', 'Connection': 'keep-alive'}\n"
     ]
    }
   ],
   "source": [
    "res = requests.get('https://httpbin.org/get', headers={'user-agent': 'my-app/0.0.1'})\n",
    "print(f'Request headers: {res.request.headers}')"
   ]
  },
  {
   "cell_type": "markdown",
   "metadata": {},
   "source": [
    "Часто запросы содержат кучу параметров, таких как разные идентификаторы, номера страниц и тп. Все эти параметры можно зашифровать собственноручно в url запроса, а можно предоставить дело библиотеке с помощью параметра `params`, а посмотреть на получившийся запрос с помощью поля `.request.url`:"
   ]
  },
  {
   "cell_type": "code",
   "execution_count": 32,
   "metadata": {},
   "outputs": [
    {
     "name": "stdout",
     "output_type": "stream",
     "text": [
      "URL: https://httpbin.org/get?p1=abc&p2=123\n"
     ]
    }
   ],
   "source": [
    "res = requests.get('https://httpbin.org/get', params={'p1': 'abc', 'p2': 123})\n",
    "print(f'URL: {res.request.url}')"
   ]
  },
  {
   "cell_type": "markdown",
   "metadata": {},
   "source": [
    "Зачастую на сайтах встречается так называемая \"HTTP Basic Auth\" авторизация, которая реализуется посредством http-сервера (а не сторонних движков), и выглядит [вот так](https://httpbin.org/basic-auth/user/passwd):"
   ]
  },
  {
   "cell_type": "markdown",
   "metadata": {},
   "source": [
    "![](Python09-Parallel_extra/basic_auth.png)"
   ]
  },
  {
   "cell_type": "markdown",
   "metadata": {},
   "source": [
    "Оказывается, эту авторизацию тоже можно обходить используя параметр `auth`:"
   ]
  },
  {
   "cell_type": "code",
   "execution_count": 33,
   "metadata": {},
   "outputs": [
    {
     "name": "stdout",
     "output_type": "stream",
     "text": [
      "URL: https://httpbin.org/basic-auth/user/passwd\n",
      "Request headers: {'User-Agent': 'python-requests/2.27.1', 'Accept-Encoding': 'gzip, deflate, br', 'Accept': '*/*', 'Connection': 'keep-alive', 'Authorization': 'Basic dXNlcjpwYXNzd2Q='}\n",
      "Responce body: {'authenticated': True, 'user': 'user'}\n"
     ]
    }
   ],
   "source": [
    "res = requests.get('https://httpbin.org/basic-auth/user/passwd', auth=('user', 'passwd'))\n",
    "print(f'URL: {res.request.url}')\n",
    "print(f'Request headers: {res.request.headers}')\n",
    "print(f'Responce body: {res.json()}')"
   ]
  },
  {
   "cell_type": "markdown",
   "metadata": {},
   "source": [
    "\"*dXNlcjpwYXNzd2Q=*\" в base64-кодировке значит \"*user:passwd*\"."
   ]
  },
  {
   "cell_type": "markdown",
   "metadata": {},
   "source": [
    "Если вы хотите использовать одну и ту же аутентификацию для нескольких запросов (да и вообще одни и те же параметры по умолчанию), то лучше использовать сессии `Session`:"
   ]
  },
  {
   "cell_type": "code",
   "execution_count": 34,
   "metadata": {},
   "outputs": [
    {
     "name": "stdout",
     "output_type": "stream",
     "text": [
      "OK: True\n",
      "OK: True\n"
     ]
    }
   ],
   "source": [
    "with requests.Session() as session:\n",
    "    session.auth = ('user', 'passwd')\n",
    "    res = session.get('https://httpbin.org/basic-auth/user/passwd')\n",
    "    print(f'OK: {res.ok}')\n",
    "    res = session.get('https://httpbin.org/basic-auth/user/passwd')\n",
    "    print(f'OK: {res.ok}')"
   ]
  },
  {
   "cell_type": "markdown",
   "metadata": {},
   "source": [
    "Если вы сидите за прокси, то их также можно задавать с помощью параметра `proxies` (поддерживаются множественные протоколы типа 'http', 'https', 'ftp'):"
   ]
  },
  {
   "cell_type": "markdown",
   "metadata": {},
   "source": [
    "```python\n",
    "with requests.Session() as session:\n",
    "    session.proxies = {'https' : 'https://188.166.50.225:3128'}\n",
    "    res = session.get('https://httpbin.org/ip')\n",
    "    print(f'URL: {res.request.url}')\n",
    "    print(f'Responce body: {res.json()}')\n",
    "```"
   ]
  },
  {
   "cell_type": "markdown",
   "metadata": {},
   "source": [
    "Можно задавать таймауты на: ожидание времени соединения с сервером, ожидание начала скачивания данных с сервера. Делается с помощью параметра `timeout`:"
   ]
  },
  {
   "cell_type": "code",
   "execution_count": 35,
   "metadata": {},
   "outputs": [
    {
     "ename": "ConnectTimeout",
     "evalue": "HTTPSConnectionPool(host='httpbin.org', port=443): Max retries exceeded with url: / (Caused by ConnectTimeoutError(<urllib3.connection.HTTPSConnection object at 0x7fbca87b3c90>, 'Connection to httpbin.org timed out. (connect timeout=1e-05)'))",
     "output_type": "error",
     "traceback": [
      "\u001b[0;31m---------------------------------------------------------------------------\u001b[0m",
      "\u001b[0;31mtimeout\u001b[0m                                   Traceback (most recent call last)",
      "\u001b[0;32m~/miniconda3/lib/python3.7/site-packages/urllib3/connection.py\u001b[0m in \u001b[0;36m_new_conn\u001b[0;34m(self)\u001b[0m\n\u001b[1;32m    174\u001b[0m             conn = connection.create_connection(\n\u001b[0;32m--> 175\u001b[0;31m                 \u001b[0;34m(\u001b[0m\u001b[0mself\u001b[0m\u001b[0;34m.\u001b[0m\u001b[0m_dns_host\u001b[0m\u001b[0;34m,\u001b[0m \u001b[0mself\u001b[0m\u001b[0;34m.\u001b[0m\u001b[0mport\u001b[0m\u001b[0;34m)\u001b[0m\u001b[0;34m,\u001b[0m \u001b[0mself\u001b[0m\u001b[0;34m.\u001b[0m\u001b[0mtimeout\u001b[0m\u001b[0;34m,\u001b[0m \u001b[0;34m**\u001b[0m\u001b[0mextra_kw\u001b[0m\u001b[0;34m\u001b[0m\u001b[0;34m\u001b[0m\u001b[0m\n\u001b[0m\u001b[1;32m    176\u001b[0m             )\n",
      "\u001b[0;32m~/miniconda3/lib/python3.7/site-packages/urllib3/util/connection.py\u001b[0m in \u001b[0;36mcreate_connection\u001b[0;34m(address, timeout, source_address, socket_options)\u001b[0m\n\u001b[1;32m     95\u001b[0m     \u001b[0;32mif\u001b[0m \u001b[0merr\u001b[0m \u001b[0;32mis\u001b[0m \u001b[0;32mnot\u001b[0m \u001b[0;32mNone\u001b[0m\u001b[0;34m:\u001b[0m\u001b[0;34m\u001b[0m\u001b[0;34m\u001b[0m\u001b[0m\n\u001b[0;32m---> 96\u001b[0;31m         \u001b[0;32mraise\u001b[0m \u001b[0merr\u001b[0m\u001b[0;34m\u001b[0m\u001b[0;34m\u001b[0m\u001b[0m\n\u001b[0m\u001b[1;32m     97\u001b[0m \u001b[0;34m\u001b[0m\u001b[0m\n",
      "\u001b[0;32m~/miniconda3/lib/python3.7/site-packages/urllib3/util/connection.py\u001b[0m in \u001b[0;36mcreate_connection\u001b[0;34m(address, timeout, source_address, socket_options)\u001b[0m\n\u001b[1;32m     85\u001b[0m                 \u001b[0msock\u001b[0m\u001b[0;34m.\u001b[0m\u001b[0mbind\u001b[0m\u001b[0;34m(\u001b[0m\u001b[0msource_address\u001b[0m\u001b[0;34m)\u001b[0m\u001b[0;34m\u001b[0m\u001b[0;34m\u001b[0m\u001b[0m\n\u001b[0;32m---> 86\u001b[0;31m             \u001b[0msock\u001b[0m\u001b[0;34m.\u001b[0m\u001b[0mconnect\u001b[0m\u001b[0;34m(\u001b[0m\u001b[0msa\u001b[0m\u001b[0;34m)\u001b[0m\u001b[0;34m\u001b[0m\u001b[0;34m\u001b[0m\u001b[0m\n\u001b[0m\u001b[1;32m     87\u001b[0m             \u001b[0;32mreturn\u001b[0m \u001b[0msock\u001b[0m\u001b[0;34m\u001b[0m\u001b[0;34m\u001b[0m\u001b[0m\n",
      "\u001b[0;31mtimeout\u001b[0m: timed out",
      "\nDuring handling of the above exception, another exception occurred:\n",
      "\u001b[0;31mConnectTimeoutError\u001b[0m                       Traceback (most recent call last)",
      "\u001b[0;32m~/miniconda3/lib/python3.7/site-packages/urllib3/connectionpool.py\u001b[0m in \u001b[0;36murlopen\u001b[0;34m(self, method, url, body, headers, retries, redirect, assert_same_host, timeout, pool_timeout, release_conn, chunked, body_pos, **response_kw)\u001b[0m\n\u001b[1;32m    705\u001b[0m                 \u001b[0mheaders\u001b[0m\u001b[0;34m=\u001b[0m\u001b[0mheaders\u001b[0m\u001b[0;34m,\u001b[0m\u001b[0;34m\u001b[0m\u001b[0;34m\u001b[0m\u001b[0m\n\u001b[0;32m--> 706\u001b[0;31m                 \u001b[0mchunked\u001b[0m\u001b[0;34m=\u001b[0m\u001b[0mchunked\u001b[0m\u001b[0;34m,\u001b[0m\u001b[0;34m\u001b[0m\u001b[0;34m\u001b[0m\u001b[0m\n\u001b[0m\u001b[1;32m    707\u001b[0m             )\n",
      "\u001b[0;32m~/miniconda3/lib/python3.7/site-packages/urllib3/connectionpool.py\u001b[0m in \u001b[0;36m_make_request\u001b[0;34m(self, conn, method, url, timeout, chunked, **httplib_request_kw)\u001b[0m\n\u001b[1;32m    381\u001b[0m         \u001b[0;32mtry\u001b[0m\u001b[0;34m:\u001b[0m\u001b[0;34m\u001b[0m\u001b[0;34m\u001b[0m\u001b[0m\n\u001b[0;32m--> 382\u001b[0;31m             \u001b[0mself\u001b[0m\u001b[0;34m.\u001b[0m\u001b[0m_validate_conn\u001b[0m\u001b[0;34m(\u001b[0m\u001b[0mconn\u001b[0m\u001b[0;34m)\u001b[0m\u001b[0;34m\u001b[0m\u001b[0;34m\u001b[0m\u001b[0m\n\u001b[0m\u001b[1;32m    383\u001b[0m         \u001b[0;32mexcept\u001b[0m \u001b[0;34m(\u001b[0m\u001b[0mSocketTimeout\u001b[0m\u001b[0;34m,\u001b[0m \u001b[0mBaseSSLError\u001b[0m\u001b[0;34m)\u001b[0m \u001b[0;32mas\u001b[0m \u001b[0me\u001b[0m\u001b[0;34m:\u001b[0m\u001b[0;34m\u001b[0m\u001b[0;34m\u001b[0m\u001b[0m\n",
      "\u001b[0;32m~/miniconda3/lib/python3.7/site-packages/urllib3/connectionpool.py\u001b[0m in \u001b[0;36m_validate_conn\u001b[0;34m(self, conn)\u001b[0m\n\u001b[1;32m   1009\u001b[0m         \u001b[0;32mif\u001b[0m \u001b[0;32mnot\u001b[0m \u001b[0mgetattr\u001b[0m\u001b[0;34m(\u001b[0m\u001b[0mconn\u001b[0m\u001b[0;34m,\u001b[0m \u001b[0;34m\"sock\"\u001b[0m\u001b[0;34m,\u001b[0m \u001b[0;32mNone\u001b[0m\u001b[0;34m)\u001b[0m\u001b[0;34m:\u001b[0m  \u001b[0;31m# AppEngine might not have  `.sock`\u001b[0m\u001b[0;34m\u001b[0m\u001b[0;34m\u001b[0m\u001b[0m\n\u001b[0;32m-> 1010\u001b[0;31m             \u001b[0mconn\u001b[0m\u001b[0;34m.\u001b[0m\u001b[0mconnect\u001b[0m\u001b[0;34m(\u001b[0m\u001b[0;34m)\u001b[0m\u001b[0;34m\u001b[0m\u001b[0;34m\u001b[0m\u001b[0m\n\u001b[0m\u001b[1;32m   1011\u001b[0m \u001b[0;34m\u001b[0m\u001b[0m\n",
      "\u001b[0;32m~/miniconda3/lib/python3.7/site-packages/urllib3/connection.py\u001b[0m in \u001b[0;36mconnect\u001b[0;34m(self)\u001b[0m\n\u001b[1;32m    357\u001b[0m         \u001b[0;31m# Add certificate verification\u001b[0m\u001b[0;34m\u001b[0m\u001b[0;34m\u001b[0m\u001b[0;34m\u001b[0m\u001b[0m\n\u001b[0;32m--> 358\u001b[0;31m         \u001b[0mconn\u001b[0m \u001b[0;34m=\u001b[0m \u001b[0mself\u001b[0m\u001b[0;34m.\u001b[0m\u001b[0m_new_conn\u001b[0m\u001b[0;34m(\u001b[0m\u001b[0;34m)\u001b[0m\u001b[0;34m\u001b[0m\u001b[0;34m\u001b[0m\u001b[0m\n\u001b[0m\u001b[1;32m    359\u001b[0m         \u001b[0mhostname\u001b[0m \u001b[0;34m=\u001b[0m \u001b[0mself\u001b[0m\u001b[0;34m.\u001b[0m\u001b[0mhost\u001b[0m\u001b[0;34m\u001b[0m\u001b[0;34m\u001b[0m\u001b[0m\n",
      "\u001b[0;32m~/miniconda3/lib/python3.7/site-packages/urllib3/connection.py\u001b[0m in \u001b[0;36m_new_conn\u001b[0;34m(self)\u001b[0m\n\u001b[1;32m    181\u001b[0m                 \u001b[0;34m\"Connection to %s timed out. (connect timeout=%s)\"\u001b[0m\u001b[0;34m\u001b[0m\u001b[0;34m\u001b[0m\u001b[0m\n\u001b[0;32m--> 182\u001b[0;31m                 \u001b[0;34m%\u001b[0m \u001b[0;34m(\u001b[0m\u001b[0mself\u001b[0m\u001b[0;34m.\u001b[0m\u001b[0mhost\u001b[0m\u001b[0;34m,\u001b[0m \u001b[0mself\u001b[0m\u001b[0;34m.\u001b[0m\u001b[0mtimeout\u001b[0m\u001b[0;34m)\u001b[0m\u001b[0;34m,\u001b[0m\u001b[0;34m\u001b[0m\u001b[0;34m\u001b[0m\u001b[0m\n\u001b[0m\u001b[1;32m    183\u001b[0m             )\n",
      "\u001b[0;31mConnectTimeoutError\u001b[0m: (<urllib3.connection.HTTPSConnection object at 0x7fbca87b3c90>, 'Connection to httpbin.org timed out. (connect timeout=1e-05)')",
      "\nDuring handling of the above exception, another exception occurred:\n",
      "\u001b[0;31mMaxRetryError\u001b[0m                             Traceback (most recent call last)",
      "\u001b[0;32m~/miniconda3/lib/python3.7/site-packages/requests/adapters.py\u001b[0m in \u001b[0;36msend\u001b[0;34m(self, request, stream, timeout, verify, cert, proxies)\u001b[0m\n\u001b[1;32m    449\u001b[0m                     \u001b[0mretries\u001b[0m\u001b[0;34m=\u001b[0m\u001b[0mself\u001b[0m\u001b[0;34m.\u001b[0m\u001b[0mmax_retries\u001b[0m\u001b[0;34m,\u001b[0m\u001b[0;34m\u001b[0m\u001b[0;34m\u001b[0m\u001b[0m\n\u001b[0;32m--> 450\u001b[0;31m                     \u001b[0mtimeout\u001b[0m\u001b[0;34m=\u001b[0m\u001b[0mtimeout\u001b[0m\u001b[0;34m\u001b[0m\u001b[0;34m\u001b[0m\u001b[0m\n\u001b[0m\u001b[1;32m    451\u001b[0m                 )\n",
      "\u001b[0;32m~/miniconda3/lib/python3.7/site-packages/urllib3/connectionpool.py\u001b[0m in \u001b[0;36murlopen\u001b[0;34m(self, method, url, body, headers, retries, redirect, assert_same_host, timeout, pool_timeout, release_conn, chunked, body_pos, **response_kw)\u001b[0m\n\u001b[1;32m    755\u001b[0m             retries = retries.increment(\n\u001b[0;32m--> 756\u001b[0;31m                 \u001b[0mmethod\u001b[0m\u001b[0;34m,\u001b[0m \u001b[0murl\u001b[0m\u001b[0;34m,\u001b[0m \u001b[0merror\u001b[0m\u001b[0;34m=\u001b[0m\u001b[0me\u001b[0m\u001b[0;34m,\u001b[0m \u001b[0m_pool\u001b[0m\u001b[0;34m=\u001b[0m\u001b[0mself\u001b[0m\u001b[0;34m,\u001b[0m \u001b[0m_stacktrace\u001b[0m\u001b[0;34m=\u001b[0m\u001b[0msys\u001b[0m\u001b[0;34m.\u001b[0m\u001b[0mexc_info\u001b[0m\u001b[0;34m(\u001b[0m\u001b[0;34m)\u001b[0m\u001b[0;34m[\u001b[0m\u001b[0;36m2\u001b[0m\u001b[0;34m]\u001b[0m\u001b[0;34m\u001b[0m\u001b[0;34m\u001b[0m\u001b[0m\n\u001b[0m\u001b[1;32m    757\u001b[0m             )\n",
      "\u001b[0;32m~/miniconda3/lib/python3.7/site-packages/urllib3/util/retry.py\u001b[0m in \u001b[0;36mincrement\u001b[0;34m(self, method, url, response, error, _pool, _stacktrace)\u001b[0m\n\u001b[1;32m    573\u001b[0m         \u001b[0;32mif\u001b[0m \u001b[0mnew_retry\u001b[0m\u001b[0;34m.\u001b[0m\u001b[0mis_exhausted\u001b[0m\u001b[0;34m(\u001b[0m\u001b[0;34m)\u001b[0m\u001b[0;34m:\u001b[0m\u001b[0;34m\u001b[0m\u001b[0;34m\u001b[0m\u001b[0m\n\u001b[0;32m--> 574\u001b[0;31m             \u001b[0;32mraise\u001b[0m \u001b[0mMaxRetryError\u001b[0m\u001b[0;34m(\u001b[0m\u001b[0m_pool\u001b[0m\u001b[0;34m,\u001b[0m \u001b[0murl\u001b[0m\u001b[0;34m,\u001b[0m \u001b[0merror\u001b[0m \u001b[0;32mor\u001b[0m \u001b[0mResponseError\u001b[0m\u001b[0;34m(\u001b[0m\u001b[0mcause\u001b[0m\u001b[0;34m)\u001b[0m\u001b[0;34m)\u001b[0m\u001b[0;34m\u001b[0m\u001b[0;34m\u001b[0m\u001b[0m\n\u001b[0m\u001b[1;32m    575\u001b[0m \u001b[0;34m\u001b[0m\u001b[0m\n",
      "\u001b[0;31mMaxRetryError\u001b[0m: HTTPSConnectionPool(host='httpbin.org', port=443): Max retries exceeded with url: / (Caused by ConnectTimeoutError(<urllib3.connection.HTTPSConnection object at 0x7fbca87b3c90>, 'Connection to httpbin.org timed out. (connect timeout=1e-05)'))",
      "\nDuring handling of the above exception, another exception occurred:\n",
      "\u001b[0;31mConnectTimeout\u001b[0m                            Traceback (most recent call last)",
      "\u001b[0;32m/tmp/ipykernel_25072/1268463487.py\u001b[0m in \u001b[0;36m<module>\u001b[0;34m\u001b[0m\n\u001b[0;32m----> 1\u001b[0;31m \u001b[0mresponse\u001b[0m \u001b[0;34m=\u001b[0m \u001b[0mrequests\u001b[0m\u001b[0;34m.\u001b[0m\u001b[0mget\u001b[0m\u001b[0;34m(\u001b[0m\u001b[0;34m'https://httpbin.org'\u001b[0m\u001b[0;34m,\u001b[0m \u001b[0mtimeout\u001b[0m\u001b[0;34m=\u001b[0m\u001b[0;34m(\u001b[0m\u001b[0;36m0.00001\u001b[0m\u001b[0;34m,\u001b[0m \u001b[0;36m10\u001b[0m\u001b[0;34m)\u001b[0m\u001b[0;34m)\u001b[0m\u001b[0;34m\u001b[0m\u001b[0;34m\u001b[0m\u001b[0m\n\u001b[0m",
      "\u001b[0;32m~/miniconda3/lib/python3.7/site-packages/requests/api.py\u001b[0m in \u001b[0;36mget\u001b[0;34m(url, params, **kwargs)\u001b[0m\n\u001b[1;32m     73\u001b[0m     \"\"\"\n\u001b[1;32m     74\u001b[0m \u001b[0;34m\u001b[0m\u001b[0m\n\u001b[0;32m---> 75\u001b[0;31m     \u001b[0;32mreturn\u001b[0m \u001b[0mrequest\u001b[0m\u001b[0;34m(\u001b[0m\u001b[0;34m'get'\u001b[0m\u001b[0;34m,\u001b[0m \u001b[0murl\u001b[0m\u001b[0;34m,\u001b[0m \u001b[0mparams\u001b[0m\u001b[0;34m=\u001b[0m\u001b[0mparams\u001b[0m\u001b[0;34m,\u001b[0m \u001b[0;34m**\u001b[0m\u001b[0mkwargs\u001b[0m\u001b[0;34m)\u001b[0m\u001b[0;34m\u001b[0m\u001b[0;34m\u001b[0m\u001b[0m\n\u001b[0m\u001b[1;32m     76\u001b[0m \u001b[0;34m\u001b[0m\u001b[0m\n\u001b[1;32m     77\u001b[0m \u001b[0;34m\u001b[0m\u001b[0m\n",
      "\u001b[0;32m~/miniconda3/lib/python3.7/site-packages/requests/api.py\u001b[0m in \u001b[0;36mrequest\u001b[0;34m(method, url, **kwargs)\u001b[0m\n\u001b[1;32m     59\u001b[0m     \u001b[0;31m# cases, and look like a memory leak in others.\u001b[0m\u001b[0;34m\u001b[0m\u001b[0;34m\u001b[0m\u001b[0;34m\u001b[0m\u001b[0m\n\u001b[1;32m     60\u001b[0m     \u001b[0;32mwith\u001b[0m \u001b[0msessions\u001b[0m\u001b[0;34m.\u001b[0m\u001b[0mSession\u001b[0m\u001b[0;34m(\u001b[0m\u001b[0;34m)\u001b[0m \u001b[0;32mas\u001b[0m \u001b[0msession\u001b[0m\u001b[0;34m:\u001b[0m\u001b[0;34m\u001b[0m\u001b[0;34m\u001b[0m\u001b[0m\n\u001b[0;32m---> 61\u001b[0;31m         \u001b[0;32mreturn\u001b[0m \u001b[0msession\u001b[0m\u001b[0;34m.\u001b[0m\u001b[0mrequest\u001b[0m\u001b[0;34m(\u001b[0m\u001b[0mmethod\u001b[0m\u001b[0;34m=\u001b[0m\u001b[0mmethod\u001b[0m\u001b[0;34m,\u001b[0m \u001b[0murl\u001b[0m\u001b[0;34m=\u001b[0m\u001b[0murl\u001b[0m\u001b[0;34m,\u001b[0m \u001b[0;34m**\u001b[0m\u001b[0mkwargs\u001b[0m\u001b[0;34m)\u001b[0m\u001b[0;34m\u001b[0m\u001b[0;34m\u001b[0m\u001b[0m\n\u001b[0m\u001b[1;32m     62\u001b[0m \u001b[0;34m\u001b[0m\u001b[0m\n\u001b[1;32m     63\u001b[0m \u001b[0;34m\u001b[0m\u001b[0m\n",
      "\u001b[0;32m~/miniconda3/lib/python3.7/site-packages/requests/sessions.py\u001b[0m in \u001b[0;36mrequest\u001b[0;34m(self, method, url, params, data, headers, cookies, files, auth, timeout, allow_redirects, proxies, hooks, stream, verify, cert, json)\u001b[0m\n\u001b[1;32m    527\u001b[0m         }\n\u001b[1;32m    528\u001b[0m         \u001b[0msend_kwargs\u001b[0m\u001b[0;34m.\u001b[0m\u001b[0mupdate\u001b[0m\u001b[0;34m(\u001b[0m\u001b[0msettings\u001b[0m\u001b[0;34m)\u001b[0m\u001b[0;34m\u001b[0m\u001b[0;34m\u001b[0m\u001b[0m\n\u001b[0;32m--> 529\u001b[0;31m         \u001b[0mresp\u001b[0m \u001b[0;34m=\u001b[0m \u001b[0mself\u001b[0m\u001b[0;34m.\u001b[0m\u001b[0msend\u001b[0m\u001b[0;34m(\u001b[0m\u001b[0mprep\u001b[0m\u001b[0;34m,\u001b[0m \u001b[0;34m**\u001b[0m\u001b[0msend_kwargs\u001b[0m\u001b[0;34m)\u001b[0m\u001b[0;34m\u001b[0m\u001b[0;34m\u001b[0m\u001b[0m\n\u001b[0m\u001b[1;32m    530\u001b[0m \u001b[0;34m\u001b[0m\u001b[0m\n\u001b[1;32m    531\u001b[0m         \u001b[0;32mreturn\u001b[0m \u001b[0mresp\u001b[0m\u001b[0;34m\u001b[0m\u001b[0;34m\u001b[0m\u001b[0m\n",
      "\u001b[0;32m~/miniconda3/lib/python3.7/site-packages/requests/sessions.py\u001b[0m in \u001b[0;36msend\u001b[0;34m(self, request, **kwargs)\u001b[0m\n\u001b[1;32m    643\u001b[0m \u001b[0;34m\u001b[0m\u001b[0m\n\u001b[1;32m    644\u001b[0m         \u001b[0;31m# Send the request\u001b[0m\u001b[0;34m\u001b[0m\u001b[0;34m\u001b[0m\u001b[0;34m\u001b[0m\u001b[0m\n\u001b[0;32m--> 645\u001b[0;31m         \u001b[0mr\u001b[0m \u001b[0;34m=\u001b[0m \u001b[0madapter\u001b[0m\u001b[0;34m.\u001b[0m\u001b[0msend\u001b[0m\u001b[0;34m(\u001b[0m\u001b[0mrequest\u001b[0m\u001b[0;34m,\u001b[0m \u001b[0;34m**\u001b[0m\u001b[0mkwargs\u001b[0m\u001b[0;34m)\u001b[0m\u001b[0;34m\u001b[0m\u001b[0;34m\u001b[0m\u001b[0m\n\u001b[0m\u001b[1;32m    646\u001b[0m \u001b[0;34m\u001b[0m\u001b[0m\n\u001b[1;32m    647\u001b[0m         \u001b[0;31m# Total elapsed time of the request (approximately)\u001b[0m\u001b[0;34m\u001b[0m\u001b[0;34m\u001b[0m\u001b[0;34m\u001b[0m\u001b[0m\n",
      "\u001b[0;32m~/miniconda3/lib/python3.7/site-packages/requests/adapters.py\u001b[0m in \u001b[0;36msend\u001b[0;34m(self, request, stream, timeout, verify, cert, proxies)\u001b[0m\n\u001b[1;32m    505\u001b[0m                 \u001b[0;31m# TODO: Remove this in 3.0.0: see #2811\u001b[0m\u001b[0;34m\u001b[0m\u001b[0;34m\u001b[0m\u001b[0;34m\u001b[0m\u001b[0m\n\u001b[1;32m    506\u001b[0m                 \u001b[0;32mif\u001b[0m \u001b[0;32mnot\u001b[0m \u001b[0misinstance\u001b[0m\u001b[0;34m(\u001b[0m\u001b[0me\u001b[0m\u001b[0;34m.\u001b[0m\u001b[0mreason\u001b[0m\u001b[0;34m,\u001b[0m \u001b[0mNewConnectionError\u001b[0m\u001b[0;34m)\u001b[0m\u001b[0;34m:\u001b[0m\u001b[0;34m\u001b[0m\u001b[0;34m\u001b[0m\u001b[0m\n\u001b[0;32m--> 507\u001b[0;31m                     \u001b[0;32mraise\u001b[0m \u001b[0mConnectTimeout\u001b[0m\u001b[0;34m(\u001b[0m\u001b[0me\u001b[0m\u001b[0;34m,\u001b[0m \u001b[0mrequest\u001b[0m\u001b[0;34m=\u001b[0m\u001b[0mrequest\u001b[0m\u001b[0;34m)\u001b[0m\u001b[0;34m\u001b[0m\u001b[0;34m\u001b[0m\u001b[0m\n\u001b[0m\u001b[1;32m    508\u001b[0m \u001b[0;34m\u001b[0m\u001b[0m\n\u001b[1;32m    509\u001b[0m             \u001b[0;32mif\u001b[0m \u001b[0misinstance\u001b[0m\u001b[0;34m(\u001b[0m\u001b[0me\u001b[0m\u001b[0;34m.\u001b[0m\u001b[0mreason\u001b[0m\u001b[0;34m,\u001b[0m \u001b[0mResponseError\u001b[0m\u001b[0;34m)\u001b[0m\u001b[0;34m:\u001b[0m\u001b[0;34m\u001b[0m\u001b[0;34m\u001b[0m\u001b[0m\n",
      "\u001b[0;31mConnectTimeout\u001b[0m: HTTPSConnectionPool(host='httpbin.org', port=443): Max retries exceeded with url: / (Caused by ConnectTimeoutError(<urllib3.connection.HTTPSConnection object at 0x7fbca87b3c90>, 'Connection to httpbin.org timed out. (connect timeout=1e-05)'))"
     ]
    }
   ],
   "source": [
    "response = requests.get('https://httpbin.org', timeout=(0.00001, 10))"
   ]
  },
  {
   "cell_type": "markdown",
   "metadata": {},
   "source": [
    "Ловить исключение будем дальше, сейчас просто видим, что это работает."
   ]
  },
  {
   "cell_type": "markdown",
   "metadata": {},
   "source": [
    "### `POST` и отправка на сервер данных"
   ]
  },
  {
   "cell_type": "markdown",
   "metadata": {},
   "source": [
    "Простые параметры можно передавать через `GET`, но тексты или файлы - уже лучше через `POST`."
   ]
  },
  {
   "cell_type": "markdown",
   "metadata": {},
   "source": [
    "Давайте сначала передадим несколько параметров с помощью функции `post` и параметра `data` (обратите внимание на аналогию с `params`):"
   ]
  },
  {
   "cell_type": "code",
   "execution_count": 36,
   "metadata": {},
   "outputs": [
    {
     "name": "stdout",
     "output_type": "stream",
     "text": [
      "URL: https://httpbin.org/post\n",
      "Request headers: {'User-Agent': 'python-requests/2.27.1', 'Accept-Encoding': 'gzip, deflate, br', 'Accept': '*/*', 'Connection': 'keep-alive', 'Content-Length': '13', 'Content-Type': 'application/x-www-form-urlencoded'}\n",
      "Request body: p1=abc&p2=123\n",
      "Responce body: {'args': {}, 'data': '', 'files': {}, 'form': {'p1': 'abc', 'p2': '123'}, 'headers': {'Accept': '*/*', 'Accept-Encoding': 'gzip, deflate, br', 'Content-Length': '13', 'Content-Type': 'application/x-www-form-urlencoded', 'Host': 'httpbin.org', 'User-Agent': 'python-requests/2.27.1', 'X-Amzn-Trace-Id': 'Root=1-638b9099-38881291307f9594756e9ac2'}, 'json': None, 'origin': '37.204.141.245', 'url': 'https://httpbin.org/post'}\n"
     ]
    }
   ],
   "source": [
    "res = requests.post('https://httpbin.org/post', data={'p1': 'abc', 'p2': 123})\n",
    "print(f'URL: {res.request.url}')\n",
    "print(f'Request headers: {res.request.headers}')\n",
    "print(f'Request body: {res.request.body}')\n",
    "print(f'Responce body: {res.json()}')"
   ]
  },
  {
   "cell_type": "markdown",
   "metadata": {},
   "source": [
    "Видим, что теперь параметр `.request.body` показывает наши переданные параметры (в то время как URL запроса не поменялся)."
   ]
  },
  {
   "cell_type": "markdown",
   "metadata": {},
   "source": [
    "Передача файла ведется с помощью параметра `files` (который должен быть перед этим открыт с помощью `open`):"
   ]
  },
  {
   "cell_type": "code",
   "execution_count": 37,
   "metadata": {},
   "outputs": [
    {
     "name": "stdout",
     "output_type": "stream",
     "text": [
      "Request headers: {'User-Agent': 'python-requests/2.27.1', 'Accept-Encoding': 'gzip, deflate, br', 'Accept': '*/*', 'Connection': 'keep-alive', 'Content-Length': '166', 'Content-Type': 'multipart/form-data; boundary=7cac73bd747d2605dcfdc290c85dd48a'}\n",
      "Request body: b'--7cac73bd747d2605dcfdc290c85dd48a\\r\\nContent-Disposition: form-data; name=\"file\"; filename=\"table.csv\"\\r\\n\\r\\nparam,val\\nx,100\\ny,200\\r\\n--7cac73bd747d2605dcfdc290c85dd48a--\\r\\n'\n",
      "Responce body: {'args': {}, 'data': '', 'files': {'file': 'param,val\\nx,100\\ny,200'}, 'form': {}, 'headers': {'Accept': '*/*', 'Accept-Encoding': 'gzip, deflate, br', 'Content-Length': '166', 'Content-Type': 'multipart/form-data; boundary=7cac73bd747d2605dcfdc290c85dd48a', 'Host': 'httpbin.org', 'User-Agent': 'python-requests/2.27.1', 'X-Amzn-Trace-Id': 'Root=1-638b909b-60b6dfe07ba1f1cc412513cd'}, 'json': None, 'origin': '37.204.141.245', 'url': 'https://httpbin.org/post'}\n"
     ]
    }
   ],
   "source": [
    "res = requests.post('https://httpbin.org/post', \n",
    "                    files={'file' : open('Python09-Parallel_extra/table.csv', 'rb')})\n",
    "print(f'Request headers: {res.request.headers}')\n",
    "print(f'Request body: {res.request.body}')\n",
    "print(f'Responce body: {res.json()}')"
   ]
  },
  {
   "cell_type": "markdown",
   "metadata": {},
   "source": [
    "Можно послать и несколько файлов:"
   ]
  },
  {
   "cell_type": "code",
   "execution_count": 38,
   "metadata": {},
   "outputs": [
    {
     "name": "stdout",
     "output_type": "stream",
     "text": [
      "Request headers: {'User-Agent': 'python-requests/2.27.1', 'Accept-Encoding': 'gzip, deflate, br', 'Accept': '*/*', 'Connection': 'keep-alive', 'Content-Length': '301', 'Content-Type': 'multipart/form-data; boundary=bdd82fd1d6c7f70e5a62829e77910c87'}\n",
      "Request body: b'--bdd82fd1d6c7f70e5a62829e77910c87\\r\\nContent-Disposition: form-data; name=\"file\"; filename=\"table.csv\"\\r\\n\\r\\nparam,val\\nx,100\\ny,200\\r\\n--bdd82fd1d6c7f70e5a62829e77910c87\\r\\nContent-Disposition: form-data; name=\"file\"; filename=\"table2.csv\"\\r\\n\\r\\nparam,val\\nx,100\\ny,200\\nz,300\\r\\n--bdd82fd1d6c7f70e5a62829e77910c87--\\r\\n'\n",
      "Responce body: {'args': {}, 'data': '', 'files': {'file': 'param,val\\nx,100\\ny,200'}, 'form': {}, 'headers': {'Accept': '*/*', 'Accept-Encoding': 'gzip, deflate, br', 'Content-Length': '301', 'Content-Type': 'multipart/form-data; boundary=bdd82fd1d6c7f70e5a62829e77910c87', 'Host': 'httpbin.org', 'User-Agent': 'python-requests/2.27.1', 'X-Amzn-Trace-Id': 'Root=1-638b90a3-369753d90b48af8c6f12260b'}, 'json': None, 'origin': '37.204.141.245', 'url': 'https://httpbin.org/post'}\n"
     ]
    }
   ],
   "source": [
    "res = requests.post('https://httpbin.org/post', \n",
    "                    files=[('file', ('table.csv', open('Python09-Parallel_extra/table.csv', 'rb'))), \n",
    "                           ('file', ('table2.csv', open('Python09-Parallel_extra/table2.csv', 'rb')))])\n",
    "print(f'Request headers: {res.request.headers}')\n",
    "print(f'Request body: {res.request.body}')\n",
    "print(f'Responce body: {res.json()}')"
   ]
  },
  {
   "cell_type": "markdown",
   "metadata": {},
   "source": [
    "### `Cookies`"
   ]
  },
  {
   "cell_type": "markdown",
   "metadata": {},
   "source": [
    "`Cookies` - это некоторый набор пар `ключ : значение`, которые специфичны для конкретного сайта, содержат правила их хранения, и могут содержать такие вспомогательные вещи как аутентификационные данные пользователя, данные о сессии, настройки сайтов и пр. \n",
    "\n",
    "Обычно их устанавливает сервер, и затем за ними следит - они посылаются на сервер при каждом запросе."
   ]
  },
  {
   "cell_type": "markdown",
   "metadata": {},
   "source": [
    "Рассмотрим простейший пример: установим cookies в сессии."
   ]
  },
  {
   "cell_type": "code",
   "execution_count": 39,
   "metadata": {},
   "outputs": [
    {
     "name": "stdout",
     "output_type": "stream",
     "text": [
      "URL: https://httpbin.org/cookies\n",
      "Request headers: {'User-Agent': 'python-requests/2.27.1', 'Accept-Encoding': 'gzip, deflate, br', 'Accept': '*/*', 'Connection': 'keep-alive', 'Cookie': 'cookie_key=cookie_val'}\n",
      "Responce body: {'cookies': {'cookie_key': 'cookie_val'}}\n",
      "Request headers: {'User-Agent': 'python-requests/2.27.1', 'Accept-Encoding': 'gzip, deflate, br', 'Accept': '*/*', 'Connection': 'keep-alive', 'Cookie': 'cookie_key=cookie_val; param=value'}\n"
     ]
    }
   ],
   "source": [
    "with requests.Session() as session:\n",
    "    session.cookies.set('cookie_key' , 'cookie_val')\n",
    "    res = session.get('https://httpbin.org/cookies')\n",
    "    print(f'URL: {res.request.url}')\n",
    "    print(f'Request headers: {res.request.headers}')\n",
    "    print(f'Responce body: {res.json()}')\n",
    "    session.get('https://httpbin.org/cookies/set?param=value')\n",
    "    res = session.get('https://httpbin.org/cookies')\n",
    "    print(f'Request headers: {res.request.headers}') "
   ]
  },
  {
   "cell_type": "markdown",
   "metadata": {},
   "source": [
    "### Обработка исключений"
   ]
  },
  {
   "cell_type": "markdown",
   "metadata": {},
   "source": [
    "Базовым классом-исключением в requests является `RequestException`. От него наследуются все остальные:\n",
    "* ConnectionError\n",
    "  * SSLError\n",
    "  * ProxyError\n",
    "* HTTPError\n",
    "* Timeout\n",
    "  * ConnectTimeout\n",
    "  * ReadTimeout\n",
    "\n",
    "Рассмотрим подробнее ConnectionError, HTTPError и Timeout."
   ]
  },
  {
   "cell_type": "markdown",
   "metadata": {},
   "source": [
    "`ConnectionError` возникает обычно когда хост недоступен (причина: проблемы конфигурирования DNS DNS lookup failure)."
   ]
  },
  {
   "cell_type": "code",
   "execution_count": 40,
   "metadata": {},
   "outputs": [
    {
     "name": "stdout",
     "output_type": "stream",
     "text": [
      "Wrong host!\n"
     ]
    }
   ],
   "source": [
    "try:\n",
    "    response = requests.get('https://httpAAAbin.org')\n",
    "except requests.exceptions.ConnectionError:\n",
    "    print('Wrong host!')"
   ]
  },
  {
   "cell_type": "markdown",
   "metadata": {},
   "source": [
    "`HTTPError` сигнализирует об ответе сервера с кодом ошибки >=400. Правда, чтобы это исключение активировать, нужно специально запустить функцию `raise_for_status()`:"
   ]
  },
  {
   "cell_type": "code",
   "execution_count": 41,
   "metadata": {},
   "outputs": [
    {
     "name": "stdout",
     "output_type": "stream",
     "text": [
      "Oops. HTTP Error occured\n",
      "Reason: INTERNAL SERVER ERROR\n",
      "Status code: 500\n"
     ]
    }
   ],
   "source": [
    "try:\n",
    "    res = requests.get('https://httpbin.org/status/500')\n",
    "    res.raise_for_status()\n",
    "except requests.exceptions.HTTPError:\n",
    "    print('Oops. HTTP Error occured')\n",
    "    print(f'Reason: {res.reason}')\n",
    "    print(f'Status code: {res.status_code}')"
   ]
  },
  {
   "cell_type": "markdown",
   "metadata": {},
   "source": [
    "Для таймаутов есть две версии - одна для установления соединения с сервером `ConnectTimeout`, а другая для начала скачивания данных с сервера `ReadTimeout`:"
   ]
  },
  {
   "cell_type": "code",
   "execution_count": 42,
   "metadata": {},
   "outputs": [
    {
     "name": "stdout",
     "output_type": "stream",
     "text": [
      "Connection timeout occured!\n",
      "Read timeout occured!\n"
     ]
    }
   ],
   "source": [
    "def test_timeout(t_connect, t_read):\n",
    "    try:\n",
    "        res = requests.get('https://httpbin.org', timeout=(t_connect, t_read))\n",
    "    except requests.exceptions.ReadTimeout:\n",
    "        print('Read timeout occured!')\n",
    "    except requests.exceptions.ConnectTimeout:\n",
    "        print('Connection timeout occured!')\n",
    "\n",
    "test_timeout(t_connect=0.0001, t_read=10)     \n",
    "test_timeout(t_connect=10, t_read=0.0001)   "
   ]
  },
  {
   "cell_type": "markdown",
   "metadata": {},
   "source": [
    "### Закачка файлов"
   ]
  },
  {
   "cell_type": "markdown",
   "metadata": {},
   "source": [
    "Для этого нужно запомнить две важных вещи:\n",
    "* в параметрах запроса указать `stream=True`\n",
    "* писать в открытый файловый дескриптор бинарное содержимое `responce.content`"
   ]
  },
  {
   "cell_type": "code",
   "execution_count": 43,
   "metadata": {},
   "outputs": [],
   "source": [
    "res = requests.get('https://httpbin.org/image/png', stream=True)\n",
    "fn = 'Python09-Parallel_extra/image.png'\n",
    "with open(fn, 'wb') as f:\n",
    "    f.write(res.content)\n",
    "    \n",
    "res = requests.get('https://httpbin.org/image/jpeg', stream=True)\n",
    "fn = 'Python09-Parallel_extra/image.jpg'\n",
    "with open(fn, 'wb') as f:\n",
    "    f.write(res.content)"
   ]
  },
  {
   "cell_type": "markdown",
   "metadata": {},
   "source": [
    "Проверим закачки:"
   ]
  },
  {
   "cell_type": "code",
   "execution_count": 44,
   "metadata": {},
   "outputs": [
    {
     "data": {
      "image/png": "[encoded data removed]",
      "text/plain": [
       "<PIL.JpegImagePlugin.JpegImageFile image mode=RGB size=239x178 at 0x7FBCA8267FD0>"
      ]
     },
     "metadata": {},
     "output_type": "display_data"
    },
    {
     "data": {
      "image/png": "[encoded data removed]",
      "text/plain": [
       "<PIL.PngImagePlugin.PngImageFile image mode=RGB size=100x100 at 0x7FBCA8279BD0>"
      ]
     },
     "metadata": {},
     "output_type": "display_data"
    }
   ],
   "source": [
    "from PIL import Image\n",
    "img_jpg = Image.open('Python09-Parallel_extra/image.jpg')\n",
    "img_png = Image.open('Python09-Parallel_extra/image.png')\n",
    "display(img_jpg)\n",
    "display(img_png)"
   ]
  },
  {
   "cell_type": "markdown",
   "metadata": {},
   "source": [
    "<hr>\n",
    "\n",
    "## Домашнее задание"
   ]
  },
  {
   "cell_type": "markdown",
   "metadata": {},
   "source": [
    "Это задание является факультативным. Вы можете выполнить его, если желаете поднять балл.\n",
    "\n",
    "**Задача**:\n",
    "Необходимо реализовать закачку картинок, используя `requests`, из Интернета (с какого-нибудь открытого ресурса), 10-100 штук, с помощью `threading` и `multiprocessing`, замерить скорость, и сравнить с обычной нераспараллеленной реализацией. Программа должна принимать три аргумента:\n",
    "\n",
    "1. Путь к файлу со списком ссылок на картинки (одна строка - одна ссылка).\n",
    "2. Путь к папке, куда будут сохраняться скачанные картинки. В этой папке вы должны создать папки по номеру строки (0, 1, ..., N-1), куда сохранить соответствующие картинки.\n",
    "3. Число параллельных задач скачивания.\n",
    "\n",
    "Необходимо будет прислать файл со списком ссылок images.txt и скрипт с реализацией программы download.py."
   ]
  }
 ],
 "metadata": {
  "kernelspec": {
   "display_name": "Python 3",
   "language": "python",
   "name": "python3"
  },
  "language_info": {
   "codemirror_mode": {
    "name": "ipython",
    "version": 3
   },
   "file_extension": ".py",
   "mimetype": "text/x-python",
   "name": "python",
   "nbconvert_exporter": "python",
   "pygments_lexer": "ipython3",
   "version": "3.7.7"
  }
 },
 "nbformat": 4,
 "nbformat_minor": 4
}
